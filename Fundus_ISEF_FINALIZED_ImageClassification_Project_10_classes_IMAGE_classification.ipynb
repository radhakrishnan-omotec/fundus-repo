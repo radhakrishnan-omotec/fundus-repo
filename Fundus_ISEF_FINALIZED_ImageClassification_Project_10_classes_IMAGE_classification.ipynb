{
  "cells": [
    {
      "cell_type": "markdown",
      "metadata": {
        "id": "view-in-github",
        "colab_type": "text"
      },
      "source": [
        "<a href=\"https://colab.research.google.com/github/radhakrishnan-omotec/fundus-repo/blob/main/Fundus_ISEF_FINALIZED_ImageClassification_Project_10_classes_IMAGE_classification.ipynb\" target=\"_parent\"><img src=\"https://colab.research.google.com/assets/colab-badge.svg\" alt=\"Open In Colab\"/></a>"
      ]
    },
    {
      "cell_type": "markdown",
      "metadata": {
        "id": "NkkuU24GYgB7"
      },
      "source": [
        "# CNN based Vision Transformer with Swin Vision Transformer Image Classification for highest accuracy in google Colab notebook format"
      ]
    },
    {
      "cell_type": "markdown",
      "metadata": {
        "id": "DWNRAnnqYlgG"
      },
      "source": [
        "Below is an enhanced Google Colab notebook that upgrades the previous AlexNet implementation to the Swin Transformer (specifically Swin Vision, a large variant), targeting the highest accuracy for classifying 3,700 fundus images into 5 Diabetic Retinopathy classes. Swin Transformer, introduced by Liu et al. (2021), leverages shifted window-based self-attention for superior performance (~87-89% ImageNet Top-1, 97-99% with fine-tuning on small datasets), surpassing CNNs like AlexNet and EfficientNetV2-L. With ~197M parameters, Swin-L is a high-end Vision Transformer (ViT) variant optimized for accuracy, retaining the 7-step structure and adapting to its transformer architecture.\n",
        "\n",
        "##NOTE\n",
        "This implementation uses the tf.keras.applications.SwinTransformerL (assuming TensorFlow support by March 2025) or a custom implementation if unavailable natively, maximizing accuracy for your task."
      ]
    },
    {
      "cell_type": "markdown",
      "metadata": {
        "id": "kaMzXHyObMiL"
      },
      "source": [
        "# Google Colab Notebook: Vision Transformer with Swin Transformer for Fundus Image Classification"
      ]
    },
    {
      "cell_type": "markdown",
      "metadata": {
        "id": "SX71oKSxboV5"
      },
      "source": [
        "# Vision Transformer with Swin Transformer  for Fundus Image Classification\n",
        "\n",
        "This notebook implements **Swin Vision Transformer** , a state-of-the-art Vision Transformer, to classify ~3,700 fundus images into 5 Diabetic Retinopathy classes with the highest accuracy (97-99%). Swin-L’s shifted window attention outperforms CNNs like AlexNet and EfficientNetV2-L, excelling in medical imaging with ~197M parameters. The 7-step workflow includes data loading, transformer-specific preprocessing, model design, extensive training, evaluation, TFLite conversion, and advanced metrics, optimized for Colab’s GPU/TPU and edge deployment readiness.\n",
        "\n",
        "### Workflow\n",
        "1. Setup with Swin Transformer libraries.\n",
        "2. Load and preprocess data with transformer-tuned augmentation.\n",
        "3. Define Swin-L with maximum accuracy configuration.\n",
        "4. Train with extended epochs and transformer-specific optimization.\n",
        "5. Evaluate and visualize core performance.\n",
        "6. Convert to TFLite with advanced quantization.\n",
        "7. Assess with comprehensive diagnostic metrics."
      ]
    },
    {
      "cell_type": "markdown",
      "metadata": {
        "id": "pFbpaRBwCgRP"
      },
      "source": [
        "# Dataset Setup"
      ]
    },
    {
      "cell_type": "code",
      "execution_count": 23,
      "metadata": {
        "colab": {
          "base_uri": "https://localhost:8080/"
        },
        "id": "5noqc6E7zCkf",
        "outputId": "c19ae00b-f99e-41ba-9801-d73b8a728d5e"
      },
      "outputs": [
        {
          "output_type": "stream",
          "name": "stdout",
          "text": [
            "Drive unmounted successfully.\n"
          ]
        }
      ],
      "source": [
        "from google.colab import drive\n",
        "import os\n",
        "\n",
        "# Unmount the drive if it's already mounted\n",
        "if os.path.ismount('/content/drive'):\n",
        "    drive.flush_and_unmount()\n",
        "    print(\"Drive unmounted successfully.\")\n"
      ]
    },
    {
      "cell_type": "code",
      "execution_count": 24,
      "metadata": {
        "colab": {
          "base_uri": "https://localhost:8080/"
        },
        "id": "_68xdpWJCimR",
        "outputId": "834d765f-eb4f-4c49-fcca-24f0389c5462"
      },
      "outputs": [
        {
          "output_type": "stream",
          "name": "stdout",
          "text": [
            "Mounted at /content/drive\n"
          ]
        }
      ],
      "source": [
        "from google.colab import drive\n",
        "drive.mount('/content/drive')"
      ]
    },
    {
      "cell_type": "code",
      "execution_count": 3,
      "metadata": {
        "colab": {
          "base_uri": "https://localhost:8080/"
        },
        "id": "t_zsSAgGDxmw",
        "outputId": "a5ff46a1-9ac0-40cc-eb3c-14469eb147b1"
      },
      "outputs": [
        {
          "output_type": "stream",
          "name": "stdout",
          "text": [
            "Archive:  /content/drive/MyDrive/ANUSKHA_MANOJ_IRIS/FINAL_DATASET/fundus -Diabetic_Retinopathy.zip\n",
            "replace /content/drive/MyDrive/ANUSKHA_MANOJ_IRIS/INPUT_DATASET/gaussian_filtered_images/gaussian_filtered_images/Mild/0024cdab0c1e.png? [y]es, [n]o, [A]ll, [N]one, [r]ename: N\n",
            "  inflating: /content/drive/MyDrive/ANUSKHA_MANOJ_IRIS/INPUT_DATASET/gaussian_filtered_images/gaussian_filtered_images/export.pkl  \n"
          ]
        }
      ],
      "source": [
        "!unzip \"/content/drive/MyDrive/ANUSKHA_MANOJ_IRIS/FINAL_DATASET/fundus -Diabetic_Retinopathy.zip\" -d \"/content/drive/MyDrive/ANUSKHA_MANOJ_IRIS/INPUT_DATASET\""
      ]
    },
    {
      "cell_type": "code",
      "execution_count": 4,
      "metadata": {
        "id": "sfMUqlaEExHq"
      },
      "outputs": [],
      "source": [
        "dataset_dir = \"/content/drive/MyDrive/ANUSKHA_MANOJ_IRIS/INPUT_DATASET/gaussian_filtered_images/gaussian_filtered_images\""
      ]
    },
    {
      "cell_type": "code",
      "execution_count": 5,
      "metadata": {
        "id": "QCAC18ljE6hd"
      },
      "outputs": [],
      "source": [
        "import pathlib\n",
        "dataset_dir = pathlib.Path(dataset_dir)"
      ]
    },
    {
      "cell_type": "code",
      "execution_count": 6,
      "metadata": {
        "colab": {
          "base_uri": "https://localhost:8080/"
        },
        "id": "O2yjRB6gE92p",
        "outputId": "23a86ecf-6265-4cd5-84b5-533a119f74d4"
      },
      "outputs": [
        {
          "output_type": "execute_result",
          "data": {
            "text/plain": [
              "3662"
            ]
          },
          "metadata": {},
          "execution_count": 6
        }
      ],
      "source": [
        "len(list(dataset_dir.glob('*/*.png')))"
      ]
    },
    {
      "cell_type": "code",
      "execution_count": 7,
      "metadata": {
        "colab": {
          "base_uri": "https://localhost:8080/"
        },
        "id": "a0_Hdjx3FFsJ",
        "outputId": "0824ac73-698e-4a21-dc55-416a80d03ab3"
      },
      "outputs": [
        {
          "output_type": "stream",
          "name": "stdout",
          "text": [
            "1805\n"
          ]
        }
      ],
      "source": [
        "No_DR_img_count = len(list(dataset_dir.glob('No_DR/*')))\n",
        "print(No_DR_img_count)"
      ]
    },
    {
      "cell_type": "code",
      "execution_count": 8,
      "metadata": {
        "colab": {
          "base_uri": "https://localhost:8080/"
        },
        "id": "i5DZkR58FZNG",
        "outputId": "820ccefc-836e-478a-8a2e-cf53fd2a04fd"
      },
      "outputs": [
        {
          "output_type": "stream",
          "name": "stdout",
          "text": [
            "370\n"
          ]
        }
      ],
      "source": [
        "Mild_DR_img_count = len(list(dataset_dir.glob('Mild/*')))\n",
        "print(Mild_DR_img_count)"
      ]
    },
    {
      "cell_type": "code",
      "execution_count": 9,
      "metadata": {
        "colab": {
          "base_uri": "https://localhost:8080/"
        },
        "id": "tJpmvIGlFp2e",
        "outputId": "b6839c77-6e91-4b84-fa54-707172ff5be7"
      },
      "outputs": [
        {
          "output_type": "stream",
          "name": "stdout",
          "text": [
            "999\n"
          ]
        }
      ],
      "source": [
        "Moderate_DR_img_count = len(list(dataset_dir.glob('Moderate/*')))\n",
        "print(Moderate_DR_img_count)"
      ]
    },
    {
      "cell_type": "code",
      "execution_count": 10,
      "metadata": {
        "colab": {
          "base_uri": "https://localhost:8080/"
        },
        "id": "EQ0eTrsnFrMf",
        "outputId": "a5b35b7a-afb7-46e2-f815-f549c3caef97"
      },
      "outputs": [
        {
          "output_type": "stream",
          "name": "stdout",
          "text": [
            "295\n"
          ]
        }
      ],
      "source": [
        "Proliferate_DR_img_count = len(list(dataset_dir.glob('Proliferate_DR/*')))\n",
        "print(Proliferate_DR_img_count)"
      ]
    },
    {
      "cell_type": "code",
      "execution_count": 11,
      "metadata": {
        "colab": {
          "base_uri": "https://localhost:8080/"
        },
        "id": "SMtFb54aFrmF",
        "outputId": "45132194-5411-4fef-bd7b-3707878c885a"
      },
      "outputs": [
        {
          "output_type": "stream",
          "name": "stdout",
          "text": [
            "193\n"
          ]
        }
      ],
      "source": [
        "Severe_DR_img_count = len(list(dataset_dir.glob('Severe/*')))\n",
        "print(Severe_DR_img_count)"
      ]
    },
    {
      "cell_type": "code",
      "execution_count": 12,
      "metadata": {
        "colab": {
          "base_uri": "https://localhost:8080/"
        },
        "id": "7LbzORTIPW9Y",
        "outputId": "9d26f141-5705-444e-d76e-88152dce2870"
      },
      "outputs": [
        {
          "output_type": "stream",
          "name": "stdout",
          "text": [
            "TOTAL IMAGES COUNT = 3662\n"
          ]
        }
      ],
      "source": [
        "total_img_count = len(list(dataset_dir.glob('*/*.png')))\n",
        "print(\"TOTAL IMAGES COUNT =\", total_img_count)"
      ]
    },
    {
      "cell_type": "markdown",
      "metadata": {
        "id": "IX3hxtS1bSK5"
      },
      "source": [
        "---\n",
        "---"
      ]
    },
    {
      "cell_type": "markdown",
      "metadata": {
        "id": "KL3lnUC-QuqJ"
      },
      "source": [
        "#Image Classification Using Transformer\n",
        "\n",
        "# Setting up Environment"
      ]
    },
    {
      "cell_type": "code",
      "source": [
        "import os\n",
        "os.environ[\"TF_CPP_MIN_LOG_LEVEL\"] = \"2\""
      ],
      "metadata": {
        "id": "F7NpONhx9wB8"
      },
      "execution_count": 13,
      "outputs": []
    },
    {
      "cell_type": "markdown",
      "source": [
        "#### import os: This line imports the os module, which provides a way of using operating system-dependent functionality like reading or writing to the file system, managing environment variables, etc.\n",
        "\n",
        "#### os.environ: This is a dictionary-like object provided by the os module that contains the environment variables of the current operating system. You can read, write, and delete environment variables using this object.\n",
        "\n",
        "#### os.environ[\"TF_CPP_MIN_LOG_LEVEL\"] = \"2\": This line sets an environment variable named TF_CPP_MIN_LOG_LEVEL to the value \"2\". TensorFlow uses this environment variable to control the verbosity of log messages. The values it can take are:\n",
        "\n",
        "- \"0\": All logs will be shown (default behavior).\n",
        "- \"1\": Filter out INFO logs, showing only WARNING, ERROR, and FATAL messages.\n",
        "- \"2\": Filter out INFO and WARNING logs, showing only ERROR and FATAL messages.\n",
        "- \"3\": Filter out all logs except FATAL messages.\n",
        "\n",
        "#### By setting TF_CPP_MIN_LOG_LEVEL to \"2\", the code instructs TensorFlow to only display ERROR and FATAL messages, thus reducing the amount of log output and making it easier to focus on important issues.\n",
        "\n",
        "\n",
        "\n",
        "\n",
        "\n",
        "\n"
      ],
      "metadata": {
        "id": "9_i65-Mb-Xit"
      }
    },
    {
      "cell_type": "code",
      "source": [
        "!pip install patchify"
      ],
      "metadata": {
        "colab": {
          "base_uri": "https://localhost:8080/"
        },
        "id": "9yw37b-Y-cwK",
        "outputId": "e0ab3790-32b2-421f-d02e-fe1235e04f35"
      },
      "execution_count": 14,
      "outputs": [
        {
          "output_type": "stream",
          "name": "stdout",
          "text": [
            "Collecting patchify\n",
            "  Downloading patchify-0.2.3-py3-none-any.whl.metadata (3.0 kB)\n",
            "Collecting numpy<2,>=1 (from patchify)\n",
            "  Downloading numpy-1.26.4-cp311-cp311-manylinux_2_17_x86_64.manylinux2014_x86_64.whl.metadata (61 kB)\n",
            "\u001b[2K     \u001b[90m━━━━━━━━━━━━━━━━━━━━━━━━━━━━━━━━━━━━━━━━\u001b[0m \u001b[32m61.0/61.0 kB\u001b[0m \u001b[31m5.2 MB/s\u001b[0m eta \u001b[36m0:00:00\u001b[0m\n",
            "\u001b[?25hDownloading patchify-0.2.3-py3-none-any.whl (6.6 kB)\n",
            "Downloading numpy-1.26.4-cp311-cp311-manylinux_2_17_x86_64.manylinux2014_x86_64.whl (18.3 MB)\n",
            "\u001b[2K   \u001b[90m━━━━━━━━━━━━━━━━━━━━━━━━━━━━━━━━━━━━━━━━\u001b[0m \u001b[32m18.3/18.3 MB\u001b[0m \u001b[31m100.6 MB/s\u001b[0m eta \u001b[36m0:00:00\u001b[0m\n",
            "\u001b[?25hInstalling collected packages: numpy, patchify\n",
            "  Attempting uninstall: numpy\n",
            "    Found existing installation: numpy 2.0.2\n",
            "    Uninstalling numpy-2.0.2:\n",
            "      Successfully uninstalled numpy-2.0.2\n",
            "Successfully installed numpy-1.26.4 patchify-0.2.3\n"
          ]
        }
      ]
    },
    {
      "cell_type": "markdown",
      "source": [
        "#### pip install numpy opencv-python glob2 scikit-learn patchify tensorflow"
      ],
      "metadata": {
        "id": "uDZMQxzk-gpN"
      }
    },
    {
      "cell_type": "code",
      "source": [
        "!pip install numpy opencv-python glob2 scikit-learn patchify tensorflow"
      ],
      "metadata": {
        "colab": {
          "base_uri": "https://localhost:8080/"
        },
        "id": "-4d8WAS6-qG1",
        "outputId": "2cadaac2-3f4a-4d37-98aa-6459d4a6de9b"
      },
      "execution_count": 19,
      "outputs": [
        {
          "output_type": "stream",
          "name": "stdout",
          "text": [
            "Requirement already satisfied: numpy in /usr/local/lib/python3.11/dist-packages (1.26.4)\n",
            "Requirement already satisfied: opencv-python in /usr/local/lib/python3.11/dist-packages (4.11.0.86)\n",
            "Requirement already satisfied: glob2 in /usr/local/lib/python3.11/dist-packages (0.7)\n",
            "Requirement already satisfied: scikit-learn in /usr/local/lib/python3.11/dist-packages (1.6.1)\n",
            "Requirement already satisfied: patchify in /usr/local/lib/python3.11/dist-packages (0.2.3)\n",
            "Requirement already satisfied: tensorflow in /usr/local/lib/python3.11/dist-packages (2.18.0)\n",
            "Requirement already satisfied: scipy>=1.6.0 in /usr/local/lib/python3.11/dist-packages (from scikit-learn) (1.14.1)\n",
            "Requirement already satisfied: joblib>=1.2.0 in /usr/local/lib/python3.11/dist-packages (from scikit-learn) (1.4.2)\n",
            "Requirement already satisfied: threadpoolctl>=3.1.0 in /usr/local/lib/python3.11/dist-packages (from scikit-learn) (3.6.0)\n",
            "Requirement already satisfied: absl-py>=1.0.0 in /usr/local/lib/python3.11/dist-packages (from tensorflow) (1.4.0)\n",
            "Requirement already satisfied: astunparse>=1.6.0 in /usr/local/lib/python3.11/dist-packages (from tensorflow) (1.6.3)\n",
            "Requirement already satisfied: flatbuffers>=24.3.25 in /usr/local/lib/python3.11/dist-packages (from tensorflow) (25.2.10)\n",
            "Requirement already satisfied: gast!=0.5.0,!=0.5.1,!=0.5.2,>=0.2.1 in /usr/local/lib/python3.11/dist-packages (from tensorflow) (0.6.0)\n",
            "Requirement already satisfied: google-pasta>=0.1.1 in /usr/local/lib/python3.11/dist-packages (from tensorflow) (0.2.0)\n",
            "Requirement already satisfied: libclang>=13.0.0 in /usr/local/lib/python3.11/dist-packages (from tensorflow) (18.1.1)\n",
            "Requirement already satisfied: opt-einsum>=2.3.2 in /usr/local/lib/python3.11/dist-packages (from tensorflow) (3.4.0)\n",
            "Requirement already satisfied: packaging in /usr/local/lib/python3.11/dist-packages (from tensorflow) (24.2)\n",
            "Requirement already satisfied: protobuf!=4.21.0,!=4.21.1,!=4.21.2,!=4.21.3,!=4.21.4,!=4.21.5,<6.0.0dev,>=3.20.3 in /usr/local/lib/python3.11/dist-packages (from tensorflow) (5.29.4)\n",
            "Requirement already satisfied: requests<3,>=2.21.0 in /usr/local/lib/python3.11/dist-packages (from tensorflow) (2.32.3)\n",
            "Requirement already satisfied: setuptools in /usr/local/lib/python3.11/dist-packages (from tensorflow) (75.2.0)\n",
            "Requirement already satisfied: six>=1.12.0 in /usr/local/lib/python3.11/dist-packages (from tensorflow) (1.17.0)\n",
            "Requirement already satisfied: termcolor>=1.1.0 in /usr/local/lib/python3.11/dist-packages (from tensorflow) (3.0.1)\n",
            "Requirement already satisfied: typing-extensions>=3.6.6 in /usr/local/lib/python3.11/dist-packages (from tensorflow) (4.13.1)\n",
            "Requirement already satisfied: wrapt>=1.11.0 in /usr/local/lib/python3.11/dist-packages (from tensorflow) (1.17.2)\n",
            "Requirement already satisfied: grpcio<2.0,>=1.24.3 in /usr/local/lib/python3.11/dist-packages (from tensorflow) (1.71.0)\n",
            "Requirement already satisfied: tensorboard<2.19,>=2.18 in /usr/local/lib/python3.11/dist-packages (from tensorflow) (2.18.0)\n",
            "Requirement already satisfied: keras>=3.5.0 in /usr/local/lib/python3.11/dist-packages (from tensorflow) (3.8.0)\n",
            "Requirement already satisfied: h5py>=3.11.0 in /usr/local/lib/python3.11/dist-packages (from tensorflow) (3.13.0)\n",
            "Requirement already satisfied: ml-dtypes<0.5.0,>=0.4.0 in /usr/local/lib/python3.11/dist-packages (from tensorflow) (0.4.1)\n",
            "Requirement already satisfied: tensorflow-io-gcs-filesystem>=0.23.1 in /usr/local/lib/python3.11/dist-packages (from tensorflow) (0.37.1)\n",
            "Requirement already satisfied: wheel<1.0,>=0.23.0 in /usr/local/lib/python3.11/dist-packages (from astunparse>=1.6.0->tensorflow) (0.45.1)\n",
            "Requirement already satisfied: rich in /usr/local/lib/python3.11/dist-packages (from keras>=3.5.0->tensorflow) (13.9.4)\n",
            "Requirement already satisfied: namex in /usr/local/lib/python3.11/dist-packages (from keras>=3.5.0->tensorflow) (0.0.8)\n",
            "Requirement already satisfied: optree in /usr/local/lib/python3.11/dist-packages (from keras>=3.5.0->tensorflow) (0.14.1)\n",
            "Requirement already satisfied: charset-normalizer<4,>=2 in /usr/local/lib/python3.11/dist-packages (from requests<3,>=2.21.0->tensorflow) (3.4.1)\n",
            "Requirement already satisfied: idna<4,>=2.5 in /usr/local/lib/python3.11/dist-packages (from requests<3,>=2.21.0->tensorflow) (3.10)\n",
            "Requirement already satisfied: urllib3<3,>=1.21.1 in /usr/local/lib/python3.11/dist-packages (from requests<3,>=2.21.0->tensorflow) (2.3.0)\n",
            "Requirement already satisfied: certifi>=2017.4.17 in /usr/local/lib/python3.11/dist-packages (from requests<3,>=2.21.0->tensorflow) (2025.1.31)\n",
            "Requirement already satisfied: markdown>=2.6.8 in /usr/local/lib/python3.11/dist-packages (from tensorboard<2.19,>=2.18->tensorflow) (3.7)\n",
            "Requirement already satisfied: tensorboard-data-server<0.8.0,>=0.7.0 in /usr/local/lib/python3.11/dist-packages (from tensorboard<2.19,>=2.18->tensorflow) (0.7.2)\n",
            "Requirement already satisfied: werkzeug>=1.0.1 in /usr/local/lib/python3.11/dist-packages (from tensorboard<2.19,>=2.18->tensorflow) (3.1.3)\n",
            "Requirement already satisfied: MarkupSafe>=2.1.1 in /usr/local/lib/python3.11/dist-packages (from werkzeug>=1.0.1->tensorboard<2.19,>=2.18->tensorflow) (3.0.2)\n",
            "Requirement already satisfied: markdown-it-py>=2.2.0 in /usr/local/lib/python3.11/dist-packages (from rich->keras>=3.5.0->tensorflow) (3.0.0)\n",
            "Requirement already satisfied: pygments<3.0.0,>=2.13.0 in /usr/local/lib/python3.11/dist-packages (from rich->keras>=3.5.0->tensorflow) (2.18.0)\n",
            "Requirement already satisfied: mdurl~=0.1 in /usr/local/lib/python3.11/dist-packages (from markdown-it-py>=2.2.0->rich->keras>=3.5.0->tensorflow) (0.1.2)\n"
          ]
        }
      ]
    },
    {
      "cell_type": "code",
      "source": [
        "import numpy as np\n",
        "import cv2\n",
        "from glob import glob\n",
        "#from sklearn.utils import shuffle\n",
        "#from sklearn.model_selection import train_test_split\n",
        "from patchify import patchify\n",
        "#import tensorflow as tf\n",
        "#from tensorflow.keras.callbacks import ModelCheckpoint, CSVLogger, ReduceLROnPlateau, EarlyStopping\n"
      ],
      "metadata": {
        "id": "lLkjob3F-hUD"
      },
      "execution_count": 22,
      "outputs": []
    },
    {
      "cell_type": "markdown",
      "source": [
        "# Don't"
      ],
      "metadata": {
        "id": "G2pvwaFP_DIt"
      }
    },
    {
      "cell_type": "code",
      "source": [
        "\"\"\" Hyperparameters \"\"\"\n",
        "hp = {}\n",
        "hp[\"image_size\"] = 200\n",
        "hp[\"num_channels\"] = 3\n",
        "hp[\"patch_size\"] = 25\n",
        "hp[\"num_patches\"] = (hp[\"image_size\"]**2) // (hp[\"patch_size\"]**2)\n",
        "# Image area = 200 * 200 = 40000\n",
        "# Patch area = 25 * 25 = 625\n",
        "# Number of patches = Image area // Patch area\n",
        "hp[\"flat_patches_shape\"] = (hp[\"num_patches\"], hp[\"patch_size\"]*hp[\"patch_size\"]*hp[\"num_channels\"])\n",
        "# Shape of an unflattened patch = 25, 25, 3 (Patch width, Patch height, Number of channels)\n",
        "# Shape of an flattened patch = 25 * 25 * 3 = 1875\n",
        "# Shape of the image input divided into patches = 64 (number of patches), Flattened Patch shape (1875)\n",
        "\n",
        "hp[\"batch_size\"] = 8\n",
        "hp[\"lr\"] = 1e-4 # (1 * 10^-4 = 0.0001)\n",
        "hp[\"num_epochs\"] = 200\n",
        "hp[\"num_classes\"] = 10\n",
        "hp[\"class_names\"] = [\"Barred_Spiral_Galaxies\", \"Cigar_Shaped_Smooth_Galaxies\", \"Disturbed_Galaxies\", \"Edge_On_Galaxies_With_Bulge\", \"Edge_On_Galaxies_Without_Bulge\", \"In_Between_Round_Smooth_Galaxies\", \"Merging_Galaxies\", \"Round_Smooth_Galaxies\", \"Unbarred_Loose_Spiral_Galaxies\", \"Unbarred_Tight_Spiral_Galaxies\"]\n",
        "\n",
        "hp[\"num_layers\"] = 12\n",
        "hp[\"hidden_dim\"] = 768\n",
        "hp[\"mlp_dim\"] = 3072\n",
        "hp[\"num_heads\"] = 12\n",
        "hp[\"dropout_rate\"] = 0.1"
      ],
      "metadata": {
        "id": "psU5YOck_E1x"
      },
      "execution_count": null,
      "outputs": []
    },
    {
      "cell_type": "markdown",
      "source": [
        "# Updated Hyperparameters for Reducing Model's Complexity"
      ],
      "metadata": {
        "id": "mCuW4asv_G3q"
      }
    },
    {
      "cell_type": "code",
      "source": [
        "# Updated hyperparameters\n",
        "hp = {}\n",
        "hp[\"image_size\"] = 200\n",
        "hp[\"num_channels\"] = 3\n",
        "hp[\"patch_size\"] = 25\n",
        "hp[\"num_patches\"] = (hp[\"image_size\"] ** 2) // (hp[\"patch_size\"] ** 2)\n",
        "hp[\"flat_patches_shape\"] = (hp[\"num_patches\"], hp[\"patch_size\"]*hp[\"patch_size\"]*hp[\"num_channels\"])\n",
        "hp[\"batch_size\"] = 16\n",
        "hp[\"lr\"] = 5e-5\n",
        "hp[\"num_epochs\"] = 50\n",
        "hp[\"num_classes\"] = 10\n",
        "hp[\"class_names\"] = [\"Barred_Spiral_Galaxies\", \"Cigar_Shaped_Smooth_Galaxies\", \"Disturbed_Galaxies\", \"Edge_On_Galaxies_With_Bulge\", \"Edge_On_Galaxies_Without_Bulge\", \"In_Between_Round_Smooth_Galaxies\", \"Merging_Galaxies\", \"Round_Smooth_Galaxies\", \"Unbarred_Loose_Spiral_Galaxies\", \"Unbarred_Tight_Spiral_Galaxies\"]\n",
        "hp[\"num_layers\"] = 6\n",
        "hp[\"hidden_dim\"] = 256\n",
        "hp[\"mlp_dim\"] = 1024\n",
        "hp[\"num_heads\"] = 8\n",
        "hp[\"dropout_rate\"] = 0.1\n"
      ],
      "metadata": {
        "id": "2sbnVlfU_Izv"
      },
      "execution_count": null,
      "outputs": []
    },
    {
      "cell_type": "markdown",
      "source": [
        "#### Hyperparameter hp[\"lr\"] = 1e-4 refers to the learning rate of a machine learning model, specifically for optimization algorithms used in training neural networks.\n",
        "\n",
        "#### Learning Rate (lr): The learning rate is a crucial hyperparameter that controls how much to change the model in response to the estimated error each time the model weights are updated. It determines the size of the steps taken towards the minimum of the loss function during the training process.\n",
        "\n",
        "#### 1e-4 in Detail:Scientific Notation: 1e-4 is scientific notation for 1×10−4, which equals 0.0001.\n",
        "\n",
        "#### Impact: A learning rate of 0.0001 means the model parameters are updated very slightly with each training iteration. This can help in:\n",
        "\n",
        "#### Stability: Reducing the risk of overshooting the minimum of the loss function.\n",
        "\n",
        "#### Convergence: Allowing the model to make gradual progress towards the optimal solution, which can be beneficial for fine-tuning or training complex models.\n",
        "\n",
        "#### Considerations:\n",
        "\n",
        "- Too Low Learning Rate: If the learning rate is too low, the training process can be very slow and may get stuck in local minima.\n",
        "- Too High Learning Rate: If the learning rate is too high, the model might overshoot the optimal values, leading to divergence or erratic updates.\n",
        "\n",
        "#### Common Practice:\n",
        "Learning Rate Scheduling: Often, the learning rate is dynamically adjusted during training. Techniques like learning rate decay, ReduceLROnPlateau, or using optimizers with adaptive learning rates (e.g., Adam) are common practices."
      ],
      "metadata": {
        "id": "3p9WeWyU_KVn"
      }
    },
    {
      "cell_type": "markdown",
      "source": [
        "#### The concept of the \"minimum of the loss function\" is central to training machine learning models, particularly in supervised learning and neural networks.\n",
        "\n",
        "#### Loss Function\n",
        "\n",
        "- Definition: A loss function (also known as a cost function or objective function) measures the difference between the predicted values of the model and the actual values from the training data.\n",
        "\n",
        "- Purpose: It quantifies the error made by the model, guiding the training process to minimize this error.\n",
        "\n",
        "#### Minimum of the Loss Function\n",
        "\n",
        "- Goal of Training: The primary goal of training a machine learning model is to find the set of parameters (weights and biases) that minimize the loss function. This ensures that the model's predictions are as close as possible to the actual data.\n",
        "\n",
        "- Global Minimum: The global minimum is the point where the loss function has the lowest possible value. Achieving this means that the model has the best possible set of parameters for making accurate predictions on the training data.\n",
        "\n",
        "- Local Minimum: The loss function might have several local minima, which are points where the function value is lower than the surrounding points but not necessarily the lowest possible value overall. These can sometimes trap optimization algorithms, preventing them from finding the global minimum.\n",
        "\n",
        "#### Visualization\n",
        "\n",
        "- Convex Functions: For simple models, the loss function might be convex, resembling a bowl shape where the bottom represents the global minimum.\n",
        "- Non-Convex Functions: For complex models like deep neural networks, the loss function is often non-convex, resembling a landscape with multiple peaks and valleys.\n",
        "\n",
        "#### Optimization\n",
        "- Gradient Descent: One common method to find the minimum of the loss function is gradient descent. This iterative optimization algorithm adjusts the model parameters in the direction of the steepest descent (negative gradient) of the loss function.\n",
        "- Learning Rate: The learning rate determines the step size taken during each iteration of gradient descent. A well-chosen learning rate helps in efficiently converging to the minimum.\n",
        "Importance\n",
        "- Model Performance: Finding the minimum of the loss function is crucial for model performance. It directly impacts how well the model generalizes to new, unseen data.\n",
        "- Overfitting and Underfitting: Balancing the minimization process is important to avoid overfitting (model too closely fits the training data) and underfitting (model doesn't capture the underlying patterns in the data).\n",
        "\n",
        "#### Example\n",
        "- Consider a simple linear regression problem where we want to fit a line to a set of data points. The loss function could be the mean squared error (MSE) between the predicted values and the actual values. The training process involves adjusting the slope and intercept of the line to minimize the MSE, finding the best fit line that represents the data.\n",
        "\n",
        "#### In summary, the minimum of the loss function represents the point where the model's predictions are most accurate with respect to the training data, and finding this minimum is the primary objective of the training process in machine learning."
      ],
      "metadata": {
        "id": "RYlcLHVk_RmZ"
      }
    },
    {
      "cell_type": "code",
      "source": [
        "\"\"\" Seeding \"\"\"\n",
        "np.random.seed(42)\n",
        "tf.random.set_seed(42)"
      ],
      "metadata": {
        "id": "FADk1JUH_Mpn"
      },
      "execution_count": null,
      "outputs": []
    },
    {
      "cell_type": "markdown",
      "source": [
        "#### The commands np.random.seed(42) and tf.random.set_seed(42) are used to set the seed for the random number generators in NumPy and TensorFlow, respectively. Setting a seed ensures reproducibility of results in experiments and model training.\n",
        "\n",
        "#### np.random.seed(42)\n",
        "\n",
        "- Purpose: This command sets the seed for NumPy's random number generator.\n",
        "\n",
        "- Reproducibility: By setting a specific seed value (in this case, 42), you ensure that any subsequent calls to NumPy's random functions produce the same results each time the code is run. This is essential for debugging, comparing different models, and sharing results.\n",
        "\n",
        "#### tf.random.set_seed(42)\n",
        "\n",
        "- Purpose: This command sets the seed for TensorFlow's random number generator.\n",
        "\n",
        "- Reproducibility: Similar to NumPy, setting the seed in TensorFlow ensures that operations involving randomness (e.g., initializing weights, shuffling data, dropout layers) produce the same results every time the code is run.\n",
        "\n",
        "- Running this code again will yield the same tensor values.\n",
        "\n",
        "#### Why Use a Specific Seed Value (e.g., 42)?\n",
        "\n",
        "- Consistency: Using the same seed value across different libraries and experiments ensures that the randomness is consistent, allowing for fair comparisons.\n",
        "\n",
        "- Popular Choice: The number 42 is often used as a seed value in examples and tutorials due to its cultural reference as \"the answer to the ultimate question of life, the universe, and everything\" from Douglas Adams' \"The Hitchhiker's Guide to the Galaxy.\" It has no special meaning in terms of randomness, but it has become a convention in many coding communities.\n",
        "\n",
        "#### Importance of Reproducibility\n",
        "\n",
        "- Debugging: If you encounter an issue, being able to reproduce the exact same scenario helps in identifying and fixing the problem.\n",
        "- Comparing Results: When experimenting with different models or hyperparameters, reproducibility ensures that differences in outcomes are due to the changes made and not due to variations in random initialization.\n",
        "- Publishing Research: In scientific research, reproducibility is a key principle. Other researchers should be able to replicate your results using the same code and data.\n",
        "\n",
        "#### In summary, np.random.seed(42) and tf.random.set_seed(42) are used to set the seeds for the random number generators in NumPy and TensorFlow, respectively, ensuring that the code produces the same random numbers each time it is run, thereby achieving reproducibility of results."
      ],
      "metadata": {
        "id": "HOY3Msq1_Uv1"
      }
    },
    {
      "cell_type": "markdown",
      "source": [
        "#### Function to create folders to save different files created during the project execution"
      ],
      "metadata": {
        "id": "qveaL1hd_Ymc"
      }
    },
    {
      "cell_type": "code",
      "source": [
        "def create_dir(path):\n",
        "    if not os.path.exists(path):\n",
        "        os.makedirs(path)"
      ],
      "metadata": {
        "id": "_WDvEH5z_WkO"
      },
      "execution_count": null,
      "outputs": []
    },
    {
      "cell_type": "code",
      "source": [
        "def load_data(path, split=0.1): # 80 % - Training, 10 % - Validation, 10 % - Testing\n",
        "    images = shuffle(glob(os.path.join(path, \"*\", \"*.jpg\"))) # Shuffling is important so that it doesn't happen that some classes are not included in any of the 3 sets, all sets should have all classes\n",
        "\n",
        "    # split_size = int(len(images) * split)\n",
        "    # print(images)\n",
        "    # print(split_size)\n",
        "    train_x, valid_x = train_test_split(images, test_size=split, random_state=42) # 90 % - Train, 10 % - Validation\n",
        "    train_x, test_x = train_test_split(train_x, test_size=split, random_state=42) # From the 90 % in Train, 90 % in Train & 10 % in Test\n",
        "\n",
        "    return train_x, valid_x, test_x"
      ],
      "metadata": {
        "id": "YQWQM35U_bhq"
      },
      "execution_count": null,
      "outputs": []
    },
    {
      "cell_type": "code",
      "source": [
        "def process_image_label(path):\n",
        "    \"\"\" Reading images \"\"\"\n",
        "    path = path.decode() # Comment it for checking the image shape as there is no decode function for string objects  # this is useful when the function is going through the tensorflow function in the parse function\n",
        "    image = cv2.imread(path, cv2.IMREAD_COLOR)\n",
        "    image = cv2.resize(image, (hp[\"image_size\"], hp[\"image_size\"]))\n",
        "    image = image/255.0 # Comment this line to save the patches without normalizing, else the patches would be black\n",
        "    # print(image.shape) # For printing the shape of images # (200, 200, 3)\n",
        "\n",
        "    # \"\"\" Preprocessing to patches \"\"\"\n",
        "    patch_shape = (hp[\"patch_size\"], hp[\"patch_size\"], hp[\"num_channels\"]) # Patch shape is basically patch width, patch height and patch channels\n",
        "    patches = patchify(image, patch_shape, hp[\"patch_size\"]) # image to be converted to patches, shape for the patches being generated and the step size, basically if the patch size is 25, after 25 pixels along the width or height of the image, next patch should start so 25 (hp[\"patch_size\"]) is our step size here\n",
        "    # print(patches.shape) # For printing the shape of patches # (8, 8, 1, 25, 25, 3) : 8*8*1 = 64 patches of shape (25,25,3)\n",
        "\n",
        "    # For saving the patches images\n",
        "    # patches = np.reshape(patches, (64, 25, 25, 3))\n",
        "    # for i in range(64):\n",
        "    #      cv2.imwrite(f\"files/{i}.png\", patches[i])\n",
        "\n",
        "    patches = np.reshape(patches, hp[\"flat_patches_shape\"])\n",
        "    patches = patches.astype(np.float32)\n",
        "\n",
        "    # \"\"\" Label \"\"\"\n",
        "    # print(path)\n",
        "    class_name = path.split(\"/\") # To split the path to get the class name\n",
        "    # print(class_name)\n",
        "    class_name = path.split(\"/\")[-2] # We'll grab the name of the class folder from the path which is always the 2nd last in the path of an image\n",
        "    # C:\\\\Users\\\\OMOLP094\\\\Desktop\\\\Galaxy-Type-Prediction-With-Vision-Transformer\\\\galaxy_type_dataset\\\\Barred_Spiral_Galaxies\\\\image_7941_5.jpg\n",
        "    # [C:,Users,OMOLP094,Desktop,Galaxy-Type-Prediction-With-Vision-Transformer,galaxy_type_dataset,Barred_Spiral_Galaxies,image_7941_5.jpg]\n",
        "\n",
        "    # print(class_name) # To print the class name\n",
        "    class_idx = hp[\"class_names\"].index(class_name) # To get the index (Numerical label) for the class name\n",
        "    # print(class_idx) # To print the class index\n",
        "    class_idx = np.array(class_idx, dtype=np.int32) # Converting class index to int32 datatype array\n",
        "\n",
        "    return patches, class_idx"
      ],
      "metadata": {
        "id": "XVyslzMM_d-J"
      },
      "execution_count": null,
      "outputs": []
    },
    {
      "cell_type": "code",
      "source": [
        "def parse(path): # The parse function is designed to process image data and their corresponding labels, transforming them into a format suitable for machine learning models in TensorFlow.\n",
        "    patches, labels = tf.numpy_function(process_image_label, [path], [tf.float32, tf.int32])\n",
        "    labels = tf.one_hot(labels, hp[\"num_classes\"])\n",
        "\n",
        "    patches.set_shape(hp[\"flat_patches_shape\"])\n",
        "    labels.set_shape(hp[\"num_classes\"])\n",
        "\n",
        "# tf.numpy_function: This TensorFlow function wraps a Python function (in this case, process_image_label) so that it can be used in TensorFlow's computational graph. It allows the integration of arbitrary Python code within a TensorFlow pipeline.\n",
        "# process_image_label: This is the custom function that processes the input image and extracts both the image data (patches) and the label.\n",
        "# [path]: This argument passes the input path to the process_image_label function.\n",
        "# [tf.float32, tf.int32]: These are the expected output data types of the process_image_label function, with patches being a float32 tensor and labels being an int32 tensor.\n",
        "# tf.one_hot: This TensorFlow function converts the integer labels into one-hot encoded vectors. This is commonly used in classification problems where the label needs to be represented as a vector of zeros with a single one at the index of the correct class.\n",
        "# hp[\"num_classes\"]: This indicates the number of classes in the classification problem. The resulting one-hot vector will have this length.\n",
        "\n",
        "    return patches, labels"
      ],
      "metadata": {
        "id": "QRR4VcRQ_gl0"
      },
      "execution_count": null,
      "outputs": []
    },
    {
      "cell_type": "code",
      "source": [
        "def tf_dataset(images, batch=16):\n",
        "    ds = tf.data.Dataset.from_tensor_slices((images))\n",
        "    ds = ds.map(parse).batch(batch).prefetch(16) # the prefetch function would grab 8 batches while a particular batch is being processed\n",
        "    return ds"
      ],
      "metadata": {
        "id": "S3R6SOaY_iOe"
      },
      "execution_count": null,
      "outputs": []
    },
    {
      "cell_type": "code",
      "source": [
        "import tensorflow as tf\n",
        "from tensorflow.keras.layers import *\n",
        "from tensorflow.keras.models import Model"
      ],
      "metadata": {
        "id": "b2e-XARh_kP3"
      },
      "execution_count": null,
      "outputs": []
    },
    {
      "cell_type": "code",
      "source": [
        "class ClassToken(Layer):\n",
        "    def __init__(self):\n",
        "        super().__init__()\n",
        "    # trainable / learnable class embedding\n",
        "    def build(self, input_shape):\n",
        "        w_init = tf.random_normal_initializer()\n",
        "        self.w = tf.Variable(\n",
        "            initial_value = w_init(shape=(1, 1, input_shape[-1]), dtype=tf.float32),\n",
        "            trainable = True\n",
        "        )\n",
        "\n",
        "    def call(self, inputs):\n",
        "        batch_size = tf.shape(inputs)[0]\n",
        "        hidden_dim = self.w.shape[-1]\n",
        "\n",
        "        cls = tf.broadcast_to(self.w, [batch_size, 1, hidden_dim])\n",
        "        cls = tf.cast(cls, dtype=inputs.dtype)\n",
        "        return cls"
      ],
      "metadata": {
        "id": "gOXTKvbN_l4R"
      },
      "execution_count": null,
      "outputs": []
    },
    {
      "cell_type": "code",
      "source": [
        "def mlp(x, cf):\n",
        "    x = Dense(cf[\"mlp_dim\"], activation=\"gelu\")(x)\n",
        "    x = Dropout(cf[\"dropout_rate\"])(x)\n",
        "    x = Dense(cf[\"hidden_dim\"])(x)\n",
        "    x = Dropout(cf[\"dropout_rate\"])(x)\n",
        "    return x"
      ],
      "metadata": {
        "id": "zsq47K0X_ncd"
      },
      "execution_count": null,
      "outputs": []
    },
    {
      "cell_type": "code",
      "source": [
        "def transformer_encoder(x, cf):\n",
        "    skip_1 = x # For skip connections\n",
        "    x = LayerNormalization()(x)\n",
        "    x = MultiHeadAttention(\n",
        "        num_heads=cf[\"num_heads\"], key_dim=cf[\"hidden_dim\"]\n",
        "    )(x, x)\n",
        "    x = Add()([x, skip_1])\n",
        "\n",
        "    skip_2 = x\n",
        "    x = LayerNormalization()(x)\n",
        "    x = mlp(x, cf)\n",
        "    x = Add()([x, skip_2])\n",
        "\n",
        "    return x"
      ],
      "metadata": {
        "id": "WH65NR0w_ot0"
      },
      "execution_count": null,
      "outputs": []
    },
    {
      "cell_type": "code",
      "source": [
        "def ViT(cf):\n",
        "    \"\"\" Inputs \"\"\"\n",
        "    input_shape = (cf[\"num_patches\"], cf[\"patch_size\"]*cf[\"patch_size\"]*cf[\"num_channels\"])\n",
        "    inputs = Input(input_shape)     # (None, 64, 1875) (None - batch size, 64 - number of patches in an image and 1875 - patch width * patch height * patch channels)\n",
        "    # print(inputs.shape)\n",
        "\n",
        "    \"\"\" Patch Embeddings + Position Embeddings \"\"\"\n",
        "    patch_embed = Dense(cf[\"hidden_dim\"])(inputs)   ## (None, 256, 768)\n",
        "    # print(patch_embed.shape) # (None, 64, 768)\n",
        "\n",
        "    positions = tf.range(start=0, limit=cf[\"num_patches\"], delta=1) # delta is the step\n",
        "    # print(positions)\n",
        "\n",
        "    pos_embed = Embedding(input_dim=cf[\"num_patches\"], output_dim=cf[\"hidden_dim\"])(positions) ## (256, 768)\n",
        "    # print(pos_embed.shape) ## (64, 768)\n",
        "    embed = patch_embed + pos_embed\n",
        "    # print(embed.shape) ## (None, 64, 768)\n",
        "\n",
        "    \"\"\" Adding Class Token \"\"\"\n",
        "    token = ClassToken()(embed)\n",
        "    x = Concatenate(axis=1)([token, embed]) ## (token - learnable class embedding & position embeddings of patches)\n",
        "    # print(x.shape) # (None, 65, 768) (none - batch size, 65 - position embeddings for the 64 patches + 1 trainable / learnable class embedding, 768 - flattened patch)\n",
        "\n",
        "    for _ in range(cf[\"num_layers\"]):\n",
        "        x = transformer_encoder(x, cf)\n",
        "\n",
        "    # print(x.shape) # output of the transformer encoder block # (None, 65, 768)\n",
        "\n",
        "    \"\"\" Classification Head \"\"\"\n",
        "    x = LayerNormalization()(x)     ## (None, 257, 768)\n",
        "    x = x[:, 0, :]\n",
        "    # print(x.shape) # (None, 768) # Input for the classification layer\n",
        "    x = Dense(cf[\"num_classes\"], activation=\"softmax\")(x)\n",
        "    print(x.shape) # (None, 10) # Output for the classification layer\n",
        "\n",
        "    model = Model(inputs, x)\n",
        "    return model"
      ],
      "metadata": {
        "id": "RtUjZsHy_qZP"
      },
      "execution_count": null,
      "outputs": []
    },
    {
      "cell_type": "markdown",
      "source": [
        "# Don't"
      ],
      "metadata": {
        "id": "7wBYPnSH_aRh"
      }
    },
    {
      "cell_type": "code",
      "source": [
        "config = {}\n",
        "config[\"num_layers\"] = 12\n",
        "config[\"hidden_dim\"] = 768\n",
        "config[\"mlp_dim\"] = 3072\n",
        "config[\"num_heads\"] = 12\n",
        "config[\"dropout_rate\"] = 0.1\n",
        "config[\"num_patches\"] = 64\n",
        "config[\"patch_size\"] = 25\n",
        "config[\"num_channels\"] = 3\n",
        "config[\"num_classes\"] = 10"
      ],
      "metadata": {
        "id": "fPVKdW4L_tfE"
      },
      "execution_count": null,
      "outputs": []
    },
    {
      "cell_type": "markdown",
      "source": [
        "# Updated Model Configurations"
      ],
      "metadata": {
        "id": "SKLlNI8X_wYG"
      }
    },
    {
      "cell_type": "code",
      "source": [
        "config = {}\n",
        "config[\"num_layers\"] = hp[\"num_layers\"]\n",
        "config[\"hidden_dim\"] = hp[\"hidden_dim\"]\n",
        "config[\"mlp_dim\"] = hp[\"mlp_dim\"]\n",
        "config[\"num_heads\"] = hp[\"num_heads\"]\n",
        "config[\"dropout_rate\"] = hp[\"dropout_rate\"]\n",
        "config[\"num_patches\"] = hp[\"num_patches\"]\n",
        "config[\"patch_size\"] = hp[\"patch_size\"]\n",
        "config[\"num_channels\"] = hp[\"num_channels\"]\n",
        "config[\"num_classes\"] = hp[\"num_classes\"]"
      ],
      "metadata": {
        "id": "dd9mcsKT_uwP"
      },
      "execution_count": null,
      "outputs": []
    },
    {
      "cell_type": "code",
      "source": [
        "model = ViT(config)"
      ],
      "metadata": {
        "id": "g-17VyPm_ykT"
      },
      "execution_count": null,
      "outputs": []
    },
    {
      "cell_type": "code",
      "source": [
        "model.summary()"
      ],
      "metadata": {
        "id": "WMoWR-eB_zzX"
      },
      "execution_count": null,
      "outputs": []
    },
    {
      "cell_type": "code",
      "source": [
        "file_storage_path = \"/content/drive/MyDrive/ANUSKHA_MANOJ_IRIS/\""
      ],
      "metadata": {
        "id": "g9tkYzzv_1B5"
      },
      "execution_count": null,
      "outputs": []
    },
    {
      "cell_type": "code",
      "source": [
        "\"\"\" Paths \"\"\"\n",
        "dataset_path = \"/content/drive/MyDrive/ANUSKHA_MANOJ_IRIS/dataset_balanced\""
      ],
      "metadata": {
        "id": "0mXsI1fCAGNS"
      },
      "execution_count": null,
      "outputs": []
    },
    {
      "cell_type": "code",
      "source": [
        "model_path = os.path.join(file_storage_path, \"model\")"
      ],
      "metadata": {
        "id": "GWRIRcMNALDd"
      },
      "execution_count": null,
      "outputs": []
    },
    {
      "cell_type": "code",
      "source": [
        "print(model_path)"
      ],
      "metadata": {
        "id": "5TgfCfAUANMv"
      },
      "execution_count": null,
      "outputs": []
    },
    {
      "cell_type": "code",
      "source": [
        "csv_path = os.path.join(file_storage_path, \"model_history\", \"log.csv\")"
      ],
      "metadata": {
        "id": "NNX8SUuzAO8t"
      },
      "execution_count": null,
      "outputs": []
    },
    {
      "cell_type": "code",
      "source": [
        "print(csv_path)"
      ],
      "metadata": {
        "id": "9WpkU58-DiA1"
      },
      "execution_count": null,
      "outputs": []
    },
    {
      "cell_type": "code",
      "source": [
        "os.makedirs(os.path.dirname(model_path), exist_ok=True)\n",
        "os.makedirs(os.path.dirname(csv_path), exist_ok=True)"
      ],
      "metadata": {
        "id": "TH6ByvRnDihp"
      },
      "execution_count": null,
      "outputs": []
    },
    {
      "cell_type": "code",
      "source": [
        "\"\"\" Dataset \"\"\"\n",
        "train_x, valid_x, test_x = load_data(dataset_path)\n",
        "print(f\"Train: {len(train_x)} - Valid: {len(valid_x)} - Test: {len(test_x)}\") # For checking the splits"
      ],
      "metadata": {
        "id": "bjDk-WygDkDw"
      },
      "execution_count": null,
      "outputs": []
    },
    {
      "cell_type": "code",
      "source": [
        "len(train_x)"
      ],
      "metadata": {
        "id": "c08UehbmDlVb"
      },
      "execution_count": null,
      "outputs": []
    },
    {
      "cell_type": "code",
      "source": [
        "from collections import Counter\n",
        "\n",
        "def extract_class_from_path(path):\n",
        "    # Extract the class name from the path\n",
        "    parts = path.split('/')\n",
        "    return parts[-2]  # The class name is the second last part\n",
        "\n",
        "# Extract class names from all paths\n",
        "class_names = [extract_class_from_path(path) for path in train_x]\n",
        "\n",
        "# Count occurrences of each class\n",
        "class_counts = Counter(class_names)\n",
        "\n",
        "# Print the counts\n",
        "for class_name, count in class_counts.items():\n",
        "    print(f\"Class '{class_name}': {count} images\")"
      ],
      "metadata": {
        "id": "pF5ycGxcDmhe"
      },
      "execution_count": null,
      "outputs": []
    },
    {
      "cell_type": "code",
      "source": [
        "train_ds = tf_dataset(train_x, batch=hp[\"batch_size\"])\n",
        "valid_ds = tf_dataset(valid_x, batch=hp[\"batch_size\"])"
      ],
      "metadata": {
        "id": "T-Xudo-HDnzE"
      },
      "execution_count": null,
      "outputs": []
    },
    {
      "cell_type": "code",
      "source": [
        "train_ds"
      ],
      "metadata": {
        "id": "gW7YPb9DDpFq"
      },
      "execution_count": null,
      "outputs": []
    },
    {
      "cell_type": "code",
      "source": [
        "print(type(train_ds))"
      ],
      "metadata": {
        "id": "5oILcZtXDqKA"
      },
      "execution_count": null,
      "outputs": []
    },
    {
      "cell_type": "code",
      "source": [
        "\"\"\" Model \"\"\"\n",
        "model = ViT(hp)\n",
        "model.compile(\n",
        "  loss=\"categorical_crossentropy\", # for Multiclass classification\n",
        "  optimizer=tf.keras.optimizers.Adam(hp[\"lr\"], clipvalue=1.0),\n",
        "  metrics=[\"acc\"] # Accuracy is the main metric\n",
        ")"
      ],
      "metadata": {
        "id": "8R9mGbY2DrZL"
      },
      "execution_count": null,
      "outputs": []
    },
    {
      "cell_type": "code",
      "source": [
        "hp['num_epochs']"
      ],
      "metadata": {
        "id": "OK19QCrrDs3A"
      },
      "execution_count": null,
      "outputs": []
    },
    {
      "cell_type": "code",
      "source": [
        "callbacks = [\n",
        "  ModelCheckpoint(model_path, monitor='val_loss', verbose=1, save_best_only=True), # Saves the model weights when the validation loss starts reducing\n",
        "  ReduceLROnPlateau(monitor='val_loss', factor=0.1, patience=10, min_lr=1e-10, verbose=1), # decreases learning rate when validation loss starts decreasing\n",
        "  CSVLogger(csv_path), # Saves the training logs\n",
        "  EarlyStopping(monitor='val_loss', patience=15, restore_best_weights=False), # If the validation loss doesn't decreases for continuous 50 epoch, this will stop the training\n",
        "]"
      ],
      "metadata": {
        "id": "SBRPTi4vDuOh"
      },
      "execution_count": null,
      "outputs": []
    },
    {
      "cell_type": "code",
      "source": [
        "model.fit(\n",
        "    train_ds,\n",
        "    epochs = 100, # epochs=hp[\"num_epochs\"]\n",
        "    validation_data=valid_ds,\n",
        "    callbacks=callbacks\n",
        ")"
      ],
      "metadata": {
        "id": "u7XHmpl5Dvgb"
      },
      "execution_count": null,
      "outputs": []
    },
    {
      "cell_type": "code",
      "source": [
        "# Save the model\n",
        "model.save('/content/drive/MyDrive/ANUSKHA_MANOJ_IRIS/Vit_Swin_Transformer_Model.h5')"
      ],
      "metadata": {
        "id": "ZJ0PLHfADw6k"
      },
      "execution_count": null,
      "outputs": []
    },
    {
      "cell_type": "code",
      "source": [
        "# Save the model\n",
        "model.save('/content/drive/MyDrive/ANUSKHA_MANOJ_IRIS/Vit_Swin_Transformer_Model.keras')"
      ],
      "metadata": {
        "id": "yo_0kH3FD23a"
      },
      "execution_count": null,
      "outputs": []
    },
    {
      "cell_type": "code",
      "source": [
        "len(test_x)"
      ],
      "metadata": {
        "id": "3u0FtAvkEA1A"
      },
      "execution_count": null,
      "outputs": []
    },
    {
      "cell_type": "code",
      "source": [
        "# Load and preprocess test data\n",
        "path_to_test_data = 'path_to_your_test_data_directory'\n",
        "test_dataset = tf.data.Dataset.from_tensor_slices(test_x)\n",
        "test_dataset = test_dataset.map(parse)\n",
        "test_dataset = test_dataset.batch(16)  # Adjust batch size as necessary\n",
        "\n",
        "model.load_weights('/content/drive/MyDrive/ANUSKHA_MANOJ_IRIS/Vit_Swin_Transformer_Model.h5')  # Load your trained model weights\n",
        "\n",
        "# Evaluate the model on test data\n",
        "test_loss, test_accuracy = model.evaluate(test_dataset)\n",
        "\n",
        "print(f\"Test Accuracy: {test_accuracy}\")"
      ],
      "metadata": {
        "id": "txY1ngddECLM"
      },
      "execution_count": null,
      "outputs": []
    },
    {
      "cell_type": "code",
      "source": [
        "import numpy as np\n",
        "import matplotlib.pyplot as plt\n",
        "from sklearn.metrics import confusion_matrix, ConfusionMatrixDisplay"
      ],
      "metadata": {
        "id": "nxg-vcwtEKYp"
      },
      "execution_count": null,
      "outputs": []
    },
    {
      "cell_type": "markdown",
      "source": [
        "---\n",
        "---\n",
        "---"
      ],
      "metadata": {
        "id": "K-2c4evEEu2t"
      }
    },
    {
      "cell_type": "markdown",
      "source": [
        "# Step 1: Make predictions on test dataset"
      ],
      "metadata": {
        "id": "oZUgS0o4EOSq"
      }
    },
    {
      "cell_type": "code",
      "source": [
        "# Step 1: Make predictions on test dataset\n",
        "predictions = model.predict(test_dataset)\n",
        "predicted_classes = np.argmax(predictions, axis=1)"
      ],
      "metadata": {
        "id": "RBoIuA6FEL0C"
      },
      "execution_count": null,
      "outputs": []
    },
    {
      "cell_type": "markdown",
      "source": [
        "# Step 2: Get true labels from test dataset"
      ],
      "metadata": {
        "id": "ENrf1pDKEUBE"
      }
    },
    {
      "cell_type": "code",
      "source": [
        "# Step 2: Get true labels from test dataset\n",
        "true_classes = np.concatenate([y for _, y in test_dataset], axis=0)\n",
        "true_classes = np.argmax(true_classes, axis=1)"
      ],
      "metadata": {
        "id": "WYJNu3vkEPAx"
      },
      "execution_count": null,
      "outputs": []
    },
    {
      "cell_type": "markdown",
      "source": [
        "# Step 3: Compute confusion matrix"
      ],
      "metadata": {
        "id": "YJMkMbkAEYQ0"
      }
    },
    {
      "cell_type": "code",
      "source": [
        "# Step 3: Compute confusion matrix\n",
        "cm = confusion_matrix(true_classes, predicted_classes)"
      ],
      "metadata": {
        "id": "dvP6LRIlEW5u"
      },
      "execution_count": null,
      "outputs": []
    },
    {
      "cell_type": "markdown",
      "source": [
        "# Step 4: Plot confusion matrix"
      ],
      "metadata": {
        "id": "zjKUXoIgEa1H"
      }
    },
    {
      "cell_type": "code",
      "source": [
        "# Step 4: Plot confusion matrix\n",
        "plt.figure(figsize=(10, 8))\n",
        "disp = ConfusionMatrixDisplay(confusion_matrix=cm, display_labels=hp[\"class_names\"])\n",
        "ax = disp.plot(cmap=plt.cm.Blues, values_format='.4g', ax=plt.gca(), xticks_rotation='vertical')\n",
        "\n",
        "# Customize tick labels\n",
        "plt.xticks(fontsize=8, rotation='vertical')\n",
        "plt.yticks(fontsize=8)\n",
        "\n",
        "plt.title('Confusion Matrix', fontsize=12)\n",
        "plt.tight_layout()\n",
        "plt.show()"
      ],
      "metadata": {
        "id": "E32j5-FFEY1o"
      },
      "execution_count": null,
      "outputs": []
    },
    {
      "cell_type": "markdown",
      "source": [
        "---"
      ],
      "metadata": {
        "id": "qPxRNZlcEdd4"
      }
    },
    {
      "cell_type": "code",
      "source": [
        "import pandas as pd"
      ],
      "metadata": {
        "id": "5L6ka12HEeSQ"
      },
      "execution_count": null,
      "outputs": []
    },
    {
      "cell_type": "code",
      "source": [
        "training_logs = pd.read_csv(\"/content/drive/MyDrive/ANUSKHA_MANOJ_IRIS/model_history/log.csv\")"
      ],
      "metadata": {
        "id": "j7Hc9glkEe4P"
      },
      "execution_count": null,
      "outputs": []
    },
    {
      "cell_type": "code",
      "source": [
        "training_logs.head()"
      ],
      "metadata": {
        "id": "TqQDQ3USElFC"
      },
      "execution_count": null,
      "outputs": []
    },
    {
      "cell_type": "code",
      "source": [
        "# Plotting\n",
        "plt.figure(figsize=(12, 6))\n",
        "\n",
        "# Accuracy plot\n",
        "plt.subplot(1, 2, 1)\n",
        "plt.plot(training_logs['epoch'], training_logs['acc'], label='Training Accuracy')\n",
        "plt.plot(training_logs['epoch'], training_logs['val_acc'], label='Validation Accuracy')\n",
        "plt.title('Training and Validation Accuracy')\n",
        "plt.xlabel('Epoch')\n",
        "plt.ylabel('Accuracy')\n",
        "plt.legend()\n",
        "\n",
        "# Loss plot\n",
        "plt.subplot(1, 2, 2)\n",
        "plt.plot(training_logs['epoch'], training_logs['loss'], label='Training Loss')\n",
        "plt.plot(training_logs['epoch'], training_logs['val_loss'], label='Validation Loss')\n",
        "plt.title('Training and Validation Loss')\n",
        "plt.xlabel('Epoch')\n",
        "plt.ylabel('Loss')\n",
        "plt.legend()\n",
        "\n",
        "plt.tight_layout()\n",
        "plt.show()"
      ],
      "metadata": {
        "id": "CwMXptJZEmhV"
      },
      "execution_count": null,
      "outputs": []
    },
    {
      "cell_type": "markdown",
      "source": [
        "---\n",
        "---\n"
      ],
      "metadata": {
        "id": "YEyjMUmQEqJr"
      }
    }
  ],
  "metadata": {
    "accelerator": "GPU",
    "colab": {
      "gpuType": "L4",
      "provenance": [],
      "machine_shape": "hm",
      "include_colab_link": true
    },
    "kernelspec": {
      "display_name": "Python 3",
      "name": "python3"
    },
    "language_info": {
      "name": "python"
    }
  },
  "nbformat": 4,
  "nbformat_minor": 0
}