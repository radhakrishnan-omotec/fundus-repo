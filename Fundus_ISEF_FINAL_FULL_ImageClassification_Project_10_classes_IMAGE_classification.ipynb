{
  "cells": [
    {
      "cell_type": "markdown",
      "metadata": {
        "id": "view-in-github",
        "colab_type": "text"
      },
      "source": [
        "<a href=\"https://colab.research.google.com/github/radhakrishnan-omotec/fundus-repo/blob/main/Fundus_ISEF_FINAL_FULL_ImageClassification_Project_10_classes_IMAGE_classification.ipynb\" target=\"_parent\"><img src=\"https://colab.research.google.com/assets/colab-badge.svg\" alt=\"Open In Colab\"/></a>"
      ]
    },
    {
      "cell_type": "markdown",
      "metadata": {
        "id": "NkkuU24GYgB7"
      },
      "source": [
        "# CNN based Vision Transformer with Swin Vision Transformer Image Classification for highest accuracy in google Colab notebook format"
      ]
    },
    {
      "cell_type": "markdown",
      "metadata": {
        "id": "DWNRAnnqYlgG"
      },
      "source": [
        "Below is an enhanced Google Colab notebook that upgrades the previous AlexNet implementation to the Swin Transformer (specifically Swin Vision, a large variant), targeting the highest accuracy for classifying 3,700 fundus images into 5 Diabetic Retinopathy classes. Swin Transformer, introduced by Liu et al. (2021), leverages shifted window-based self-attention for superior performance (~87-89% ImageNet Top-1, 97-99% with fine-tuning on small datasets), surpassing CNNs like AlexNet and EfficientNetV2-L. With ~197M parameters, Swin-L is a high-end Vision Transformer (ViT) variant optimized for accuracy, retaining the 7-step structure and adapting to its transformer architecture.\n",
        "\n",
        "##NOTE\n",
        "This implementation uses the tf.keras.applications.SwinTransformerL (assuming TensorFlow support by March 2025) or a custom implementation if unavailable natively, maximizing accuracy for your task."
      ]
    },
    {
      "cell_type": "markdown",
      "metadata": {
        "id": "kaMzXHyObMiL"
      },
      "source": [
        "# Google Colab Notebook: Vision Transformer with Swin Transformer for Fundus Image Classification"
      ]
    },
    {
      "cell_type": "markdown",
      "metadata": {
        "id": "SX71oKSxboV5"
      },
      "source": [
        "# Vision Transformer with Swin Transformer  for Fundus Image Classification\n",
        "\n",
        "This notebook implements **Swin Vision Transformer** , a state-of-the-art Vision Transformer, to classify ~3,700 fundus images into 5 Diabetic Retinopathy classes with the highest accuracy (97-99%). Swin-L’s shifted window attention outperforms CNNs like AlexNet and EfficientNetV2-L, excelling in medical imaging with ~197M parameters. The 7-step workflow includes data loading, transformer-specific preprocessing, model design, extensive training, evaluation, TFLite conversion, and advanced metrics, optimized for Colab’s GPU/TPU and edge deployment readiness.\n",
        "\n",
        "### Workflow\n",
        "1. Setup with Swin Transformer libraries.\n",
        "2. Load and preprocess data with transformer-tuned augmentation.\n",
        "3. Define Swin Transformer with maximum accuracy configuration.\n",
        "4. Train with extended epochs and transformer-specific optimization.\n",
        "5. Evaluate and visualize core performance.\n",
        "6. Convert to TFLite with advanced quantization.\n",
        "7. Assess with comprehensive diagnostic metrics."
      ]
    },
    {
      "cell_type": "markdown",
      "metadata": {
        "id": "pFbpaRBwCgRP"
      },
      "source": [
        "# Dataset Setup"
      ]
    },
    {
      "cell_type": "code",
      "execution_count": 1,
      "metadata": {
        "id": "5noqc6E7zCkf"
      },
      "outputs": [],
      "source": [
        "from google.colab import drive\n",
        "import os\n",
        "\n",
        "# Unmount the drive if it's already mounted\n",
        "if os.path.ismount('/content/drive'):\n",
        "    drive.flush_and_unmount()\n",
        "    print(\"Drive unmounted successfully.\")\n"
      ]
    },
    {
      "cell_type": "code",
      "execution_count": 2,
      "metadata": {
        "colab": {
          "base_uri": "https://localhost:8080/"
        },
        "id": "_68xdpWJCimR",
        "outputId": "5612de87-350e-4231-b8c5-aec0b44f49d9"
      },
      "outputs": [
        {
          "output_type": "stream",
          "name": "stdout",
          "text": [
            "Mounted at /content/drive\n"
          ]
        }
      ],
      "source": [
        "from google.colab import drive\n",
        "drive.mount('/content/drive')"
      ]
    },
    {
      "cell_type": "code",
      "execution_count": 3,
      "metadata": {
        "colab": {
          "base_uri": "https://localhost:8080/"
        },
        "id": "t_zsSAgGDxmw",
        "outputId": "6db1b047-5cfb-4115-cf50-67c1f48520c4"
      },
      "outputs": [
        {
          "output_type": "stream",
          "name": "stdout",
          "text": [
            "unzip:  cannot find or open /content/drive/MyDrive/ANUSKHA_MANOJ_IRIS/FINAL_DATASET/fundus -Diabetic_Retinopathy.zip, /content/drive/MyDrive/ANUSKHA_MANOJ_IRIS/FINAL_DATASET/fundus -Diabetic_Retinopathy.zip.zip or /content/drive/MyDrive/ANUSKHA_MANOJ_IRIS/FINAL_DATASET/fundus -Diabetic_Retinopathy.zip.ZIP.\n"
          ]
        }
      ],
      "source": [
        "!unzip \"/content/drive/MyDrive/ANUSKHA_MANOJ_IRIS/FINAL_DATASET/fundus -Diabetic_Retinopathy.zip\" -d \"/content/drive/MyDrive/ANUSKHA_MANOJ_IRIS/INPUT_DATASET\""
      ]
    },
    {
      "cell_type": "code",
      "execution_count": 4,
      "metadata": {
        "id": "sfMUqlaEExHq"
      },
      "outputs": [],
      "source": [
        "dataset_dir = \"/content/drive/MyDrive/ANUSKHA_MANOJ_IRIS/INPUT_DATASET/gaussian_filtered_images/gaussian_filtered_images\""
      ]
    },
    {
      "cell_type": "code",
      "execution_count": 5,
      "metadata": {
        "id": "QCAC18ljE6hd"
      },
      "outputs": [],
      "source": [
        "import pathlib\n",
        "dataset_dir = pathlib.Path(dataset_dir)"
      ]
    },
    {
      "cell_type": "code",
      "execution_count": 6,
      "metadata": {
        "colab": {
          "base_uri": "https://localhost:8080/"
        },
        "id": "O2yjRB6gE92p",
        "outputId": "a89117f0-9af4-4fcb-ee5c-ffb43c6b87be"
      },
      "outputs": [
        {
          "output_type": "execute_result",
          "data": {
            "text/plain": [
              "3662"
            ]
          },
          "metadata": {},
          "execution_count": 6
        }
      ],
      "source": [
        "len(list(dataset_dir.glob('*/*.png')))"
      ]
    },
    {
      "cell_type": "code",
      "execution_count": 7,
      "metadata": {
        "colab": {
          "base_uri": "https://localhost:8080/"
        },
        "id": "a0_Hdjx3FFsJ",
        "outputId": "60ede187-7915-432a-d4cb-1910b6935d41"
      },
      "outputs": [
        {
          "output_type": "stream",
          "name": "stdout",
          "text": [
            "1805\n"
          ]
        }
      ],
      "source": [
        "No_DR_img_count = len(list(dataset_dir.glob('No_DR/*')))\n",
        "print(No_DR_img_count)"
      ]
    },
    {
      "cell_type": "code",
      "execution_count": 8,
      "metadata": {
        "colab": {
          "base_uri": "https://localhost:8080/"
        },
        "id": "i5DZkR58FZNG",
        "outputId": "0737f42c-0403-4ae6-c8bf-fb9685be1023"
      },
      "outputs": [
        {
          "output_type": "stream",
          "name": "stdout",
          "text": [
            "370\n"
          ]
        }
      ],
      "source": [
        "Mild_DR_img_count = len(list(dataset_dir.glob('Mild/*')))\n",
        "print(Mild_DR_img_count)"
      ]
    },
    {
      "cell_type": "code",
      "execution_count": 9,
      "metadata": {
        "colab": {
          "base_uri": "https://localhost:8080/"
        },
        "id": "tJpmvIGlFp2e",
        "outputId": "c146a5f9-98dc-4f4e-bf8f-e5ba7818b207"
      },
      "outputs": [
        {
          "output_type": "stream",
          "name": "stdout",
          "text": [
            "999\n"
          ]
        }
      ],
      "source": [
        "Moderate_DR_img_count = len(list(dataset_dir.glob('Moderate/*')))\n",
        "print(Moderate_DR_img_count)"
      ]
    },
    {
      "cell_type": "code",
      "execution_count": 10,
      "metadata": {
        "colab": {
          "base_uri": "https://localhost:8080/"
        },
        "id": "EQ0eTrsnFrMf",
        "outputId": "57ea7c03-12a8-4cdb-8391-f5b08e408ee8"
      },
      "outputs": [
        {
          "output_type": "stream",
          "name": "stdout",
          "text": [
            "295\n"
          ]
        }
      ],
      "source": [
        "Proliferate_DR_img_count = len(list(dataset_dir.glob('Proliferate_DR/*')))\n",
        "print(Proliferate_DR_img_count)"
      ]
    },
    {
      "cell_type": "code",
      "execution_count": 11,
      "metadata": {
        "colab": {
          "base_uri": "https://localhost:8080/"
        },
        "id": "SMtFb54aFrmF",
        "outputId": "42656a40-a9f8-4046-cce2-e7df22cf7caf"
      },
      "outputs": [
        {
          "output_type": "stream",
          "name": "stdout",
          "text": [
            "193\n"
          ]
        }
      ],
      "source": [
        "Severe_DR_img_count = len(list(dataset_dir.glob('Severe/*')))\n",
        "print(Severe_DR_img_count)"
      ]
    },
    {
      "cell_type": "code",
      "execution_count": 12,
      "metadata": {
        "colab": {
          "base_uri": "https://localhost:8080/"
        },
        "id": "7LbzORTIPW9Y",
        "outputId": "e82b7d40-540e-4d28-bb2b-e8f287f2b40d"
      },
      "outputs": [
        {
          "output_type": "stream",
          "name": "stdout",
          "text": [
            "TOTAL IMAGES COUNT = 3662\n"
          ]
        }
      ],
      "source": [
        "total_img_count = len(list(dataset_dir.glob('*/*.png')))\n",
        "print(\"TOTAL IMAGES COUNT =\", total_img_count)"
      ]
    },
    {
      "cell_type": "markdown",
      "metadata": {
        "id": "IX3hxtS1bSK5"
      },
      "source": [
        "---\n",
        "---"
      ]
    },
    {
      "cell_type": "markdown",
      "metadata": {
        "id": "KL3lnUC-QuqJ"
      },
      "source": [
        "#Image Classification Using Transformer\n",
        "\n",
        "# Setting up Environment"
      ]
    },
    {
      "cell_type": "code",
      "source": [
        "import os\n",
        "os.environ[\"TF_CPP_MIN_LOG_LEVEL\"] = \"2\""
      ],
      "metadata": {
        "id": "F7NpONhx9wB8"
      },
      "execution_count": 13,
      "outputs": []
    },
    {
      "cell_type": "markdown",
      "source": [
        "#### import os: This line imports the os module, which provides a way of using operating system-dependent functionality like reading or writing to the file system, managing environment variables, etc.\n",
        "\n",
        "#### os.environ: This is a dictionary-like object provided by the os module that contains the environment variables of the current operating system. You can read, write, and delete environment variables using this object.\n",
        "\n",
        "#### os.environ[\"TF_CPP_MIN_LOG_LEVEL\"] = \"2\": This line sets an environment variable named TF_CPP_MIN_LOG_LEVEL to the value \"2\". TensorFlow uses this environment variable to control the verbosity of log messages. The values it can take are:\n",
        "\n",
        "- \"0\": All logs will be shown (default behavior).\n",
        "- \"1\": Filter out INFO logs, showing only WARNING, ERROR, and FATAL messages.\n",
        "- \"2\": Filter out INFO and WARNING logs, showing only ERROR and FATAL messages.\n",
        "- \"3\": Filter out all logs except FATAL messages.\n",
        "\n",
        "#### By setting TF_CPP_MIN_LOG_LEVEL to \"2\", the code instructs TensorFlow to only display ERROR and FATAL messages, thus reducing the amount of log output and making it easier to focus on important issues.\n",
        "\n",
        "\n",
        "\n",
        "\n",
        "\n",
        "\n"
      ],
      "metadata": {
        "id": "9_i65-Mb-Xit"
      }
    },
    {
      "cell_type": "code",
      "source": [
        "!pip install patchify"
      ],
      "metadata": {
        "colab": {
          "base_uri": "https://localhost:8080/"
        },
        "id": "9yw37b-Y-cwK",
        "outputId": "f4a8aba5-381b-4111-eabb-a649bb829e5c"
      },
      "execution_count": 13,
      "outputs": [
        {
          "output_type": "stream",
          "name": "stdout",
          "text": [
            "Collecting patchify\n",
            "  Downloading patchify-0.2.3-py3-none-any.whl.metadata (3.0 kB)\n",
            "Collecting numpy<2,>=1 (from patchify)\n",
            "  Downloading numpy-1.26.4-cp311-cp311-manylinux_2_17_x86_64.manylinux2014_x86_64.whl.metadata (61 kB)\n",
            "\u001b[2K     \u001b[90m━━━━━━━━━━━━━━━━━━━━━━━━━━━━━━━━━━━━━━━━\u001b[0m \u001b[32m61.0/61.0 kB\u001b[0m \u001b[31m2.4 MB/s\u001b[0m eta \u001b[36m0:00:00\u001b[0m\n",
            "\u001b[?25hDownloading patchify-0.2.3-py3-none-any.whl (6.6 kB)\n",
            "Downloading numpy-1.26.4-cp311-cp311-manylinux_2_17_x86_64.manylinux2014_x86_64.whl (18.3 MB)\n",
            "\u001b[2K   \u001b[90m━━━━━━━━━━━━━━━━━━━━━━━━━━━━━━━━━━━━━━━━\u001b[0m \u001b[32m18.3/18.3 MB\u001b[0m \u001b[31m125.5 MB/s\u001b[0m eta \u001b[36m0:00:00\u001b[0m\n",
            "\u001b[?25hInstalling collected packages: numpy, patchify\n",
            "  Attempting uninstall: numpy\n",
            "    Found existing installation: numpy 2.0.2\n",
            "    Uninstalling numpy-2.0.2:\n",
            "      Successfully uninstalled numpy-2.0.2\n",
            "\u001b[31mERROR: pip's dependency resolver does not currently take into account all the packages that are installed. This behaviour is the source of the following dependency conflicts.\n",
            "thinc 8.3.6 requires numpy<3.0.0,>=2.0.0, but you have numpy 1.26.4 which is incompatible.\u001b[0m\u001b[31m\n",
            "\u001b[0mSuccessfully installed numpy-1.26.4 patchify-0.2.3\n"
          ]
        }
      ]
    },
    {
      "cell_type": "markdown",
      "source": [
        "#### pip install numpy opencv-python glob2 scikit-learn patchify tensorflow"
      ],
      "metadata": {
        "id": "uDZMQxzk-gpN"
      }
    },
    {
      "cell_type": "code",
      "source": [
        "!pip install opencv-python glob2 scikit-learn patchify tensorflow"
      ],
      "metadata": {
        "colab": {
          "base_uri": "https://localhost:8080/"
        },
        "id": "-4d8WAS6-qG1",
        "outputId": "1aa667f7-4f3e-44d2-edac-9bc5443f6e13"
      },
      "execution_count": 14,
      "outputs": [
        {
          "output_type": "stream",
          "name": "stdout",
          "text": [
            "Collecting opencv-python\n",
            "  Downloading opencv_python-4.11.0.86-cp37-abi3-manylinux_2_17_x86_64.manylinux2014_x86_64.whl.metadata (20 kB)\n",
            "Collecting glob2\n",
            "  Downloading glob2-0.7.tar.gz (10 kB)\n",
            "  Installing build dependencies ... \u001b[?25l\u001b[?25hdone\n",
            "  Getting requirements to build wheel ... \u001b[?25l\u001b[?25hdone\n",
            "  Preparing metadata (pyproject.toml) ... \u001b[?25l\u001b[?25hdone\n",
            "Requirement already satisfied: scikit-learn in /usr/local/lib/python3.11/dist-packages (1.6.1)\n",
            "Requirement already satisfied: patchify in /usr/local/lib/python3.11/dist-packages (0.2.3)\n",
            "Collecting tensorflow\n",
            "  Downloading tensorflow-2.19.0-cp311-cp311-manylinux_2_17_x86_64.manylinux2014_x86_64.whl.metadata (4.1 kB)\n",
            "Requirement already satisfied: numpy>=1.21.2 in /usr/local/lib/python3.11/dist-packages (from opencv-python) (1.26.4)\n",
            "Requirement already satisfied: scipy>=1.6.0 in /usr/local/lib/python3.11/dist-packages (from scikit-learn) (1.14.1)\n",
            "Requirement already satisfied: joblib>=1.2.0 in /usr/local/lib/python3.11/dist-packages (from scikit-learn) (1.4.2)\n",
            "Requirement already satisfied: threadpoolctl>=3.1.0 in /usr/local/lib/python3.11/dist-packages (from scikit-learn) (3.6.0)\n",
            "Requirement already satisfied: absl-py>=1.0.0 in /usr/local/lib/python3.11/dist-packages (from tensorflow) (1.4.0)\n",
            "Collecting astunparse>=1.6.0 (from tensorflow)\n",
            "  Downloading astunparse-1.6.3-py2.py3-none-any.whl.metadata (4.4 kB)\n",
            "Collecting flatbuffers>=24.3.25 (from tensorflow)\n",
            "  Downloading flatbuffers-25.2.10-py2.py3-none-any.whl.metadata (875 bytes)\n",
            "Requirement already satisfied: gast!=0.5.0,!=0.5.1,!=0.5.2,>=0.2.1 in /usr/local/lib/python3.11/dist-packages (from tensorflow) (0.6.0)\n",
            "Collecting google-pasta>=0.1.1 (from tensorflow)\n",
            "  Downloading google_pasta-0.2.0-py3-none-any.whl.metadata (814 bytes)\n",
            "Collecting libclang>=13.0.0 (from tensorflow)\n",
            "  Downloading libclang-18.1.1-py2.py3-none-manylinux2010_x86_64.whl.metadata (5.2 kB)\n",
            "Requirement already satisfied: opt-einsum>=2.3.2 in /usr/local/lib/python3.11/dist-packages (from tensorflow) (3.4.0)\n",
            "Requirement already satisfied: packaging in /usr/local/lib/python3.11/dist-packages (from tensorflow) (24.2)\n",
            "Requirement already satisfied: protobuf!=4.21.0,!=4.21.1,!=4.21.2,!=4.21.3,!=4.21.4,!=4.21.5,<6.0.0dev,>=3.20.3 in /usr/local/lib/python3.11/dist-packages (from tensorflow) (5.29.4)\n",
            "Requirement already satisfied: requests<3,>=2.21.0 in /usr/local/lib/python3.11/dist-packages (from tensorflow) (2.32.3)\n",
            "Requirement already satisfied: setuptools in /usr/local/lib/python3.11/dist-packages (from tensorflow) (75.2.0)\n",
            "Requirement already satisfied: six>=1.12.0 in /usr/local/lib/python3.11/dist-packages (from tensorflow) (1.17.0)\n",
            "Requirement already satisfied: termcolor>=1.1.0 in /usr/local/lib/python3.11/dist-packages (from tensorflow) (3.0.1)\n",
            "Requirement already satisfied: typing-extensions>=3.6.6 in /usr/local/lib/python3.11/dist-packages (from tensorflow) (4.13.1)\n",
            "Requirement already satisfied: wrapt>=1.11.0 in /usr/local/lib/python3.11/dist-packages (from tensorflow) (1.17.2)\n",
            "Requirement already satisfied: grpcio<2.0,>=1.24.3 in /usr/local/lib/python3.11/dist-packages (from tensorflow) (1.71.0)\n",
            "Collecting tensorboard~=2.19.0 (from tensorflow)\n",
            "  Downloading tensorboard-2.19.0-py3-none-any.whl.metadata (1.8 kB)\n",
            "Requirement already satisfied: keras>=3.5.0 in /usr/local/lib/python3.11/dist-packages (from tensorflow) (3.8.0)\n",
            "Requirement already satisfied: h5py>=3.11.0 in /usr/local/lib/python3.11/dist-packages (from tensorflow) (3.13.0)\n",
            "Requirement already satisfied: ml-dtypes<1.0.0,>=0.5.1 in /usr/local/lib/python3.11/dist-packages (from tensorflow) (0.5.1)\n",
            "Collecting tensorflow-io-gcs-filesystem>=0.23.1 (from tensorflow)\n",
            "  Downloading tensorflow_io_gcs_filesystem-0.37.1-cp311-cp311-manylinux_2_17_x86_64.manylinux2014_x86_64.whl.metadata (14 kB)\n",
            "Collecting wheel<1.0,>=0.23.0 (from astunparse>=1.6.0->tensorflow)\n",
            "  Downloading wheel-0.45.1-py3-none-any.whl.metadata (2.3 kB)\n",
            "Requirement already satisfied: rich in /usr/local/lib/python3.11/dist-packages (from keras>=3.5.0->tensorflow) (14.0.0)\n",
            "Requirement already satisfied: namex in /usr/local/lib/python3.11/dist-packages (from keras>=3.5.0->tensorflow) (0.0.8)\n",
            "Requirement already satisfied: optree in /usr/local/lib/python3.11/dist-packages (from keras>=3.5.0->tensorflow) (0.15.0)\n",
            "Requirement already satisfied: charset-normalizer<4,>=2 in /usr/local/lib/python3.11/dist-packages (from requests<3,>=2.21.0->tensorflow) (3.4.1)\n",
            "Requirement already satisfied: idna<4,>=2.5 in /usr/local/lib/python3.11/dist-packages (from requests<3,>=2.21.0->tensorflow) (3.10)\n",
            "Requirement already satisfied: urllib3<3,>=1.21.1 in /usr/local/lib/python3.11/dist-packages (from requests<3,>=2.21.0->tensorflow) (2.3.0)\n",
            "Requirement already satisfied: certifi>=2017.4.17 in /usr/local/lib/python3.11/dist-packages (from requests<3,>=2.21.0->tensorflow) (2025.1.31)\n",
            "Requirement already satisfied: markdown>=2.6.8 in /usr/lib/python3/dist-packages (from tensorboard~=2.19.0->tensorflow) (3.3.6)\n",
            "Collecting tensorboard-data-server<0.8.0,>=0.7.0 (from tensorboard~=2.19.0->tensorflow)\n",
            "  Downloading tensorboard_data_server-0.7.2-py3-none-manylinux_2_31_x86_64.whl.metadata (1.1 kB)\n",
            "Collecting werkzeug>=1.0.1 (from tensorboard~=2.19.0->tensorflow)\n",
            "  Downloading werkzeug-3.1.3-py3-none-any.whl.metadata (3.7 kB)\n",
            "Requirement already satisfied: MarkupSafe>=2.1.1 in /usr/local/lib/python3.11/dist-packages (from werkzeug>=1.0.1->tensorboard~=2.19.0->tensorflow) (3.0.2)\n",
            "Requirement already satisfied: markdown-it-py>=2.2.0 in /usr/local/lib/python3.11/dist-packages (from rich->keras>=3.5.0->tensorflow) (3.0.0)\n",
            "Requirement already satisfied: pygments<3.0.0,>=2.13.0 in /usr/local/lib/python3.11/dist-packages (from rich->keras>=3.5.0->tensorflow) (2.19.1)\n",
            "Requirement already satisfied: mdurl~=0.1 in /usr/local/lib/python3.11/dist-packages (from markdown-it-py>=2.2.0->rich->keras>=3.5.0->tensorflow) (0.1.2)\n",
            "Downloading opencv_python-4.11.0.86-cp37-abi3-manylinux_2_17_x86_64.manylinux2014_x86_64.whl (63.0 MB)\n",
            "\u001b[2K   \u001b[90m━━━━━━━━━━━━━━━━━━━━━━━━━━━━━━━━━━━━━━━━\u001b[0m \u001b[32m63.0/63.0 MB\u001b[0m \u001b[31m21.5 MB/s\u001b[0m eta \u001b[36m0:00:00\u001b[0m\n",
            "\u001b[?25hDownloading tensorflow-2.19.0-cp311-cp311-manylinux_2_17_x86_64.manylinux2014_x86_64.whl (644.9 MB)\n",
            "\u001b[2K   \u001b[90m━━━━━━━━━━━━━━━━━━━━━━━━━━━━━━━━━━━━━━━\u001b[0m \u001b[32m644.9/644.9 MB\u001b[0m \u001b[31m740.0 kB/s\u001b[0m eta \u001b[36m0:00:00\u001b[0m\n",
            "\u001b[?25hDownloading astunparse-1.6.3-py2.py3-none-any.whl (12 kB)\n",
            "Downloading flatbuffers-25.2.10-py2.py3-none-any.whl (30 kB)\n",
            "Downloading google_pasta-0.2.0-py3-none-any.whl (57 kB)\n",
            "\u001b[2K   \u001b[90m━━━━━━━━━━━━━━━━━━━━━━━━━━━━━━━━━━━━━━━━\u001b[0m \u001b[32m57.5/57.5 kB\u001b[0m \u001b[31m6.2 MB/s\u001b[0m eta \u001b[36m0:00:00\u001b[0m\n",
            "\u001b[?25hDownloading libclang-18.1.1-py2.py3-none-manylinux2010_x86_64.whl (24.5 MB)\n",
            "\u001b[2K   \u001b[90m━━━━━━━━━━━━━━━━━━━━━━━━━━━━━━━━━━━━━━━━\u001b[0m \u001b[32m24.5/24.5 MB\u001b[0m \u001b[31m91.8 MB/s\u001b[0m eta \u001b[36m0:00:00\u001b[0m\n",
            "\u001b[?25hDownloading tensorboard-2.19.0-py3-none-any.whl (5.5 MB)\n",
            "\u001b[2K   \u001b[90m━━━━━━━━━━━━━━━━━━━━━━━━━━━━━━━━━━━━━━━━\u001b[0m \u001b[32m5.5/5.5 MB\u001b[0m \u001b[31m111.0 MB/s\u001b[0m eta \u001b[36m0:00:00\u001b[0m\n",
            "\u001b[?25hDownloading tensorflow_io_gcs_filesystem-0.37.1-cp311-cp311-manylinux_2_17_x86_64.manylinux2014_x86_64.whl (5.1 MB)\n",
            "\u001b[2K   \u001b[90m━━━━━━━━━━━━━━━━━━━━━━━━━━━━━━━━━━━━━━━━\u001b[0m \u001b[32m5.1/5.1 MB\u001b[0m \u001b[31m120.5 MB/s\u001b[0m eta \u001b[36m0:00:00\u001b[0m\n",
            "\u001b[?25hDownloading tensorboard_data_server-0.7.2-py3-none-manylinux_2_31_x86_64.whl (6.6 MB)\n",
            "\u001b[2K   \u001b[90m━━━━━━━━━━━━━━━━━━━━━━━━━━━━━━━━━━━━━━━━\u001b[0m \u001b[32m6.6/6.6 MB\u001b[0m \u001b[31m139.4 MB/s\u001b[0m eta \u001b[36m0:00:00\u001b[0m\n",
            "\u001b[?25hDownloading werkzeug-3.1.3-py3-none-any.whl (224 kB)\n",
            "\u001b[2K   \u001b[90m━━━━━━━━━━━━━━━━━━━━━━━━━━━━━━━━━━━━━━━━\u001b[0m \u001b[32m224.5/224.5 kB\u001b[0m \u001b[31m22.9 MB/s\u001b[0m eta \u001b[36m0:00:00\u001b[0m\n",
            "\u001b[?25hDownloading wheel-0.45.1-py3-none-any.whl (72 kB)\n",
            "\u001b[2K   \u001b[90m━━━━━━━━━━━━━━━━━━━━━━━━━━━━━━━━━━━━━━━━\u001b[0m \u001b[32m72.5/72.5 kB\u001b[0m \u001b[31m7.7 MB/s\u001b[0m eta \u001b[36m0:00:00\u001b[0m\n",
            "\u001b[?25hBuilding wheels for collected packages: glob2\n",
            "  Building wheel for glob2 (pyproject.toml) ... \u001b[?25l\u001b[?25hdone\n",
            "  Created wheel for glob2: filename=glob2-0.7-py2.py3-none-any.whl size=9364 sha256=156db312057df80af62e31999c65b04bbd25f9cc42d6481a72be24a4f0efe50d\n",
            "  Stored in directory: /root/.cache/pip/wheels/96/41/06/9f8fddc6eb1d75bde63db7f491311a4ae26905212617e06eb2\n",
            "Successfully built glob2\n",
            "Installing collected packages: libclang, glob2, flatbuffers, wheel, werkzeug, tensorflow-io-gcs-filesystem, tensorboard-data-server, opencv-python, google-pasta, tensorboard, astunparse, tensorflow\n",
            "Successfully installed astunparse-1.6.3 flatbuffers-25.2.10 glob2-0.7 google-pasta-0.2.0 libclang-18.1.1 opencv-python-4.11.0.86 tensorboard-2.19.0 tensorboard-data-server-0.7.2 tensorflow-2.19.0 tensorflow-io-gcs-filesystem-0.37.1 werkzeug-3.1.3 wheel-0.45.1\n"
          ]
        }
      ]
    },
    {
      "cell_type": "code",
      "source": [
        "!pip install tensorflow"
      ],
      "metadata": {
        "id": "9CZy3vcJKmeW",
        "colab": {
          "base_uri": "https://localhost:8080/"
        },
        "outputId": "3b3984d1-1782-4a17-f30f-bcda790e21ea"
      },
      "execution_count": 15,
      "outputs": [
        {
          "output_type": "stream",
          "name": "stdout",
          "text": [
            "Requirement already satisfied: tensorflow in /usr/local/lib/python3.11/dist-packages (2.19.0)\n",
            "Requirement already satisfied: absl-py>=1.0.0 in /usr/local/lib/python3.11/dist-packages (from tensorflow) (1.4.0)\n",
            "Requirement already satisfied: astunparse>=1.6.0 in /usr/local/lib/python3.11/dist-packages (from tensorflow) (1.6.3)\n",
            "Requirement already satisfied: flatbuffers>=24.3.25 in /usr/local/lib/python3.11/dist-packages (from tensorflow) (25.2.10)\n",
            "Requirement already satisfied: gast!=0.5.0,!=0.5.1,!=0.5.2,>=0.2.1 in /usr/local/lib/python3.11/dist-packages (from tensorflow) (0.6.0)\n",
            "Requirement already satisfied: google-pasta>=0.1.1 in /usr/local/lib/python3.11/dist-packages (from tensorflow) (0.2.0)\n",
            "Requirement already satisfied: libclang>=13.0.0 in /usr/local/lib/python3.11/dist-packages (from tensorflow) (18.1.1)\n",
            "Requirement already satisfied: opt-einsum>=2.3.2 in /usr/local/lib/python3.11/dist-packages (from tensorflow) (3.4.0)\n",
            "Requirement already satisfied: packaging in /usr/local/lib/python3.11/dist-packages (from tensorflow) (24.2)\n",
            "Requirement already satisfied: protobuf!=4.21.0,!=4.21.1,!=4.21.2,!=4.21.3,!=4.21.4,!=4.21.5,<6.0.0dev,>=3.20.3 in /usr/local/lib/python3.11/dist-packages (from tensorflow) (5.29.4)\n",
            "Requirement already satisfied: requests<3,>=2.21.0 in /usr/local/lib/python3.11/dist-packages (from tensorflow) (2.32.3)\n",
            "Requirement already satisfied: setuptools in /usr/local/lib/python3.11/dist-packages (from tensorflow) (75.2.0)\n",
            "Requirement already satisfied: six>=1.12.0 in /usr/local/lib/python3.11/dist-packages (from tensorflow) (1.17.0)\n",
            "Requirement already satisfied: termcolor>=1.1.0 in /usr/local/lib/python3.11/dist-packages (from tensorflow) (3.0.1)\n",
            "Requirement already satisfied: typing-extensions>=3.6.6 in /usr/local/lib/python3.11/dist-packages (from tensorflow) (4.13.1)\n",
            "Requirement already satisfied: wrapt>=1.11.0 in /usr/local/lib/python3.11/dist-packages (from tensorflow) (1.17.2)\n",
            "Requirement already satisfied: grpcio<2.0,>=1.24.3 in /usr/local/lib/python3.11/dist-packages (from tensorflow) (1.71.0)\n",
            "Requirement already satisfied: tensorboard~=2.19.0 in /usr/local/lib/python3.11/dist-packages (from tensorflow) (2.19.0)\n",
            "Requirement already satisfied: keras>=3.5.0 in /usr/local/lib/python3.11/dist-packages (from tensorflow) (3.8.0)\n",
            "Requirement already satisfied: numpy<2.2.0,>=1.26.0 in /usr/local/lib/python3.11/dist-packages (from tensorflow) (1.26.4)\n",
            "Requirement already satisfied: h5py>=3.11.0 in /usr/local/lib/python3.11/dist-packages (from tensorflow) (3.13.0)\n",
            "Requirement already satisfied: ml-dtypes<1.0.0,>=0.5.1 in /usr/local/lib/python3.11/dist-packages (from tensorflow) (0.5.1)\n",
            "Requirement already satisfied: tensorflow-io-gcs-filesystem>=0.23.1 in /usr/local/lib/python3.11/dist-packages (from tensorflow) (0.37.1)\n",
            "Requirement already satisfied: wheel<1.0,>=0.23.0 in /usr/local/lib/python3.11/dist-packages (from astunparse>=1.6.0->tensorflow) (0.45.1)\n",
            "Requirement already satisfied: rich in /usr/local/lib/python3.11/dist-packages (from keras>=3.5.0->tensorflow) (14.0.0)\n",
            "Requirement already satisfied: namex in /usr/local/lib/python3.11/dist-packages (from keras>=3.5.0->tensorflow) (0.0.8)\n",
            "Requirement already satisfied: optree in /usr/local/lib/python3.11/dist-packages (from keras>=3.5.0->tensorflow) (0.15.0)\n",
            "Requirement already satisfied: charset-normalizer<4,>=2 in /usr/local/lib/python3.11/dist-packages (from requests<3,>=2.21.0->tensorflow) (3.4.1)\n",
            "Requirement already satisfied: idna<4,>=2.5 in /usr/local/lib/python3.11/dist-packages (from requests<3,>=2.21.0->tensorflow) (3.10)\n",
            "Requirement already satisfied: urllib3<3,>=1.21.1 in /usr/local/lib/python3.11/dist-packages (from requests<3,>=2.21.0->tensorflow) (2.3.0)\n",
            "Requirement already satisfied: certifi>=2017.4.17 in /usr/local/lib/python3.11/dist-packages (from requests<3,>=2.21.0->tensorflow) (2025.1.31)\n",
            "Requirement already satisfied: markdown>=2.6.8 in /usr/lib/python3/dist-packages (from tensorboard~=2.19.0->tensorflow) (3.3.6)\n",
            "Requirement already satisfied: tensorboard-data-server<0.8.0,>=0.7.0 in /usr/local/lib/python3.11/dist-packages (from tensorboard~=2.19.0->tensorflow) (0.7.2)\n",
            "Requirement already satisfied: werkzeug>=1.0.1 in /usr/local/lib/python3.11/dist-packages (from tensorboard~=2.19.0->tensorflow) (3.1.3)\n",
            "Requirement already satisfied: MarkupSafe>=2.1.1 in /usr/local/lib/python3.11/dist-packages (from werkzeug>=1.0.1->tensorboard~=2.19.0->tensorflow) (3.0.2)\n",
            "Requirement already satisfied: markdown-it-py>=2.2.0 in /usr/local/lib/python3.11/dist-packages (from rich->keras>=3.5.0->tensorflow) (3.0.0)\n",
            "Requirement already satisfied: pygments<3.0.0,>=2.13.0 in /usr/local/lib/python3.11/dist-packages (from rich->keras>=3.5.0->tensorflow) (2.19.1)\n",
            "Requirement already satisfied: mdurl~=0.1 in /usr/local/lib/python3.11/dist-packages (from markdown-it-py>=2.2.0->rich->keras>=3.5.0->tensorflow) (0.1.2)\n"
          ]
        }
      ]
    },
    {
      "cell_type": "code",
      "source": [
        "!pip install numpy==2.0.0"
      ],
      "metadata": {
        "colab": {
          "base_uri": "https://localhost:8080/"
        },
        "id": "Mk2heNsdTT0j",
        "outputId": "0fd7a4b7-22fb-45c5-a531-d718569eed92"
      },
      "execution_count": 16,
      "outputs": [
        {
          "output_type": "stream",
          "name": "stdout",
          "text": [
            "Collecting numpy==2.0.0\n",
            "  Downloading numpy-2.0.0-cp311-cp311-manylinux_2_17_x86_64.manylinux2014_x86_64.whl.metadata (60 kB)\n",
            "\u001b[?25l     \u001b[90m━━━━━━━━━━━━━━━━━━━━━━━━━━━━━━━━━━━━━━━━\u001b[0m \u001b[32m0.0/60.9 kB\u001b[0m \u001b[31m?\u001b[0m eta \u001b[36m-:--:--\u001b[0m\r\u001b[2K     \u001b[90m━━━━━━━━━━━━━━━━━━━━━━━━━━━━━━━━━━━━━━━━\u001b[0m \u001b[32m60.9/60.9 kB\u001b[0m \u001b[31m1.8 MB/s\u001b[0m eta \u001b[36m0:00:00\u001b[0m\n",
            "\u001b[?25hDownloading numpy-2.0.0-cp311-cp311-manylinux_2_17_x86_64.manylinux2014_x86_64.whl (19.3 MB)\n",
            "\u001b[2K   \u001b[90m━━━━━━━━━━━━━━━━━━━━━━━━━━━━━━━━━━━━━━━━\u001b[0m \u001b[32m19.3/19.3 MB\u001b[0m \u001b[31m130.0 MB/s\u001b[0m eta \u001b[36m0:00:00\u001b[0m\n",
            "\u001b[?25hInstalling collected packages: numpy\n",
            "  Attempting uninstall: numpy\n",
            "    Found existing installation: numpy 1.26.4\n",
            "    Uninstalling numpy-1.26.4:\n",
            "      Successfully uninstalled numpy-1.26.4\n",
            "\u001b[31mERROR: pip's dependency resolver does not currently take into account all the packages that are installed. This behaviour is the source of the following dependency conflicts.\n",
            "patchify 0.2.3 requires numpy<2,>=1, but you have numpy 2.0.0 which is incompatible.\u001b[0m\u001b[31m\n",
            "\u001b[0mSuccessfully installed numpy-2.0.0\n"
          ]
        }
      ]
    },
    {
      "cell_type": "code",
      "source": [
        "import numpy as np\n",
        "import cv2\n",
        "from glob import glob\n",
        "from sklearn.utils import shuffle\n",
        "from sklearn.model_selection import train_test_split\n",
        "from patchify import patchify\n",
        "import tensorflow as tf\n",
        "from tensorflow.keras.callbacks import ModelCheckpoint, CSVLogger, ReduceLROnPlateau, EarlyStopping\n"
      ],
      "metadata": {
        "id": "lLkjob3F-hUD"
      },
      "execution_count": 17,
      "outputs": []
    },
    {
      "cell_type": "markdown",
      "source": [
        "# Updated Hyperparameters for Reducing Model's Complexity"
      ],
      "metadata": {
        "id": "mCuW4asv_G3q"
      }
    },
    {
      "cell_type": "code",
      "source": [
        "# Updated hyperparameters\n",
        "hp = {}\n",
        "hp[\"image_size\"] = 200\n",
        "hp[\"num_channels\"] = 3\n",
        "hp[\"patch_size\"] = 25\n",
        "hp[\"num_patches\"] = (hp[\"image_size\"] ** 2) // (hp[\"patch_size\"] ** 2)\n",
        "hp[\"flat_patches_shape\"] = (hp[\"num_patches\"], hp[\"patch_size\"]*hp[\"patch_size\"]*hp[\"num_channels\"])\n",
        "hp[\"batch_size\"] = 16\n",
        "hp[\"lr\"] = 5e-5\n",
        "hp[\"num_epochs\"] = 50\n",
        "hp[\"num_classes\"] = 10\n",
        "hp[\"class_names\"] = ['Mild', 'Moderate', 'No_DR', 'Proliferate_DR', 'Severe']\n",
        "hp[\"num_layers\"] = 6\n",
        "hp[\"hidden_dim\"] = 256\n",
        "hp[\"mlp_dim\"] = 1024\n",
        "hp[\"num_heads\"] = 8\n",
        "hp[\"dropout_rate\"] = 0.1\n"
      ],
      "metadata": {
        "id": "2sbnVlfU_Izv"
      },
      "execution_count": 18,
      "outputs": []
    },
    {
      "cell_type": "markdown",
      "source": [
        "#### Hyperparameter hp[\"lr\"] = 1e-4 refers to the learning rate of a machine learning model, specifically for optimization algorithms used in training neural networks.\n",
        "\n",
        "#### Learning Rate (lr): The learning rate is a crucial hyperparameter that controls how much to change the model in response to the estimated error each time the model weights are updated. It determines the size of the steps taken towards the minimum of the loss function during the training process.\n",
        "\n",
        "#### 1e-4 in Detail:Scientific Notation: 1e-4 is scientific notation for 1×10−4, which equals 0.0001.\n",
        "\n",
        "#### Impact: A learning rate of 0.0001 means the model parameters are updated very slightly with each training iteration. This can help in:\n",
        "\n",
        "#### Stability: Reducing the risk of overshooting the minimum of the loss function.\n",
        "\n",
        "#### Convergence: Allowing the model to make gradual progress towards the optimal solution, which can be beneficial for fine-tuning or training complex models.\n",
        "\n",
        "#### Considerations:\n",
        "\n",
        "- Too Low Learning Rate: If the learning rate is too low, the training process can be very slow and may get stuck in local minima.\n",
        "- Too High Learning Rate: If the learning rate is too high, the model might overshoot the optimal values, leading to divergence or erratic updates.\n",
        "\n",
        "#### Common Practice:\n",
        "Learning Rate Scheduling: Often, the learning rate is dynamically adjusted during training. Techniques like learning rate decay, ReduceLROnPlateau, or using optimizers with adaptive learning rates (e.g., Adam) are common practices."
      ],
      "metadata": {
        "id": "3p9WeWyU_KVn"
      }
    },
    {
      "cell_type": "markdown",
      "source": [
        "#### The concept of the \"minimum of the loss function\" is central to training machine learning models, particularly in supervised learning and neural networks.\n",
        "\n",
        "#### Loss Function\n",
        "\n",
        "- Definition: A loss function (also known as a cost function or objective function) measures the difference between the predicted values of the model and the actual values from the training data.\n",
        "\n",
        "- Purpose: It quantifies the error made by the model, guiding the training process to minimize this error.\n",
        "\n",
        "#### Minimum of the Loss Function\n",
        "\n",
        "- Goal of Training: The primary goal of training a machine learning model is to find the set of parameters (weights and biases) that minimize the loss function. This ensures that the model's predictions are as close as possible to the actual data.\n",
        "\n",
        "- Global Minimum: The global minimum is the point where the loss function has the lowest possible value. Achieving this means that the model has the best possible set of parameters for making accurate predictions on the training data.\n",
        "\n",
        "- Local Minimum: The loss function might have several local minima, which are points where the function value is lower than the surrounding points but not necessarily the lowest possible value overall. These can sometimes trap optimization algorithms, preventing them from finding the global minimum.\n",
        "\n",
        "#### Visualization\n",
        "\n",
        "- Convex Functions: For simple models, the loss function might be convex, resembling a bowl shape where the bottom represents the global minimum.\n",
        "- Non-Convex Functions: For complex models like deep neural networks, the loss function is often non-convex, resembling a landscape with multiple peaks and valleys.\n",
        "\n",
        "#### Optimization\n",
        "- Gradient Descent: One common method to find the minimum of the loss function is gradient descent. This iterative optimization algorithm adjusts the model parameters in the direction of the steepest descent (negative gradient) of the loss function.\n",
        "- Learning Rate: The learning rate determines the step size taken during each iteration of gradient descent. A well-chosen learning rate helps in efficiently converging to the minimum.\n",
        "Importance\n",
        "- Model Performance: Finding the minimum of the loss function is crucial for model performance. It directly impacts how well the model generalizes to new, unseen data.\n",
        "- Overfitting and Underfitting: Balancing the minimization process is important to avoid overfitting (model too closely fits the training data) and underfitting (model doesn't capture the underlying patterns in the data).\n",
        "\n",
        "#### Example\n",
        "- Consider a simple linear regression problem where we want to fit a line to a set of data points. The loss function could be the mean squared error (MSE) between the predicted values and the actual values. The training process involves adjusting the slope and intercept of the line to minimize the MSE, finding the best fit line that represents the data.\n",
        "\n",
        "#### In summary, the minimum of the loss function represents the point where the model's predictions are most accurate with respect to the training data, and finding this minimum is the primary objective of the training process in machine learning."
      ],
      "metadata": {
        "id": "RYlcLHVk_RmZ"
      }
    },
    {
      "cell_type": "code",
      "source": [
        "\"\"\" Seeding \"\"\"\n",
        "np.random.seed(42)\n",
        "tf.random.set_seed(42)"
      ],
      "metadata": {
        "id": "FADk1JUH_Mpn"
      },
      "execution_count": 19,
      "outputs": []
    },
    {
      "cell_type": "markdown",
      "source": [
        "#### The commands np.random.seed(42) and tf.random.set_seed(42) are used to set the seed for the random number generators in NumPy and TensorFlow, respectively. Setting a seed ensures reproducibility of results in experiments and model training.\n",
        "\n",
        "#### np.random.seed(42)\n",
        "\n",
        "- Purpose: This command sets the seed for NumPy's random number generator.\n",
        "\n",
        "- Reproducibility: By setting a specific seed value (in this case, 42), you ensure that any subsequent calls to NumPy's random functions produce the same results each time the code is run. This is essential for debugging, comparing different models, and sharing results.\n",
        "\n",
        "#### tf.random.set_seed(42)\n",
        "\n",
        "- Purpose: This command sets the seed for TensorFlow's random number generator.\n",
        "\n",
        "- Reproducibility: Similar to NumPy, setting the seed in TensorFlow ensures that operations involving randomness (e.g., initializing weights, shuffling data, dropout layers) produce the same results every time the code is run.\n",
        "\n",
        "- Running this code again will yield the same tensor values.\n",
        "\n",
        "#### Why Use a Specific Seed Value (e.g., 42)?\n",
        "\n",
        "- Consistency: Using the same seed value across different libraries and experiments ensures that the randomness is consistent, allowing for fair comparisons.\n",
        "\n",
        "- Popular Choice: The number 42 is often used as a seed value in examples and tutorials due to its cultural reference as \"the answer to the ultimate question of life, the universe, and everything\" from Douglas Adams' \"The Hitchhiker's Guide to the Galaxy.\" It has no special meaning in terms of randomness, but it has become a convention in many coding communities.\n",
        "\n",
        "#### Importance of Reproducibility\n",
        "\n",
        "- Debugging: If you encounter an issue, being able to reproduce the exact same scenario helps in identifying and fixing the problem.\n",
        "- Comparing Results: When experimenting with different models or hyperparameters, reproducibility ensures that differences in outcomes are due to the changes made and not due to variations in random initialization.\n",
        "- Publishing Research: In scientific research, reproducibility is a key principle. Other researchers should be able to replicate your results using the same code and data.\n",
        "\n",
        "#### In summary, np.random.seed(42) and tf.random.set_seed(42) are used to set the seeds for the random number generators in NumPy and TensorFlow, respectively, ensuring that the code produces the same random numbers each time it is run, thereby achieving reproducibility of results."
      ],
      "metadata": {
        "id": "HOY3Msq1_Uv1"
      }
    },
    {
      "cell_type": "markdown",
      "source": [
        "#### Function to create folders to save different files created during the project execution"
      ],
      "metadata": {
        "id": "qveaL1hd_Ymc"
      }
    },
    {
      "cell_type": "code",
      "source": [
        "def create_dir(path):\n",
        "    if not os.path.exists(path):\n",
        "        os.makedirs(path)"
      ],
      "metadata": {
        "id": "_WDvEH5z_WkO"
      },
      "execution_count": 20,
      "outputs": []
    },
    {
      "cell_type": "code",
      "source": [
        "def load_data(path, split=0.1): # 80 % - Training, 10 % - Validation, 10 % - Testing\n",
        "    images = shuffle(glob(os.path.join(path, \"*\", \"*.png\"))) # Shuffling is important so that it doesn't happen that some classes are not included in any of the 3 sets, all sets should have all classes\n",
        "\n",
        "    # split_size = int(len(images) * split)\n",
        "    # print(images)\n",
        "    # print(split_size)\n",
        "    train_x, valid_x = train_test_split(images, test_size=split, random_state=42) # 90 % - Train, 10 % - Validation\n",
        "    train_x, test_x = train_test_split(train_x, test_size=split, random_state=42) # From the 90 % in Train, 90 % in Train & 10 % in Test\n",
        "\n",
        "    return train_x, valid_x, test_x"
      ],
      "metadata": {
        "id": "YQWQM35U_bhq"
      },
      "execution_count": 21,
      "outputs": []
    },
    {
      "cell_type": "code",
      "source": [
        "def process_image_label(path):\n",
        "    \"\"\" Reading images \"\"\"\n",
        "    path = path.decode() # Comment it for checking the image shape as there is no decode function for string objects  # this is useful when the function is going through the tensorflow function in the parse function\n",
        "    image = cv2.imread(path, cv2.IMREAD_COLOR)\n",
        "    image = cv2.resize(image, (hp[\"image_size\"], hp[\"image_size\"]))\n",
        "    image = image/255.0 # Comment this line to save the patches without normalizing, else the patches would be black\n",
        "    # print(image.shape) # For printing the shape of images # (200, 200, 3)\n",
        "\n",
        "    # \"\"\" Preprocessing to patches \"\"\"\n",
        "    patch_shape = (hp[\"patch_size\"], hp[\"patch_size\"], hp[\"num_channels\"]) # Patch shape is basically patch width, patch height and patch channels\n",
        "    patches = patchify(image, patch_shape, hp[\"patch_size\"]) # image to be converted to patches, shape for the patches being generated and the step size, basically if the patch size is 25, after 25 pixels along the width or height of the image, next patch should start so 25 (hp[\"patch_size\"]) is our step size here\n",
        "    # print(patches.shape) # For printing the shape of patches # (8, 8, 1, 25, 25, 3) : 8*8*1 = 64 patches of shape (25,25,3)\n",
        "\n",
        "    # For saving the patches images\n",
        "    # patches = np.reshape(patches, (64, 25, 25, 3))\n",
        "    # for i in range(64):\n",
        "    #      cv2.imwrite(f\"files/{i}.png\", patches[i])\n",
        "\n",
        "    patches = np.reshape(patches, hp[\"flat_patches_shape\"])\n",
        "    patches = patches.astype(np.float32)\n",
        "\n",
        "    # \"\"\" Label \"\"\"\n",
        "    # print(path)\n",
        "    class_name = path.split(\"/\") # To split the path to get the class name\n",
        "    # print(class_name)\n",
        "    class_name = path.split(\"/\")[-2] # We'll grab the name of the class folder from the path which is always the 2nd last in the path of an image\n",
        "    # C:\\\\Users\\\\OMOLP094\\\\Desktop\\\\Galaxy-Type-Prediction-With-Vision-Transformer\\\\galaxy_type_dataset\\\\Barred_Spiral_Galaxies\\\\image_7941_5.jpg\n",
        "    # [C:,Users,OMOLP094,Desktop,Galaxy-Type-Prediction-With-Vision-Transformer,galaxy_type_dataset,Barred_Spiral_Galaxies,image_7941_5.jpg]\n",
        "\n",
        "    # print(class_name) # To print the class name\n",
        "    class_idx = hp[\"class_names\"].index(class_name) # To get the index (Numerical label) for the class name\n",
        "    # print(class_idx) # To print the class index\n",
        "    class_idx = np.array(class_idx, dtype=np.int32) # Converting class index to int32 datatype array\n",
        "\n",
        "    return patches, class_idx"
      ],
      "metadata": {
        "id": "XVyslzMM_d-J"
      },
      "execution_count": 22,
      "outputs": []
    },
    {
      "cell_type": "code",
      "source": [
        "def parse(path): # The parse function is designed to process image data and their corresponding labels, transforming them into a format suitable for machine learning models in TensorFlow.\n",
        "    patches, labels = tf.numpy_function(process_image_label, [path], [tf.float32, tf.int32])\n",
        "    labels = tf.one_hot(labels, hp[\"num_classes\"])\n",
        "\n",
        "    patches.set_shape(hp[\"flat_patches_shape\"])\n",
        "    labels.set_shape(hp[\"num_classes\"])\n",
        "\n",
        "# tf.numpy_function: This TensorFlow function wraps a Python function (in this case, process_image_label) so that it can be used in TensorFlow's computational graph. It allows the integration of arbitrary Python code within a TensorFlow pipeline.\n",
        "# process_image_label: This is the custom function that processes the input image and extracts both the image data (patches) and the label.\n",
        "# [path]: This argument passes the input path to the process_image_label function.\n",
        "# [tf.float32, tf.int32]: These are the expected output data types of the process_image_label function, with patches being a float32 tensor and labels being an int32 tensor.\n",
        "# tf.one_hot: This TensorFlow function converts the integer labels into one-hot encoded vectors. This is commonly used in classification problems where the label needs to be represented as a vector of zeros with a single one at the index of the correct class.\n",
        "# hp[\"num_classes\"]: This indicates the number of classes in the classification problem. The resulting one-hot vector will have this length.\n",
        "\n",
        "    return patches, labels"
      ],
      "metadata": {
        "id": "QRR4VcRQ_gl0"
      },
      "execution_count": 23,
      "outputs": []
    },
    {
      "cell_type": "code",
      "source": [
        "def tf_dataset(images, batch=16):\n",
        "    ds = tf.data.Dataset.from_tensor_slices((images))\n",
        "    ds = ds.map(parse).batch(batch).prefetch(16) # the prefetch function would grab 8 batches while a particular batch is being processed\n",
        "    return ds"
      ],
      "metadata": {
        "id": "S3R6SOaY_iOe"
      },
      "execution_count": 24,
      "outputs": []
    },
    {
      "cell_type": "code",
      "source": [
        "import tensorflow as tf\n",
        "from tensorflow.keras.layers import *\n",
        "from tensorflow.keras.models import Model"
      ],
      "metadata": {
        "id": "b2e-XARh_kP3"
      },
      "execution_count": 25,
      "outputs": []
    },
    {
      "cell_type": "code",
      "source": [
        "class ClassToken(Layer):\n",
        "    def __init__(self):\n",
        "        super().__init__()\n",
        "    # trainable / learnable class embedding\n",
        "    def build(self, input_shape):\n",
        "        w_init = tf.random_normal_initializer()\n",
        "        self.w = tf.Variable(\n",
        "            initial_value = w_init(shape=(1, 1, input_shape[-1]), dtype=tf.float32),\n",
        "            trainable = True\n",
        "        )\n",
        "\n",
        "    def call(self, inputs):\n",
        "        batch_size = tf.shape(inputs)[0]\n",
        "        hidden_dim = self.w.shape[-1]\n",
        "\n",
        "        cls = tf.broadcast_to(self.w, [batch_size, 1, hidden_dim])\n",
        "        cls = tf.cast(cls, dtype=inputs.dtype)\n",
        "        return cls"
      ],
      "metadata": {
        "id": "gOXTKvbN_l4R"
      },
      "execution_count": 26,
      "outputs": []
    },
    {
      "cell_type": "code",
      "source": [
        "def mlp(x, cf):\n",
        "    x = Dense(cf[\"mlp_dim\"], activation=\"gelu\")(x)\n",
        "    x = Dropout(cf[\"dropout_rate\"])(x)\n",
        "    x = Dense(cf[\"hidden_dim\"])(x)\n",
        "    x = Dropout(cf[\"dropout_rate\"])(x)\n",
        "    return x"
      ],
      "metadata": {
        "id": "zsq47K0X_ncd"
      },
      "execution_count": 27,
      "outputs": []
    },
    {
      "cell_type": "code",
      "source": [
        "def transformer_encoder(x, cf):\n",
        "    skip_1 = x # For skip connections\n",
        "    x = LayerNormalization()(x)\n",
        "    x = MultiHeadAttention(\n",
        "        num_heads=cf[\"num_heads\"], key_dim=cf[\"hidden_dim\"]\n",
        "    )(x, x)\n",
        "    x = Add()([x, skip_1])\n",
        "\n",
        "    skip_2 = x\n",
        "    x = LayerNormalization()(x)\n",
        "    x = mlp(x, cf)\n",
        "    x = Add()([x, skip_2])\n",
        "\n",
        "    return x"
      ],
      "metadata": {
        "id": "WH65NR0w_ot0"
      },
      "execution_count": 28,
      "outputs": []
    },
    {
      "cell_type": "code",
      "source": [
        "def ViT(cf):\n",
        "    \"\"\" Inputs \"\"\"\n",
        "    input_shape = (cf[\"num_patches\"], cf[\"patch_size\"]*cf[\"patch_size\"]*cf[\"num_channels\"])\n",
        "    inputs = Input(input_shape)     # (None, 64, 1875) (None - batch size, 64 - number of patches in an image and 1875 - patch width * patch height * patch channels)\n",
        "    # print(inputs.shape)\n",
        "\n",
        "    \"\"\" Patch Embeddings + Position Embeddings \"\"\"\n",
        "    patch_embed = Dense(cf[\"hidden_dim\"])(inputs)   ## (None, 256, 768)\n",
        "    # print(patch_embed.shape) # (None, 64, 768)\n",
        "\n",
        "    positions = tf.range(start=0, limit=cf[\"num_patches\"], delta=1) # delta is the step\n",
        "    # print(positions)\n",
        "\n",
        "    pos_embed = Embedding(input_dim=cf[\"num_patches\"], output_dim=cf[\"hidden_dim\"])(positions) ## (256, 768)\n",
        "    # print(pos_embed.shape) ## (64, 768)\n",
        "    embed = patch_embed + pos_embed\n",
        "    # print(embed.shape) ## (None, 64, 768)\n",
        "\n",
        "    \"\"\" Adding Class Token \"\"\"\n",
        "    token = ClassToken()(embed)\n",
        "    x = Concatenate(axis=1)([token, embed]) ## (token - learnable class embedding & position embeddings of patches)\n",
        "    # print(x.shape) # (None, 65, 768) (none - batch size, 65 - position embeddings for the 64 patches + 1 trainable / learnable class embedding, 768 - flattened patch)\n",
        "\n",
        "    for _ in range(cf[\"num_layers\"]):\n",
        "        x = transformer_encoder(x, cf)\n",
        "\n",
        "    # print(x.shape) # output of the transformer encoder block # (None, 65, 768)\n",
        "\n",
        "    \"\"\" Classification Head \"\"\"\n",
        "    x = LayerNormalization()(x)     ## (None, 257, 768)\n",
        "    x = x[:, 0, :]\n",
        "    # print(x.shape) # (None, 768) # Input for the classification layer\n",
        "    x = Dense(cf[\"num_classes\"], activation=\"softmax\")(x)\n",
        "    print(x.shape) # (None, 10) # Output for the classification layer\n",
        "\n",
        "    model = Model(inputs, x)\n",
        "    return model"
      ],
      "metadata": {
        "id": "RtUjZsHy_qZP"
      },
      "execution_count": 29,
      "outputs": []
    },
    {
      "cell_type": "markdown",
      "source": [
        "# Updated Model Configurations"
      ],
      "metadata": {
        "id": "SKLlNI8X_wYG"
      }
    },
    {
      "cell_type": "code",
      "source": [
        "config = {}\n",
        "config[\"num_layers\"] = hp[\"num_layers\"]\n",
        "config[\"hidden_dim\"] = hp[\"hidden_dim\"]\n",
        "config[\"mlp_dim\"] = hp[\"mlp_dim\"]\n",
        "config[\"num_heads\"] = hp[\"num_heads\"]\n",
        "config[\"dropout_rate\"] = hp[\"dropout_rate\"]\n",
        "config[\"num_patches\"] = hp[\"num_patches\"]\n",
        "config[\"patch_size\"] = hp[\"patch_size\"]\n",
        "config[\"num_channels\"] = hp[\"num_channels\"]\n",
        "config[\"num_classes\"] = hp[\"num_classes\"]"
      ],
      "metadata": {
        "id": "dd9mcsKT_uwP"
      },
      "execution_count": 30,
      "outputs": []
    },
    {
      "cell_type": "code",
      "source": [
        "model = ViT(config)"
      ],
      "metadata": {
        "colab": {
          "base_uri": "https://localhost:8080/"
        },
        "id": "g-17VyPm_ykT",
        "outputId": "ab57d1a4-bed9-47c4-9b28-c924d308b412"
      },
      "execution_count": 31,
      "outputs": [
        {
          "output_type": "stream",
          "name": "stdout",
          "text": [
            "(None, 10)\n"
          ]
        }
      ]
    },
    {
      "cell_type": "code",
      "source": [
        "model.summary()"
      ],
      "metadata": {
        "colab": {
          "base_uri": "https://localhost:8080/",
          "height": 1000
        },
        "id": "WMoWR-eB_zzX",
        "outputId": "17e4386f-2bbd-4ad8-8505-b60e22302c38"
      },
      "execution_count": 32,
      "outputs": [
        {
          "output_type": "display_data",
          "data": {
            "text/plain": [
              "\u001b[1mModel: \"functional\"\u001b[0m\n"
            ],
            "text/html": [
              "<pre style=\"white-space:pre;overflow-x:auto;line-height:normal;font-family:Menlo,'DejaVu Sans Mono',consolas,'Courier New',monospace\"><span style=\"font-weight: bold\">Model: \"functional\"</span>\n",
              "</pre>\n"
            ]
          },
          "metadata": {}
        },
        {
          "output_type": "display_data",
          "data": {
            "text/plain": [
              "┏━━━━━━━━━━━━━━━━━━━━━┳━━━━━━━━━━━━━━━━━━━┳━━━━━━━━━━━━┳━━━━━━━━━━━━━━━━━━━┓\n",
              "┃\u001b[1m \u001b[0m\u001b[1mLayer (type)       \u001b[0m\u001b[1m \u001b[0m┃\u001b[1m \u001b[0m\u001b[1mOutput Shape     \u001b[0m\u001b[1m \u001b[0m┃\u001b[1m \u001b[0m\u001b[1m   Param #\u001b[0m\u001b[1m \u001b[0m┃\u001b[1m \u001b[0m\u001b[1mConnected to     \u001b[0m\u001b[1m \u001b[0m┃\n",
              "┡━━━━━━━━━━━━━━━━━━━━━╇━━━━━━━━━━━━━━━━━━━╇━━━━━━━━━━━━╇━━━━━━━━━━━━━━━━━━━┩\n",
              "│ input_layer         │ (\u001b[38;5;45mNone\u001b[0m, \u001b[38;5;34m64\u001b[0m, \u001b[38;5;34m1875\u001b[0m)  │          \u001b[38;5;34m0\u001b[0m │ -                 │\n",
              "│ (\u001b[38;5;33mInputLayer\u001b[0m)        │                   │            │                   │\n",
              "├─────────────────────┼───────────────────┼────────────┼───────────────────┤\n",
              "│ dense (\u001b[38;5;33mDense\u001b[0m)       │ (\u001b[38;5;45mNone\u001b[0m, \u001b[38;5;34m64\u001b[0m, \u001b[38;5;34m256\u001b[0m)   │    \u001b[38;5;34m480,256\u001b[0m │ input_layer[\u001b[38;5;34m0\u001b[0m][\u001b[38;5;34m0\u001b[0m] │\n",
              "├─────────────────────┼───────────────────┼────────────┼───────────────────┤\n",
              "│ add (\u001b[38;5;33mAdd\u001b[0m)           │ (\u001b[38;5;45mNone\u001b[0m, \u001b[38;5;34m64\u001b[0m, \u001b[38;5;34m256\u001b[0m)   │          \u001b[38;5;34m0\u001b[0m │ dense[\u001b[38;5;34m0\u001b[0m][\u001b[38;5;34m0\u001b[0m]       │\n",
              "├─────────────────────┼───────────────────┼────────────┼───────────────────┤\n",
              "│ class_token         │ (\u001b[38;5;45mNone\u001b[0m, \u001b[38;5;34m1\u001b[0m, \u001b[38;5;34m256\u001b[0m)    │          \u001b[38;5;34m0\u001b[0m │ add[\u001b[38;5;34m0\u001b[0m][\u001b[38;5;34m0\u001b[0m]         │\n",
              "│ (\u001b[38;5;33mClassToken\u001b[0m)        │                   │            │                   │\n",
              "├─────────────────────┼───────────────────┼────────────┼───────────────────┤\n",
              "│ concatenate         │ (\u001b[38;5;45mNone\u001b[0m, \u001b[38;5;34m65\u001b[0m, \u001b[38;5;34m256\u001b[0m)   │          \u001b[38;5;34m0\u001b[0m │ class_token[\u001b[38;5;34m0\u001b[0m][\u001b[38;5;34m0\u001b[0m… │\n",
              "│ (\u001b[38;5;33mConcatenate\u001b[0m)       │                   │            │ add[\u001b[38;5;34m0\u001b[0m][\u001b[38;5;34m0\u001b[0m]         │\n",
              "├─────────────────────┼───────────────────┼────────────┼───────────────────┤\n",
              "│ layer_normalization │ (\u001b[38;5;45mNone\u001b[0m, \u001b[38;5;34m65\u001b[0m, \u001b[38;5;34m256\u001b[0m)   │        \u001b[38;5;34m512\u001b[0m │ concatenate[\u001b[38;5;34m0\u001b[0m][\u001b[38;5;34m0\u001b[0m] │\n",
              "│ (\u001b[38;5;33mLayerNormalizatio…\u001b[0m │                   │            │                   │\n",
              "├─────────────────────┼───────────────────┼────────────┼───────────────────┤\n",
              "│ multi_head_attenti… │ (\u001b[38;5;45mNone\u001b[0m, \u001b[38;5;34m65\u001b[0m, \u001b[38;5;34m256\u001b[0m)   │  \u001b[38;5;34m2,103,552\u001b[0m │ layer_normalizat… │\n",
              "│ (\u001b[38;5;33mMultiHeadAttentio…\u001b[0m │                   │            │ layer_normalizat… │\n",
              "├─────────────────────┼───────────────────┼────────────┼───────────────────┤\n",
              "│ add_1 (\u001b[38;5;33mAdd\u001b[0m)         │ (\u001b[38;5;45mNone\u001b[0m, \u001b[38;5;34m65\u001b[0m, \u001b[38;5;34m256\u001b[0m)   │          \u001b[38;5;34m0\u001b[0m │ multi_head_atten… │\n",
              "│                     │                   │            │ concatenate[\u001b[38;5;34m0\u001b[0m][\u001b[38;5;34m0\u001b[0m] │\n",
              "├─────────────────────┼───────────────────┼────────────┼───────────────────┤\n",
              "│ layer_normalizatio… │ (\u001b[38;5;45mNone\u001b[0m, \u001b[38;5;34m65\u001b[0m, \u001b[38;5;34m256\u001b[0m)   │        \u001b[38;5;34m512\u001b[0m │ add_1[\u001b[38;5;34m0\u001b[0m][\u001b[38;5;34m0\u001b[0m]       │\n",
              "│ (\u001b[38;5;33mLayerNormalizatio…\u001b[0m │                   │            │                   │\n",
              "├─────────────────────┼───────────────────┼────────────┼───────────────────┤\n",
              "│ dense_1 (\u001b[38;5;33mDense\u001b[0m)     │ (\u001b[38;5;45mNone\u001b[0m, \u001b[38;5;34m65\u001b[0m, \u001b[38;5;34m1024\u001b[0m)  │    \u001b[38;5;34m263,168\u001b[0m │ layer_normalizat… │\n",
              "├─────────────────────┼───────────────────┼────────────┼───────────────────┤\n",
              "│ dropout_1 (\u001b[38;5;33mDropout\u001b[0m) │ (\u001b[38;5;45mNone\u001b[0m, \u001b[38;5;34m65\u001b[0m, \u001b[38;5;34m1024\u001b[0m)  │          \u001b[38;5;34m0\u001b[0m │ dense_1[\u001b[38;5;34m0\u001b[0m][\u001b[38;5;34m0\u001b[0m]     │\n",
              "├─────────────────────┼───────────────────┼────────────┼───────────────────┤\n",
              "│ dense_2 (\u001b[38;5;33mDense\u001b[0m)     │ (\u001b[38;5;45mNone\u001b[0m, \u001b[38;5;34m65\u001b[0m, \u001b[38;5;34m256\u001b[0m)   │    \u001b[38;5;34m262,400\u001b[0m │ dropout_1[\u001b[38;5;34m0\u001b[0m][\u001b[38;5;34m0\u001b[0m]   │\n",
              "├─────────────────────┼───────────────────┼────────────┼───────────────────┤\n",
              "│ dropout_2 (\u001b[38;5;33mDropout\u001b[0m) │ (\u001b[38;5;45mNone\u001b[0m, \u001b[38;5;34m65\u001b[0m, \u001b[38;5;34m256\u001b[0m)   │          \u001b[38;5;34m0\u001b[0m │ dense_2[\u001b[38;5;34m0\u001b[0m][\u001b[38;5;34m0\u001b[0m]     │\n",
              "├─────────────────────┼───────────────────┼────────────┼───────────────────┤\n",
              "│ add_2 (\u001b[38;5;33mAdd\u001b[0m)         │ (\u001b[38;5;45mNone\u001b[0m, \u001b[38;5;34m65\u001b[0m, \u001b[38;5;34m256\u001b[0m)   │          \u001b[38;5;34m0\u001b[0m │ dropout_2[\u001b[38;5;34m0\u001b[0m][\u001b[38;5;34m0\u001b[0m],  │\n",
              "│                     │                   │            │ add_1[\u001b[38;5;34m0\u001b[0m][\u001b[38;5;34m0\u001b[0m]       │\n",
              "├─────────────────────┼───────────────────┼────────────┼───────────────────┤\n",
              "│ layer_normalizatio… │ (\u001b[38;5;45mNone\u001b[0m, \u001b[38;5;34m65\u001b[0m, \u001b[38;5;34m256\u001b[0m)   │        \u001b[38;5;34m512\u001b[0m │ add_2[\u001b[38;5;34m0\u001b[0m][\u001b[38;5;34m0\u001b[0m]       │\n",
              "│ (\u001b[38;5;33mLayerNormalizatio…\u001b[0m │                   │            │                   │\n",
              "├─────────────────────┼───────────────────┼────────────┼───────────────────┤\n",
              "│ multi_head_attenti… │ (\u001b[38;5;45mNone\u001b[0m, \u001b[38;5;34m65\u001b[0m, \u001b[38;5;34m256\u001b[0m)   │  \u001b[38;5;34m2,103,552\u001b[0m │ layer_normalizat… │\n",
              "│ (\u001b[38;5;33mMultiHeadAttentio…\u001b[0m │                   │            │ layer_normalizat… │\n",
              "├─────────────────────┼───────────────────┼────────────┼───────────────────┤\n",
              "│ add_3 (\u001b[38;5;33mAdd\u001b[0m)         │ (\u001b[38;5;45mNone\u001b[0m, \u001b[38;5;34m65\u001b[0m, \u001b[38;5;34m256\u001b[0m)   │          \u001b[38;5;34m0\u001b[0m │ multi_head_atten… │\n",
              "│                     │                   │            │ add_2[\u001b[38;5;34m0\u001b[0m][\u001b[38;5;34m0\u001b[0m]       │\n",
              "├─────────────────────┼───────────────────┼────────────┼───────────────────┤\n",
              "│ layer_normalizatio… │ (\u001b[38;5;45mNone\u001b[0m, \u001b[38;5;34m65\u001b[0m, \u001b[38;5;34m256\u001b[0m)   │        \u001b[38;5;34m512\u001b[0m │ add_3[\u001b[38;5;34m0\u001b[0m][\u001b[38;5;34m0\u001b[0m]       │\n",
              "│ (\u001b[38;5;33mLayerNormalizatio…\u001b[0m │                   │            │                   │\n",
              "├─────────────────────┼───────────────────┼────────────┼───────────────────┤\n",
              "│ dense_3 (\u001b[38;5;33mDense\u001b[0m)     │ (\u001b[38;5;45mNone\u001b[0m, \u001b[38;5;34m65\u001b[0m, \u001b[38;5;34m1024\u001b[0m)  │    \u001b[38;5;34m263,168\u001b[0m │ layer_normalizat… │\n",
              "├─────────────────────┼───────────────────┼────────────┼───────────────────┤\n",
              "│ dropout_4 (\u001b[38;5;33mDropout\u001b[0m) │ (\u001b[38;5;45mNone\u001b[0m, \u001b[38;5;34m65\u001b[0m, \u001b[38;5;34m1024\u001b[0m)  │          \u001b[38;5;34m0\u001b[0m │ dense_3[\u001b[38;5;34m0\u001b[0m][\u001b[38;5;34m0\u001b[0m]     │\n",
              "├─────────────────────┼───────────────────┼────────────┼───────────────────┤\n",
              "│ dense_4 (\u001b[38;5;33mDense\u001b[0m)     │ (\u001b[38;5;45mNone\u001b[0m, \u001b[38;5;34m65\u001b[0m, \u001b[38;5;34m256\u001b[0m)   │    \u001b[38;5;34m262,400\u001b[0m │ dropout_4[\u001b[38;5;34m0\u001b[0m][\u001b[38;5;34m0\u001b[0m]   │\n",
              "├─────────────────────┼───────────────────┼────────────┼───────────────────┤\n",
              "│ dropout_5 (\u001b[38;5;33mDropout\u001b[0m) │ (\u001b[38;5;45mNone\u001b[0m, \u001b[38;5;34m65\u001b[0m, \u001b[38;5;34m256\u001b[0m)   │          \u001b[38;5;34m0\u001b[0m │ dense_4[\u001b[38;5;34m0\u001b[0m][\u001b[38;5;34m0\u001b[0m]     │\n",
              "├─────────────────────┼───────────────────┼────────────┼───────────────────┤\n",
              "│ add_4 (\u001b[38;5;33mAdd\u001b[0m)         │ (\u001b[38;5;45mNone\u001b[0m, \u001b[38;5;34m65\u001b[0m, \u001b[38;5;34m256\u001b[0m)   │          \u001b[38;5;34m0\u001b[0m │ dropout_5[\u001b[38;5;34m0\u001b[0m][\u001b[38;5;34m0\u001b[0m],  │\n",
              "│                     │                   │            │ add_3[\u001b[38;5;34m0\u001b[0m][\u001b[38;5;34m0\u001b[0m]       │\n",
              "├─────────────────────┼───────────────────┼────────────┼───────────────────┤\n",
              "│ layer_normalizatio… │ (\u001b[38;5;45mNone\u001b[0m, \u001b[38;5;34m65\u001b[0m, \u001b[38;5;34m256\u001b[0m)   │        \u001b[38;5;34m512\u001b[0m │ add_4[\u001b[38;5;34m0\u001b[0m][\u001b[38;5;34m0\u001b[0m]       │\n",
              "│ (\u001b[38;5;33mLayerNormalizatio…\u001b[0m │                   │            │                   │\n",
              "├─────────────────────┼───────────────────┼────────────┼───────────────────┤\n",
              "│ multi_head_attenti… │ (\u001b[38;5;45mNone\u001b[0m, \u001b[38;5;34m65\u001b[0m, \u001b[38;5;34m256\u001b[0m)   │  \u001b[38;5;34m2,103,552\u001b[0m │ layer_normalizat… │\n",
              "│ (\u001b[38;5;33mMultiHeadAttentio…\u001b[0m │                   │            │ layer_normalizat… │\n",
              "├─────────────────────┼───────────────────┼────────────┼───────────────────┤\n",
              "│ add_5 (\u001b[38;5;33mAdd\u001b[0m)         │ (\u001b[38;5;45mNone\u001b[0m, \u001b[38;5;34m65\u001b[0m, \u001b[38;5;34m256\u001b[0m)   │          \u001b[38;5;34m0\u001b[0m │ multi_head_atten… │\n",
              "│                     │                   │            │ add_4[\u001b[38;5;34m0\u001b[0m][\u001b[38;5;34m0\u001b[0m]       │\n",
              "├─────────────────────┼───────────────────┼────────────┼───────────────────┤\n",
              "│ layer_normalizatio… │ (\u001b[38;5;45mNone\u001b[0m, \u001b[38;5;34m65\u001b[0m, \u001b[38;5;34m256\u001b[0m)   │        \u001b[38;5;34m512\u001b[0m │ add_5[\u001b[38;5;34m0\u001b[0m][\u001b[38;5;34m0\u001b[0m]       │\n",
              "│ (\u001b[38;5;33mLayerNormalizatio…\u001b[0m │                   │            │                   │\n",
              "├─────────────────────┼───────────────────┼────────────┼───────────────────┤\n",
              "│ dense_5 (\u001b[38;5;33mDense\u001b[0m)     │ (\u001b[38;5;45mNone\u001b[0m, \u001b[38;5;34m65\u001b[0m, \u001b[38;5;34m1024\u001b[0m)  │    \u001b[38;5;34m263,168\u001b[0m │ layer_normalizat… │\n",
              "├─────────────────────┼───────────────────┼────────────┼───────────────────┤\n",
              "│ dropout_7 (\u001b[38;5;33mDropout\u001b[0m) │ (\u001b[38;5;45mNone\u001b[0m, \u001b[38;5;34m65\u001b[0m, \u001b[38;5;34m1024\u001b[0m)  │          \u001b[38;5;34m0\u001b[0m │ dense_5[\u001b[38;5;34m0\u001b[0m][\u001b[38;5;34m0\u001b[0m]     │\n",
              "├─────────────────────┼───────────────────┼────────────┼───────────────────┤\n",
              "│ dense_6 (\u001b[38;5;33mDense\u001b[0m)     │ (\u001b[38;5;45mNone\u001b[0m, \u001b[38;5;34m65\u001b[0m, \u001b[38;5;34m256\u001b[0m)   │    \u001b[38;5;34m262,400\u001b[0m │ dropout_7[\u001b[38;5;34m0\u001b[0m][\u001b[38;5;34m0\u001b[0m]   │\n",
              "├─────────────────────┼───────────────────┼────────────┼───────────────────┤\n",
              "│ dropout_8 (\u001b[38;5;33mDropout\u001b[0m) │ (\u001b[38;5;45mNone\u001b[0m, \u001b[38;5;34m65\u001b[0m, \u001b[38;5;34m256\u001b[0m)   │          \u001b[38;5;34m0\u001b[0m │ dense_6[\u001b[38;5;34m0\u001b[0m][\u001b[38;5;34m0\u001b[0m]     │\n",
              "├─────────────────────┼───────────────────┼────────────┼───────────────────┤\n",
              "│ add_6 (\u001b[38;5;33mAdd\u001b[0m)         │ (\u001b[38;5;45mNone\u001b[0m, \u001b[38;5;34m65\u001b[0m, \u001b[38;5;34m256\u001b[0m)   │          \u001b[38;5;34m0\u001b[0m │ dropout_8[\u001b[38;5;34m0\u001b[0m][\u001b[38;5;34m0\u001b[0m],  │\n",
              "│                     │                   │            │ add_5[\u001b[38;5;34m0\u001b[0m][\u001b[38;5;34m0\u001b[0m]       │\n",
              "├─────────────────────┼───────────────────┼────────────┼───────────────────┤\n",
              "│ layer_normalizatio… │ (\u001b[38;5;45mNone\u001b[0m, \u001b[38;5;34m65\u001b[0m, \u001b[38;5;34m256\u001b[0m)   │        \u001b[38;5;34m512\u001b[0m │ add_6[\u001b[38;5;34m0\u001b[0m][\u001b[38;5;34m0\u001b[0m]       │\n",
              "│ (\u001b[38;5;33mLayerNormalizatio…\u001b[0m │                   │            │                   │\n",
              "├─────────────────────┼───────────────────┼────────────┼───────────────────┤\n",
              "│ multi_head_attenti… │ (\u001b[38;5;45mNone\u001b[0m, \u001b[38;5;34m65\u001b[0m, \u001b[38;5;34m256\u001b[0m)   │  \u001b[38;5;34m2,103,552\u001b[0m │ layer_normalizat… │\n",
              "│ (\u001b[38;5;33mMultiHeadAttentio…\u001b[0m │                   │            │ layer_normalizat… │\n",
              "├─────────────────────┼───────────────────┼────────────┼───────────────────┤\n",
              "│ add_7 (\u001b[38;5;33mAdd\u001b[0m)         │ (\u001b[38;5;45mNone\u001b[0m, \u001b[38;5;34m65\u001b[0m, \u001b[38;5;34m256\u001b[0m)   │          \u001b[38;5;34m0\u001b[0m │ multi_head_atten… │\n",
              "│                     │                   │            │ add_6[\u001b[38;5;34m0\u001b[0m][\u001b[38;5;34m0\u001b[0m]       │\n",
              "├─────────────────────┼───────────────────┼────────────┼───────────────────┤\n",
              "│ layer_normalizatio… │ (\u001b[38;5;45mNone\u001b[0m, \u001b[38;5;34m65\u001b[0m, \u001b[38;5;34m256\u001b[0m)   │        \u001b[38;5;34m512\u001b[0m │ add_7[\u001b[38;5;34m0\u001b[0m][\u001b[38;5;34m0\u001b[0m]       │\n",
              "│ (\u001b[38;5;33mLayerNormalizatio…\u001b[0m │                   │            │                   │\n",
              "├─────────────────────┼───────────────────┼────────────┼───────────────────┤\n",
              "│ dense_7 (\u001b[38;5;33mDense\u001b[0m)     │ (\u001b[38;5;45mNone\u001b[0m, \u001b[38;5;34m65\u001b[0m, \u001b[38;5;34m1024\u001b[0m)  │    \u001b[38;5;34m263,168\u001b[0m │ layer_normalizat… │\n",
              "├─────────────────────┼───────────────────┼────────────┼───────────────────┤\n",
              "│ dropout_10          │ (\u001b[38;5;45mNone\u001b[0m, \u001b[38;5;34m65\u001b[0m, \u001b[38;5;34m1024\u001b[0m)  │          \u001b[38;5;34m0\u001b[0m │ dense_7[\u001b[38;5;34m0\u001b[0m][\u001b[38;5;34m0\u001b[0m]     │\n",
              "│ (\u001b[38;5;33mDropout\u001b[0m)           │                   │            │                   │\n",
              "├─────────────────────┼───────────────────┼────────────┼───────────────────┤\n",
              "│ dense_8 (\u001b[38;5;33mDense\u001b[0m)     │ (\u001b[38;5;45mNone\u001b[0m, \u001b[38;5;34m65\u001b[0m, \u001b[38;5;34m256\u001b[0m)   │    \u001b[38;5;34m262,400\u001b[0m │ dropout_10[\u001b[38;5;34m0\u001b[0m][\u001b[38;5;34m0\u001b[0m]  │\n",
              "├─────────────────────┼───────────────────┼────────────┼───────────────────┤\n",
              "│ dropout_11          │ (\u001b[38;5;45mNone\u001b[0m, \u001b[38;5;34m65\u001b[0m, \u001b[38;5;34m256\u001b[0m)   │          \u001b[38;5;34m0\u001b[0m │ dense_8[\u001b[38;5;34m0\u001b[0m][\u001b[38;5;34m0\u001b[0m]     │\n",
              "│ (\u001b[38;5;33mDropout\u001b[0m)           │                   │            │                   │\n",
              "├─────────────────────┼───────────────────┼────────────┼───────────────────┤\n",
              "│ add_8 (\u001b[38;5;33mAdd\u001b[0m)         │ (\u001b[38;5;45mNone\u001b[0m, \u001b[38;5;34m65\u001b[0m, \u001b[38;5;34m256\u001b[0m)   │          \u001b[38;5;34m0\u001b[0m │ dropout_11[\u001b[38;5;34m0\u001b[0m][\u001b[38;5;34m0\u001b[0m], │\n",
              "│                     │                   │            │ add_7[\u001b[38;5;34m0\u001b[0m][\u001b[38;5;34m0\u001b[0m]       │\n",
              "├─────────────────────┼───────────────────┼────────────┼───────────────────┤\n",
              "│ layer_normalizatio… │ (\u001b[38;5;45mNone\u001b[0m, \u001b[38;5;34m65\u001b[0m, \u001b[38;5;34m256\u001b[0m)   │        \u001b[38;5;34m512\u001b[0m │ add_8[\u001b[38;5;34m0\u001b[0m][\u001b[38;5;34m0\u001b[0m]       │\n",
              "│ (\u001b[38;5;33mLayerNormalizatio…\u001b[0m │                   │            │                   │\n",
              "├─────────────────────┼───────────────────┼────────────┼───────────────────┤\n",
              "│ multi_head_attenti… │ (\u001b[38;5;45mNone\u001b[0m, \u001b[38;5;34m65\u001b[0m, \u001b[38;5;34m256\u001b[0m)   │  \u001b[38;5;34m2,103,552\u001b[0m │ layer_normalizat… │\n",
              "│ (\u001b[38;5;33mMultiHeadAttentio…\u001b[0m │                   │            │ layer_normalizat… │\n",
              "├─────────────────────┼───────────────────┼────────────┼───────────────────┤\n",
              "│ add_9 (\u001b[38;5;33mAdd\u001b[0m)         │ (\u001b[38;5;45mNone\u001b[0m, \u001b[38;5;34m65\u001b[0m, \u001b[38;5;34m256\u001b[0m)   │          \u001b[38;5;34m0\u001b[0m │ multi_head_atten… │\n",
              "│                     │                   │            │ add_8[\u001b[38;5;34m0\u001b[0m][\u001b[38;5;34m0\u001b[0m]       │\n",
              "├─────────────────────┼───────────────────┼────────────┼───────────────────┤\n",
              "│ layer_normalizatio… │ (\u001b[38;5;45mNone\u001b[0m, \u001b[38;5;34m65\u001b[0m, \u001b[38;5;34m256\u001b[0m)   │        \u001b[38;5;34m512\u001b[0m │ add_9[\u001b[38;5;34m0\u001b[0m][\u001b[38;5;34m0\u001b[0m]       │\n",
              "│ (\u001b[38;5;33mLayerNormalizatio…\u001b[0m │                   │            │                   │\n",
              "├─────────────────────┼───────────────────┼────────────┼───────────────────┤\n",
              "│ dense_9 (\u001b[38;5;33mDense\u001b[0m)     │ (\u001b[38;5;45mNone\u001b[0m, \u001b[38;5;34m65\u001b[0m, \u001b[38;5;34m1024\u001b[0m)  │    \u001b[38;5;34m263,168\u001b[0m │ layer_normalizat… │\n",
              "├─────────────────────┼───────────────────┼────────────┼───────────────────┤\n",
              "│ dropout_13          │ (\u001b[38;5;45mNone\u001b[0m, \u001b[38;5;34m65\u001b[0m, \u001b[38;5;34m1024\u001b[0m)  │          \u001b[38;5;34m0\u001b[0m │ dense_9[\u001b[38;5;34m0\u001b[0m][\u001b[38;5;34m0\u001b[0m]     │\n",
              "│ (\u001b[38;5;33mDropout\u001b[0m)           │                   │            │                   │\n",
              "├─────────────────────┼───────────────────┼────────────┼───────────────────┤\n",
              "│ dense_10 (\u001b[38;5;33mDense\u001b[0m)    │ (\u001b[38;5;45mNone\u001b[0m, \u001b[38;5;34m65\u001b[0m, \u001b[38;5;34m256\u001b[0m)   │    \u001b[38;5;34m262,400\u001b[0m │ dropout_13[\u001b[38;5;34m0\u001b[0m][\u001b[38;5;34m0\u001b[0m]  │\n",
              "├─────────────────────┼───────────────────┼────────────┼───────────────────┤\n",
              "│ dropout_14          │ (\u001b[38;5;45mNone\u001b[0m, \u001b[38;5;34m65\u001b[0m, \u001b[38;5;34m256\u001b[0m)   │          \u001b[38;5;34m0\u001b[0m │ dense_10[\u001b[38;5;34m0\u001b[0m][\u001b[38;5;34m0\u001b[0m]    │\n",
              "│ (\u001b[38;5;33mDropout\u001b[0m)           │                   │            │                   │\n",
              "├─────────────────────┼───────────────────┼────────────┼───────────────────┤\n",
              "│ add_10 (\u001b[38;5;33mAdd\u001b[0m)        │ (\u001b[38;5;45mNone\u001b[0m, \u001b[38;5;34m65\u001b[0m, \u001b[38;5;34m256\u001b[0m)   │          \u001b[38;5;34m0\u001b[0m │ dropout_14[\u001b[38;5;34m0\u001b[0m][\u001b[38;5;34m0\u001b[0m], │\n",
              "│                     │                   │            │ add_9[\u001b[38;5;34m0\u001b[0m][\u001b[38;5;34m0\u001b[0m]       │\n",
              "├─────────────────────┼───────────────────┼────────────┼───────────────────┤\n",
              "│ layer_normalizatio… │ (\u001b[38;5;45mNone\u001b[0m, \u001b[38;5;34m65\u001b[0m, \u001b[38;5;34m256\u001b[0m)   │        \u001b[38;5;34m512\u001b[0m │ add_10[\u001b[38;5;34m0\u001b[0m][\u001b[38;5;34m0\u001b[0m]      │\n",
              "│ (\u001b[38;5;33mLayerNormalizatio…\u001b[0m │                   │            │                   │\n",
              "├─────────────────────┼───────────────────┼────────────┼───────────────────┤\n",
              "│ multi_head_attenti… │ (\u001b[38;5;45mNone\u001b[0m, \u001b[38;5;34m65\u001b[0m, \u001b[38;5;34m256\u001b[0m)   │  \u001b[38;5;34m2,103,552\u001b[0m │ layer_normalizat… │\n",
              "│ (\u001b[38;5;33mMultiHeadAttentio…\u001b[0m │                   │            │ layer_normalizat… │\n",
              "├─────────────────────┼───────────────────┼────────────┼───────────────────┤\n",
              "│ add_11 (\u001b[38;5;33mAdd\u001b[0m)        │ (\u001b[38;5;45mNone\u001b[0m, \u001b[38;5;34m65\u001b[0m, \u001b[38;5;34m256\u001b[0m)   │          \u001b[38;5;34m0\u001b[0m │ multi_head_atten… │\n",
              "│                     │                   │            │ add_10[\u001b[38;5;34m0\u001b[0m][\u001b[38;5;34m0\u001b[0m]      │\n",
              "├─────────────────────┼───────────────────┼────────────┼───────────────────┤\n",
              "│ layer_normalizatio… │ (\u001b[38;5;45mNone\u001b[0m, \u001b[38;5;34m65\u001b[0m, \u001b[38;5;34m256\u001b[0m)   │        \u001b[38;5;34m512\u001b[0m │ add_11[\u001b[38;5;34m0\u001b[0m][\u001b[38;5;34m0\u001b[0m]      │\n",
              "│ (\u001b[38;5;33mLayerNormalizatio…\u001b[0m │                   │            │                   │\n",
              "├─────────────────────┼───────────────────┼────────────┼───────────────────┤\n",
              "│ dense_11 (\u001b[38;5;33mDense\u001b[0m)    │ (\u001b[38;5;45mNone\u001b[0m, \u001b[38;5;34m65\u001b[0m, \u001b[38;5;34m1024\u001b[0m)  │    \u001b[38;5;34m263,168\u001b[0m │ layer_normalizat… │\n",
              "├─────────────────────┼───────────────────┼────────────┼───────────────────┤\n",
              "│ dropout_16          │ (\u001b[38;5;45mNone\u001b[0m, \u001b[38;5;34m65\u001b[0m, \u001b[38;5;34m1024\u001b[0m)  │          \u001b[38;5;34m0\u001b[0m │ dense_11[\u001b[38;5;34m0\u001b[0m][\u001b[38;5;34m0\u001b[0m]    │\n",
              "│ (\u001b[38;5;33mDropout\u001b[0m)           │                   │            │                   │\n",
              "├─────────────────────┼───────────────────┼────────────┼───────────────────┤\n",
              "│ dense_12 (\u001b[38;5;33mDense\u001b[0m)    │ (\u001b[38;5;45mNone\u001b[0m, \u001b[38;5;34m65\u001b[0m, \u001b[38;5;34m256\u001b[0m)   │    \u001b[38;5;34m262,400\u001b[0m │ dropout_16[\u001b[38;5;34m0\u001b[0m][\u001b[38;5;34m0\u001b[0m]  │\n",
              "├─────────────────────┼───────────────────┼────────────┼───────────────────┤\n",
              "│ dropout_17          │ (\u001b[38;5;45mNone\u001b[0m, \u001b[38;5;34m65\u001b[0m, \u001b[38;5;34m256\u001b[0m)   │          \u001b[38;5;34m0\u001b[0m │ dense_12[\u001b[38;5;34m0\u001b[0m][\u001b[38;5;34m0\u001b[0m]    │\n",
              "│ (\u001b[38;5;33mDropout\u001b[0m)           │                   │            │                   │\n",
              "├─────────────────────┼───────────────────┼────────────┼───────────────────┤\n",
              "│ add_12 (\u001b[38;5;33mAdd\u001b[0m)        │ (\u001b[38;5;45mNone\u001b[0m, \u001b[38;5;34m65\u001b[0m, \u001b[38;5;34m256\u001b[0m)   │          \u001b[38;5;34m0\u001b[0m │ dropout_17[\u001b[38;5;34m0\u001b[0m][\u001b[38;5;34m0\u001b[0m], │\n",
              "│                     │                   │            │ add_11[\u001b[38;5;34m0\u001b[0m][\u001b[38;5;34m0\u001b[0m]      │\n",
              "├─────────────────────┼───────────────────┼────────────┼───────────────────┤\n",
              "│ layer_normalizatio… │ (\u001b[38;5;45mNone\u001b[0m, \u001b[38;5;34m65\u001b[0m, \u001b[38;5;34m256\u001b[0m)   │        \u001b[38;5;34m512\u001b[0m │ add_12[\u001b[38;5;34m0\u001b[0m][\u001b[38;5;34m0\u001b[0m]      │\n",
              "│ (\u001b[38;5;33mLayerNormalizatio…\u001b[0m │                   │            │                   │\n",
              "├─────────────────────┼───────────────────┼────────────┼───────────────────┤\n",
              "│ get_item (\u001b[38;5;33mGetItem\u001b[0m)  │ (\u001b[38;5;45mNone\u001b[0m, \u001b[38;5;34m256\u001b[0m)       │          \u001b[38;5;34m0\u001b[0m │ layer_normalizat… │\n",
              "├─────────────────────┼───────────────────┼────────────┼───────────────────┤\n",
              "│ dense_13 (\u001b[38;5;33mDense\u001b[0m)    │ (\u001b[38;5;45mNone\u001b[0m, \u001b[38;5;34m10\u001b[0m)        │      \u001b[38;5;34m2,570\u001b[0m │ get_item[\u001b[38;5;34m0\u001b[0m][\u001b[38;5;34m0\u001b[0m]    │\n",
              "└─────────────────────┴───────────────────┴────────────┴───────────────────┘\n"
            ],
            "text/html": [
              "<pre style=\"white-space:pre;overflow-x:auto;line-height:normal;font-family:Menlo,'DejaVu Sans Mono',consolas,'Courier New',monospace\">┏━━━━━━━━━━━━━━━━━━━━━┳━━━━━━━━━━━━━━━━━━━┳━━━━━━━━━━━━┳━━━━━━━━━━━━━━━━━━━┓\n",
              "┃<span style=\"font-weight: bold\"> Layer (type)        </span>┃<span style=\"font-weight: bold\"> Output Shape      </span>┃<span style=\"font-weight: bold\">    Param # </span>┃<span style=\"font-weight: bold\"> Connected to      </span>┃\n",
              "┡━━━━━━━━━━━━━━━━━━━━━╇━━━━━━━━━━━━━━━━━━━╇━━━━━━━━━━━━╇━━━━━━━━━━━━━━━━━━━┩\n",
              "│ input_layer         │ (<span style=\"color: #00d7ff; text-decoration-color: #00d7ff\">None</span>, <span style=\"color: #00af00; text-decoration-color: #00af00\">64</span>, <span style=\"color: #00af00; text-decoration-color: #00af00\">1875</span>)  │          <span style=\"color: #00af00; text-decoration-color: #00af00\">0</span> │ -                 │\n",
              "│ (<span style=\"color: #0087ff; text-decoration-color: #0087ff\">InputLayer</span>)        │                   │            │                   │\n",
              "├─────────────────────┼───────────────────┼────────────┼───────────────────┤\n",
              "│ dense (<span style=\"color: #0087ff; text-decoration-color: #0087ff\">Dense</span>)       │ (<span style=\"color: #00d7ff; text-decoration-color: #00d7ff\">None</span>, <span style=\"color: #00af00; text-decoration-color: #00af00\">64</span>, <span style=\"color: #00af00; text-decoration-color: #00af00\">256</span>)   │    <span style=\"color: #00af00; text-decoration-color: #00af00\">480,256</span> │ input_layer[<span style=\"color: #00af00; text-decoration-color: #00af00\">0</span>][<span style=\"color: #00af00; text-decoration-color: #00af00\">0</span>] │\n",
              "├─────────────────────┼───────────────────┼────────────┼───────────────────┤\n",
              "│ add (<span style=\"color: #0087ff; text-decoration-color: #0087ff\">Add</span>)           │ (<span style=\"color: #00d7ff; text-decoration-color: #00d7ff\">None</span>, <span style=\"color: #00af00; text-decoration-color: #00af00\">64</span>, <span style=\"color: #00af00; text-decoration-color: #00af00\">256</span>)   │          <span style=\"color: #00af00; text-decoration-color: #00af00\">0</span> │ dense[<span style=\"color: #00af00; text-decoration-color: #00af00\">0</span>][<span style=\"color: #00af00; text-decoration-color: #00af00\">0</span>]       │\n",
              "├─────────────────────┼───────────────────┼────────────┼───────────────────┤\n",
              "│ class_token         │ (<span style=\"color: #00d7ff; text-decoration-color: #00d7ff\">None</span>, <span style=\"color: #00af00; text-decoration-color: #00af00\">1</span>, <span style=\"color: #00af00; text-decoration-color: #00af00\">256</span>)    │          <span style=\"color: #00af00; text-decoration-color: #00af00\">0</span> │ add[<span style=\"color: #00af00; text-decoration-color: #00af00\">0</span>][<span style=\"color: #00af00; text-decoration-color: #00af00\">0</span>]         │\n",
              "│ (<span style=\"color: #0087ff; text-decoration-color: #0087ff\">ClassToken</span>)        │                   │            │                   │\n",
              "├─────────────────────┼───────────────────┼────────────┼───────────────────┤\n",
              "│ concatenate         │ (<span style=\"color: #00d7ff; text-decoration-color: #00d7ff\">None</span>, <span style=\"color: #00af00; text-decoration-color: #00af00\">65</span>, <span style=\"color: #00af00; text-decoration-color: #00af00\">256</span>)   │          <span style=\"color: #00af00; text-decoration-color: #00af00\">0</span> │ class_token[<span style=\"color: #00af00; text-decoration-color: #00af00\">0</span>][<span style=\"color: #00af00; text-decoration-color: #00af00\">0</span>… │\n",
              "│ (<span style=\"color: #0087ff; text-decoration-color: #0087ff\">Concatenate</span>)       │                   │            │ add[<span style=\"color: #00af00; text-decoration-color: #00af00\">0</span>][<span style=\"color: #00af00; text-decoration-color: #00af00\">0</span>]         │\n",
              "├─────────────────────┼───────────────────┼────────────┼───────────────────┤\n",
              "│ layer_normalization │ (<span style=\"color: #00d7ff; text-decoration-color: #00d7ff\">None</span>, <span style=\"color: #00af00; text-decoration-color: #00af00\">65</span>, <span style=\"color: #00af00; text-decoration-color: #00af00\">256</span>)   │        <span style=\"color: #00af00; text-decoration-color: #00af00\">512</span> │ concatenate[<span style=\"color: #00af00; text-decoration-color: #00af00\">0</span>][<span style=\"color: #00af00; text-decoration-color: #00af00\">0</span>] │\n",
              "│ (<span style=\"color: #0087ff; text-decoration-color: #0087ff\">LayerNormalizatio…</span> │                   │            │                   │\n",
              "├─────────────────────┼───────────────────┼────────────┼───────────────────┤\n",
              "│ multi_head_attenti… │ (<span style=\"color: #00d7ff; text-decoration-color: #00d7ff\">None</span>, <span style=\"color: #00af00; text-decoration-color: #00af00\">65</span>, <span style=\"color: #00af00; text-decoration-color: #00af00\">256</span>)   │  <span style=\"color: #00af00; text-decoration-color: #00af00\">2,103,552</span> │ layer_normalizat… │\n",
              "│ (<span style=\"color: #0087ff; text-decoration-color: #0087ff\">MultiHeadAttentio…</span> │                   │            │ layer_normalizat… │\n",
              "├─────────────────────┼───────────────────┼────────────┼───────────────────┤\n",
              "│ add_1 (<span style=\"color: #0087ff; text-decoration-color: #0087ff\">Add</span>)         │ (<span style=\"color: #00d7ff; text-decoration-color: #00d7ff\">None</span>, <span style=\"color: #00af00; text-decoration-color: #00af00\">65</span>, <span style=\"color: #00af00; text-decoration-color: #00af00\">256</span>)   │          <span style=\"color: #00af00; text-decoration-color: #00af00\">0</span> │ multi_head_atten… │\n",
              "│                     │                   │            │ concatenate[<span style=\"color: #00af00; text-decoration-color: #00af00\">0</span>][<span style=\"color: #00af00; text-decoration-color: #00af00\">0</span>] │\n",
              "├─────────────────────┼───────────────────┼────────────┼───────────────────┤\n",
              "│ layer_normalizatio… │ (<span style=\"color: #00d7ff; text-decoration-color: #00d7ff\">None</span>, <span style=\"color: #00af00; text-decoration-color: #00af00\">65</span>, <span style=\"color: #00af00; text-decoration-color: #00af00\">256</span>)   │        <span style=\"color: #00af00; text-decoration-color: #00af00\">512</span> │ add_1[<span style=\"color: #00af00; text-decoration-color: #00af00\">0</span>][<span style=\"color: #00af00; text-decoration-color: #00af00\">0</span>]       │\n",
              "│ (<span style=\"color: #0087ff; text-decoration-color: #0087ff\">LayerNormalizatio…</span> │                   │            │                   │\n",
              "├─────────────────────┼───────────────────┼────────────┼───────────────────┤\n",
              "│ dense_1 (<span style=\"color: #0087ff; text-decoration-color: #0087ff\">Dense</span>)     │ (<span style=\"color: #00d7ff; text-decoration-color: #00d7ff\">None</span>, <span style=\"color: #00af00; text-decoration-color: #00af00\">65</span>, <span style=\"color: #00af00; text-decoration-color: #00af00\">1024</span>)  │    <span style=\"color: #00af00; text-decoration-color: #00af00\">263,168</span> │ layer_normalizat… │\n",
              "├─────────────────────┼───────────────────┼────────────┼───────────────────┤\n",
              "│ dropout_1 (<span style=\"color: #0087ff; text-decoration-color: #0087ff\">Dropout</span>) │ (<span style=\"color: #00d7ff; text-decoration-color: #00d7ff\">None</span>, <span style=\"color: #00af00; text-decoration-color: #00af00\">65</span>, <span style=\"color: #00af00; text-decoration-color: #00af00\">1024</span>)  │          <span style=\"color: #00af00; text-decoration-color: #00af00\">0</span> │ dense_1[<span style=\"color: #00af00; text-decoration-color: #00af00\">0</span>][<span style=\"color: #00af00; text-decoration-color: #00af00\">0</span>]     │\n",
              "├─────────────────────┼───────────────────┼────────────┼───────────────────┤\n",
              "│ dense_2 (<span style=\"color: #0087ff; text-decoration-color: #0087ff\">Dense</span>)     │ (<span style=\"color: #00d7ff; text-decoration-color: #00d7ff\">None</span>, <span style=\"color: #00af00; text-decoration-color: #00af00\">65</span>, <span style=\"color: #00af00; text-decoration-color: #00af00\">256</span>)   │    <span style=\"color: #00af00; text-decoration-color: #00af00\">262,400</span> │ dropout_1[<span style=\"color: #00af00; text-decoration-color: #00af00\">0</span>][<span style=\"color: #00af00; text-decoration-color: #00af00\">0</span>]   │\n",
              "├─────────────────────┼───────────────────┼────────────┼───────────────────┤\n",
              "│ dropout_2 (<span style=\"color: #0087ff; text-decoration-color: #0087ff\">Dropout</span>) │ (<span style=\"color: #00d7ff; text-decoration-color: #00d7ff\">None</span>, <span style=\"color: #00af00; text-decoration-color: #00af00\">65</span>, <span style=\"color: #00af00; text-decoration-color: #00af00\">256</span>)   │          <span style=\"color: #00af00; text-decoration-color: #00af00\">0</span> │ dense_2[<span style=\"color: #00af00; text-decoration-color: #00af00\">0</span>][<span style=\"color: #00af00; text-decoration-color: #00af00\">0</span>]     │\n",
              "├─────────────────────┼───────────────────┼────────────┼───────────────────┤\n",
              "│ add_2 (<span style=\"color: #0087ff; text-decoration-color: #0087ff\">Add</span>)         │ (<span style=\"color: #00d7ff; text-decoration-color: #00d7ff\">None</span>, <span style=\"color: #00af00; text-decoration-color: #00af00\">65</span>, <span style=\"color: #00af00; text-decoration-color: #00af00\">256</span>)   │          <span style=\"color: #00af00; text-decoration-color: #00af00\">0</span> │ dropout_2[<span style=\"color: #00af00; text-decoration-color: #00af00\">0</span>][<span style=\"color: #00af00; text-decoration-color: #00af00\">0</span>],  │\n",
              "│                     │                   │            │ add_1[<span style=\"color: #00af00; text-decoration-color: #00af00\">0</span>][<span style=\"color: #00af00; text-decoration-color: #00af00\">0</span>]       │\n",
              "├─────────────────────┼───────────────────┼────────────┼───────────────────┤\n",
              "│ layer_normalizatio… │ (<span style=\"color: #00d7ff; text-decoration-color: #00d7ff\">None</span>, <span style=\"color: #00af00; text-decoration-color: #00af00\">65</span>, <span style=\"color: #00af00; text-decoration-color: #00af00\">256</span>)   │        <span style=\"color: #00af00; text-decoration-color: #00af00\">512</span> │ add_2[<span style=\"color: #00af00; text-decoration-color: #00af00\">0</span>][<span style=\"color: #00af00; text-decoration-color: #00af00\">0</span>]       │\n",
              "│ (<span style=\"color: #0087ff; text-decoration-color: #0087ff\">LayerNormalizatio…</span> │                   │            │                   │\n",
              "├─────────────────────┼───────────────────┼────────────┼───────────────────┤\n",
              "│ multi_head_attenti… │ (<span style=\"color: #00d7ff; text-decoration-color: #00d7ff\">None</span>, <span style=\"color: #00af00; text-decoration-color: #00af00\">65</span>, <span style=\"color: #00af00; text-decoration-color: #00af00\">256</span>)   │  <span style=\"color: #00af00; text-decoration-color: #00af00\">2,103,552</span> │ layer_normalizat… │\n",
              "│ (<span style=\"color: #0087ff; text-decoration-color: #0087ff\">MultiHeadAttentio…</span> │                   │            │ layer_normalizat… │\n",
              "├─────────────────────┼───────────────────┼────────────┼───────────────────┤\n",
              "│ add_3 (<span style=\"color: #0087ff; text-decoration-color: #0087ff\">Add</span>)         │ (<span style=\"color: #00d7ff; text-decoration-color: #00d7ff\">None</span>, <span style=\"color: #00af00; text-decoration-color: #00af00\">65</span>, <span style=\"color: #00af00; text-decoration-color: #00af00\">256</span>)   │          <span style=\"color: #00af00; text-decoration-color: #00af00\">0</span> │ multi_head_atten… │\n",
              "│                     │                   │            │ add_2[<span style=\"color: #00af00; text-decoration-color: #00af00\">0</span>][<span style=\"color: #00af00; text-decoration-color: #00af00\">0</span>]       │\n",
              "├─────────────────────┼───────────────────┼────────────┼───────────────────┤\n",
              "│ layer_normalizatio… │ (<span style=\"color: #00d7ff; text-decoration-color: #00d7ff\">None</span>, <span style=\"color: #00af00; text-decoration-color: #00af00\">65</span>, <span style=\"color: #00af00; text-decoration-color: #00af00\">256</span>)   │        <span style=\"color: #00af00; text-decoration-color: #00af00\">512</span> │ add_3[<span style=\"color: #00af00; text-decoration-color: #00af00\">0</span>][<span style=\"color: #00af00; text-decoration-color: #00af00\">0</span>]       │\n",
              "│ (<span style=\"color: #0087ff; text-decoration-color: #0087ff\">LayerNormalizatio…</span> │                   │            │                   │\n",
              "├─────────────────────┼───────────────────┼────────────┼───────────────────┤\n",
              "│ dense_3 (<span style=\"color: #0087ff; text-decoration-color: #0087ff\">Dense</span>)     │ (<span style=\"color: #00d7ff; text-decoration-color: #00d7ff\">None</span>, <span style=\"color: #00af00; text-decoration-color: #00af00\">65</span>, <span style=\"color: #00af00; text-decoration-color: #00af00\">1024</span>)  │    <span style=\"color: #00af00; text-decoration-color: #00af00\">263,168</span> │ layer_normalizat… │\n",
              "├─────────────────────┼───────────────────┼────────────┼───────────────────┤\n",
              "│ dropout_4 (<span style=\"color: #0087ff; text-decoration-color: #0087ff\">Dropout</span>) │ (<span style=\"color: #00d7ff; text-decoration-color: #00d7ff\">None</span>, <span style=\"color: #00af00; text-decoration-color: #00af00\">65</span>, <span style=\"color: #00af00; text-decoration-color: #00af00\">1024</span>)  │          <span style=\"color: #00af00; text-decoration-color: #00af00\">0</span> │ dense_3[<span style=\"color: #00af00; text-decoration-color: #00af00\">0</span>][<span style=\"color: #00af00; text-decoration-color: #00af00\">0</span>]     │\n",
              "├─────────────────────┼───────────────────┼────────────┼───────────────────┤\n",
              "│ dense_4 (<span style=\"color: #0087ff; text-decoration-color: #0087ff\">Dense</span>)     │ (<span style=\"color: #00d7ff; text-decoration-color: #00d7ff\">None</span>, <span style=\"color: #00af00; text-decoration-color: #00af00\">65</span>, <span style=\"color: #00af00; text-decoration-color: #00af00\">256</span>)   │    <span style=\"color: #00af00; text-decoration-color: #00af00\">262,400</span> │ dropout_4[<span style=\"color: #00af00; text-decoration-color: #00af00\">0</span>][<span style=\"color: #00af00; text-decoration-color: #00af00\">0</span>]   │\n",
              "├─────────────────────┼───────────────────┼────────────┼───────────────────┤\n",
              "│ dropout_5 (<span style=\"color: #0087ff; text-decoration-color: #0087ff\">Dropout</span>) │ (<span style=\"color: #00d7ff; text-decoration-color: #00d7ff\">None</span>, <span style=\"color: #00af00; text-decoration-color: #00af00\">65</span>, <span style=\"color: #00af00; text-decoration-color: #00af00\">256</span>)   │          <span style=\"color: #00af00; text-decoration-color: #00af00\">0</span> │ dense_4[<span style=\"color: #00af00; text-decoration-color: #00af00\">0</span>][<span style=\"color: #00af00; text-decoration-color: #00af00\">0</span>]     │\n",
              "├─────────────────────┼───────────────────┼────────────┼───────────────────┤\n",
              "│ add_4 (<span style=\"color: #0087ff; text-decoration-color: #0087ff\">Add</span>)         │ (<span style=\"color: #00d7ff; text-decoration-color: #00d7ff\">None</span>, <span style=\"color: #00af00; text-decoration-color: #00af00\">65</span>, <span style=\"color: #00af00; text-decoration-color: #00af00\">256</span>)   │          <span style=\"color: #00af00; text-decoration-color: #00af00\">0</span> │ dropout_5[<span style=\"color: #00af00; text-decoration-color: #00af00\">0</span>][<span style=\"color: #00af00; text-decoration-color: #00af00\">0</span>],  │\n",
              "│                     │                   │            │ add_3[<span style=\"color: #00af00; text-decoration-color: #00af00\">0</span>][<span style=\"color: #00af00; text-decoration-color: #00af00\">0</span>]       │\n",
              "├─────────────────────┼───────────────────┼────────────┼───────────────────┤\n",
              "│ layer_normalizatio… │ (<span style=\"color: #00d7ff; text-decoration-color: #00d7ff\">None</span>, <span style=\"color: #00af00; text-decoration-color: #00af00\">65</span>, <span style=\"color: #00af00; text-decoration-color: #00af00\">256</span>)   │        <span style=\"color: #00af00; text-decoration-color: #00af00\">512</span> │ add_4[<span style=\"color: #00af00; text-decoration-color: #00af00\">0</span>][<span style=\"color: #00af00; text-decoration-color: #00af00\">0</span>]       │\n",
              "│ (<span style=\"color: #0087ff; text-decoration-color: #0087ff\">LayerNormalizatio…</span> │                   │            │                   │\n",
              "├─────────────────────┼───────────────────┼────────────┼───────────────────┤\n",
              "│ multi_head_attenti… │ (<span style=\"color: #00d7ff; text-decoration-color: #00d7ff\">None</span>, <span style=\"color: #00af00; text-decoration-color: #00af00\">65</span>, <span style=\"color: #00af00; text-decoration-color: #00af00\">256</span>)   │  <span style=\"color: #00af00; text-decoration-color: #00af00\">2,103,552</span> │ layer_normalizat… │\n",
              "│ (<span style=\"color: #0087ff; text-decoration-color: #0087ff\">MultiHeadAttentio…</span> │                   │            │ layer_normalizat… │\n",
              "├─────────────────────┼───────────────────┼────────────┼───────────────────┤\n",
              "│ add_5 (<span style=\"color: #0087ff; text-decoration-color: #0087ff\">Add</span>)         │ (<span style=\"color: #00d7ff; text-decoration-color: #00d7ff\">None</span>, <span style=\"color: #00af00; text-decoration-color: #00af00\">65</span>, <span style=\"color: #00af00; text-decoration-color: #00af00\">256</span>)   │          <span style=\"color: #00af00; text-decoration-color: #00af00\">0</span> │ multi_head_atten… │\n",
              "│                     │                   │            │ add_4[<span style=\"color: #00af00; text-decoration-color: #00af00\">0</span>][<span style=\"color: #00af00; text-decoration-color: #00af00\">0</span>]       │\n",
              "├─────────────────────┼───────────────────┼────────────┼───────────────────┤\n",
              "│ layer_normalizatio… │ (<span style=\"color: #00d7ff; text-decoration-color: #00d7ff\">None</span>, <span style=\"color: #00af00; text-decoration-color: #00af00\">65</span>, <span style=\"color: #00af00; text-decoration-color: #00af00\">256</span>)   │        <span style=\"color: #00af00; text-decoration-color: #00af00\">512</span> │ add_5[<span style=\"color: #00af00; text-decoration-color: #00af00\">0</span>][<span style=\"color: #00af00; text-decoration-color: #00af00\">0</span>]       │\n",
              "│ (<span style=\"color: #0087ff; text-decoration-color: #0087ff\">LayerNormalizatio…</span> │                   │            │                   │\n",
              "├─────────────────────┼───────────────────┼────────────┼───────────────────┤\n",
              "│ dense_5 (<span style=\"color: #0087ff; text-decoration-color: #0087ff\">Dense</span>)     │ (<span style=\"color: #00d7ff; text-decoration-color: #00d7ff\">None</span>, <span style=\"color: #00af00; text-decoration-color: #00af00\">65</span>, <span style=\"color: #00af00; text-decoration-color: #00af00\">1024</span>)  │    <span style=\"color: #00af00; text-decoration-color: #00af00\">263,168</span> │ layer_normalizat… │\n",
              "├─────────────────────┼───────────────────┼────────────┼───────────────────┤\n",
              "│ dropout_7 (<span style=\"color: #0087ff; text-decoration-color: #0087ff\">Dropout</span>) │ (<span style=\"color: #00d7ff; text-decoration-color: #00d7ff\">None</span>, <span style=\"color: #00af00; text-decoration-color: #00af00\">65</span>, <span style=\"color: #00af00; text-decoration-color: #00af00\">1024</span>)  │          <span style=\"color: #00af00; text-decoration-color: #00af00\">0</span> │ dense_5[<span style=\"color: #00af00; text-decoration-color: #00af00\">0</span>][<span style=\"color: #00af00; text-decoration-color: #00af00\">0</span>]     │\n",
              "├─────────────────────┼───────────────────┼────────────┼───────────────────┤\n",
              "│ dense_6 (<span style=\"color: #0087ff; text-decoration-color: #0087ff\">Dense</span>)     │ (<span style=\"color: #00d7ff; text-decoration-color: #00d7ff\">None</span>, <span style=\"color: #00af00; text-decoration-color: #00af00\">65</span>, <span style=\"color: #00af00; text-decoration-color: #00af00\">256</span>)   │    <span style=\"color: #00af00; text-decoration-color: #00af00\">262,400</span> │ dropout_7[<span style=\"color: #00af00; text-decoration-color: #00af00\">0</span>][<span style=\"color: #00af00; text-decoration-color: #00af00\">0</span>]   │\n",
              "├─────────────────────┼───────────────────┼────────────┼───────────────────┤\n",
              "│ dropout_8 (<span style=\"color: #0087ff; text-decoration-color: #0087ff\">Dropout</span>) │ (<span style=\"color: #00d7ff; text-decoration-color: #00d7ff\">None</span>, <span style=\"color: #00af00; text-decoration-color: #00af00\">65</span>, <span style=\"color: #00af00; text-decoration-color: #00af00\">256</span>)   │          <span style=\"color: #00af00; text-decoration-color: #00af00\">0</span> │ dense_6[<span style=\"color: #00af00; text-decoration-color: #00af00\">0</span>][<span style=\"color: #00af00; text-decoration-color: #00af00\">0</span>]     │\n",
              "├─────────────────────┼───────────────────┼────────────┼───────────────────┤\n",
              "│ add_6 (<span style=\"color: #0087ff; text-decoration-color: #0087ff\">Add</span>)         │ (<span style=\"color: #00d7ff; text-decoration-color: #00d7ff\">None</span>, <span style=\"color: #00af00; text-decoration-color: #00af00\">65</span>, <span style=\"color: #00af00; text-decoration-color: #00af00\">256</span>)   │          <span style=\"color: #00af00; text-decoration-color: #00af00\">0</span> │ dropout_8[<span style=\"color: #00af00; text-decoration-color: #00af00\">0</span>][<span style=\"color: #00af00; text-decoration-color: #00af00\">0</span>],  │\n",
              "│                     │                   │            │ add_5[<span style=\"color: #00af00; text-decoration-color: #00af00\">0</span>][<span style=\"color: #00af00; text-decoration-color: #00af00\">0</span>]       │\n",
              "├─────────────────────┼───────────────────┼────────────┼───────────────────┤\n",
              "│ layer_normalizatio… │ (<span style=\"color: #00d7ff; text-decoration-color: #00d7ff\">None</span>, <span style=\"color: #00af00; text-decoration-color: #00af00\">65</span>, <span style=\"color: #00af00; text-decoration-color: #00af00\">256</span>)   │        <span style=\"color: #00af00; text-decoration-color: #00af00\">512</span> │ add_6[<span style=\"color: #00af00; text-decoration-color: #00af00\">0</span>][<span style=\"color: #00af00; text-decoration-color: #00af00\">0</span>]       │\n",
              "│ (<span style=\"color: #0087ff; text-decoration-color: #0087ff\">LayerNormalizatio…</span> │                   │            │                   │\n",
              "├─────────────────────┼───────────────────┼────────────┼───────────────────┤\n",
              "│ multi_head_attenti… │ (<span style=\"color: #00d7ff; text-decoration-color: #00d7ff\">None</span>, <span style=\"color: #00af00; text-decoration-color: #00af00\">65</span>, <span style=\"color: #00af00; text-decoration-color: #00af00\">256</span>)   │  <span style=\"color: #00af00; text-decoration-color: #00af00\">2,103,552</span> │ layer_normalizat… │\n",
              "│ (<span style=\"color: #0087ff; text-decoration-color: #0087ff\">MultiHeadAttentio…</span> │                   │            │ layer_normalizat… │\n",
              "├─────────────────────┼───────────────────┼────────────┼───────────────────┤\n",
              "│ add_7 (<span style=\"color: #0087ff; text-decoration-color: #0087ff\">Add</span>)         │ (<span style=\"color: #00d7ff; text-decoration-color: #00d7ff\">None</span>, <span style=\"color: #00af00; text-decoration-color: #00af00\">65</span>, <span style=\"color: #00af00; text-decoration-color: #00af00\">256</span>)   │          <span style=\"color: #00af00; text-decoration-color: #00af00\">0</span> │ multi_head_atten… │\n",
              "│                     │                   │            │ add_6[<span style=\"color: #00af00; text-decoration-color: #00af00\">0</span>][<span style=\"color: #00af00; text-decoration-color: #00af00\">0</span>]       │\n",
              "├─────────────────────┼───────────────────┼────────────┼───────────────────┤\n",
              "│ layer_normalizatio… │ (<span style=\"color: #00d7ff; text-decoration-color: #00d7ff\">None</span>, <span style=\"color: #00af00; text-decoration-color: #00af00\">65</span>, <span style=\"color: #00af00; text-decoration-color: #00af00\">256</span>)   │        <span style=\"color: #00af00; text-decoration-color: #00af00\">512</span> │ add_7[<span style=\"color: #00af00; text-decoration-color: #00af00\">0</span>][<span style=\"color: #00af00; text-decoration-color: #00af00\">0</span>]       │\n",
              "│ (<span style=\"color: #0087ff; text-decoration-color: #0087ff\">LayerNormalizatio…</span> │                   │            │                   │\n",
              "├─────────────────────┼───────────────────┼────────────┼───────────────────┤\n",
              "│ dense_7 (<span style=\"color: #0087ff; text-decoration-color: #0087ff\">Dense</span>)     │ (<span style=\"color: #00d7ff; text-decoration-color: #00d7ff\">None</span>, <span style=\"color: #00af00; text-decoration-color: #00af00\">65</span>, <span style=\"color: #00af00; text-decoration-color: #00af00\">1024</span>)  │    <span style=\"color: #00af00; text-decoration-color: #00af00\">263,168</span> │ layer_normalizat… │\n",
              "├─────────────────────┼───────────────────┼────────────┼───────────────────┤\n",
              "│ dropout_10          │ (<span style=\"color: #00d7ff; text-decoration-color: #00d7ff\">None</span>, <span style=\"color: #00af00; text-decoration-color: #00af00\">65</span>, <span style=\"color: #00af00; text-decoration-color: #00af00\">1024</span>)  │          <span style=\"color: #00af00; text-decoration-color: #00af00\">0</span> │ dense_7[<span style=\"color: #00af00; text-decoration-color: #00af00\">0</span>][<span style=\"color: #00af00; text-decoration-color: #00af00\">0</span>]     │\n",
              "│ (<span style=\"color: #0087ff; text-decoration-color: #0087ff\">Dropout</span>)           │                   │            │                   │\n",
              "├─────────────────────┼───────────────────┼────────────┼───────────────────┤\n",
              "│ dense_8 (<span style=\"color: #0087ff; text-decoration-color: #0087ff\">Dense</span>)     │ (<span style=\"color: #00d7ff; text-decoration-color: #00d7ff\">None</span>, <span style=\"color: #00af00; text-decoration-color: #00af00\">65</span>, <span style=\"color: #00af00; text-decoration-color: #00af00\">256</span>)   │    <span style=\"color: #00af00; text-decoration-color: #00af00\">262,400</span> │ dropout_10[<span style=\"color: #00af00; text-decoration-color: #00af00\">0</span>][<span style=\"color: #00af00; text-decoration-color: #00af00\">0</span>]  │\n",
              "├─────────────────────┼───────────────────┼────────────┼───────────────────┤\n",
              "│ dropout_11          │ (<span style=\"color: #00d7ff; text-decoration-color: #00d7ff\">None</span>, <span style=\"color: #00af00; text-decoration-color: #00af00\">65</span>, <span style=\"color: #00af00; text-decoration-color: #00af00\">256</span>)   │          <span style=\"color: #00af00; text-decoration-color: #00af00\">0</span> │ dense_8[<span style=\"color: #00af00; text-decoration-color: #00af00\">0</span>][<span style=\"color: #00af00; text-decoration-color: #00af00\">0</span>]     │\n",
              "│ (<span style=\"color: #0087ff; text-decoration-color: #0087ff\">Dropout</span>)           │                   │            │                   │\n",
              "├─────────────────────┼───────────────────┼────────────┼───────────────────┤\n",
              "│ add_8 (<span style=\"color: #0087ff; text-decoration-color: #0087ff\">Add</span>)         │ (<span style=\"color: #00d7ff; text-decoration-color: #00d7ff\">None</span>, <span style=\"color: #00af00; text-decoration-color: #00af00\">65</span>, <span style=\"color: #00af00; text-decoration-color: #00af00\">256</span>)   │          <span style=\"color: #00af00; text-decoration-color: #00af00\">0</span> │ dropout_11[<span style=\"color: #00af00; text-decoration-color: #00af00\">0</span>][<span style=\"color: #00af00; text-decoration-color: #00af00\">0</span>], │\n",
              "│                     │                   │            │ add_7[<span style=\"color: #00af00; text-decoration-color: #00af00\">0</span>][<span style=\"color: #00af00; text-decoration-color: #00af00\">0</span>]       │\n",
              "├─────────────────────┼───────────────────┼────────────┼───────────────────┤\n",
              "│ layer_normalizatio… │ (<span style=\"color: #00d7ff; text-decoration-color: #00d7ff\">None</span>, <span style=\"color: #00af00; text-decoration-color: #00af00\">65</span>, <span style=\"color: #00af00; text-decoration-color: #00af00\">256</span>)   │        <span style=\"color: #00af00; text-decoration-color: #00af00\">512</span> │ add_8[<span style=\"color: #00af00; text-decoration-color: #00af00\">0</span>][<span style=\"color: #00af00; text-decoration-color: #00af00\">0</span>]       │\n",
              "│ (<span style=\"color: #0087ff; text-decoration-color: #0087ff\">LayerNormalizatio…</span> │                   │            │                   │\n",
              "├─────────────────────┼───────────────────┼────────────┼───────────────────┤\n",
              "│ multi_head_attenti… │ (<span style=\"color: #00d7ff; text-decoration-color: #00d7ff\">None</span>, <span style=\"color: #00af00; text-decoration-color: #00af00\">65</span>, <span style=\"color: #00af00; text-decoration-color: #00af00\">256</span>)   │  <span style=\"color: #00af00; text-decoration-color: #00af00\">2,103,552</span> │ layer_normalizat… │\n",
              "│ (<span style=\"color: #0087ff; text-decoration-color: #0087ff\">MultiHeadAttentio…</span> │                   │            │ layer_normalizat… │\n",
              "├─────────────────────┼───────────────────┼────────────┼───────────────────┤\n",
              "│ add_9 (<span style=\"color: #0087ff; text-decoration-color: #0087ff\">Add</span>)         │ (<span style=\"color: #00d7ff; text-decoration-color: #00d7ff\">None</span>, <span style=\"color: #00af00; text-decoration-color: #00af00\">65</span>, <span style=\"color: #00af00; text-decoration-color: #00af00\">256</span>)   │          <span style=\"color: #00af00; text-decoration-color: #00af00\">0</span> │ multi_head_atten… │\n",
              "│                     │                   │            │ add_8[<span style=\"color: #00af00; text-decoration-color: #00af00\">0</span>][<span style=\"color: #00af00; text-decoration-color: #00af00\">0</span>]       │\n",
              "├─────────────────────┼───────────────────┼────────────┼───────────────────┤\n",
              "│ layer_normalizatio… │ (<span style=\"color: #00d7ff; text-decoration-color: #00d7ff\">None</span>, <span style=\"color: #00af00; text-decoration-color: #00af00\">65</span>, <span style=\"color: #00af00; text-decoration-color: #00af00\">256</span>)   │        <span style=\"color: #00af00; text-decoration-color: #00af00\">512</span> │ add_9[<span style=\"color: #00af00; text-decoration-color: #00af00\">0</span>][<span style=\"color: #00af00; text-decoration-color: #00af00\">0</span>]       │\n",
              "│ (<span style=\"color: #0087ff; text-decoration-color: #0087ff\">LayerNormalizatio…</span> │                   │            │                   │\n",
              "├─────────────────────┼───────────────────┼────────────┼───────────────────┤\n",
              "│ dense_9 (<span style=\"color: #0087ff; text-decoration-color: #0087ff\">Dense</span>)     │ (<span style=\"color: #00d7ff; text-decoration-color: #00d7ff\">None</span>, <span style=\"color: #00af00; text-decoration-color: #00af00\">65</span>, <span style=\"color: #00af00; text-decoration-color: #00af00\">1024</span>)  │    <span style=\"color: #00af00; text-decoration-color: #00af00\">263,168</span> │ layer_normalizat… │\n",
              "├─────────────────────┼───────────────────┼────────────┼───────────────────┤\n",
              "│ dropout_13          │ (<span style=\"color: #00d7ff; text-decoration-color: #00d7ff\">None</span>, <span style=\"color: #00af00; text-decoration-color: #00af00\">65</span>, <span style=\"color: #00af00; text-decoration-color: #00af00\">1024</span>)  │          <span style=\"color: #00af00; text-decoration-color: #00af00\">0</span> │ dense_9[<span style=\"color: #00af00; text-decoration-color: #00af00\">0</span>][<span style=\"color: #00af00; text-decoration-color: #00af00\">0</span>]     │\n",
              "│ (<span style=\"color: #0087ff; text-decoration-color: #0087ff\">Dropout</span>)           │                   │            │                   │\n",
              "├─────────────────────┼───────────────────┼────────────┼───────────────────┤\n",
              "│ dense_10 (<span style=\"color: #0087ff; text-decoration-color: #0087ff\">Dense</span>)    │ (<span style=\"color: #00d7ff; text-decoration-color: #00d7ff\">None</span>, <span style=\"color: #00af00; text-decoration-color: #00af00\">65</span>, <span style=\"color: #00af00; text-decoration-color: #00af00\">256</span>)   │    <span style=\"color: #00af00; text-decoration-color: #00af00\">262,400</span> │ dropout_13[<span style=\"color: #00af00; text-decoration-color: #00af00\">0</span>][<span style=\"color: #00af00; text-decoration-color: #00af00\">0</span>]  │\n",
              "├─────────────────────┼───────────────────┼────────────┼───────────────────┤\n",
              "│ dropout_14          │ (<span style=\"color: #00d7ff; text-decoration-color: #00d7ff\">None</span>, <span style=\"color: #00af00; text-decoration-color: #00af00\">65</span>, <span style=\"color: #00af00; text-decoration-color: #00af00\">256</span>)   │          <span style=\"color: #00af00; text-decoration-color: #00af00\">0</span> │ dense_10[<span style=\"color: #00af00; text-decoration-color: #00af00\">0</span>][<span style=\"color: #00af00; text-decoration-color: #00af00\">0</span>]    │\n",
              "│ (<span style=\"color: #0087ff; text-decoration-color: #0087ff\">Dropout</span>)           │                   │            │                   │\n",
              "├─────────────────────┼───────────────────┼────────────┼───────────────────┤\n",
              "│ add_10 (<span style=\"color: #0087ff; text-decoration-color: #0087ff\">Add</span>)        │ (<span style=\"color: #00d7ff; text-decoration-color: #00d7ff\">None</span>, <span style=\"color: #00af00; text-decoration-color: #00af00\">65</span>, <span style=\"color: #00af00; text-decoration-color: #00af00\">256</span>)   │          <span style=\"color: #00af00; text-decoration-color: #00af00\">0</span> │ dropout_14[<span style=\"color: #00af00; text-decoration-color: #00af00\">0</span>][<span style=\"color: #00af00; text-decoration-color: #00af00\">0</span>], │\n",
              "│                     │                   │            │ add_9[<span style=\"color: #00af00; text-decoration-color: #00af00\">0</span>][<span style=\"color: #00af00; text-decoration-color: #00af00\">0</span>]       │\n",
              "├─────────────────────┼───────────────────┼────────────┼───────────────────┤\n",
              "│ layer_normalizatio… │ (<span style=\"color: #00d7ff; text-decoration-color: #00d7ff\">None</span>, <span style=\"color: #00af00; text-decoration-color: #00af00\">65</span>, <span style=\"color: #00af00; text-decoration-color: #00af00\">256</span>)   │        <span style=\"color: #00af00; text-decoration-color: #00af00\">512</span> │ add_10[<span style=\"color: #00af00; text-decoration-color: #00af00\">0</span>][<span style=\"color: #00af00; text-decoration-color: #00af00\">0</span>]      │\n",
              "│ (<span style=\"color: #0087ff; text-decoration-color: #0087ff\">LayerNormalizatio…</span> │                   │            │                   │\n",
              "├─────────────────────┼───────────────────┼────────────┼───────────────────┤\n",
              "│ multi_head_attenti… │ (<span style=\"color: #00d7ff; text-decoration-color: #00d7ff\">None</span>, <span style=\"color: #00af00; text-decoration-color: #00af00\">65</span>, <span style=\"color: #00af00; text-decoration-color: #00af00\">256</span>)   │  <span style=\"color: #00af00; text-decoration-color: #00af00\">2,103,552</span> │ layer_normalizat… │\n",
              "│ (<span style=\"color: #0087ff; text-decoration-color: #0087ff\">MultiHeadAttentio…</span> │                   │            │ layer_normalizat… │\n",
              "├─────────────────────┼───────────────────┼────────────┼───────────────────┤\n",
              "│ add_11 (<span style=\"color: #0087ff; text-decoration-color: #0087ff\">Add</span>)        │ (<span style=\"color: #00d7ff; text-decoration-color: #00d7ff\">None</span>, <span style=\"color: #00af00; text-decoration-color: #00af00\">65</span>, <span style=\"color: #00af00; text-decoration-color: #00af00\">256</span>)   │          <span style=\"color: #00af00; text-decoration-color: #00af00\">0</span> │ multi_head_atten… │\n",
              "│                     │                   │            │ add_10[<span style=\"color: #00af00; text-decoration-color: #00af00\">0</span>][<span style=\"color: #00af00; text-decoration-color: #00af00\">0</span>]      │\n",
              "├─────────────────────┼───────────────────┼────────────┼───────────────────┤\n",
              "│ layer_normalizatio… │ (<span style=\"color: #00d7ff; text-decoration-color: #00d7ff\">None</span>, <span style=\"color: #00af00; text-decoration-color: #00af00\">65</span>, <span style=\"color: #00af00; text-decoration-color: #00af00\">256</span>)   │        <span style=\"color: #00af00; text-decoration-color: #00af00\">512</span> │ add_11[<span style=\"color: #00af00; text-decoration-color: #00af00\">0</span>][<span style=\"color: #00af00; text-decoration-color: #00af00\">0</span>]      │\n",
              "│ (<span style=\"color: #0087ff; text-decoration-color: #0087ff\">LayerNormalizatio…</span> │                   │            │                   │\n",
              "├─────────────────────┼───────────────────┼────────────┼───────────────────┤\n",
              "│ dense_11 (<span style=\"color: #0087ff; text-decoration-color: #0087ff\">Dense</span>)    │ (<span style=\"color: #00d7ff; text-decoration-color: #00d7ff\">None</span>, <span style=\"color: #00af00; text-decoration-color: #00af00\">65</span>, <span style=\"color: #00af00; text-decoration-color: #00af00\">1024</span>)  │    <span style=\"color: #00af00; text-decoration-color: #00af00\">263,168</span> │ layer_normalizat… │\n",
              "├─────────────────────┼───────────────────┼────────────┼───────────────────┤\n",
              "│ dropout_16          │ (<span style=\"color: #00d7ff; text-decoration-color: #00d7ff\">None</span>, <span style=\"color: #00af00; text-decoration-color: #00af00\">65</span>, <span style=\"color: #00af00; text-decoration-color: #00af00\">1024</span>)  │          <span style=\"color: #00af00; text-decoration-color: #00af00\">0</span> │ dense_11[<span style=\"color: #00af00; text-decoration-color: #00af00\">0</span>][<span style=\"color: #00af00; text-decoration-color: #00af00\">0</span>]    │\n",
              "│ (<span style=\"color: #0087ff; text-decoration-color: #0087ff\">Dropout</span>)           │                   │            │                   │\n",
              "├─────────────────────┼───────────────────┼────────────┼───────────────────┤\n",
              "│ dense_12 (<span style=\"color: #0087ff; text-decoration-color: #0087ff\">Dense</span>)    │ (<span style=\"color: #00d7ff; text-decoration-color: #00d7ff\">None</span>, <span style=\"color: #00af00; text-decoration-color: #00af00\">65</span>, <span style=\"color: #00af00; text-decoration-color: #00af00\">256</span>)   │    <span style=\"color: #00af00; text-decoration-color: #00af00\">262,400</span> │ dropout_16[<span style=\"color: #00af00; text-decoration-color: #00af00\">0</span>][<span style=\"color: #00af00; text-decoration-color: #00af00\">0</span>]  │\n",
              "├─────────────────────┼───────────────────┼────────────┼───────────────────┤\n",
              "│ dropout_17          │ (<span style=\"color: #00d7ff; text-decoration-color: #00d7ff\">None</span>, <span style=\"color: #00af00; text-decoration-color: #00af00\">65</span>, <span style=\"color: #00af00; text-decoration-color: #00af00\">256</span>)   │          <span style=\"color: #00af00; text-decoration-color: #00af00\">0</span> │ dense_12[<span style=\"color: #00af00; text-decoration-color: #00af00\">0</span>][<span style=\"color: #00af00; text-decoration-color: #00af00\">0</span>]    │\n",
              "│ (<span style=\"color: #0087ff; text-decoration-color: #0087ff\">Dropout</span>)           │                   │            │                   │\n",
              "├─────────────────────┼───────────────────┼────────────┼───────────────────┤\n",
              "│ add_12 (<span style=\"color: #0087ff; text-decoration-color: #0087ff\">Add</span>)        │ (<span style=\"color: #00d7ff; text-decoration-color: #00d7ff\">None</span>, <span style=\"color: #00af00; text-decoration-color: #00af00\">65</span>, <span style=\"color: #00af00; text-decoration-color: #00af00\">256</span>)   │          <span style=\"color: #00af00; text-decoration-color: #00af00\">0</span> │ dropout_17[<span style=\"color: #00af00; text-decoration-color: #00af00\">0</span>][<span style=\"color: #00af00; text-decoration-color: #00af00\">0</span>], │\n",
              "│                     │                   │            │ add_11[<span style=\"color: #00af00; text-decoration-color: #00af00\">0</span>][<span style=\"color: #00af00; text-decoration-color: #00af00\">0</span>]      │\n",
              "├─────────────────────┼───────────────────┼────────────┼───────────────────┤\n",
              "│ layer_normalizatio… │ (<span style=\"color: #00d7ff; text-decoration-color: #00d7ff\">None</span>, <span style=\"color: #00af00; text-decoration-color: #00af00\">65</span>, <span style=\"color: #00af00; text-decoration-color: #00af00\">256</span>)   │        <span style=\"color: #00af00; text-decoration-color: #00af00\">512</span> │ add_12[<span style=\"color: #00af00; text-decoration-color: #00af00\">0</span>][<span style=\"color: #00af00; text-decoration-color: #00af00\">0</span>]      │\n",
              "│ (<span style=\"color: #0087ff; text-decoration-color: #0087ff\">LayerNormalizatio…</span> │                   │            │                   │\n",
              "├─────────────────────┼───────────────────┼────────────┼───────────────────┤\n",
              "│ get_item (<span style=\"color: #0087ff; text-decoration-color: #0087ff\">GetItem</span>)  │ (<span style=\"color: #00d7ff; text-decoration-color: #00d7ff\">None</span>, <span style=\"color: #00af00; text-decoration-color: #00af00\">256</span>)       │          <span style=\"color: #00af00; text-decoration-color: #00af00\">0</span> │ layer_normalizat… │\n",
              "├─────────────────────┼───────────────────┼────────────┼───────────────────┤\n",
              "│ dense_13 (<span style=\"color: #0087ff; text-decoration-color: #0087ff\">Dense</span>)    │ (<span style=\"color: #00d7ff; text-decoration-color: #00d7ff\">None</span>, <span style=\"color: #00af00; text-decoration-color: #00af00\">10</span>)        │      <span style=\"color: #00af00; text-decoration-color: #00af00\">2,570</span> │ get_item[<span style=\"color: #00af00; text-decoration-color: #00af00\">0</span>][<span style=\"color: #00af00; text-decoration-color: #00af00\">0</span>]    │\n",
              "└─────────────────────┴───────────────────┴────────────┴───────────────────┘\n",
              "</pre>\n"
            ]
          },
          "metadata": {}
        },
        {
          "output_type": "display_data",
          "data": {
            "text/plain": [
              "\u001b[1m Total params: \u001b[0m\u001b[38;5;34m16,264,202\u001b[0m (62.04 MB)\n"
            ],
            "text/html": [
              "<pre style=\"white-space:pre;overflow-x:auto;line-height:normal;font-family:Menlo,'DejaVu Sans Mono',consolas,'Courier New',monospace\"><span style=\"font-weight: bold\"> Total params: </span><span style=\"color: #00af00; text-decoration-color: #00af00\">16,264,202</span> (62.04 MB)\n",
              "</pre>\n"
            ]
          },
          "metadata": {}
        },
        {
          "output_type": "display_data",
          "data": {
            "text/plain": [
              "\u001b[1m Trainable params: \u001b[0m\u001b[38;5;34m16,264,202\u001b[0m (62.04 MB)\n"
            ],
            "text/html": [
              "<pre style=\"white-space:pre;overflow-x:auto;line-height:normal;font-family:Menlo,'DejaVu Sans Mono',consolas,'Courier New',monospace\"><span style=\"font-weight: bold\"> Trainable params: </span><span style=\"color: #00af00; text-decoration-color: #00af00\">16,264,202</span> (62.04 MB)\n",
              "</pre>\n"
            ]
          },
          "metadata": {}
        },
        {
          "output_type": "display_data",
          "data": {
            "text/plain": [
              "\u001b[1m Non-trainable params: \u001b[0m\u001b[38;5;34m0\u001b[0m (0.00 B)\n"
            ],
            "text/html": [
              "<pre style=\"white-space:pre;overflow-x:auto;line-height:normal;font-family:Menlo,'DejaVu Sans Mono',consolas,'Courier New',monospace\"><span style=\"font-weight: bold\"> Non-trainable params: </span><span style=\"color: #00af00; text-decoration-color: #00af00\">0</span> (0.00 B)\n",
              "</pre>\n"
            ]
          },
          "metadata": {}
        }
      ]
    },
    {
      "cell_type": "code",
      "source": [
        "file_storage_path = \"/content/drive/MyDrive/ANUSKHA_MANOJ_IRIS/\""
      ],
      "metadata": {
        "id": "g9tkYzzv_1B5"
      },
      "execution_count": 33,
      "outputs": []
    },
    {
      "cell_type": "code",
      "source": [
        "\"\"\" Paths \"\"\"\n",
        "dataset_path = \"/content/drive/MyDrive/ANUSKHA_MANOJ_IRIS/INPUT_DATASET/gaussian_filtered_images/gaussian_filtered_images\""
      ],
      "metadata": {
        "id": "0mXsI1fCAGNS"
      },
      "execution_count": 34,
      "outputs": []
    },
    {
      "cell_type": "code",
      "source": [
        "model_path = os.path.join(file_storage_path, \"model/test.keras\")"
      ],
      "metadata": {
        "id": "GWRIRcMNALDd"
      },
      "execution_count": 35,
      "outputs": []
    },
    {
      "cell_type": "code",
      "source": [
        "print(model_path)"
      ],
      "metadata": {
        "colab": {
          "base_uri": "https://localhost:8080/"
        },
        "id": "5TgfCfAUANMv",
        "outputId": "d433d96c-bbaf-4efa-8444-85ad69b0662d"
      },
      "execution_count": 36,
      "outputs": [
        {
          "output_type": "stream",
          "name": "stdout",
          "text": [
            "/content/drive/MyDrive/ANUSKHA_MANOJ_IRIS/model/test.keras\n"
          ]
        }
      ]
    },
    {
      "cell_type": "code",
      "source": [
        "csv_path = os.path.join(file_storage_path, \"model_history\", \"log.csv\")"
      ],
      "metadata": {
        "id": "NNX8SUuzAO8t"
      },
      "execution_count": 37,
      "outputs": []
    },
    {
      "cell_type": "code",
      "source": [
        "print(csv_path)"
      ],
      "metadata": {
        "colab": {
          "base_uri": "https://localhost:8080/"
        },
        "id": "9WpkU58-DiA1",
        "outputId": "aa57366e-2c17-4a62-c05a-286b464f2d50"
      },
      "execution_count": 38,
      "outputs": [
        {
          "output_type": "stream",
          "name": "stdout",
          "text": [
            "/content/drive/MyDrive/ANUSKHA_MANOJ_IRIS/model_history/log.csv\n"
          ]
        }
      ]
    },
    {
      "cell_type": "code",
      "source": [
        "os.makedirs(os.path.dirname(model_path), exist_ok=True)\n",
        "os.makedirs(os.path.dirname(csv_path), exist_ok=True)"
      ],
      "metadata": {
        "id": "TH6ByvRnDihp"
      },
      "execution_count": 39,
      "outputs": []
    },
    {
      "cell_type": "code",
      "source": [
        "\"\"\" Dataset \"\"\"\n",
        "train_x, valid_x, test_x = load_data(dataset_path)\n",
        "print(f\"Train: {len(train_x)} - Valid: {len(valid_x)} - Test: {len(test_x)}\") # For checking the splits"
      ],
      "metadata": {
        "colab": {
          "base_uri": "https://localhost:8080/"
        },
        "id": "bjDk-WygDkDw",
        "outputId": "c6122543-b7fd-4aa7-862e-7eff9cf5cb49"
      },
      "execution_count": 40,
      "outputs": [
        {
          "output_type": "stream",
          "name": "stdout",
          "text": [
            "Train: 2965 - Valid: 367 - Test: 330\n"
          ]
        }
      ]
    },
    {
      "cell_type": "code",
      "source": [
        "len(train_x)"
      ],
      "metadata": {
        "colab": {
          "base_uri": "https://localhost:8080/"
        },
        "id": "c08UehbmDlVb",
        "outputId": "a8e3dfea-6843-4e13-eb66-09319c4a114b"
      },
      "execution_count": 41,
      "outputs": [
        {
          "output_type": "execute_result",
          "data": {
            "text/plain": [
              "2965"
            ]
          },
          "metadata": {},
          "execution_count": 41
        }
      ]
    },
    {
      "cell_type": "code",
      "source": [
        "from collections import Counter\n",
        "\n",
        "def extract_class_from_path(path):\n",
        "    # Extract the class name from the path\n",
        "    parts = path.split('/')\n",
        "    return parts[-2]  # The class name is the second last part\n",
        "\n",
        "# Extract class names from all paths\n",
        "class_names = [extract_class_from_path(path) for path in train_x]\n",
        "\n",
        "# Count occurrences of each class\n",
        "class_counts = Counter(class_names)\n",
        "\n",
        "# Print the counts\n",
        "for class_name, count in class_counts.items():\n",
        "    print(f\"Class '{class_name}': {count} images\")"
      ],
      "metadata": {
        "colab": {
          "base_uri": "https://localhost:8080/"
        },
        "id": "pF5ycGxcDmhe",
        "outputId": "d8fe958d-8b0b-416e-f4d8-8725df0e6887"
      },
      "execution_count": 43,
      "outputs": [
        {
          "output_type": "stream",
          "name": "stdout",
          "text": [
            "Class 'No_DR': 1444 images\n",
            "Class 'Proliferate_DR': 240 images\n",
            "Class 'Mild': 300 images\n",
            "Class 'Moderate': 816 images\n",
            "Class 'Severe': 165 images\n"
          ]
        }
      ]
    },
    {
      "cell_type": "code",
      "source": [
        "train_ds = tf_dataset(train_x, batch=hp[\"batch_size\"])\n",
        "valid_ds = tf_dataset(valid_x, batch=hp[\"batch_size\"])"
      ],
      "metadata": {
        "id": "T-Xudo-HDnzE"
      },
      "execution_count": 44,
      "outputs": []
    },
    {
      "cell_type": "code",
      "source": [
        "train_ds"
      ],
      "metadata": {
        "colab": {
          "base_uri": "https://localhost:8080/"
        },
        "id": "gW7YPb9DDpFq",
        "outputId": "977666f1-764b-4020-bea5-83868e1d9afb"
      },
      "execution_count": 45,
      "outputs": [
        {
          "output_type": "execute_result",
          "data": {
            "text/plain": [
              "<_PrefetchDataset element_spec=(TensorSpec(shape=(None, 64, 1875), dtype=tf.float32, name=None), TensorSpec(shape=(None, 10), dtype=tf.float32, name=None))>"
            ]
          },
          "metadata": {},
          "execution_count": 45
        }
      ]
    },
    {
      "cell_type": "code",
      "source": [
        "print(type(train_ds))"
      ],
      "metadata": {
        "colab": {
          "base_uri": "https://localhost:8080/"
        },
        "id": "5oILcZtXDqKA",
        "outputId": "d3acb258-3acb-4806-99fd-a8f98ae87872"
      },
      "execution_count": 46,
      "outputs": [
        {
          "output_type": "stream",
          "name": "stdout",
          "text": [
            "<class 'tensorflow.python.data.ops.prefetch_op._PrefetchDataset'>\n"
          ]
        }
      ]
    },
    {
      "cell_type": "code",
      "source": [
        "valid_ds"
      ],
      "metadata": {
        "colab": {
          "base_uri": "https://localhost:8080/"
        },
        "id": "QRqzDxIKmiZv",
        "outputId": "8537d0ba-b63b-41ba-83d5-86f941704018"
      },
      "execution_count": 47,
      "outputs": [
        {
          "output_type": "execute_result",
          "data": {
            "text/plain": [
              "<_PrefetchDataset element_spec=(TensorSpec(shape=(None, 64, 1875), dtype=tf.float32, name=None), TensorSpec(shape=(None, 10), dtype=tf.float32, name=None))>"
            ]
          },
          "metadata": {},
          "execution_count": 47
        }
      ]
    },
    {
      "cell_type": "code",
      "source": [
        "print(type(valid_ds))"
      ],
      "metadata": {
        "colab": {
          "base_uri": "https://localhost:8080/"
        },
        "id": "l65DJQe5mkGQ",
        "outputId": "674bd0b7-d075-4cb0-ed50-a5c70a0ca78e"
      },
      "execution_count": 48,
      "outputs": [
        {
          "output_type": "stream",
          "name": "stdout",
          "text": [
            "<class 'tensorflow.python.data.ops.prefetch_op._PrefetchDataset'>\n"
          ]
        }
      ]
    },
    {
      "cell_type": "code",
      "source": [
        "\"\"\" Model \"\"\"\n",
        "model = ViT(hp)\n",
        "model.compile(\n",
        "  loss=\"categorical_crossentropy\", # for Multiclass classification\n",
        "  optimizer=tf.keras.optimizers.Adam(hp[\"lr\"], clipvalue=1.0),\n",
        "  metrics=[\"acc\"] # Accuracy is the main metric\n",
        ")"
      ],
      "metadata": {
        "colab": {
          "base_uri": "https://localhost:8080/"
        },
        "id": "8R9mGbY2DrZL",
        "outputId": "4f1a3cf6-00db-4627-aabc-bf9af46fbc72"
      },
      "execution_count": 49,
      "outputs": [
        {
          "output_type": "stream",
          "name": "stdout",
          "text": [
            "(None, 10)\n"
          ]
        }
      ]
    },
    {
      "cell_type": "code",
      "source": [
        "hp['num_epochs']"
      ],
      "metadata": {
        "colab": {
          "base_uri": "https://localhost:8080/"
        },
        "id": "OK19QCrrDs3A",
        "outputId": "77581bcf-43a0-4b6d-fd77-a66b42290841"
      },
      "execution_count": 50,
      "outputs": [
        {
          "output_type": "execute_result",
          "data": {
            "text/plain": [
              "50"
            ]
          },
          "metadata": {},
          "execution_count": 50
        }
      ]
    },
    {
      "cell_type": "code",
      "source": [
        "callbacks = [\n",
        "  ModelCheckpoint(model_path, monitor='val_loss', verbose=1, save_best_only=True), # Saves the model weights when the validation loss starts reducing\n",
        "  ReduceLROnPlateau(monitor='val_loss', factor=0.1, patience=10, min_lr=1e-10, verbose=1), # decreases learning rate when validation loss starts decreasing\n",
        "  CSVLogger(csv_path), # Saves the training logs\n",
        "  #EarlyStopping(monitor='val_loss', patience=15, restore_best_weights=False), # If the validation loss doesn't decreases for continuous 50 epoch, this will stop the training\n",
        "]"
      ],
      "metadata": {
        "id": "SBRPTi4vDuOh"
      },
      "execution_count": 51,
      "outputs": []
    },
    {
      "cell_type": "code",
      "source": [
        "model.fit(\n",
        "    train_ds,\n",
        "    epochs = 300, # epochs=hp[\"num_epochs\"]\n",
        "    validation_data=valid_ds,\n",
        "    callbacks=callbacks\n",
        ")"
      ],
      "metadata": {
        "colab": {
          "base_uri": "https://localhost:8080/"
        },
        "id": "u7XHmpl5Dvgb",
        "outputId": "966c761a-6318-40c8-cdfe-76170d2006f3"
      },
      "execution_count": 52,
      "outputs": [
        {
          "output_type": "stream",
          "name": "stdout",
          "text": [
            "Epoch 1/300\n",
            "\u001b[1m186/186\u001b[0m \u001b[32m━━━━━━━━━━━━━━━━━━━━\u001b[0m\u001b[37m\u001b[0m \u001b[1m0s\u001b[0m 4s/step - acc: 0.4256 - loss: 1.6594\n",
            "Epoch 1: val_loss improved from inf to 1.32245, saving model to /content/drive/MyDrive/ANUSKHA_MANOJ_IRIS/model/test.keras\n",
            "\u001b[1m186/186\u001b[0m \u001b[32m━━━━━━━━━━━━━━━━━━━━\u001b[0m\u001b[37m\u001b[0m \u001b[1m817s\u001b[0m 4s/step - acc: 0.4257 - loss: 1.6583 - val_acc: 0.5368 - val_loss: 1.3225 - learning_rate: 5.0000e-05\n",
            "Epoch 2/300\n",
            "\u001b[1m186/186\u001b[0m \u001b[32m━━━━━━━━━━━━━━━━━━━━\u001b[0m\u001b[37m\u001b[0m \u001b[1m0s\u001b[0m 546ms/step - acc: 0.4667 - loss: 1.3556\n",
            "Epoch 2: val_loss improved from 1.32245 to 1.28960, saving model to /content/drive/MyDrive/ANUSKHA_MANOJ_IRIS/model/test.keras\n",
            "\u001b[1m186/186\u001b[0m \u001b[32m━━━━━━━━━━━━━━━━━━━━\u001b[0m\u001b[37m\u001b[0m \u001b[1m107s\u001b[0m 575ms/step - acc: 0.4667 - loss: 1.3557 - val_acc: 0.5368 - val_loss: 1.2896 - learning_rate: 5.0000e-05\n",
            "Epoch 3/300\n",
            "\u001b[1m186/186\u001b[0m \u001b[32m━━━━━━━━━━━━━━━━━━━━\u001b[0m\u001b[37m\u001b[0m \u001b[1m0s\u001b[0m 559ms/step - acc: 0.4709 - loss: 1.3227\n",
            "Epoch 3: val_loss improved from 1.28960 to 1.25549, saving model to /content/drive/MyDrive/ANUSKHA_MANOJ_IRIS/model/test.keras\n",
            "\u001b[1m186/186\u001b[0m \u001b[32m━━━━━━━━━━━━━━━━━━━━\u001b[0m\u001b[37m\u001b[0m \u001b[1m110s\u001b[0m 589ms/step - acc: 0.4708 - loss: 1.3228 - val_acc: 0.5368 - val_loss: 1.2555 - learning_rate: 5.0000e-05\n",
            "Epoch 4/300\n",
            "\u001b[1m186/186\u001b[0m \u001b[32m━━━━━━━━━━━━━━━━━━━━\u001b[0m\u001b[37m\u001b[0m \u001b[1m0s\u001b[0m 565ms/step - acc: 0.5235 - loss: 1.2244\n",
            "Epoch 4: val_loss improved from 1.25549 to 0.82187, saving model to /content/drive/MyDrive/ANUSKHA_MANOJ_IRIS/model/test.keras\n",
            "\u001b[1m186/186\u001b[0m \u001b[32m━━━━━━━━━━━━━━━━━━━━\u001b[0m\u001b[37m\u001b[0m \u001b[1m111s\u001b[0m 595ms/step - acc: 0.5238 - loss: 1.2238 - val_acc: 0.7057 - val_loss: 0.8219 - learning_rate: 5.0000e-05\n",
            "Epoch 5/300\n",
            "\u001b[1m186/186\u001b[0m \u001b[32m━━━━━━━━━━━━━━━━━━━━\u001b[0m\u001b[37m\u001b[0m \u001b[1m0s\u001b[0m 557ms/step - acc: 0.6803 - loss: 0.9125\n",
            "Epoch 5: val_loss improved from 0.82187 to 0.77309, saving model to /content/drive/MyDrive/ANUSKHA_MANOJ_IRIS/model/test.keras\n",
            "\u001b[1m186/186\u001b[0m \u001b[32m━━━━━━━━━━━━━━━━━━━━\u001b[0m\u001b[37m\u001b[0m \u001b[1m111s\u001b[0m 586ms/step - acc: 0.6802 - loss: 0.9125 - val_acc: 0.7193 - val_loss: 0.7731 - learning_rate: 5.0000e-05\n",
            "Epoch 6/300\n",
            "\u001b[1m186/186\u001b[0m \u001b[32m━━━━━━━━━━━━━━━━━━━━\u001b[0m\u001b[37m\u001b[0m \u001b[1m0s\u001b[0m 569ms/step - acc: 0.7012 - loss: 0.8730\n",
            "Epoch 6: val_loss improved from 0.77309 to 0.75033, saving model to /content/drive/MyDrive/ANUSKHA_MANOJ_IRIS/model/test.keras\n",
            "\u001b[1m186/186\u001b[0m \u001b[32m━━━━━━━━━━━━━━━━━━━━\u001b[0m\u001b[37m\u001b[0m \u001b[1m113s\u001b[0m 598ms/step - acc: 0.7011 - loss: 0.8730 - val_acc: 0.7275 - val_loss: 0.7503 - learning_rate: 5.0000e-05\n",
            "Epoch 7/300\n",
            "\u001b[1m186/186\u001b[0m \u001b[32m━━━━━━━━━━━━━━━━━━━━\u001b[0m\u001b[37m\u001b[0m \u001b[1m0s\u001b[0m 567ms/step - acc: 0.7119 - loss: 0.8300\n",
            "Epoch 7: val_loss improved from 0.75033 to 0.72544, saving model to /content/drive/MyDrive/ANUSKHA_MANOJ_IRIS/model/test.keras\n",
            "\u001b[1m186/186\u001b[0m \u001b[32m━━━━━━━━━━━━━━━━━━━━\u001b[0m\u001b[37m\u001b[0m \u001b[1m111s\u001b[0m 597ms/step - acc: 0.7118 - loss: 0.8300 - val_acc: 0.7330 - val_loss: 0.7254 - learning_rate: 5.0000e-05\n",
            "Epoch 8/300\n",
            "\u001b[1m186/186\u001b[0m \u001b[32m━━━━━━━━━━━━━━━━━━━━\u001b[0m\u001b[37m\u001b[0m \u001b[1m0s\u001b[0m 578ms/step - acc: 0.7124 - loss: 0.7994\n",
            "Epoch 8: val_loss improved from 0.72544 to 0.69950, saving model to /content/drive/MyDrive/ANUSKHA_MANOJ_IRIS/model/test.keras\n",
            "\u001b[1m186/186\u001b[0m \u001b[32m━━━━━━━━━━━━━━━━━━━━\u001b[0m\u001b[37m\u001b[0m \u001b[1m113s\u001b[0m 610ms/step - acc: 0.7124 - loss: 0.7994 - val_acc: 0.7384 - val_loss: 0.6995 - learning_rate: 5.0000e-05\n",
            "Epoch 9/300\n",
            "\u001b[1m186/186\u001b[0m \u001b[32m━━━━━━━━━━━━━━━━━━━━\u001b[0m\u001b[37m\u001b[0m \u001b[1m0s\u001b[0m 568ms/step - acc: 0.7210 - loss: 0.7937\n",
            "Epoch 9: val_loss improved from 0.69950 to 0.69784, saving model to /content/drive/MyDrive/ANUSKHA_MANOJ_IRIS/model/test.keras\n",
            "\u001b[1m186/186\u001b[0m \u001b[32m━━━━━━━━━━━━━━━━━━━━\u001b[0m\u001b[37m\u001b[0m \u001b[1m113s\u001b[0m 597ms/step - acc: 0.7210 - loss: 0.7937 - val_acc: 0.7384 - val_loss: 0.6978 - learning_rate: 5.0000e-05\n",
            "Epoch 10/300\n",
            "\u001b[1m186/186\u001b[0m \u001b[32m━━━━━━━━━━━━━━━━━━━━\u001b[0m\u001b[37m\u001b[0m \u001b[1m0s\u001b[0m 570ms/step - acc: 0.7148 - loss: 0.7824\n",
            "Epoch 10: val_loss did not improve from 0.69784\n",
            "\u001b[1m186/186\u001b[0m \u001b[32m━━━━━━━━━━━━━━━━━━━━\u001b[0m\u001b[37m\u001b[0m \u001b[1m113s\u001b[0m 597ms/step - acc: 0.7148 - loss: 0.7824 - val_acc: 0.7221 - val_loss: 0.8314 - learning_rate: 5.0000e-05\n",
            "Epoch 11/300\n",
            "\u001b[1m186/186\u001b[0m \u001b[32m━━━━━━━━━━━━━━━━━━━━\u001b[0m\u001b[37m\u001b[0m \u001b[1m0s\u001b[0m 571ms/step - acc: 0.7039 - loss: 0.8274\n",
            "Epoch 11: val_loss did not improve from 0.69784\n",
            "\u001b[1m186/186\u001b[0m \u001b[32m━━━━━━━━━━━━━━━━━━━━\u001b[0m\u001b[37m\u001b[0m \u001b[1m111s\u001b[0m 598ms/step - acc: 0.7039 - loss: 0.8273 - val_acc: 0.7384 - val_loss: 0.6980 - learning_rate: 5.0000e-05\n",
            "Epoch 12/300\n",
            "\u001b[1m186/186\u001b[0m \u001b[32m━━━━━━━━━━━━━━━━━━━━\u001b[0m\u001b[37m\u001b[0m \u001b[1m0s\u001b[0m 560ms/step - acc: 0.7178 - loss: 0.7685\n",
            "Epoch 12: val_loss did not improve from 0.69784\n",
            "\u001b[1m186/186\u001b[0m \u001b[32m━━━━━━━━━━━━━━━━━━━━\u001b[0m\u001b[37m\u001b[0m \u001b[1m109s\u001b[0m 587ms/step - acc: 0.7177 - loss: 0.7686 - val_acc: 0.7493 - val_loss: 0.6997 - learning_rate: 5.0000e-05\n",
            "Epoch 13/300\n",
            "\u001b[1m186/186\u001b[0m \u001b[32m━━━━━━━━━━━━━━━━━━━━\u001b[0m\u001b[37m\u001b[0m \u001b[1m0s\u001b[0m 561ms/step - acc: 0.7248 - loss: 0.7754\n",
            "Epoch 13: val_loss improved from 0.69784 to 0.68384, saving model to /content/drive/MyDrive/ANUSKHA_MANOJ_IRIS/model/test.keras\n",
            "\u001b[1m186/186\u001b[0m \u001b[32m━━━━━━━━━━━━━━━━━━━━\u001b[0m\u001b[37m\u001b[0m \u001b[1m110s\u001b[0m 590ms/step - acc: 0.7247 - loss: 0.7754 - val_acc: 0.7466 - val_loss: 0.6838 - learning_rate: 5.0000e-05\n",
            "Epoch 14/300\n",
            "\u001b[1m186/186\u001b[0m \u001b[32m━━━━━━━━━━━━━━━━━━━━\u001b[0m\u001b[37m\u001b[0m \u001b[1m0s\u001b[0m 569ms/step - acc: 0.7152 - loss: 0.7611\n",
            "Epoch 14: val_loss did not improve from 0.68384\n",
            "\u001b[1m186/186\u001b[0m \u001b[32m━━━━━━━━━━━━━━━━━━━━\u001b[0m\u001b[37m\u001b[0m \u001b[1m111s\u001b[0m 595ms/step - acc: 0.7151 - loss: 0.7612 - val_acc: 0.7411 - val_loss: 0.6926 - learning_rate: 5.0000e-05\n",
            "Epoch 15/300\n",
            "\u001b[1m186/186\u001b[0m \u001b[32m━━━━━━━━━━━━━━━━━━━━\u001b[0m\u001b[37m\u001b[0m \u001b[1m0s\u001b[0m 565ms/step - acc: 0.7220 - loss: 0.7609\n",
            "Epoch 15: val_loss improved from 0.68384 to 0.67849, saving model to /content/drive/MyDrive/ANUSKHA_MANOJ_IRIS/model/test.keras\n",
            "\u001b[1m186/186\u001b[0m \u001b[32m━━━━━━━━━━━━━━━━━━━━\u001b[0m\u001b[37m\u001b[0m \u001b[1m111s\u001b[0m 596ms/step - acc: 0.7220 - loss: 0.7609 - val_acc: 0.7357 - val_loss: 0.6785 - learning_rate: 5.0000e-05\n",
            "Epoch 16/300\n",
            "\u001b[1m186/186\u001b[0m \u001b[32m━━━━━━━━━━━━━━━━━━━━\u001b[0m\u001b[37m\u001b[0m \u001b[1m0s\u001b[0m 563ms/step - acc: 0.7223 - loss: 0.7237\n",
            "Epoch 16: val_loss did not improve from 0.67849\n",
            "\u001b[1m186/186\u001b[0m \u001b[32m━━━━━━━━━━━━━━━━━━━━\u001b[0m\u001b[37m\u001b[0m \u001b[1m110s\u001b[0m 589ms/step - acc: 0.7222 - loss: 0.7238 - val_acc: 0.7357 - val_loss: 0.6971 - learning_rate: 5.0000e-05\n",
            "Epoch 17/300\n",
            "\u001b[1m186/186\u001b[0m \u001b[32m━━━━━━━━━━━━━━━━━━━━\u001b[0m\u001b[37m\u001b[0m \u001b[1m0s\u001b[0m 557ms/step - acc: 0.7192 - loss: 0.7586\n",
            "Epoch 17: val_loss did not improve from 0.67849\n",
            "\u001b[1m186/186\u001b[0m \u001b[32m━━━━━━━━━━━━━━━━━━━━\u001b[0m\u001b[37m\u001b[0m \u001b[1m109s\u001b[0m 584ms/step - acc: 0.7192 - loss: 0.7585 - val_acc: 0.7411 - val_loss: 0.6832 - learning_rate: 5.0000e-05\n",
            "Epoch 18/300\n",
            "\u001b[1m186/186\u001b[0m \u001b[32m━━━━━━━━━━━━━━━━━━━━\u001b[0m\u001b[37m\u001b[0m \u001b[1m0s\u001b[0m 565ms/step - acc: 0.7314 - loss: 0.7133\n",
            "Epoch 18: val_loss did not improve from 0.67849\n",
            "\u001b[1m186/186\u001b[0m \u001b[32m━━━━━━━━━━━━━━━━━━━━\u001b[0m\u001b[37m\u001b[0m \u001b[1m110s\u001b[0m 592ms/step - acc: 0.7313 - loss: 0.7133 - val_acc: 0.7493 - val_loss: 0.7038 - learning_rate: 5.0000e-05\n",
            "Epoch 19/300\n",
            "\u001b[1m186/186\u001b[0m \u001b[32m━━━━━━━━━━━━━━━━━━━━\u001b[0m\u001b[37m\u001b[0m \u001b[1m0s\u001b[0m 559ms/step - acc: 0.7221 - loss: 0.7145\n",
            "Epoch 19: val_loss did not improve from 0.67849\n",
            "\u001b[1m186/186\u001b[0m \u001b[32m━━━━━━━━━━━━━━━━━━━━\u001b[0m\u001b[37m\u001b[0m \u001b[1m109s\u001b[0m 584ms/step - acc: 0.7221 - loss: 0.7146 - val_acc: 0.7384 - val_loss: 0.6910 - learning_rate: 5.0000e-05\n",
            "Epoch 20/300\n",
            "\u001b[1m186/186\u001b[0m \u001b[32m━━━━━━━━━━━━━━━━━━━━\u001b[0m\u001b[37m\u001b[0m \u001b[1m0s\u001b[0m 559ms/step - acc: 0.7341 - loss: 0.6940\n",
            "Epoch 20: val_loss did not improve from 0.67849\n",
            "\u001b[1m186/186\u001b[0m \u001b[32m━━━━━━━━━━━━━━━━━━━━\u001b[0m\u001b[37m\u001b[0m \u001b[1m109s\u001b[0m 586ms/step - acc: 0.7341 - loss: 0.6941 - val_acc: 0.7302 - val_loss: 0.7738 - learning_rate: 5.0000e-05\n",
            "Epoch 21/300\n",
            "\u001b[1m186/186\u001b[0m \u001b[32m━━━━━━━━━━━━━━━━━━━━\u001b[0m\u001b[37m\u001b[0m \u001b[1m0s\u001b[0m 544ms/step - acc: 0.7226 - loss: 0.7580\n",
            "Epoch 21: val_loss did not improve from 0.67849\n",
            "\u001b[1m186/186\u001b[0m \u001b[32m━━━━━━━━━━━━━━━━━━━━\u001b[0m\u001b[37m\u001b[0m \u001b[1m106s\u001b[0m 570ms/step - acc: 0.7226 - loss: 0.7579 - val_acc: 0.7357 - val_loss: 0.7032 - learning_rate: 5.0000e-05\n",
            "Epoch 22/300\n",
            "\u001b[1m186/186\u001b[0m \u001b[32m━━━━━━━━━━━━━━━━━━━━\u001b[0m\u001b[37m\u001b[0m \u001b[1m0s\u001b[0m 545ms/step - acc: 0.7382 - loss: 0.6907\n",
            "Epoch 22: val_loss improved from 0.67849 to 0.66353, saving model to /content/drive/MyDrive/ANUSKHA_MANOJ_IRIS/model/test.keras\n",
            "\u001b[1m186/186\u001b[0m \u001b[32m━━━━━━━━━━━━━━━━━━━━\u001b[0m\u001b[37m\u001b[0m \u001b[1m107s\u001b[0m 574ms/step - acc: 0.7382 - loss: 0.6908 - val_acc: 0.7493 - val_loss: 0.6635 - learning_rate: 5.0000e-05\n",
            "Epoch 23/300\n",
            "\u001b[1m186/186\u001b[0m \u001b[32m━━━━━━━━━━━━━━━━━━━━\u001b[0m\u001b[37m\u001b[0m \u001b[1m0s\u001b[0m 555ms/step - acc: 0.7398 - loss: 0.6863\n",
            "Epoch 23: val_loss did not improve from 0.66353\n",
            "\u001b[1m186/186\u001b[0m \u001b[32m━━━━━━━━━━━━━━━━━━━━\u001b[0m\u001b[37m\u001b[0m \u001b[1m108s\u001b[0m 581ms/step - acc: 0.7397 - loss: 0.6863 - val_acc: 0.7493 - val_loss: 0.6912 - learning_rate: 5.0000e-05\n",
            "Epoch 24/300\n",
            "\u001b[1m186/186\u001b[0m \u001b[32m━━━━━━━━━━━━━━━━━━━━\u001b[0m\u001b[37m\u001b[0m \u001b[1m0s\u001b[0m 552ms/step - acc: 0.7421 - loss: 0.6647\n",
            "Epoch 24: val_loss did not improve from 0.66353\n",
            "\u001b[1m186/186\u001b[0m \u001b[32m━━━━━━━━━━━━━━━━━━━━\u001b[0m\u001b[37m\u001b[0m \u001b[1m108s\u001b[0m 579ms/step - acc: 0.7421 - loss: 0.6647 - val_acc: 0.7520 - val_loss: 0.6882 - learning_rate: 5.0000e-05\n",
            "Epoch 25/300\n",
            "\u001b[1m186/186\u001b[0m \u001b[32m━━━━━━━━━━━━━━━━━━━━\u001b[0m\u001b[37m\u001b[0m \u001b[1m0s\u001b[0m 549ms/step - acc: 0.7468 - loss: 0.6637\n",
            "Epoch 25: val_loss did not improve from 0.66353\n",
            "\u001b[1m186/186\u001b[0m \u001b[32m━━━━━━━━━━━━━━━━━━━━\u001b[0m\u001b[37m\u001b[0m \u001b[1m107s\u001b[0m 576ms/step - acc: 0.7468 - loss: 0.6637 - val_acc: 0.7439 - val_loss: 0.7049 - learning_rate: 5.0000e-05\n",
            "Epoch 26/300\n",
            "\u001b[1m186/186\u001b[0m \u001b[32m━━━━━━━━━━━━━━━━━━━━\u001b[0m\u001b[37m\u001b[0m \u001b[1m0s\u001b[0m 548ms/step - acc: 0.7474 - loss: 0.6709\n",
            "Epoch 26: val_loss did not improve from 0.66353\n",
            "\u001b[1m186/186\u001b[0m \u001b[32m━━━━━━━━━━━━━━━━━━━━\u001b[0m\u001b[37m\u001b[0m \u001b[1m107s\u001b[0m 573ms/step - acc: 0.7474 - loss: 0.6709 - val_acc: 0.7466 - val_loss: 0.7273 - learning_rate: 5.0000e-05\n",
            "Epoch 27/300\n",
            "\u001b[1m186/186\u001b[0m \u001b[32m━━━━━━━━━━━━━━━━━━━━\u001b[0m\u001b[37m\u001b[0m \u001b[1m0s\u001b[0m 559ms/step - acc: 0.7385 - loss: 0.7061\n",
            "Epoch 27: val_loss did not improve from 0.66353\n",
            "\u001b[1m186/186\u001b[0m \u001b[32m━━━━━━━━━━━━━━━━━━━━\u001b[0m\u001b[37m\u001b[0m \u001b[1m109s\u001b[0m 586ms/step - acc: 0.7384 - loss: 0.7064 - val_acc: 0.7275 - val_loss: 0.7629 - learning_rate: 5.0000e-05\n",
            "Epoch 28/300\n",
            "\u001b[1m186/186\u001b[0m \u001b[32m━━━━━━━━━━━━━━━━━━━━\u001b[0m\u001b[37m\u001b[0m \u001b[1m0s\u001b[0m 550ms/step - acc: 0.7135 - loss: 0.7673\n",
            "Epoch 28: val_loss did not improve from 0.66353\n",
            "\u001b[1m186/186\u001b[0m \u001b[32m━━━━━━━━━━━━━━━━━━━━\u001b[0m\u001b[37m\u001b[0m \u001b[1m107s\u001b[0m 577ms/step - acc: 0.7135 - loss: 0.7672 - val_acc: 0.7384 - val_loss: 0.7320 - learning_rate: 5.0000e-05\n",
            "Epoch 29/300\n",
            "\u001b[1m186/186\u001b[0m \u001b[32m━━━━━━━━━━━━━━━━━━━━\u001b[0m\u001b[37m\u001b[0m \u001b[1m0s\u001b[0m 551ms/step - acc: 0.7356 - loss: 0.6915\n",
            "Epoch 29: val_loss did not improve from 0.66353\n",
            "\u001b[1m186/186\u001b[0m \u001b[32m━━━━━━━━━━━━━━━━━━━━\u001b[0m\u001b[37m\u001b[0m \u001b[1m107s\u001b[0m 576ms/step - acc: 0.7356 - loss: 0.6914 - val_acc: 0.7466 - val_loss: 0.7405 - learning_rate: 5.0000e-05\n",
            "Epoch 30/300\n",
            "\u001b[1m186/186\u001b[0m \u001b[32m━━━━━━━━━━━━━━━━━━━━\u001b[0m\u001b[37m\u001b[0m \u001b[1m0s\u001b[0m 558ms/step - acc: 0.7564 - loss: 0.6495\n",
            "Epoch 30: val_loss did not improve from 0.66353\n",
            "\u001b[1m186/186\u001b[0m \u001b[32m━━━━━━━━━━━━━━━━━━━━\u001b[0m\u001b[37m\u001b[0m \u001b[1m109s\u001b[0m 585ms/step - acc: 0.7564 - loss: 0.6495 - val_acc: 0.7466 - val_loss: 0.7400 - learning_rate: 5.0000e-05\n",
            "Epoch 31/300\n",
            "\u001b[1m186/186\u001b[0m \u001b[32m━━━━━━━━━━━━━━━━━━━━\u001b[0m\u001b[37m\u001b[0m \u001b[1m0s\u001b[0m 551ms/step - acc: 0.7604 - loss: 0.6353\n",
            "Epoch 31: val_loss did not improve from 0.66353\n",
            "\u001b[1m186/186\u001b[0m \u001b[32m━━━━━━━━━━━━━━━━━━━━\u001b[0m\u001b[37m\u001b[0m \u001b[1m108s\u001b[0m 578ms/step - acc: 0.7604 - loss: 0.6353 - val_acc: 0.7439 - val_loss: 0.7294 - learning_rate: 5.0000e-05\n",
            "Epoch 32/300\n",
            "\u001b[1m186/186\u001b[0m \u001b[32m━━━━━━━━━━━━━━━━━━━━\u001b[0m\u001b[37m\u001b[0m \u001b[1m0s\u001b[0m 545ms/step - acc: 0.7650 - loss: 0.6279\n",
            "Epoch 32: val_loss did not improve from 0.66353\n",
            "\n",
            "Epoch 32: ReduceLROnPlateau reducing learning rate to 4.999999873689376e-06.\n",
            "\u001b[1m186/186\u001b[0m \u001b[32m━━━━━━━━━━━━━━━━━━━━\u001b[0m\u001b[37m\u001b[0m \u001b[1m106s\u001b[0m 570ms/step - acc: 0.7650 - loss: 0.6279 - val_acc: 0.7248 - val_loss: 0.7553 - learning_rate: 5.0000e-05\n",
            "Epoch 33/300\n",
            "\u001b[1m186/186\u001b[0m \u001b[32m━━━━━━━━━━━━━━━━━━━━\u001b[0m\u001b[37m\u001b[0m \u001b[1m0s\u001b[0m 546ms/step - acc: 0.7604 - loss: 0.6235\n",
            "Epoch 33: val_loss did not improve from 0.66353\n",
            "\u001b[1m186/186\u001b[0m \u001b[32m━━━━━━━━━━━━━━━━━━━━\u001b[0m\u001b[37m\u001b[0m \u001b[1m107s\u001b[0m 572ms/step - acc: 0.7605 - loss: 0.6234 - val_acc: 0.7493 - val_loss: 0.7442 - learning_rate: 5.0000e-06\n",
            "Epoch 34/300\n",
            "\u001b[1m186/186\u001b[0m \u001b[32m━━━━━━━━━━━━━━━━━━━━\u001b[0m\u001b[37m\u001b[0m \u001b[1m0s\u001b[0m 550ms/step - acc: 0.7759 - loss: 0.5805\n",
            "Epoch 34: val_loss did not improve from 0.66353\n",
            "\u001b[1m186/186\u001b[0m \u001b[32m━━━━━━━━━━━━━━━━━━━━\u001b[0m\u001b[37m\u001b[0m \u001b[1m107s\u001b[0m 576ms/step - acc: 0.7759 - loss: 0.5805 - val_acc: 0.7493 - val_loss: 0.7517 - learning_rate: 5.0000e-06\n",
            "Epoch 35/300\n",
            "\u001b[1m186/186\u001b[0m \u001b[32m━━━━━━━━━━━━━━━━━━━━\u001b[0m\u001b[37m\u001b[0m \u001b[1m0s\u001b[0m 554ms/step - acc: 0.7791 - loss: 0.5774\n",
            "Epoch 35: val_loss did not improve from 0.66353\n",
            "\u001b[1m186/186\u001b[0m \u001b[32m━━━━━━━━━━━━━━━━━━━━\u001b[0m\u001b[37m\u001b[0m \u001b[1m108s\u001b[0m 579ms/step - acc: 0.7791 - loss: 0.5774 - val_acc: 0.7493 - val_loss: 0.7508 - learning_rate: 5.0000e-06\n",
            "Epoch 36/300\n",
            "\u001b[1m186/186\u001b[0m \u001b[32m━━━━━━━━━━━━━━━━━━━━\u001b[0m\u001b[37m\u001b[0m \u001b[1m0s\u001b[0m 542ms/step - acc: 0.7823 - loss: 0.5652\n",
            "Epoch 36: val_loss did not improve from 0.66353\n",
            "\u001b[1m186/186\u001b[0m \u001b[32m━━━━━━━━━━━━━━━━━━━━\u001b[0m\u001b[37m\u001b[0m \u001b[1m106s\u001b[0m 568ms/step - acc: 0.7823 - loss: 0.5652 - val_acc: 0.7520 - val_loss: 0.7554 - learning_rate: 5.0000e-06\n",
            "Epoch 37/300\n",
            "\u001b[1m186/186\u001b[0m \u001b[32m━━━━━━━━━━━━━━━━━━━━\u001b[0m\u001b[37m\u001b[0m \u001b[1m0s\u001b[0m 552ms/step - acc: 0.7780 - loss: 0.5656\n",
            "Epoch 37: val_loss did not improve from 0.66353\n",
            "\u001b[1m186/186\u001b[0m \u001b[32m━━━━━━━━━━━━━━━━━━━━\u001b[0m\u001b[37m\u001b[0m \u001b[1m108s\u001b[0m 579ms/step - acc: 0.7780 - loss: 0.5656 - val_acc: 0.7466 - val_loss: 0.7628 - learning_rate: 5.0000e-06\n",
            "Epoch 38/300\n",
            "\u001b[1m186/186\u001b[0m \u001b[32m━━━━━━━━━━━━━━━━━━━━\u001b[0m\u001b[37m\u001b[0m \u001b[1m0s\u001b[0m 557ms/step - acc: 0.7874 - loss: 0.5541\n",
            "Epoch 38: val_loss did not improve from 0.66353\n",
            "\u001b[1m186/186\u001b[0m \u001b[32m━━━━━━━━━━━━━━━━━━━━\u001b[0m\u001b[37m\u001b[0m \u001b[1m108s\u001b[0m 582ms/step - acc: 0.7874 - loss: 0.5541 - val_acc: 0.7548 - val_loss: 0.7689 - learning_rate: 5.0000e-06\n",
            "Epoch 39/300\n",
            "\u001b[1m186/186\u001b[0m \u001b[32m━━━━━━━━━━━━━━━━━━━━\u001b[0m\u001b[37m\u001b[0m \u001b[1m0s\u001b[0m 542ms/step - acc: 0.7838 - loss: 0.5536\n",
            "Epoch 39: val_loss did not improve from 0.66353\n",
            "\u001b[1m186/186\u001b[0m \u001b[32m━━━━━━━━━━━━━━━━━━━━\u001b[0m\u001b[37m\u001b[0m \u001b[1m106s\u001b[0m 568ms/step - acc: 0.7838 - loss: 0.5536 - val_acc: 0.7466 - val_loss: 0.7821 - learning_rate: 5.0000e-06\n",
            "Epoch 40/300\n",
            "\u001b[1m186/186\u001b[0m \u001b[32m━━━━━━━━━━━━━━━━━━━━\u001b[0m\u001b[37m\u001b[0m \u001b[1m0s\u001b[0m 544ms/step - acc: 0.7829 - loss: 0.5478\n",
            "Epoch 40: val_loss did not improve from 0.66353\n",
            "\u001b[1m186/186\u001b[0m \u001b[32m━━━━━━━━━━━━━━━━━━━━\u001b[0m\u001b[37m\u001b[0m \u001b[1m106s\u001b[0m 571ms/step - acc: 0.7829 - loss: 0.5478 - val_acc: 0.7384 - val_loss: 0.7905 - learning_rate: 5.0000e-06\n",
            "Epoch 41/300\n",
            "\u001b[1m186/186\u001b[0m \u001b[32m━━━━━━━━━━━━━━━━━━━━\u001b[0m\u001b[37m\u001b[0m \u001b[1m0s\u001b[0m 552ms/step - acc: 0.7900 - loss: 0.5450\n",
            "Epoch 41: val_loss did not improve from 0.66353\n",
            "\u001b[1m186/186\u001b[0m \u001b[32m━━━━━━━━━━━━━━━━━━━━\u001b[0m\u001b[37m\u001b[0m \u001b[1m108s\u001b[0m 578ms/step - acc: 0.7900 - loss: 0.5450 - val_acc: 0.7384 - val_loss: 0.8015 - learning_rate: 5.0000e-06\n",
            "Epoch 42/300\n",
            "\u001b[1m186/186\u001b[0m \u001b[32m━━━━━━━━━━━━━━━━━━━━\u001b[0m\u001b[37m\u001b[0m \u001b[1m0s\u001b[0m 552ms/step - acc: 0.7955 - loss: 0.5387\n",
            "Epoch 42: val_loss did not improve from 0.66353\n",
            "\n",
            "Epoch 42: ReduceLROnPlateau reducing learning rate to 4.999999873689376e-07.\n",
            "\u001b[1m186/186\u001b[0m \u001b[32m━━━━━━━━━━━━━━━━━━━━\u001b[0m\u001b[37m\u001b[0m \u001b[1m107s\u001b[0m 577ms/step - acc: 0.7955 - loss: 0.5387 - val_acc: 0.7384 - val_loss: 0.7963 - learning_rate: 5.0000e-06\n",
            "Epoch 43/300\n",
            "\u001b[1m186/186\u001b[0m \u001b[32m━━━━━━━━━━━━━━━━━━━━\u001b[0m\u001b[37m\u001b[0m \u001b[1m0s\u001b[0m 544ms/step - acc: 0.7964 - loss: 0.5325\n",
            "Epoch 43: val_loss did not improve from 0.66353\n",
            "\u001b[1m186/186\u001b[0m \u001b[32m━━━━━━━━━━━━━━━━━━━━\u001b[0m\u001b[37m\u001b[0m \u001b[1m106s\u001b[0m 571ms/step - acc: 0.7965 - loss: 0.5325 - val_acc: 0.7493 - val_loss: 0.7969 - learning_rate: 5.0000e-07\n",
            "Epoch 44/300\n",
            "\u001b[1m186/186\u001b[0m \u001b[32m━━━━━━━━━━━━━━━━━━━━\u001b[0m\u001b[37m\u001b[0m \u001b[1m0s\u001b[0m 555ms/step - acc: 0.7938 - loss: 0.5341\n",
            "Epoch 44: val_loss did not improve from 0.66353\n",
            "\u001b[1m186/186\u001b[0m \u001b[32m━━━━━━━━━━━━━━━━━━━━\u001b[0m\u001b[37m\u001b[0m \u001b[1m108s\u001b[0m 581ms/step - acc: 0.7938 - loss: 0.5340 - val_acc: 0.7439 - val_loss: 0.8001 - learning_rate: 5.0000e-07\n",
            "Epoch 45/300\n",
            "\u001b[1m186/186\u001b[0m \u001b[32m━━━━━━━━━━━━━━━━━━━━\u001b[0m\u001b[37m\u001b[0m \u001b[1m0s\u001b[0m 540ms/step - acc: 0.7934 - loss: 0.5336\n",
            "Epoch 45: val_loss did not improve from 0.66353\n",
            "\u001b[1m186/186\u001b[0m \u001b[32m━━━━━━━━━━━━━━━━━━━━\u001b[0m\u001b[37m\u001b[0m \u001b[1m105s\u001b[0m 566ms/step - acc: 0.7934 - loss: 0.5336 - val_acc: 0.7493 - val_loss: 0.8020 - learning_rate: 5.0000e-07\n",
            "Epoch 46/300\n",
            "\u001b[1m186/186\u001b[0m \u001b[32m━━━━━━━━━━━━━━━━━━━━\u001b[0m\u001b[37m\u001b[0m \u001b[1m0s\u001b[0m 538ms/step - acc: 0.7959 - loss: 0.5287\n",
            "Epoch 46: val_loss did not improve from 0.66353\n",
            "\u001b[1m186/186\u001b[0m \u001b[32m━━━━━━━━━━━━━━━━━━━━\u001b[0m\u001b[37m\u001b[0m \u001b[1m105s\u001b[0m 564ms/step - acc: 0.7959 - loss: 0.5287 - val_acc: 0.7466 - val_loss: 0.8059 - learning_rate: 5.0000e-07\n",
            "Epoch 47/300\n",
            "\u001b[1m186/186\u001b[0m \u001b[32m━━━━━━━━━━━━━━━━━━━━\u001b[0m\u001b[37m\u001b[0m \u001b[1m0s\u001b[0m 538ms/step - acc: 0.7929 - loss: 0.5323\n",
            "Epoch 47: val_loss did not improve from 0.66353\n",
            "\u001b[1m186/186\u001b[0m \u001b[32m━━━━━━━━━━━━━━━━━━━━\u001b[0m\u001b[37m\u001b[0m \u001b[1m105s\u001b[0m 565ms/step - acc: 0.7930 - loss: 0.5323 - val_acc: 0.7520 - val_loss: 0.8091 - learning_rate: 5.0000e-07\n",
            "Epoch 48/300\n",
            "\u001b[1m186/186\u001b[0m \u001b[32m━━━━━━━━━━━━━━━━━━━━\u001b[0m\u001b[37m\u001b[0m \u001b[1m0s\u001b[0m 545ms/step - acc: 0.7930 - loss: 0.5273\n",
            "Epoch 48: val_loss did not improve from 0.66353\n",
            "\u001b[1m186/186\u001b[0m \u001b[32m━━━━━━━━━━━━━━━━━━━━\u001b[0m\u001b[37m\u001b[0m \u001b[1m106s\u001b[0m 570ms/step - acc: 0.7931 - loss: 0.5272 - val_acc: 0.7493 - val_loss: 0.8141 - learning_rate: 5.0000e-07\n",
            "Epoch 49/300\n",
            "\u001b[1m186/186\u001b[0m \u001b[32m━━━━━━━━━━━━━━━━━━━━\u001b[0m\u001b[37m\u001b[0m \u001b[1m0s\u001b[0m 549ms/step - acc: 0.7973 - loss: 0.5267\n",
            "Epoch 49: val_loss did not improve from 0.66353\n",
            "\u001b[1m186/186\u001b[0m \u001b[32m━━━━━━━━━━━━━━━━━━━━\u001b[0m\u001b[37m\u001b[0m \u001b[1m107s\u001b[0m 575ms/step - acc: 0.7973 - loss: 0.5267 - val_acc: 0.7493 - val_loss: 0.8170 - learning_rate: 5.0000e-07\n",
            "Epoch 50/300\n",
            "\u001b[1m186/186\u001b[0m \u001b[32m━━━━━━━━━━━━━━━━━━━━\u001b[0m\u001b[37m\u001b[0m \u001b[1m0s\u001b[0m 553ms/step - acc: 0.7978 - loss: 0.5283\n",
            "Epoch 50: val_loss did not improve from 0.66353\n",
            "\u001b[1m186/186\u001b[0m \u001b[32m━━━━━━━━━━━━━━━━━━━━\u001b[0m\u001b[37m\u001b[0m \u001b[1m108s\u001b[0m 580ms/step - acc: 0.7978 - loss: 0.5283 - val_acc: 0.7520 - val_loss: 0.8188 - learning_rate: 5.0000e-07\n",
            "Epoch 51/300\n",
            "\u001b[1m186/186\u001b[0m \u001b[32m━━━━━━━━━━━━━━━━━━━━\u001b[0m\u001b[37m\u001b[0m \u001b[1m0s\u001b[0m 550ms/step - acc: 0.7961 - loss: 0.5234\n",
            "Epoch 51: val_loss did not improve from 0.66353\n",
            "\u001b[1m186/186\u001b[0m \u001b[32m━━━━━━━━━━━━━━━━━━━━\u001b[0m\u001b[37m\u001b[0m \u001b[1m107s\u001b[0m 575ms/step - acc: 0.7961 - loss: 0.5233 - val_acc: 0.7493 - val_loss: 0.8222 - learning_rate: 5.0000e-07\n",
            "Epoch 52/300\n",
            "\u001b[1m186/186\u001b[0m \u001b[32m━━━━━━━━━━━━━━━━━━━━\u001b[0m\u001b[37m\u001b[0m \u001b[1m0s\u001b[0m 553ms/step - acc: 0.7982 - loss: 0.5266\n",
            "Epoch 52: val_loss did not improve from 0.66353\n",
            "\n",
            "Epoch 52: ReduceLROnPlateau reducing learning rate to 4.999999987376214e-08.\n",
            "\u001b[1m186/186\u001b[0m \u001b[32m━━━━━━━━━━━━━━━━━━━━\u001b[0m\u001b[37m\u001b[0m \u001b[1m108s\u001b[0m 579ms/step - acc: 0.7982 - loss: 0.5265 - val_acc: 0.7493 - val_loss: 0.8232 - learning_rate: 5.0000e-07\n",
            "Epoch 53/300\n",
            "\u001b[1m186/186\u001b[0m \u001b[32m━━━━━━━━━━━━━━━━━━━━\u001b[0m\u001b[37m\u001b[0m \u001b[1m0s\u001b[0m 546ms/step - acc: 0.7996 - loss: 0.5249\n",
            "Epoch 53: val_loss did not improve from 0.66353\n",
            "\u001b[1m186/186\u001b[0m \u001b[32m━━━━━━━━━━━━━━━━━━━━\u001b[0m\u001b[37m\u001b[0m \u001b[1m107s\u001b[0m 573ms/step - acc: 0.7996 - loss: 0.5248 - val_acc: 0.7493 - val_loss: 0.8231 - learning_rate: 5.0000e-08\n",
            "Epoch 54/300\n",
            "\u001b[1m186/186\u001b[0m \u001b[32m━━━━━━━━━━━━━━━━━━━━\u001b[0m\u001b[37m\u001b[0m \u001b[1m0s\u001b[0m 553ms/step - acc: 0.7953 - loss: 0.5245\n",
            "Epoch 54: val_loss did not improve from 0.66353\n",
            "\u001b[1m186/186\u001b[0m \u001b[32m━━━━━━━━━━━━━━━━━━━━\u001b[0m\u001b[37m\u001b[0m \u001b[1m108s\u001b[0m 578ms/step - acc: 0.7953 - loss: 0.5245 - val_acc: 0.7493 - val_loss: 0.8229 - learning_rate: 5.0000e-08\n",
            "Epoch 55/300\n",
            "\u001b[1m186/186\u001b[0m \u001b[32m━━━━━━━━━━━━━━━━━━━━\u001b[0m\u001b[37m\u001b[0m \u001b[1m0s\u001b[0m 554ms/step - acc: 0.7992 - loss: 0.5243\n",
            "Epoch 55: val_loss did not improve from 0.66353\n",
            "\u001b[1m186/186\u001b[0m \u001b[32m━━━━━━━━━━━━━━━━━━━━\u001b[0m\u001b[37m\u001b[0m \u001b[1m108s\u001b[0m 580ms/step - acc: 0.7993 - loss: 0.5243 - val_acc: 0.7493 - val_loss: 0.8228 - learning_rate: 5.0000e-08\n",
            "Epoch 56/300\n",
            "\u001b[1m186/186\u001b[0m \u001b[32m━━━━━━━━━━━━━━━━━━━━\u001b[0m\u001b[37m\u001b[0m \u001b[1m0s\u001b[0m 551ms/step - acc: 0.7992 - loss: 0.5244\n",
            "Epoch 56: val_loss did not improve from 0.66353\n",
            "\u001b[1m186/186\u001b[0m \u001b[32m━━━━━━━━━━━━━━━━━━━━\u001b[0m\u001b[37m\u001b[0m \u001b[1m108s\u001b[0m 578ms/step - acc: 0.7992 - loss: 0.5244 - val_acc: 0.7493 - val_loss: 0.8228 - learning_rate: 5.0000e-08\n",
            "Epoch 57/300\n",
            "\u001b[1m186/186\u001b[0m \u001b[32m━━━━━━━━━━━━━━━━━━━━\u001b[0m\u001b[37m\u001b[0m \u001b[1m0s\u001b[0m 547ms/step - acc: 0.8055 - loss: 0.5212\n",
            "Epoch 57: val_loss did not improve from 0.66353\n",
            "\u001b[1m186/186\u001b[0m \u001b[32m━━━━━━━━━━━━━━━━━━━━\u001b[0m\u001b[37m\u001b[0m \u001b[1m107s\u001b[0m 575ms/step - acc: 0.8055 - loss: 0.5212 - val_acc: 0.7493 - val_loss: 0.8230 - learning_rate: 5.0000e-08\n",
            "Epoch 58/300\n",
            "\u001b[1m186/186\u001b[0m \u001b[32m━━━━━━━━━━━━━━━━━━━━\u001b[0m\u001b[37m\u001b[0m \u001b[1m0s\u001b[0m 550ms/step - acc: 0.7987 - loss: 0.5236\n",
            "Epoch 58: val_loss did not improve from 0.66353\n",
            "\u001b[1m186/186\u001b[0m \u001b[32m━━━━━━━━━━━━━━━━━━━━\u001b[0m\u001b[37m\u001b[0m \u001b[1m107s\u001b[0m 575ms/step - acc: 0.7987 - loss: 0.5236 - val_acc: 0.7493 - val_loss: 0.8233 - learning_rate: 5.0000e-08\n",
            "Epoch 59/300\n",
            "\u001b[1m186/186\u001b[0m \u001b[32m━━━━━━━━━━━━━━━━━━━━\u001b[0m\u001b[37m\u001b[0m \u001b[1m0s\u001b[0m 545ms/step - acc: 0.7969 - loss: 0.5270\n",
            "Epoch 59: val_loss did not improve from 0.66353\n",
            "\u001b[1m186/186\u001b[0m \u001b[32m━━━━━━━━━━━━━━━━━━━━\u001b[0m\u001b[37m\u001b[0m \u001b[1m106s\u001b[0m 572ms/step - acc: 0.7969 - loss: 0.5270 - val_acc: 0.7493 - val_loss: 0.8228 - learning_rate: 5.0000e-08\n",
            "Epoch 60/300\n",
            "\u001b[1m186/186\u001b[0m \u001b[32m━━━━━━━━━━━━━━━━━━━━\u001b[0m\u001b[37m\u001b[0m \u001b[1m0s\u001b[0m 543ms/step - acc: 0.7993 - loss: 0.5252\n",
            "Epoch 60: val_loss did not improve from 0.66353\n",
            "\u001b[1m186/186\u001b[0m \u001b[32m━━━━━━━━━━━━━━━━━━━━\u001b[0m\u001b[37m\u001b[0m \u001b[1m106s\u001b[0m 571ms/step - acc: 0.7993 - loss: 0.5251 - val_acc: 0.7493 - val_loss: 0.8229 - learning_rate: 5.0000e-08\n",
            "Epoch 61/300\n",
            "\u001b[1m186/186\u001b[0m \u001b[32m━━━━━━━━━━━━━━━━━━━━\u001b[0m\u001b[37m\u001b[0m \u001b[1m0s\u001b[0m 548ms/step - acc: 0.7968 - loss: 0.5220\n",
            "Epoch 61: val_loss did not improve from 0.66353\n",
            "\u001b[1m186/186\u001b[0m \u001b[32m━━━━━━━━━━━━━━━━━━━━\u001b[0m\u001b[37m\u001b[0m \u001b[1m107s\u001b[0m 575ms/step - acc: 0.7968 - loss: 0.5219 - val_acc: 0.7493 - val_loss: 0.8230 - learning_rate: 5.0000e-08\n",
            "Epoch 62/300\n",
            "\u001b[1m186/186\u001b[0m \u001b[32m━━━━━━━━━━━━━━━━━━━━\u001b[0m\u001b[37m\u001b[0m \u001b[1m0s\u001b[0m 545ms/step - acc: 0.7974 - loss: 0.5247\n",
            "Epoch 62: val_loss did not improve from 0.66353\n",
            "\n",
            "Epoch 62: ReduceLROnPlateau reducing learning rate to 5.000000058430488e-09.\n",
            "\u001b[1m186/186\u001b[0m \u001b[32m━━━━━━━━━━━━━━━━━━━━\u001b[0m\u001b[37m\u001b[0m \u001b[1m106s\u001b[0m 569ms/step - acc: 0.7974 - loss: 0.5247 - val_acc: 0.7493 - val_loss: 0.8231 - learning_rate: 5.0000e-08\n",
            "Epoch 63/300\n",
            "\u001b[1m186/186\u001b[0m \u001b[32m━━━━━━━━━━━━━━━━━━━━\u001b[0m\u001b[37m\u001b[0m \u001b[1m0s\u001b[0m 546ms/step - acc: 0.7977 - loss: 0.5252\n",
            "Epoch 63: val_loss did not improve from 0.66353\n",
            "\u001b[1m186/186\u001b[0m \u001b[32m━━━━━━━━━━━━━━━━━━━━\u001b[0m\u001b[37m\u001b[0m \u001b[1m107s\u001b[0m 572ms/step - acc: 0.7978 - loss: 0.5251 - val_acc: 0.7493 - val_loss: 0.8231 - learning_rate: 5.0000e-09\n",
            "Epoch 64/300\n",
            "\u001b[1m186/186\u001b[0m \u001b[32m━━━━━━━━━━━━━━━━━━━━\u001b[0m\u001b[37m\u001b[0m \u001b[1m0s\u001b[0m 544ms/step - acc: 0.8011 - loss: 0.5226\n",
            "Epoch 64: val_loss did not improve from 0.66353\n",
            "\u001b[1m186/186\u001b[0m \u001b[32m━━━━━━━━━━━━━━━━━━━━\u001b[0m\u001b[37m\u001b[0m \u001b[1m106s\u001b[0m 571ms/step - acc: 0.8011 - loss: 0.5225 - val_acc: 0.7493 - val_loss: 0.8231 - learning_rate: 5.0000e-09\n",
            "Epoch 65/300\n",
            "\u001b[1m186/186\u001b[0m \u001b[32m━━━━━━━━━━━━━━━━━━━━\u001b[0m\u001b[37m\u001b[0m \u001b[1m0s\u001b[0m 546ms/step - acc: 0.8021 - loss: 0.5224\n",
            "Epoch 65: val_loss did not improve from 0.66353\n",
            "\u001b[1m186/186\u001b[0m \u001b[32m━━━━━━━━━━━━━━━━━━━━\u001b[0m\u001b[37m\u001b[0m \u001b[1m106s\u001b[0m 572ms/step - acc: 0.8021 - loss: 0.5224 - val_acc: 0.7493 - val_loss: 0.8231 - learning_rate: 5.0000e-09\n",
            "Epoch 66/300\n",
            "\u001b[1m186/186\u001b[0m \u001b[32m━━━━━━━━━━━━━━━━━━━━\u001b[0m\u001b[37m\u001b[0m \u001b[1m0s\u001b[0m 548ms/step - acc: 0.8029 - loss: 0.5199\n",
            "Epoch 66: val_loss did not improve from 0.66353\n",
            "\u001b[1m186/186\u001b[0m \u001b[32m━━━━━━━━━━━━━━━━━━━━\u001b[0m\u001b[37m\u001b[0m \u001b[1m107s\u001b[0m 573ms/step - acc: 0.8029 - loss: 0.5198 - val_acc: 0.7493 - val_loss: 0.8231 - learning_rate: 5.0000e-09\n",
            "Epoch 67/300\n",
            "\u001b[1m186/186\u001b[0m \u001b[32m━━━━━━━━━━━━━━━━━━━━\u001b[0m\u001b[37m\u001b[0m \u001b[1m0s\u001b[0m 543ms/step - acc: 0.7968 - loss: 0.5231\n",
            "Epoch 67: val_loss did not improve from 0.66353\n",
            "\u001b[1m186/186\u001b[0m \u001b[32m━━━━━━━━━━━━━━━━━━━━\u001b[0m\u001b[37m\u001b[0m \u001b[1m106s\u001b[0m 569ms/step - acc: 0.7968 - loss: 0.5231 - val_acc: 0.7493 - val_loss: 0.8231 - learning_rate: 5.0000e-09\n",
            "Epoch 68/300\n",
            "\u001b[1m186/186\u001b[0m \u001b[32m━━━━━━━━━━━━━━━━━━━━\u001b[0m\u001b[37m\u001b[0m \u001b[1m0s\u001b[0m 550ms/step - acc: 0.8009 - loss: 0.5201\n",
            "Epoch 68: val_loss did not improve from 0.66353\n",
            "\u001b[1m186/186\u001b[0m \u001b[32m━━━━━━━━━━━━━━━━━━━━\u001b[0m\u001b[37m\u001b[0m \u001b[1m107s\u001b[0m 577ms/step - acc: 0.8009 - loss: 0.5200 - val_acc: 0.7493 - val_loss: 0.8231 - learning_rate: 5.0000e-09\n",
            "Epoch 69/300\n",
            "\u001b[1m186/186\u001b[0m \u001b[32m━━━━━━━━━━━━━━━━━━━━\u001b[0m\u001b[37m\u001b[0m \u001b[1m0s\u001b[0m 558ms/step - acc: 0.7964 - loss: 0.5244\n",
            "Epoch 69: val_loss did not improve from 0.66353\n",
            "\u001b[1m186/186\u001b[0m \u001b[32m━━━━━━━━━━━━━━━━━━━━\u001b[0m\u001b[37m\u001b[0m \u001b[1m109s\u001b[0m 584ms/step - acc: 0.7964 - loss: 0.5243 - val_acc: 0.7493 - val_loss: 0.8231 - learning_rate: 5.0000e-09\n",
            "Epoch 70/300\n",
            "\u001b[1m186/186\u001b[0m \u001b[32m━━━━━━━━━━━━━━━━━━━━\u001b[0m\u001b[37m\u001b[0m \u001b[1m0s\u001b[0m 551ms/step - acc: 0.7954 - loss: 0.5223\n",
            "Epoch 70: val_loss did not improve from 0.66353\n",
            "\u001b[1m186/186\u001b[0m \u001b[32m━━━━━━━━━━━━━━━━━━━━\u001b[0m\u001b[37m\u001b[0m \u001b[1m107s\u001b[0m 576ms/step - acc: 0.7954 - loss: 0.5222 - val_acc: 0.7493 - val_loss: 0.8231 - learning_rate: 5.0000e-09\n",
            "Epoch 71/300\n",
            "\u001b[1m186/186\u001b[0m \u001b[32m━━━━━━━━━━━━━━━━━━━━\u001b[0m\u001b[37m\u001b[0m \u001b[1m0s\u001b[0m 549ms/step - acc: 0.7988 - loss: 0.5262\n",
            "Epoch 71: val_loss did not improve from 0.66353\n",
            "\u001b[1m186/186\u001b[0m \u001b[32m━━━━━━━━━━━━━━━━━━━━\u001b[0m\u001b[37m\u001b[0m \u001b[1m107s\u001b[0m 576ms/step - acc: 0.7988 - loss: 0.5261 - val_acc: 0.7493 - val_loss: 0.8231 - learning_rate: 5.0000e-09\n",
            "Epoch 72/300\n",
            "\u001b[1m186/186\u001b[0m \u001b[32m━━━━━━━━━━━━━━━━━━━━\u001b[0m\u001b[37m\u001b[0m \u001b[1m0s\u001b[0m 545ms/step - acc: 0.8009 - loss: 0.5217\n",
            "Epoch 72: val_loss did not improve from 0.66353\n",
            "\n",
            "Epoch 72: ReduceLROnPlateau reducing learning rate to 4.999999969612646e-10.\n",
            "\u001b[1m186/186\u001b[0m \u001b[32m━━━━━━━━━━━━━━━━━━━━\u001b[0m\u001b[37m\u001b[0m \u001b[1m106s\u001b[0m 572ms/step - acc: 0.8009 - loss: 0.5217 - val_acc: 0.7493 - val_loss: 0.8232 - learning_rate: 5.0000e-09\n",
            "Epoch 73/300\n",
            "\u001b[1m186/186\u001b[0m \u001b[32m━━━━━━━━━━━━━━━━━━━━\u001b[0m\u001b[37m\u001b[0m \u001b[1m0s\u001b[0m 540ms/step - acc: 0.7958 - loss: 0.5245\n",
            "Epoch 73: val_loss did not improve from 0.66353\n",
            "\u001b[1m186/186\u001b[0m \u001b[32m━━━━━━━━━━━━━━━━━━━━\u001b[0m\u001b[37m\u001b[0m \u001b[1m106s\u001b[0m 567ms/step - acc: 0.7959 - loss: 0.5244 - val_acc: 0.7493 - val_loss: 0.8232 - learning_rate: 5.0000e-10\n",
            "Epoch 74/300\n",
            "\u001b[1m186/186\u001b[0m \u001b[32m━━━━━━━━━━━━━━━━━━━━\u001b[0m\u001b[37m\u001b[0m \u001b[1m0s\u001b[0m 542ms/step - acc: 0.7992 - loss: 0.5229\n",
            "Epoch 74: val_loss did not improve from 0.66353\n",
            "\u001b[1m186/186\u001b[0m \u001b[32m━━━━━━━━━━━━━━━━━━━━\u001b[0m\u001b[37m\u001b[0m \u001b[1m106s\u001b[0m 569ms/step - acc: 0.7992 - loss: 0.5228 - val_acc: 0.7493 - val_loss: 0.8232 - learning_rate: 5.0000e-10\n",
            "Epoch 75/300\n",
            "\u001b[1m186/186\u001b[0m \u001b[32m━━━━━━━━━━━━━━━━━━━━\u001b[0m\u001b[37m\u001b[0m \u001b[1m0s\u001b[0m 552ms/step - acc: 0.7941 - loss: 0.5247\n",
            "Epoch 75: val_loss did not improve from 0.66353\n",
            "\u001b[1m186/186\u001b[0m \u001b[32m━━━━━━━━━━━━━━━━━━━━\u001b[0m\u001b[37m\u001b[0m \u001b[1m108s\u001b[0m 579ms/step - acc: 0.7942 - loss: 0.5246 - val_acc: 0.7493 - val_loss: 0.8232 - learning_rate: 5.0000e-10\n",
            "Epoch 76/300\n",
            "\u001b[1m186/186\u001b[0m \u001b[32m━━━━━━━━━━━━━━━━━━━━\u001b[0m\u001b[37m\u001b[0m \u001b[1m0s\u001b[0m 550ms/step - acc: 0.8030 - loss: 0.5235\n",
            "Epoch 76: val_loss did not improve from 0.66353\n",
            "\u001b[1m186/186\u001b[0m \u001b[32m━━━━━━━━━━━━━━━━━━━━\u001b[0m\u001b[37m\u001b[0m \u001b[1m107s\u001b[0m 576ms/step - acc: 0.8030 - loss: 0.5234 - val_acc: 0.7493 - val_loss: 0.8232 - learning_rate: 5.0000e-10\n",
            "Epoch 77/300\n",
            "\u001b[1m186/186\u001b[0m \u001b[32m━━━━━━━━━━━━━━━━━━━━\u001b[0m\u001b[37m\u001b[0m \u001b[1m0s\u001b[0m 557ms/step - acc: 0.8021 - loss: 0.5215\n",
            "Epoch 77: val_loss did not improve from 0.66353\n",
            "\u001b[1m186/186\u001b[0m \u001b[32m━━━━━━━━━━━━━━━━━━━━\u001b[0m\u001b[37m\u001b[0m \u001b[1m108s\u001b[0m 583ms/step - acc: 0.8021 - loss: 0.5215 - val_acc: 0.7493 - val_loss: 0.8232 - learning_rate: 5.0000e-10\n",
            "Epoch 78/300\n",
            "\u001b[1m186/186\u001b[0m \u001b[32m━━━━━━━━━━━━━━━━━━━━\u001b[0m\u001b[37m\u001b[0m \u001b[1m0s\u001b[0m 555ms/step - acc: 0.7972 - loss: 0.5221\n",
            "Epoch 78: val_loss did not improve from 0.66353\n",
            "\u001b[1m186/186\u001b[0m \u001b[32m━━━━━━━━━━━━━━━━━━━━\u001b[0m\u001b[37m\u001b[0m \u001b[1m108s\u001b[0m 582ms/step - acc: 0.7972 - loss: 0.5221 - val_acc: 0.7493 - val_loss: 0.8232 - learning_rate: 5.0000e-10\n",
            "Epoch 79/300\n",
            "\u001b[1m186/186\u001b[0m \u001b[32m━━━━━━━━━━━━━━━━━━━━\u001b[0m\u001b[37m\u001b[0m \u001b[1m0s\u001b[0m 552ms/step - acc: 0.7994 - loss: 0.5171\n",
            "Epoch 79: val_loss did not improve from 0.66353\n",
            "\u001b[1m186/186\u001b[0m \u001b[32m━━━━━━━━━━━━━━━━━━━━\u001b[0m\u001b[37m\u001b[0m \u001b[1m108s\u001b[0m 579ms/step - acc: 0.7995 - loss: 0.5171 - val_acc: 0.7493 - val_loss: 0.8232 - learning_rate: 5.0000e-10\n",
            "Epoch 80/300\n",
            "\u001b[1m186/186\u001b[0m \u001b[32m━━━━━━━━━━━━━━━━━━━━\u001b[0m\u001b[37m\u001b[0m \u001b[1m0s\u001b[0m 549ms/step - acc: 0.8019 - loss: 0.5206\n",
            "Epoch 80: val_loss did not improve from 0.66353\n",
            "\u001b[1m186/186\u001b[0m \u001b[32m━━━━━━━━━━━━━━━━━━━━\u001b[0m\u001b[37m\u001b[0m \u001b[1m107s\u001b[0m 574ms/step - acc: 0.8019 - loss: 0.5205 - val_acc: 0.7493 - val_loss: 0.8232 - learning_rate: 5.0000e-10\n",
            "Epoch 81/300\n",
            "\u001b[1m186/186\u001b[0m \u001b[32m━━━━━━━━━━━━━━━━━━━━\u001b[0m\u001b[37m\u001b[0m \u001b[1m0s\u001b[0m 553ms/step - acc: 0.7964 - loss: 0.5230\n",
            "Epoch 81: val_loss did not improve from 0.66353\n",
            "\u001b[1m186/186\u001b[0m \u001b[32m━━━━━━━━━━━━━━━━━━━━\u001b[0m\u001b[37m\u001b[0m \u001b[1m108s\u001b[0m 579ms/step - acc: 0.7964 - loss: 0.5230 - val_acc: 0.7493 - val_loss: 0.8232 - learning_rate: 5.0000e-10\n",
            "Epoch 82/300\n",
            "\u001b[1m186/186\u001b[0m \u001b[32m━━━━━━━━━━━━━━━━━━━━\u001b[0m\u001b[37m\u001b[0m \u001b[1m0s\u001b[0m 553ms/step - acc: 0.7966 - loss: 0.5245\n",
            "Epoch 82: val_loss did not improve from 0.66353\n",
            "\n",
            "Epoch 82: ReduceLROnPlateau reducing learning rate to 1e-10.\n",
            "\u001b[1m186/186\u001b[0m \u001b[32m━━━━━━━━━━━━━━━━━━━━\u001b[0m\u001b[37m\u001b[0m \u001b[1m108s\u001b[0m 579ms/step - acc: 0.7967 - loss: 0.5244 - val_acc: 0.7493 - val_loss: 0.8232 - learning_rate: 5.0000e-10\n",
            "Epoch 83/300\n",
            "\u001b[1m186/186\u001b[0m \u001b[32m━━━━━━━━━━━━━━━━━━━━\u001b[0m\u001b[37m\u001b[0m \u001b[1m0s\u001b[0m 545ms/step - acc: 0.8023 - loss: 0.5240\n",
            "Epoch 83: val_loss did not improve from 0.66353\n",
            "\u001b[1m186/186\u001b[0m \u001b[32m━━━━━━━━━━━━━━━━━━━━\u001b[0m\u001b[37m\u001b[0m \u001b[1m106s\u001b[0m 571ms/step - acc: 0.8023 - loss: 0.5239 - val_acc: 0.7493 - val_loss: 0.8232 - learning_rate: 1.0000e-10\n",
            "Epoch 84/300\n",
            "\u001b[1m186/186\u001b[0m \u001b[32m━━━━━━━━━━━━━━━━━━━━\u001b[0m\u001b[37m\u001b[0m \u001b[1m0s\u001b[0m 548ms/step - acc: 0.7987 - loss: 0.5245\n",
            "Epoch 84: val_loss did not improve from 0.66353\n",
            "\u001b[1m186/186\u001b[0m \u001b[32m━━━━━━━━━━━━━━━━━━━━\u001b[0m\u001b[37m\u001b[0m \u001b[1m107s\u001b[0m 573ms/step - acc: 0.7987 - loss: 0.5245 - val_acc: 0.7493 - val_loss: 0.8232 - learning_rate: 1.0000e-10\n",
            "Epoch 85/300\n",
            "\u001b[1m186/186\u001b[0m \u001b[32m━━━━━━━━━━━━━━━━━━━━\u001b[0m\u001b[37m\u001b[0m \u001b[1m0s\u001b[0m 539ms/step - acc: 0.7997 - loss: 0.5210\n",
            "Epoch 85: val_loss did not improve from 0.66353\n",
            "\u001b[1m186/186\u001b[0m \u001b[32m━━━━━━━━━━━━━━━━━━━━\u001b[0m\u001b[37m\u001b[0m \u001b[1m105s\u001b[0m 564ms/step - acc: 0.7997 - loss: 0.5210 - val_acc: 0.7493 - val_loss: 0.8232 - learning_rate: 1.0000e-10\n",
            "Epoch 86/300\n",
            "\u001b[1m186/186\u001b[0m \u001b[32m━━━━━━━━━━━━━━━━━━━━\u001b[0m\u001b[37m\u001b[0m \u001b[1m0s\u001b[0m 542ms/step - acc: 0.8027 - loss: 0.5190\n",
            "Epoch 86: val_loss did not improve from 0.66353\n",
            "\u001b[1m186/186\u001b[0m \u001b[32m━━━━━━━━━━━━━━━━━━━━\u001b[0m\u001b[37m\u001b[0m \u001b[1m106s\u001b[0m 568ms/step - acc: 0.8027 - loss: 0.5189 - val_acc: 0.7493 - val_loss: 0.8232 - learning_rate: 1.0000e-10\n",
            "Epoch 87/300\n",
            "\u001b[1m186/186\u001b[0m \u001b[32m━━━━━━━━━━━━━━━━━━━━\u001b[0m\u001b[37m\u001b[0m \u001b[1m0s\u001b[0m 547ms/step - acc: 0.8001 - loss: 0.5215\n",
            "Epoch 87: val_loss did not improve from 0.66353\n",
            "\u001b[1m186/186\u001b[0m \u001b[32m━━━━━━━━━━━━━━━━━━━━\u001b[0m\u001b[37m\u001b[0m \u001b[1m107s\u001b[0m 573ms/step - acc: 0.8001 - loss: 0.5214 - val_acc: 0.7493 - val_loss: 0.8232 - learning_rate: 1.0000e-10\n",
            "Epoch 88/300\n",
            "\u001b[1m186/186\u001b[0m \u001b[32m━━━━━━━━━━━━━━━━━━━━\u001b[0m\u001b[37m\u001b[0m \u001b[1m0s\u001b[0m 544ms/step - acc: 0.7991 - loss: 0.5247\n",
            "Epoch 88: val_loss did not improve from 0.66353\n",
            "\u001b[1m186/186\u001b[0m \u001b[32m━━━━━━━━━━━━━━━━━━━━\u001b[0m\u001b[37m\u001b[0m \u001b[1m106s\u001b[0m 569ms/step - acc: 0.7991 - loss: 0.5247 - val_acc: 0.7493 - val_loss: 0.8232 - learning_rate: 1.0000e-10\n",
            "Epoch 89/300\n",
            "\u001b[1m186/186\u001b[0m \u001b[32m━━━━━━━━━━━━━━━━━━━━\u001b[0m\u001b[37m\u001b[0m \u001b[1m0s\u001b[0m 541ms/step - acc: 0.7971 - loss: 0.5192\n",
            "Epoch 89: val_loss did not improve from 0.66353\n",
            "\u001b[1m186/186\u001b[0m \u001b[32m━━━━━━━━━━━━━━━━━━━━\u001b[0m\u001b[37m\u001b[0m \u001b[1m106s\u001b[0m 568ms/step - acc: 0.7971 - loss: 0.5192 - val_acc: 0.7493 - val_loss: 0.8232 - learning_rate: 1.0000e-10\n",
            "Epoch 90/300\n",
            "\u001b[1m186/186\u001b[0m \u001b[32m━━━━━━━━━━━━━━━━━━━━\u001b[0m\u001b[37m\u001b[0m \u001b[1m0s\u001b[0m 545ms/step - acc: 0.7962 - loss: 0.5184\n",
            "Epoch 90: val_loss did not improve from 0.66353\n",
            "\u001b[1m186/186\u001b[0m \u001b[32m━━━━━━━━━━━━━━━━━━━━\u001b[0m\u001b[37m\u001b[0m \u001b[1m106s\u001b[0m 571ms/step - acc: 0.7962 - loss: 0.5183 - val_acc: 0.7493 - val_loss: 0.8232 - learning_rate: 1.0000e-10\n",
            "Epoch 91/300\n",
            "\u001b[1m186/186\u001b[0m \u001b[32m━━━━━━━━━━━━━━━━━━━━\u001b[0m\u001b[37m\u001b[0m \u001b[1m0s\u001b[0m 545ms/step - acc: 0.7982 - loss: 0.5216\n",
            "Epoch 91: val_loss did not improve from 0.66353\n",
            "\u001b[1m186/186\u001b[0m \u001b[32m━━━━━━━━━━━━━━━━━━━━\u001b[0m\u001b[37m\u001b[0m \u001b[1m106s\u001b[0m 571ms/step - acc: 0.7982 - loss: 0.5215 - val_acc: 0.7493 - val_loss: 0.8232 - learning_rate: 1.0000e-10\n",
            "Epoch 92/300\n",
            "\u001b[1m186/186\u001b[0m \u001b[32m━━━━━━━━━━━━━━━━━━━━\u001b[0m\u001b[37m\u001b[0m \u001b[1m0s\u001b[0m 546ms/step - acc: 0.7998 - loss: 0.5223\n",
            "Epoch 92: val_loss did not improve from 0.66353\n",
            "\u001b[1m186/186\u001b[0m \u001b[32m━━━━━━━━━━━━━━━━━━━━\u001b[0m\u001b[37m\u001b[0m \u001b[1m107s\u001b[0m 573ms/step - acc: 0.7998 - loss: 0.5222 - val_acc: 0.7493 - val_loss: 0.8232 - learning_rate: 1.0000e-10\n",
            "Epoch 93/300\n",
            "\u001b[1m186/186\u001b[0m \u001b[32m━━━━━━━━━━━━━━━━━━━━\u001b[0m\u001b[37m\u001b[0m \u001b[1m0s\u001b[0m 545ms/step - acc: 0.7992 - loss: 0.5213\n",
            "Epoch 93: val_loss did not improve from 0.66353\n",
            "\u001b[1m186/186\u001b[0m \u001b[32m━━━━━━━━━━━━━━━━━━━━\u001b[0m\u001b[37m\u001b[0m \u001b[1m106s\u001b[0m 571ms/step - acc: 0.7992 - loss: 0.5213 - val_acc: 0.7493 - val_loss: 0.8232 - learning_rate: 1.0000e-10\n",
            "Epoch 94/300\n",
            "\u001b[1m186/186\u001b[0m \u001b[32m━━━━━━━━━━━━━━━━━━━━\u001b[0m\u001b[37m\u001b[0m \u001b[1m0s\u001b[0m 548ms/step - acc: 0.7969 - loss: 0.5237\n",
            "Epoch 94: val_loss did not improve from 0.66353\n",
            "\u001b[1m186/186\u001b[0m \u001b[32m━━━━━━━━━━━━━━━━━━━━\u001b[0m\u001b[37m\u001b[0m \u001b[1m107s\u001b[0m 573ms/step - acc: 0.7970 - loss: 0.5237 - val_acc: 0.7493 - val_loss: 0.8232 - learning_rate: 1.0000e-10\n",
            "Epoch 95/300\n",
            "\u001b[1m186/186\u001b[0m \u001b[32m━━━━━━━━━━━━━━━━━━━━\u001b[0m\u001b[37m\u001b[0m \u001b[1m0s\u001b[0m 550ms/step - acc: 0.7990 - loss: 0.5232\n",
            "Epoch 95: val_loss did not improve from 0.66353\n",
            "\u001b[1m186/186\u001b[0m \u001b[32m━━━━━━━━━━━━━━━━━━━━\u001b[0m\u001b[37m\u001b[0m \u001b[1m107s\u001b[0m 576ms/step - acc: 0.7990 - loss: 0.5232 - val_acc: 0.7493 - val_loss: 0.8232 - learning_rate: 1.0000e-10\n",
            "Epoch 96/300\n",
            "\u001b[1m186/186\u001b[0m \u001b[32m━━━━━━━━━━━━━━━━━━━━\u001b[0m\u001b[37m\u001b[0m \u001b[1m0s\u001b[0m 550ms/step - acc: 0.8003 - loss: 0.5226\n",
            "Epoch 96: val_loss did not improve from 0.66353\n",
            "\u001b[1m186/186\u001b[0m \u001b[32m━━━━━━━━━━━━━━━━━━━━\u001b[0m\u001b[37m\u001b[0m \u001b[1m107s\u001b[0m 577ms/step - acc: 0.8003 - loss: 0.5225 - val_acc: 0.7493 - val_loss: 0.8232 - learning_rate: 1.0000e-10\n",
            "Epoch 97/300\n",
            "\u001b[1m186/186\u001b[0m \u001b[32m━━━━━━━━━━━━━━━━━━━━\u001b[0m\u001b[37m\u001b[0m \u001b[1m0s\u001b[0m 547ms/step - acc: 0.7981 - loss: 0.5255\n",
            "Epoch 97: val_loss did not improve from 0.66353\n",
            "\u001b[1m186/186\u001b[0m \u001b[32m━━━━━━━━━━━━━━━━━━━━\u001b[0m\u001b[37m\u001b[0m \u001b[1m107s\u001b[0m 574ms/step - acc: 0.7981 - loss: 0.5254 - val_acc: 0.7493 - val_loss: 0.8232 - learning_rate: 1.0000e-10\n",
            "Epoch 98/300\n",
            "\u001b[1m186/186\u001b[0m \u001b[32m━━━━━━━━━━━━━━━━━━━━\u001b[0m\u001b[37m\u001b[0m \u001b[1m0s\u001b[0m 554ms/step - acc: 0.8012 - loss: 0.5223\n",
            "Epoch 98: val_loss did not improve from 0.66353\n",
            "\u001b[1m186/186\u001b[0m \u001b[32m━━━━━━━━━━━━━━━━━━━━\u001b[0m\u001b[37m\u001b[0m \u001b[1m108s\u001b[0m 581ms/step - acc: 0.8012 - loss: 0.5222 - val_acc: 0.7493 - val_loss: 0.8232 - learning_rate: 1.0000e-10\n",
            "Epoch 99/300\n",
            "\u001b[1m186/186\u001b[0m \u001b[32m━━━━━━━━━━━━━━━━━━━━\u001b[0m\u001b[37m\u001b[0m \u001b[1m0s\u001b[0m 556ms/step - acc: 0.8010 - loss: 0.5229\n",
            "Epoch 99: val_loss did not improve from 0.66353\n",
            "\u001b[1m186/186\u001b[0m \u001b[32m━━━━━━━━━━━━━━━━━━━━\u001b[0m\u001b[37m\u001b[0m \u001b[1m108s\u001b[0m 582ms/step - acc: 0.8010 - loss: 0.5228 - val_acc: 0.7493 - val_loss: 0.8232 - learning_rate: 1.0000e-10\n",
            "Epoch 100/300\n",
            "\u001b[1m186/186\u001b[0m \u001b[32m━━━━━━━━━━━━━━━━━━━━\u001b[0m\u001b[37m\u001b[0m \u001b[1m0s\u001b[0m 554ms/step - acc: 0.7985 - loss: 0.5211\n",
            "Epoch 100: val_loss did not improve from 0.66353\n",
            "\u001b[1m186/186\u001b[0m \u001b[32m━━━━━━━━━━━━━━━━━━━━\u001b[0m\u001b[37m\u001b[0m \u001b[1m108s\u001b[0m 580ms/step - acc: 0.7985 - loss: 0.5211 - val_acc: 0.7493 - val_loss: 0.8232 - learning_rate: 1.0000e-10\n",
            "Epoch 101/300\n",
            "\u001b[1m186/186\u001b[0m \u001b[32m━━━━━━━━━━━━━━━━━━━━\u001b[0m\u001b[37m\u001b[0m \u001b[1m0s\u001b[0m 548ms/step - acc: 0.7990 - loss: 0.5218\n",
            "Epoch 101: val_loss did not improve from 0.66353\n",
            "\u001b[1m186/186\u001b[0m \u001b[32m━━━━━━━━━━━━━━━━━━━━\u001b[0m\u001b[37m\u001b[0m \u001b[1m107s\u001b[0m 575ms/step - acc: 0.7990 - loss: 0.5218 - val_acc: 0.7493 - val_loss: 0.8232 - learning_rate: 1.0000e-10\n",
            "Epoch 102/300\n",
            "\u001b[1m186/186\u001b[0m \u001b[32m━━━━━━━━━━━━━━━━━━━━\u001b[0m\u001b[37m\u001b[0m \u001b[1m0s\u001b[0m 550ms/step - acc: 0.7974 - loss: 0.5254\n",
            "Epoch 102: val_loss did not improve from 0.66353\n",
            "\u001b[1m186/186\u001b[0m \u001b[32m━━━━━━━━━━━━━━━━━━━━\u001b[0m\u001b[37m\u001b[0m \u001b[1m107s\u001b[0m 575ms/step - acc: 0.7975 - loss: 0.5254 - val_acc: 0.7493 - val_loss: 0.8232 - learning_rate: 1.0000e-10\n",
            "Epoch 103/300\n",
            "\u001b[1m186/186\u001b[0m \u001b[32m━━━━━━━━━━━━━━━━━━━━\u001b[0m\u001b[37m\u001b[0m \u001b[1m0s\u001b[0m 555ms/step - acc: 0.8013 - loss: 0.5233\n",
            "Epoch 103: val_loss did not improve from 0.66353\n",
            "\u001b[1m186/186\u001b[0m \u001b[32m━━━━━━━━━━━━━━━━━━━━\u001b[0m\u001b[37m\u001b[0m \u001b[1m108s\u001b[0m 582ms/step - acc: 0.8013 - loss: 0.5232 - val_acc: 0.7493 - val_loss: 0.8232 - learning_rate: 1.0000e-10\n",
            "Epoch 104/300\n",
            "\u001b[1m186/186\u001b[0m \u001b[32m━━━━━━━━━━━━━━━━━━━━\u001b[0m\u001b[37m\u001b[0m \u001b[1m0s\u001b[0m 554ms/step - acc: 0.7984 - loss: 0.5220\n",
            "Epoch 104: val_loss did not improve from 0.66353\n",
            "\u001b[1m186/186\u001b[0m \u001b[32m━━━━━━━━━━━━━━━━━━━━\u001b[0m\u001b[37m\u001b[0m \u001b[1m108s\u001b[0m 581ms/step - acc: 0.7984 - loss: 0.5220 - val_acc: 0.7493 - val_loss: 0.8232 - learning_rate: 1.0000e-10\n",
            "Epoch 105/300\n",
            "\u001b[1m186/186\u001b[0m \u001b[32m━━━━━━━━━━━━━━━━━━━━\u001b[0m\u001b[37m\u001b[0m \u001b[1m0s\u001b[0m 549ms/step - acc: 0.7961 - loss: 0.5208\n",
            "Epoch 105: val_loss did not improve from 0.66353\n",
            "\u001b[1m186/186\u001b[0m \u001b[32m━━━━━━━━━━━━━━━━━━━━\u001b[0m\u001b[37m\u001b[0m \u001b[1m107s\u001b[0m 575ms/step - acc: 0.7961 - loss: 0.5207 - val_acc: 0.7493 - val_loss: 0.8232 - learning_rate: 1.0000e-10\n",
            "Epoch 106/300\n",
            "\u001b[1m186/186\u001b[0m \u001b[32m━━━━━━━━━━━━━━━━━━━━\u001b[0m\u001b[37m\u001b[0m \u001b[1m0s\u001b[0m 545ms/step - acc: 0.7942 - loss: 0.5211\n",
            "Epoch 106: val_loss did not improve from 0.66353\n",
            "\u001b[1m186/186\u001b[0m \u001b[32m━━━━━━━━━━━━━━━━━━━━\u001b[0m\u001b[37m\u001b[0m \u001b[1m106s\u001b[0m 570ms/step - acc: 0.7942 - loss: 0.5211 - val_acc: 0.7493 - val_loss: 0.8232 - learning_rate: 1.0000e-10\n",
            "Epoch 107/300\n",
            "\u001b[1m186/186\u001b[0m \u001b[32m━━━━━━━━━━━━━━━━━━━━\u001b[0m\u001b[37m\u001b[0m \u001b[1m0s\u001b[0m 543ms/step - acc: 0.8004 - loss: 0.5232\n",
            "Epoch 107: val_loss did not improve from 0.66353\n",
            "\u001b[1m186/186\u001b[0m \u001b[32m━━━━━━━━━━━━━━━━━━━━\u001b[0m\u001b[37m\u001b[0m \u001b[1m106s\u001b[0m 570ms/step - acc: 0.8004 - loss: 0.5231 - val_acc: 0.7493 - val_loss: 0.8232 - learning_rate: 1.0000e-10\n",
            "Epoch 108/300\n",
            "\u001b[1m186/186\u001b[0m \u001b[32m━━━━━━━━━━━━━━━━━━━━\u001b[0m\u001b[37m\u001b[0m \u001b[1m0s\u001b[0m 551ms/step - acc: 0.7999 - loss: 0.5229\n",
            "Epoch 108: val_loss did not improve from 0.66353\n",
            "\u001b[1m186/186\u001b[0m \u001b[32m━━━━━━━━━━━━━━━━━━━━\u001b[0m\u001b[37m\u001b[0m \u001b[1m107s\u001b[0m 577ms/step - acc: 0.7999 - loss: 0.5229 - val_acc: 0.7493 - val_loss: 0.8232 - learning_rate: 1.0000e-10\n",
            "Epoch 109/300\n",
            "\u001b[1m186/186\u001b[0m \u001b[32m━━━━━━━━━━━━━━━━━━━━\u001b[0m\u001b[37m\u001b[0m \u001b[1m0s\u001b[0m 546ms/step - acc: 0.7963 - loss: 0.5263\n",
            "Epoch 109: val_loss did not improve from 0.66353\n",
            "\u001b[1m186/186\u001b[0m \u001b[32m━━━━━━━━━━━━━━━━━━━━\u001b[0m\u001b[37m\u001b[0m \u001b[1m107s\u001b[0m 572ms/step - acc: 0.7963 - loss: 0.5262 - val_acc: 0.7493 - val_loss: 0.8232 - learning_rate: 1.0000e-10\n",
            "Epoch 110/300\n",
            "\u001b[1m186/186\u001b[0m \u001b[32m━━━━━━━━━━━━━━━━━━━━\u001b[0m\u001b[37m\u001b[0m \u001b[1m0s\u001b[0m 537ms/step - acc: 0.7964 - loss: 0.5232\n",
            "Epoch 110: val_loss did not improve from 0.66353\n",
            "\u001b[1m186/186\u001b[0m \u001b[32m━━━━━━━━━━━━━━━━━━━━\u001b[0m\u001b[37m\u001b[0m \u001b[1m105s\u001b[0m 564ms/step - acc: 0.7965 - loss: 0.5231 - val_acc: 0.7493 - val_loss: 0.8232 - learning_rate: 1.0000e-10\n",
            "Epoch 111/300\n",
            "\u001b[1m186/186\u001b[0m \u001b[32m━━━━━━━━━━━━━━━━━━━━\u001b[0m\u001b[37m\u001b[0m \u001b[1m0s\u001b[0m 545ms/step - acc: 0.7992 - loss: 0.5247\n",
            "Epoch 111: val_loss did not improve from 0.66353\n",
            "\u001b[1m186/186\u001b[0m \u001b[32m━━━━━━━━━━━━━━━━━━━━\u001b[0m\u001b[37m\u001b[0m \u001b[1m106s\u001b[0m 572ms/step - acc: 0.7992 - loss: 0.5246 - val_acc: 0.7493 - val_loss: 0.8232 - learning_rate: 1.0000e-10\n",
            "Epoch 112/300\n",
            "\u001b[1m186/186\u001b[0m \u001b[32m━━━━━━━━━━━━━━━━━━━━\u001b[0m\u001b[37m\u001b[0m \u001b[1m0s\u001b[0m 545ms/step - acc: 0.7999 - loss: 0.5238\n",
            "Epoch 112: val_loss did not improve from 0.66353\n",
            "\u001b[1m186/186\u001b[0m \u001b[32m━━━━━━━━━━━━━━━━━━━━\u001b[0m\u001b[37m\u001b[0m \u001b[1m106s\u001b[0m 571ms/step - acc: 0.7999 - loss: 0.5238 - val_acc: 0.7493 - val_loss: 0.8232 - learning_rate: 1.0000e-10\n",
            "Epoch 113/300\n",
            "\u001b[1m186/186\u001b[0m \u001b[32m━━━━━━━━━━━━━━━━━━━━\u001b[0m\u001b[37m\u001b[0m \u001b[1m0s\u001b[0m 538ms/step - acc: 0.8026 - loss: 0.5237\n",
            "Epoch 113: val_loss did not improve from 0.66353\n",
            "\u001b[1m186/186\u001b[0m \u001b[32m━━━━━━━━━━━━━━━━━━━━\u001b[0m\u001b[37m\u001b[0m \u001b[1m105s\u001b[0m 565ms/step - acc: 0.8026 - loss: 0.5237 - val_acc: 0.7493 - val_loss: 0.8232 - learning_rate: 1.0000e-10\n",
            "Epoch 114/300\n",
            "\u001b[1m186/186\u001b[0m \u001b[32m━━━━━━━━━━━━━━━━━━━━\u001b[0m\u001b[37m\u001b[0m \u001b[1m0s\u001b[0m 538ms/step - acc: 0.7981 - loss: 0.5261\n",
            "Epoch 114: val_loss did not improve from 0.66353\n",
            "\u001b[1m186/186\u001b[0m \u001b[32m━━━━━━━━━━━━━━━━━━━━\u001b[0m\u001b[37m\u001b[0m \u001b[1m105s\u001b[0m 563ms/step - acc: 0.7981 - loss: 0.5260 - val_acc: 0.7493 - val_loss: 0.8232 - learning_rate: 1.0000e-10\n",
            "Epoch 115/300\n",
            "\u001b[1m186/186\u001b[0m \u001b[32m━━━━━━━━━━━━━━━━━━━━\u001b[0m\u001b[37m\u001b[0m \u001b[1m0s\u001b[0m 549ms/step - acc: 0.7953 - loss: 0.5260\n",
            "Epoch 115: val_loss did not improve from 0.66353\n",
            "\u001b[1m186/186\u001b[0m \u001b[32m━━━━━━━━━━━━━━━━━━━━\u001b[0m\u001b[37m\u001b[0m \u001b[1m107s\u001b[0m 574ms/step - acc: 0.7954 - loss: 0.5259 - val_acc: 0.7493 - val_loss: 0.8232 - learning_rate: 1.0000e-10\n",
            "Epoch 116/300\n",
            "\u001b[1m186/186\u001b[0m \u001b[32m━━━━━━━━━━━━━━━━━━━━\u001b[0m\u001b[37m\u001b[0m \u001b[1m0s\u001b[0m 540ms/step - acc: 0.7971 - loss: 0.5257\n",
            "Epoch 116: val_loss did not improve from 0.66353\n",
            "\u001b[1m186/186\u001b[0m \u001b[32m━━━━━━━━━━━━━━━━━━━━\u001b[0m\u001b[37m\u001b[0m \u001b[1m105s\u001b[0m 565ms/step - acc: 0.7971 - loss: 0.5256 - val_acc: 0.7493 - val_loss: 0.8232 - learning_rate: 1.0000e-10\n",
            "Epoch 117/300\n",
            "\u001b[1m186/186\u001b[0m \u001b[32m━━━━━━━━━━━━━━━━━━━━\u001b[0m\u001b[37m\u001b[0m \u001b[1m0s\u001b[0m 528ms/step - acc: 0.7927 - loss: 0.5277\n",
            "Epoch 117: val_loss did not improve from 0.66353\n",
            "\u001b[1m186/186\u001b[0m \u001b[32m━━━━━━━━━━━━━━━━━━━━\u001b[0m\u001b[37m\u001b[0m \u001b[1m103s\u001b[0m 554ms/step - acc: 0.7927 - loss: 0.5276 - val_acc: 0.7493 - val_loss: 0.8232 - learning_rate: 1.0000e-10\n",
            "Epoch 118/300\n",
            "\u001b[1m186/186\u001b[0m \u001b[32m━━━━━━━━━━━━━━━━━━━━\u001b[0m\u001b[37m\u001b[0m \u001b[1m0s\u001b[0m 542ms/step - acc: 0.8010 - loss: 0.5199\n",
            "Epoch 118: val_loss did not improve from 0.66353\n",
            "\u001b[1m186/186\u001b[0m \u001b[32m━━━━━━━━━━━━━━━━━━━━\u001b[0m\u001b[37m\u001b[0m \u001b[1m106s\u001b[0m 567ms/step - acc: 0.8010 - loss: 0.5198 - val_acc: 0.7493 - val_loss: 0.8232 - learning_rate: 1.0000e-10\n",
            "Epoch 119/300\n",
            "\u001b[1m186/186\u001b[0m \u001b[32m━━━━━━━━━━━━━━━━━━━━\u001b[0m\u001b[37m\u001b[0m \u001b[1m0s\u001b[0m 537ms/step - acc: 0.7999 - loss: 0.5239\n",
            "Epoch 119: val_loss did not improve from 0.66353\n",
            "\u001b[1m186/186\u001b[0m \u001b[32m━━━━━━━━━━━━━━━━━━━━\u001b[0m\u001b[37m\u001b[0m \u001b[1m105s\u001b[0m 562ms/step - acc: 0.7999 - loss: 0.5238 - val_acc: 0.7493 - val_loss: 0.8232 - learning_rate: 1.0000e-10\n",
            "Epoch 120/300\n",
            "\u001b[1m186/186\u001b[0m \u001b[32m━━━━━━━━━━━━━━━━━━━━\u001b[0m\u001b[37m\u001b[0m \u001b[1m0s\u001b[0m 531ms/step - acc: 0.7945 - loss: 0.5266\n",
            "Epoch 120: val_loss did not improve from 0.66353\n",
            "\u001b[1m186/186\u001b[0m \u001b[32m━━━━━━━━━━━━━━━━━━━━\u001b[0m\u001b[37m\u001b[0m \u001b[1m104s\u001b[0m 556ms/step - acc: 0.7945 - loss: 0.5265 - val_acc: 0.7493 - val_loss: 0.8232 - learning_rate: 1.0000e-10\n",
            "Epoch 121/300\n",
            "\u001b[1m186/186\u001b[0m \u001b[32m━━━━━━━━━━━━━━━━━━━━\u001b[0m\u001b[37m\u001b[0m \u001b[1m0s\u001b[0m 535ms/step - acc: 0.8022 - loss: 0.5226\n",
            "Epoch 121: val_loss did not improve from 0.66353\n",
            "\u001b[1m186/186\u001b[0m \u001b[32m━━━━━━━━━━━━━━━━━━━━\u001b[0m\u001b[37m\u001b[0m \u001b[1m104s\u001b[0m 560ms/step - acc: 0.8023 - loss: 0.5226 - val_acc: 0.7493 - val_loss: 0.8232 - learning_rate: 1.0000e-10\n",
            "Epoch 122/300\n",
            "\u001b[1m186/186\u001b[0m \u001b[32m━━━━━━━━━━━━━━━━━━━━\u001b[0m\u001b[37m\u001b[0m \u001b[1m0s\u001b[0m 530ms/step - acc: 0.7971 - loss: 0.5234\n",
            "Epoch 122: val_loss did not improve from 0.66353\n",
            "\u001b[1m186/186\u001b[0m \u001b[32m━━━━━━━━━━━━━━━━━━━━\u001b[0m\u001b[37m\u001b[0m \u001b[1m103s\u001b[0m 555ms/step - acc: 0.7971 - loss: 0.5233 - val_acc: 0.7493 - val_loss: 0.8232 - learning_rate: 1.0000e-10\n",
            "Epoch 123/300\n",
            "\u001b[1m186/186\u001b[0m \u001b[32m━━━━━━━━━━━━━━━━━━━━\u001b[0m\u001b[37m\u001b[0m \u001b[1m0s\u001b[0m 521ms/step - acc: 0.8004 - loss: 0.5237\n",
            "Epoch 123: val_loss did not improve from 0.66353\n",
            "\u001b[1m186/186\u001b[0m \u001b[32m━━━━━━━━━━━━━━━━━━━━\u001b[0m\u001b[37m\u001b[0m \u001b[1m102s\u001b[0m 546ms/step - acc: 0.8004 - loss: 0.5236 - val_acc: 0.7493 - val_loss: 0.8232 - learning_rate: 1.0000e-10\n",
            "Epoch 124/300\n",
            "\u001b[1m186/186\u001b[0m \u001b[32m━━━━━━━━━━━━━━━━━━━━\u001b[0m\u001b[37m\u001b[0m \u001b[1m0s\u001b[0m 529ms/step - acc: 0.7977 - loss: 0.5193\n",
            "Epoch 124: val_loss did not improve from 0.66353\n",
            "\u001b[1m186/186\u001b[0m \u001b[32m━━━━━━━━━━━━━━━━━━━━\u001b[0m\u001b[37m\u001b[0m \u001b[1m103s\u001b[0m 554ms/step - acc: 0.7978 - loss: 0.5193 - val_acc: 0.7493 - val_loss: 0.8232 - learning_rate: 1.0000e-10\n",
            "Epoch 125/300\n",
            "\u001b[1m186/186\u001b[0m \u001b[32m━━━━━━━━━━━━━━━━━━━━\u001b[0m\u001b[37m\u001b[0m \u001b[1m0s\u001b[0m 535ms/step - acc: 0.8048 - loss: 0.5210\n",
            "Epoch 125: val_loss did not improve from 0.66353\n",
            "\u001b[1m186/186\u001b[0m \u001b[32m━━━━━━━━━━━━━━━━━━━━\u001b[0m\u001b[37m\u001b[0m \u001b[1m104s\u001b[0m 561ms/step - acc: 0.8048 - loss: 0.5209 - val_acc: 0.7493 - val_loss: 0.8232 - learning_rate: 1.0000e-10\n",
            "Epoch 126/300\n",
            "\u001b[1m186/186\u001b[0m \u001b[32m━━━━━━━━━━━━━━━━━━━━\u001b[0m\u001b[37m\u001b[0m \u001b[1m0s\u001b[0m 524ms/step - acc: 0.8030 - loss: 0.5231\n",
            "Epoch 126: val_loss did not improve from 0.66353\n",
            "\u001b[1m186/186\u001b[0m \u001b[32m━━━━━━━━━━━━━━━━━━━━\u001b[0m\u001b[37m\u001b[0m \u001b[1m102s\u001b[0m 549ms/step - acc: 0.8031 - loss: 0.5230 - val_acc: 0.7493 - val_loss: 0.8232 - learning_rate: 1.0000e-10\n",
            "Epoch 127/300\n",
            "\u001b[1m186/186\u001b[0m \u001b[32m━━━━━━━━━━━━━━━━━━━━\u001b[0m\u001b[37m\u001b[0m \u001b[1m0s\u001b[0m 537ms/step - acc: 0.7967 - loss: 0.5228\n",
            "Epoch 127: val_loss did not improve from 0.66353\n",
            "\u001b[1m186/186\u001b[0m \u001b[32m━━━━━━━━━━━━━━━━━━━━\u001b[0m\u001b[37m\u001b[0m \u001b[1m105s\u001b[0m 562ms/step - acc: 0.7967 - loss: 0.5227 - val_acc: 0.7493 - val_loss: 0.8232 - learning_rate: 1.0000e-10\n",
            "Epoch 128/300\n",
            "\u001b[1m186/186\u001b[0m \u001b[32m━━━━━━━━━━━━━━━━━━━━\u001b[0m\u001b[37m\u001b[0m \u001b[1m0s\u001b[0m 541ms/step - acc: 0.8019 - loss: 0.5252\n",
            "Epoch 128: val_loss did not improve from 0.66353\n",
            "\u001b[1m186/186\u001b[0m \u001b[32m━━━━━━━━━━━━━━━━━━━━\u001b[0m\u001b[37m\u001b[0m \u001b[1m105s\u001b[0m 566ms/step - acc: 0.8019 - loss: 0.5251 - val_acc: 0.7493 - val_loss: 0.8232 - learning_rate: 1.0000e-10\n",
            "Epoch 129/300\n",
            "\u001b[1m186/186\u001b[0m \u001b[32m━━━━━━━━━━━━━━━━━━━━\u001b[0m\u001b[37m\u001b[0m \u001b[1m0s\u001b[0m 523ms/step - acc: 0.8033 - loss: 0.5236\n",
            "Epoch 129: val_loss did not improve from 0.66353\n",
            "\u001b[1m186/186\u001b[0m \u001b[32m━━━━━━━━━━━━━━━━━━━━\u001b[0m\u001b[37m\u001b[0m \u001b[1m102s\u001b[0m 549ms/step - acc: 0.8033 - loss: 0.5235 - val_acc: 0.7493 - val_loss: 0.8232 - learning_rate: 1.0000e-10\n",
            "Epoch 130/300\n",
            "\u001b[1m186/186\u001b[0m \u001b[32m━━━━━━━━━━━━━━━━━━━━\u001b[0m\u001b[37m\u001b[0m \u001b[1m0s\u001b[0m 524ms/step - acc: 0.7953 - loss: 0.5249\n",
            "Epoch 130: val_loss did not improve from 0.66353\n",
            "\u001b[1m186/186\u001b[0m \u001b[32m━━━━━━━━━━━━━━━━━━━━\u001b[0m\u001b[37m\u001b[0m \u001b[1m102s\u001b[0m 550ms/step - acc: 0.7953 - loss: 0.5248 - val_acc: 0.7493 - val_loss: 0.8232 - learning_rate: 1.0000e-10\n",
            "Epoch 131/300\n",
            "\u001b[1m186/186\u001b[0m \u001b[32m━━━━━━━━━━━━━━━━━━━━\u001b[0m\u001b[37m\u001b[0m \u001b[1m0s\u001b[0m 533ms/step - acc: 0.8011 - loss: 0.5249\n",
            "Epoch 131: val_loss did not improve from 0.66353\n",
            "\u001b[1m186/186\u001b[0m \u001b[32m━━━━━━━━━━━━━━━━━━━━\u001b[0m\u001b[37m\u001b[0m \u001b[1m104s\u001b[0m 558ms/step - acc: 0.8011 - loss: 0.5249 - val_acc: 0.7493 - val_loss: 0.8232 - learning_rate: 1.0000e-10\n",
            "Epoch 132/300\n",
            "\u001b[1m186/186\u001b[0m \u001b[32m━━━━━━━━━━━━━━━━━━━━\u001b[0m\u001b[37m\u001b[0m \u001b[1m0s\u001b[0m 523ms/step - acc: 0.8020 - loss: 0.5194\n",
            "Epoch 132: val_loss did not improve from 0.66353\n",
            "\u001b[1m186/186\u001b[0m \u001b[32m━━━━━━━━━━━━━━━━━━━━\u001b[0m\u001b[37m\u001b[0m \u001b[1m102s\u001b[0m 548ms/step - acc: 0.8020 - loss: 0.5194 - val_acc: 0.7493 - val_loss: 0.8232 - learning_rate: 1.0000e-10\n",
            "Epoch 133/300\n",
            "\u001b[1m186/186\u001b[0m \u001b[32m━━━━━━━━━━━━━━━━━━━━\u001b[0m\u001b[37m\u001b[0m \u001b[1m0s\u001b[0m 527ms/step - acc: 0.8010 - loss: 0.5249\n",
            "Epoch 133: val_loss did not improve from 0.66353\n",
            "\u001b[1m186/186\u001b[0m \u001b[32m━━━━━━━━━━━━━━━━━━━━\u001b[0m\u001b[37m\u001b[0m \u001b[1m103s\u001b[0m 552ms/step - acc: 0.8010 - loss: 0.5248 - val_acc: 0.7493 - val_loss: 0.8232 - learning_rate: 1.0000e-10\n",
            "Epoch 134/300\n",
            "\u001b[1m186/186\u001b[0m \u001b[32m━━━━━━━━━━━━━━━━━━━━\u001b[0m\u001b[37m\u001b[0m \u001b[1m0s\u001b[0m 537ms/step - acc: 0.8028 - loss: 0.5213\n",
            "Epoch 134: val_loss did not improve from 0.66353\n",
            "\u001b[1m186/186\u001b[0m \u001b[32m━━━━━━━━━━━━━━━━━━━━\u001b[0m\u001b[37m\u001b[0m \u001b[1m105s\u001b[0m 562ms/step - acc: 0.8028 - loss: 0.5213 - val_acc: 0.7493 - val_loss: 0.8232 - learning_rate: 1.0000e-10\n",
            "Epoch 135/300\n",
            "\u001b[1m186/186\u001b[0m \u001b[32m━━━━━━━━━━━━━━━━━━━━\u001b[0m\u001b[37m\u001b[0m \u001b[1m0s\u001b[0m 527ms/step - acc: 0.7998 - loss: 0.5237\n",
            "Epoch 135: val_loss did not improve from 0.66353\n",
            "\u001b[1m186/186\u001b[0m \u001b[32m━━━━━━━━━━━━━━━━━━━━\u001b[0m\u001b[37m\u001b[0m \u001b[1m103s\u001b[0m 552ms/step - acc: 0.7998 - loss: 0.5237 - val_acc: 0.7493 - val_loss: 0.8232 - learning_rate: 1.0000e-10\n",
            "Epoch 136/300\n",
            "\u001b[1m186/186\u001b[0m \u001b[32m━━━━━━━━━━━━━━━━━━━━\u001b[0m\u001b[37m\u001b[0m \u001b[1m0s\u001b[0m 523ms/step - acc: 0.7994 - loss: 0.5255\n",
            "Epoch 136: val_loss did not improve from 0.66353\n",
            "\u001b[1m186/186\u001b[0m \u001b[32m━━━━━━━━━━━━━━━━━━━━\u001b[0m\u001b[37m\u001b[0m \u001b[1m102s\u001b[0m 548ms/step - acc: 0.7995 - loss: 0.5254 - val_acc: 0.7493 - val_loss: 0.8232 - learning_rate: 1.0000e-10\n",
            "Epoch 137/300\n",
            "\u001b[1m186/186\u001b[0m \u001b[32m━━━━━━━━━━━━━━━━━━━━\u001b[0m\u001b[37m\u001b[0m \u001b[1m0s\u001b[0m 523ms/step - acc: 0.8013 - loss: 0.5221\n",
            "Epoch 137: val_loss did not improve from 0.66353\n",
            "\u001b[1m186/186\u001b[0m \u001b[32m━━━━━━━━━━━━━━━━━━━━\u001b[0m\u001b[37m\u001b[0m \u001b[1m102s\u001b[0m 547ms/step - acc: 0.8013 - loss: 0.5220 - val_acc: 0.7493 - val_loss: 0.8232 - learning_rate: 1.0000e-10\n",
            "Epoch 138/300\n",
            "\u001b[1m186/186\u001b[0m \u001b[32m━━━━━━━━━━━━━━━━━━━━\u001b[0m\u001b[37m\u001b[0m \u001b[1m0s\u001b[0m 528ms/step - acc: 0.8028 - loss: 0.5214\n",
            "Epoch 138: val_loss did not improve from 0.66353\n",
            "\u001b[1m186/186\u001b[0m \u001b[32m━━━━━━━━━━━━━━━━━━━━\u001b[0m\u001b[37m\u001b[0m \u001b[1m103s\u001b[0m 553ms/step - acc: 0.8028 - loss: 0.5214 - val_acc: 0.7493 - val_loss: 0.8232 - learning_rate: 1.0000e-10\n",
            "Epoch 139/300\n",
            "\u001b[1m186/186\u001b[0m \u001b[32m━━━━━━━━━━━━━━━━━━━━\u001b[0m\u001b[37m\u001b[0m \u001b[1m0s\u001b[0m 537ms/step - acc: 0.8055 - loss: 0.5212\n",
            "Epoch 139: val_loss did not improve from 0.66353\n",
            "\u001b[1m186/186\u001b[0m \u001b[32m━━━━━━━━━━━━━━━━━━━━\u001b[0m\u001b[37m\u001b[0m \u001b[1m105s\u001b[0m 562ms/step - acc: 0.8055 - loss: 0.5211 - val_acc: 0.7493 - val_loss: 0.8232 - learning_rate: 1.0000e-10\n",
            "Epoch 140/300\n",
            "\u001b[1m186/186\u001b[0m \u001b[32m━━━━━━━━━━━━━━━━━━━━\u001b[0m\u001b[37m\u001b[0m \u001b[1m0s\u001b[0m 523ms/step - acc: 0.7928 - loss: 0.5241\n",
            "Epoch 140: val_loss did not improve from 0.66353\n",
            "\u001b[1m186/186\u001b[0m \u001b[32m━━━━━━━━━━━━━━━━━━━━\u001b[0m\u001b[37m\u001b[0m \u001b[1m102s\u001b[0m 548ms/step - acc: 0.7928 - loss: 0.5241 - val_acc: 0.7493 - val_loss: 0.8232 - learning_rate: 1.0000e-10\n",
            "Epoch 141/300\n",
            "\u001b[1m186/186\u001b[0m \u001b[32m━━━━━━━━━━━━━━━━━━━━\u001b[0m\u001b[37m\u001b[0m \u001b[1m0s\u001b[0m 524ms/step - acc: 0.7981 - loss: 0.5248\n",
            "Epoch 141: val_loss did not improve from 0.66353\n",
            "\u001b[1m186/186\u001b[0m \u001b[32m━━━━━━━━━━━━━━━━━━━━\u001b[0m\u001b[37m\u001b[0m \u001b[1m102s\u001b[0m 549ms/step - acc: 0.7981 - loss: 0.5248 - val_acc: 0.7493 - val_loss: 0.8232 - learning_rate: 1.0000e-10\n",
            "Epoch 142/300\n",
            "\u001b[1m186/186\u001b[0m \u001b[32m━━━━━━━━━━━━━━━━━━━━\u001b[0m\u001b[37m\u001b[0m \u001b[1m0s\u001b[0m 535ms/step - acc: 0.8009 - loss: 0.5210\n",
            "Epoch 142: val_loss did not improve from 0.66353\n",
            "\u001b[1m186/186\u001b[0m \u001b[32m━━━━━━━━━━━━━━━━━━━━\u001b[0m\u001b[37m\u001b[0m \u001b[1m104s\u001b[0m 560ms/step - acc: 0.8009 - loss: 0.5209 - val_acc: 0.7493 - val_loss: 0.8232 - learning_rate: 1.0000e-10\n",
            "Epoch 143/300\n",
            "\u001b[1m186/186\u001b[0m \u001b[32m━━━━━━━━━━━━━━━━━━━━\u001b[0m\u001b[37m\u001b[0m \u001b[1m0s\u001b[0m 526ms/step - acc: 0.7971 - loss: 0.5230\n",
            "Epoch 143: val_loss did not improve from 0.66353\n",
            "\u001b[1m186/186\u001b[0m \u001b[32m━━━━━━━━━━━━━━━━━━━━\u001b[0m\u001b[37m\u001b[0m \u001b[1m103s\u001b[0m 551ms/step - acc: 0.7971 - loss: 0.5230 - val_acc: 0.7493 - val_loss: 0.8232 - learning_rate: 1.0000e-10\n",
            "Epoch 144/300\n",
            "\u001b[1m186/186\u001b[0m \u001b[32m━━━━━━━━━━━━━━━━━━━━\u001b[0m\u001b[37m\u001b[0m \u001b[1m0s\u001b[0m 524ms/step - acc: 0.7992 - loss: 0.5233\n",
            "Epoch 144: val_loss did not improve from 0.66353\n",
            "\u001b[1m186/186\u001b[0m \u001b[32m━━━━━━━━━━━━━━━━━━━━\u001b[0m\u001b[37m\u001b[0m \u001b[1m102s\u001b[0m 550ms/step - acc: 0.7992 - loss: 0.5232 - val_acc: 0.7493 - val_loss: 0.8232 - learning_rate: 1.0000e-10\n",
            "Epoch 145/300\n",
            "\u001b[1m186/186\u001b[0m \u001b[32m━━━━━━━━━━━━━━━━━━━━\u001b[0m\u001b[37m\u001b[0m \u001b[1m0s\u001b[0m 524ms/step - acc: 0.8052 - loss: 0.5259\n",
            "Epoch 145: val_loss did not improve from 0.66353\n",
            "\u001b[1m186/186\u001b[0m \u001b[32m━━━━━━━━━━━━━━━━━━━━\u001b[0m\u001b[37m\u001b[0m \u001b[1m102s\u001b[0m 549ms/step - acc: 0.8052 - loss: 0.5258 - val_acc: 0.7493 - val_loss: 0.8232 - learning_rate: 1.0000e-10\n",
            "Epoch 146/300\n",
            "\u001b[1m186/186\u001b[0m \u001b[32m━━━━━━━━━━━━━━━━━━━━\u001b[0m\u001b[37m\u001b[0m \u001b[1m0s\u001b[0m 528ms/step - acc: 0.8004 - loss: 0.5215\n",
            "Epoch 146: val_loss did not improve from 0.66353\n",
            "\u001b[1m186/186\u001b[0m \u001b[32m━━━━━━━━━━━━━━━━━━━━\u001b[0m\u001b[37m\u001b[0m \u001b[1m103s\u001b[0m 554ms/step - acc: 0.8004 - loss: 0.5215 - val_acc: 0.7493 - val_loss: 0.8232 - learning_rate: 1.0000e-10\n",
            "Epoch 147/300\n",
            "\u001b[1m186/186\u001b[0m \u001b[32m━━━━━━━━━━━━━━━━━━━━\u001b[0m\u001b[37m\u001b[0m \u001b[1m0s\u001b[0m 537ms/step - acc: 0.7955 - loss: 0.5254\n",
            "Epoch 147: val_loss did not improve from 0.66353\n",
            "\u001b[1m186/186\u001b[0m \u001b[32m━━━━━━━━━━━━━━━━━━━━\u001b[0m\u001b[37m\u001b[0m \u001b[1m105s\u001b[0m 562ms/step - acc: 0.7956 - loss: 0.5253 - val_acc: 0.7493 - val_loss: 0.8232 - learning_rate: 1.0000e-10\n",
            "Epoch 148/300\n",
            "\u001b[1m186/186\u001b[0m \u001b[32m━━━━━━━━━━━━━━━━━━━━\u001b[0m\u001b[37m\u001b[0m \u001b[1m0s\u001b[0m 536ms/step - acc: 0.7968 - loss: 0.5219\n",
            "Epoch 148: val_loss did not improve from 0.66353\n",
            "\u001b[1m186/186\u001b[0m \u001b[32m━━━━━━━━━━━━━━━━━━━━\u001b[0m\u001b[37m\u001b[0m \u001b[1m104s\u001b[0m 561ms/step - acc: 0.7968 - loss: 0.5219 - val_acc: 0.7493 - val_loss: 0.8232 - learning_rate: 1.0000e-10\n",
            "Epoch 149/300\n",
            "\u001b[1m186/186\u001b[0m \u001b[32m━━━━━━━━━━━━━━━━━━━━\u001b[0m\u001b[37m\u001b[0m \u001b[1m0s\u001b[0m 537ms/step - acc: 0.7971 - loss: 0.5232\n",
            "Epoch 149: val_loss did not improve from 0.66353\n",
            "\u001b[1m186/186\u001b[0m \u001b[32m━━━━━━━━━━━━━━━━━━━━\u001b[0m\u001b[37m\u001b[0m \u001b[1m105s\u001b[0m 561ms/step - acc: 0.7971 - loss: 0.5232 - val_acc: 0.7493 - val_loss: 0.8232 - learning_rate: 1.0000e-10\n",
            "Epoch 150/300\n",
            "\u001b[1m186/186\u001b[0m \u001b[32m━━━━━━━━━━━━━━━━━━━━\u001b[0m\u001b[37m\u001b[0m \u001b[1m0s\u001b[0m 533ms/step - acc: 0.8010 - loss: 0.5260\n",
            "Epoch 150: val_loss did not improve from 0.66353\n",
            "\u001b[1m186/186\u001b[0m \u001b[32m━━━━━━━━━━━━━━━━━━━━\u001b[0m\u001b[37m\u001b[0m \u001b[1m104s\u001b[0m 558ms/step - acc: 0.8011 - loss: 0.5259 - val_acc: 0.7493 - val_loss: 0.8232 - learning_rate: 1.0000e-10\n",
            "Epoch 151/300\n",
            "\u001b[1m186/186\u001b[0m \u001b[32m━━━━━━━━━━━━━━━━━━━━\u001b[0m\u001b[37m\u001b[0m \u001b[1m0s\u001b[0m 537ms/step - acc: 0.8010 - loss: 0.5211\n",
            "Epoch 151: val_loss did not improve from 0.66353\n",
            "\u001b[1m186/186\u001b[0m \u001b[32m━━━━━━━━━━━━━━━━━━━━\u001b[0m\u001b[37m\u001b[0m \u001b[1m105s\u001b[0m 562ms/step - acc: 0.8010 - loss: 0.5211 - val_acc: 0.7493 - val_loss: 0.8232 - learning_rate: 1.0000e-10\n",
            "Epoch 152/300\n",
            "\u001b[1m186/186\u001b[0m \u001b[32m━━━━━━━━━━━━━━━━━━━━\u001b[0m\u001b[37m\u001b[0m \u001b[1m0s\u001b[0m 535ms/step - acc: 0.7984 - loss: 0.5224\n",
            "Epoch 152: val_loss did not improve from 0.66353\n",
            "\u001b[1m186/186\u001b[0m \u001b[32m━━━━━━━━━━━━━━━━━━━━\u001b[0m\u001b[37m\u001b[0m \u001b[1m104s\u001b[0m 560ms/step - acc: 0.7985 - loss: 0.5224 - val_acc: 0.7493 - val_loss: 0.8232 - learning_rate: 1.0000e-10\n",
            "Epoch 153/300\n",
            "\u001b[1m186/186\u001b[0m \u001b[32m━━━━━━━━━━━━━━━━━━━━\u001b[0m\u001b[37m\u001b[0m \u001b[1m0s\u001b[0m 541ms/step - acc: 0.7977 - loss: 0.5228\n",
            "Epoch 153: val_loss did not improve from 0.66353\n",
            "\u001b[1m186/186\u001b[0m \u001b[32m━━━━━━━━━━━━━━━━━━━━\u001b[0m\u001b[37m\u001b[0m \u001b[1m105s\u001b[0m 566ms/step - acc: 0.7977 - loss: 0.5227 - val_acc: 0.7493 - val_loss: 0.8232 - learning_rate: 1.0000e-10\n",
            "Epoch 154/300\n",
            "\u001b[1m186/186\u001b[0m \u001b[32m━━━━━━━━━━━━━━━━━━━━\u001b[0m\u001b[37m\u001b[0m \u001b[1m0s\u001b[0m 535ms/step - acc: 0.7992 - loss: 0.5247\n",
            "Epoch 154: val_loss did not improve from 0.66353\n",
            "\u001b[1m186/186\u001b[0m \u001b[32m━━━━━━━━━━━━━━━━━━━━\u001b[0m\u001b[37m\u001b[0m \u001b[1m104s\u001b[0m 560ms/step - acc: 0.7993 - loss: 0.5246 - val_acc: 0.7493 - val_loss: 0.8232 - learning_rate: 1.0000e-10\n",
            "Epoch 155/300\n",
            "\u001b[1m186/186\u001b[0m \u001b[32m━━━━━━━━━━━━━━━━━━━━\u001b[0m\u001b[37m\u001b[0m \u001b[1m0s\u001b[0m 536ms/step - acc: 0.7980 - loss: 0.5231\n",
            "Epoch 155: val_loss did not improve from 0.66353\n",
            "\u001b[1m186/186\u001b[0m \u001b[32m━━━━━━━━━━━━━━━━━━━━\u001b[0m\u001b[37m\u001b[0m \u001b[1m104s\u001b[0m 561ms/step - acc: 0.7980 - loss: 0.5231 - val_acc: 0.7493 - val_loss: 0.8232 - learning_rate: 1.0000e-10\n",
            "Epoch 156/300\n",
            "\u001b[1m186/186\u001b[0m \u001b[32m━━━━━━━━━━━━━━━━━━━━\u001b[0m\u001b[37m\u001b[0m \u001b[1m0s\u001b[0m 534ms/step - acc: 0.7995 - loss: 0.5250\n",
            "Epoch 156: val_loss did not improve from 0.66353\n",
            "\u001b[1m186/186\u001b[0m \u001b[32m━━━━━━━━━━━━━━━━━━━━\u001b[0m\u001b[37m\u001b[0m \u001b[1m104s\u001b[0m 559ms/step - acc: 0.7995 - loss: 0.5250 - val_acc: 0.7493 - val_loss: 0.8232 - learning_rate: 1.0000e-10\n",
            "Epoch 157/300\n",
            "\u001b[1m186/186\u001b[0m \u001b[32m━━━━━━━━━━━━━━━━━━━━\u001b[0m\u001b[37m\u001b[0m \u001b[1m0s\u001b[0m 533ms/step - acc: 0.7970 - loss: 0.5248\n",
            "Epoch 157: val_loss did not improve from 0.66353\n",
            "\u001b[1m186/186\u001b[0m \u001b[32m━━━━━━━━━━━━━━━━━━━━\u001b[0m\u001b[37m\u001b[0m \u001b[1m104s\u001b[0m 559ms/step - acc: 0.7970 - loss: 0.5248 - val_acc: 0.7493 - val_loss: 0.8232 - learning_rate: 1.0000e-10\n",
            "Epoch 158/300\n",
            "\u001b[1m186/186\u001b[0m \u001b[32m━━━━━━━━━━━━━━━━━━━━\u001b[0m\u001b[37m\u001b[0m \u001b[1m0s\u001b[0m 538ms/step - acc: 0.7952 - loss: 0.5252\n",
            "Epoch 158: val_loss did not improve from 0.66353\n",
            "\u001b[1m186/186\u001b[0m \u001b[32m━━━━━━━━━━━━━━━━━━━━\u001b[0m\u001b[37m\u001b[0m \u001b[1m105s\u001b[0m 564ms/step - acc: 0.7952 - loss: 0.5252 - val_acc: 0.7493 - val_loss: 0.8232 - learning_rate: 1.0000e-10\n",
            "Epoch 159/300\n",
            "\u001b[1m186/186\u001b[0m \u001b[32m━━━━━━━━━━━━━━━━━━━━\u001b[0m\u001b[37m\u001b[0m \u001b[1m0s\u001b[0m 537ms/step - acc: 0.7977 - loss: 0.5259\n",
            "Epoch 159: val_loss did not improve from 0.66353\n",
            "\u001b[1m186/186\u001b[0m \u001b[32m━━━━━━━━━━━━━━━━━━━━\u001b[0m\u001b[37m\u001b[0m \u001b[1m105s\u001b[0m 562ms/step - acc: 0.7977 - loss: 0.5258 - val_acc: 0.7493 - val_loss: 0.8232 - learning_rate: 1.0000e-10\n",
            "Epoch 160/300\n",
            "\u001b[1m186/186\u001b[0m \u001b[32m━━━━━━━━━━━━━━━━━━━━\u001b[0m\u001b[37m\u001b[0m \u001b[1m0s\u001b[0m 532ms/step - acc: 0.7985 - loss: 0.5226\n",
            "Epoch 160: val_loss did not improve from 0.66353\n",
            "\u001b[1m186/186\u001b[0m \u001b[32m━━━━━━━━━━━━━━━━━━━━\u001b[0m\u001b[37m\u001b[0m \u001b[1m104s\u001b[0m 557ms/step - acc: 0.7985 - loss: 0.5226 - val_acc: 0.7493 - val_loss: 0.8232 - learning_rate: 1.0000e-10\n",
            "Epoch 161/300\n",
            "\u001b[1m186/186\u001b[0m \u001b[32m━━━━━━━━━━━━━━━━━━━━\u001b[0m\u001b[37m\u001b[0m \u001b[1m0s\u001b[0m 539ms/step - acc: 0.7993 - loss: 0.5254\n",
            "Epoch 161: val_loss did not improve from 0.66353\n",
            "\u001b[1m186/186\u001b[0m \u001b[32m━━━━━━━━━━━━━━━━━━━━\u001b[0m\u001b[37m\u001b[0m \u001b[1m105s\u001b[0m 564ms/step - acc: 0.7993 - loss: 0.5254 - val_acc: 0.7493 - val_loss: 0.8232 - learning_rate: 1.0000e-10\n",
            "Epoch 162/300\n",
            "\u001b[1m186/186\u001b[0m \u001b[32m━━━━━━━━━━━━━━━━━━━━\u001b[0m\u001b[37m\u001b[0m \u001b[1m0s\u001b[0m 539ms/step - acc: 0.7971 - loss: 0.5283\n",
            "Epoch 162: val_loss did not improve from 0.66353\n",
            "\u001b[1m186/186\u001b[0m \u001b[32m━━━━━━━━━━━━━━━━━━━━\u001b[0m\u001b[37m\u001b[0m \u001b[1m105s\u001b[0m 564ms/step - acc: 0.7971 - loss: 0.5282 - val_acc: 0.7493 - val_loss: 0.8232 - learning_rate: 1.0000e-10\n",
            "Epoch 163/300\n",
            "\u001b[1m186/186\u001b[0m \u001b[32m━━━━━━━━━━━━━━━━━━━━\u001b[0m\u001b[37m\u001b[0m \u001b[1m0s\u001b[0m 536ms/step - acc: 0.7975 - loss: 0.5208\n",
            "Epoch 163: val_loss did not improve from 0.66353\n",
            "\u001b[1m186/186\u001b[0m \u001b[32m━━━━━━━━━━━━━━━━━━━━\u001b[0m\u001b[37m\u001b[0m \u001b[1m104s\u001b[0m 560ms/step - acc: 0.7975 - loss: 0.5208 - val_acc: 0.7493 - val_loss: 0.8232 - learning_rate: 1.0000e-10\n",
            "Epoch 164/300\n",
            "\u001b[1m186/186\u001b[0m \u001b[32m━━━━━━━━━━━━━━━━━━━━\u001b[0m\u001b[37m\u001b[0m \u001b[1m0s\u001b[0m 538ms/step - acc: 0.7968 - loss: 0.5237\n",
            "Epoch 164: val_loss did not improve from 0.66353\n",
            "\u001b[1m186/186\u001b[0m \u001b[32m━━━━━━━━━━━━━━━━━━━━\u001b[0m\u001b[37m\u001b[0m \u001b[1m105s\u001b[0m 563ms/step - acc: 0.7968 - loss: 0.5237 - val_acc: 0.7493 - val_loss: 0.8232 - learning_rate: 1.0000e-10\n",
            "Epoch 165/300\n",
            "\u001b[1m186/186\u001b[0m \u001b[32m━━━━━━━━━━━━━━━━━━━━\u001b[0m\u001b[37m\u001b[0m \u001b[1m0s\u001b[0m 542ms/step - acc: 0.7964 - loss: 0.5195\n",
            "Epoch 165: val_loss did not improve from 0.66353\n",
            "\u001b[1m186/186\u001b[0m \u001b[32m━━━━━━━━━━━━━━━━━━━━\u001b[0m\u001b[37m\u001b[0m \u001b[1m106s\u001b[0m 567ms/step - acc: 0.7965 - loss: 0.5195 - val_acc: 0.7493 - val_loss: 0.8232 - learning_rate: 1.0000e-10\n",
            "Epoch 166/300\n",
            "\u001b[1m186/186\u001b[0m \u001b[32m━━━━━━━━━━━━━━━━━━━━\u001b[0m\u001b[37m\u001b[0m \u001b[1m0s\u001b[0m 536ms/step - acc: 0.8027 - loss: 0.5255\n",
            "Epoch 166: val_loss did not improve from 0.66353\n",
            "\u001b[1m186/186\u001b[0m \u001b[32m━━━━━━━━━━━━━━━━━━━━\u001b[0m\u001b[37m\u001b[0m \u001b[1m104s\u001b[0m 561ms/step - acc: 0.8027 - loss: 0.5255 - val_acc: 0.7493 - val_loss: 0.8232 - learning_rate: 1.0000e-10\n",
            "Epoch 167/300\n",
            "\u001b[1m186/186\u001b[0m \u001b[32m━━━━━━━━━━━━━━━━━━━━\u001b[0m\u001b[37m\u001b[0m \u001b[1m0s\u001b[0m 536ms/step - acc: 0.7983 - loss: 0.5212\n",
            "Epoch 167: val_loss did not improve from 0.66353\n",
            "\u001b[1m186/186\u001b[0m \u001b[32m━━━━━━━━━━━━━━━━━━━━\u001b[0m\u001b[37m\u001b[0m \u001b[1m104s\u001b[0m 561ms/step - acc: 0.7983 - loss: 0.5211 - val_acc: 0.7493 - val_loss: 0.8232 - learning_rate: 1.0000e-10\n",
            "Epoch 168/300\n",
            "\u001b[1m186/186\u001b[0m \u001b[32m━━━━━━━━━━━━━━━━━━━━\u001b[0m\u001b[37m\u001b[0m \u001b[1m0s\u001b[0m 532ms/step - acc: 0.7973 - loss: 0.5247\n",
            "Epoch 168: val_loss did not improve from 0.66353\n",
            "\u001b[1m186/186\u001b[0m \u001b[32m━━━━━━━━━━━━━━━━━━━━\u001b[0m\u001b[37m\u001b[0m \u001b[1m104s\u001b[0m 557ms/step - acc: 0.7973 - loss: 0.5247 - val_acc: 0.7493 - val_loss: 0.8232 - learning_rate: 1.0000e-10\n",
            "Epoch 169/300\n",
            "\u001b[1m186/186\u001b[0m \u001b[32m━━━━━━━━━━━━━━━━━━━━\u001b[0m\u001b[37m\u001b[0m \u001b[1m0s\u001b[0m 540ms/step - acc: 0.8012 - loss: 0.5239\n",
            "Epoch 169: val_loss did not improve from 0.66353\n",
            "\u001b[1m186/186\u001b[0m \u001b[32m━━━━━━━━━━━━━━━━━━━━\u001b[0m\u001b[37m\u001b[0m \u001b[1m105s\u001b[0m 565ms/step - acc: 0.8012 - loss: 0.5239 - val_acc: 0.7493 - val_loss: 0.8232 - learning_rate: 1.0000e-10\n",
            "Epoch 170/300\n",
            "\u001b[1m186/186\u001b[0m \u001b[32m━━━━━━━━━━━━━━━━━━━━\u001b[0m\u001b[37m\u001b[0m \u001b[1m0s\u001b[0m 536ms/step - acc: 0.8040 - loss: 0.5213\n",
            "Epoch 170: val_loss did not improve from 0.66353\n",
            "\u001b[1m186/186\u001b[0m \u001b[32m━━━━━━━━━━━━━━━━━━━━\u001b[0m\u001b[37m\u001b[0m \u001b[1m104s\u001b[0m 562ms/step - acc: 0.8040 - loss: 0.5213 - val_acc: 0.7493 - val_loss: 0.8232 - learning_rate: 1.0000e-10\n",
            "Epoch 171/300\n",
            "\u001b[1m186/186\u001b[0m \u001b[32m━━━━━━━━━━━━━━━━━━━━\u001b[0m\u001b[37m\u001b[0m \u001b[1m0s\u001b[0m 533ms/step - acc: 0.7999 - loss: 0.5247\n",
            "Epoch 171: val_loss did not improve from 0.66353\n",
            "\u001b[1m186/186\u001b[0m \u001b[32m━━━━━━━━━━━━━━━━━━━━\u001b[0m\u001b[37m\u001b[0m \u001b[1m104s\u001b[0m 558ms/step - acc: 0.8000 - loss: 0.5246 - val_acc: 0.7493 - val_loss: 0.8232 - learning_rate: 1.0000e-10\n",
            "Epoch 172/300\n",
            "\u001b[1m186/186\u001b[0m \u001b[32m━━━━━━━━━━━━━━━━━━━━\u001b[0m\u001b[37m\u001b[0m \u001b[1m0s\u001b[0m 527ms/step - acc: 0.7957 - loss: 0.5209\n",
            "Epoch 172: val_loss did not improve from 0.66353\n",
            "\u001b[1m186/186\u001b[0m \u001b[32m━━━━━━━━━━━━━━━━━━━━\u001b[0m\u001b[37m\u001b[0m \u001b[1m103s\u001b[0m 552ms/step - acc: 0.7957 - loss: 0.5209 - val_acc: 0.7493 - val_loss: 0.8232 - learning_rate: 1.0000e-10\n",
            "Epoch 173/300\n",
            "\u001b[1m186/186\u001b[0m \u001b[32m━━━━━━━━━━━━━━━━━━━━\u001b[0m\u001b[37m\u001b[0m \u001b[1m0s\u001b[0m 539ms/step - acc: 0.8011 - loss: 0.5205\n",
            "Epoch 173: val_loss did not improve from 0.66353\n",
            "\u001b[1m186/186\u001b[0m \u001b[32m━━━━━━━━━━━━━━━━━━━━\u001b[0m\u001b[37m\u001b[0m \u001b[1m105s\u001b[0m 564ms/step - acc: 0.8011 - loss: 0.5205 - val_acc: 0.7493 - val_loss: 0.8232 - learning_rate: 1.0000e-10\n",
            "Epoch 174/300\n",
            "\u001b[1m186/186\u001b[0m \u001b[32m━━━━━━━━━━━━━━━━━━━━\u001b[0m\u001b[37m\u001b[0m \u001b[1m0s\u001b[0m 532ms/step - acc: 0.7984 - loss: 0.5255\n",
            "Epoch 174: val_loss did not improve from 0.66353\n",
            "\u001b[1m186/186\u001b[0m \u001b[32m━━━━━━━━━━━━━━━━━━━━\u001b[0m\u001b[37m\u001b[0m \u001b[1m104s\u001b[0m 557ms/step - acc: 0.7984 - loss: 0.5255 - val_acc: 0.7493 - val_loss: 0.8232 - learning_rate: 1.0000e-10\n",
            "Epoch 175/300\n",
            "\u001b[1m186/186\u001b[0m \u001b[32m━━━━━━━━━━━━━━━━━━━━\u001b[0m\u001b[37m\u001b[0m \u001b[1m0s\u001b[0m 533ms/step - acc: 0.8051 - loss: 0.5269\n",
            "Epoch 175: val_loss did not improve from 0.66353\n",
            "\u001b[1m186/186\u001b[0m \u001b[32m━━━━━━━━━━━━━━━━━━━━\u001b[0m\u001b[37m\u001b[0m \u001b[1m104s\u001b[0m 558ms/step - acc: 0.8051 - loss: 0.5268 - val_acc: 0.7493 - val_loss: 0.8232 - learning_rate: 1.0000e-10\n",
            "Epoch 176/300\n",
            "\u001b[1m186/186\u001b[0m \u001b[32m━━━━━━━━━━━━━━━━━━━━\u001b[0m\u001b[37m\u001b[0m \u001b[1m0s\u001b[0m 531ms/step - acc: 0.7999 - loss: 0.5233\n",
            "Epoch 176: val_loss did not improve from 0.66353\n",
            "\u001b[1m186/186\u001b[0m \u001b[32m━━━━━━━━━━━━━━━━━━━━\u001b[0m\u001b[37m\u001b[0m \u001b[1m104s\u001b[0m 556ms/step - acc: 0.7999 - loss: 0.5232 - val_acc: 0.7493 - val_loss: 0.8232 - learning_rate: 1.0000e-10\n",
            "Epoch 177/300\n",
            "\u001b[1m186/186\u001b[0m \u001b[32m━━━━━━━━━━━━━━━━━━━━\u001b[0m\u001b[37m\u001b[0m \u001b[1m0s\u001b[0m 540ms/step - acc: 0.7986 - loss: 0.5270\n",
            "Epoch 177: val_loss did not improve from 0.66353\n",
            "\u001b[1m186/186\u001b[0m \u001b[32m━━━━━━━━━━━━━━━━━━━━\u001b[0m\u001b[37m\u001b[0m \u001b[1m105s\u001b[0m 565ms/step - acc: 0.7987 - loss: 0.5269 - val_acc: 0.7493 - val_loss: 0.8232 - learning_rate: 1.0000e-10\n",
            "Epoch 178/300\n",
            "\u001b[1m186/186\u001b[0m \u001b[32m━━━━━━━━━━━━━━━━━━━━\u001b[0m\u001b[37m\u001b[0m \u001b[1m0s\u001b[0m 542ms/step - acc: 0.7976 - loss: 0.5220\n",
            "Epoch 178: val_loss did not improve from 0.66353\n",
            "\u001b[1m186/186\u001b[0m \u001b[32m━━━━━━━━━━━━━━━━━━━━\u001b[0m\u001b[37m\u001b[0m \u001b[1m106s\u001b[0m 568ms/step - acc: 0.7976 - loss: 0.5219 - val_acc: 0.7493 - val_loss: 0.8232 - learning_rate: 1.0000e-10\n",
            "Epoch 179/300\n",
            "\u001b[1m186/186\u001b[0m \u001b[32m━━━━━━━━━━━━━━━━━━━━\u001b[0m\u001b[37m\u001b[0m \u001b[1m0s\u001b[0m 539ms/step - acc: 0.7972 - loss: 0.5231\n",
            "Epoch 179: val_loss did not improve from 0.66353\n",
            "\u001b[1m186/186\u001b[0m \u001b[32m━━━━━━━━━━━━━━━━━━━━\u001b[0m\u001b[37m\u001b[0m \u001b[1m105s\u001b[0m 565ms/step - acc: 0.7972 - loss: 0.5230 - val_acc: 0.7493 - val_loss: 0.8232 - learning_rate: 1.0000e-10\n",
            "Epoch 180/300\n",
            "\u001b[1m186/186\u001b[0m \u001b[32m━━━━━━━━━━━━━━━━━━━━\u001b[0m\u001b[37m\u001b[0m \u001b[1m0s\u001b[0m 542ms/step - acc: 0.7984 - loss: 0.5233\n",
            "Epoch 180: val_loss did not improve from 0.66353\n",
            "\u001b[1m186/186\u001b[0m \u001b[32m━━━━━━━━━━━━━━━━━━━━\u001b[0m\u001b[37m\u001b[0m \u001b[1m106s\u001b[0m 567ms/step - acc: 0.7984 - loss: 0.5232 - val_acc: 0.7493 - val_loss: 0.8232 - learning_rate: 1.0000e-10\n",
            "Epoch 181/300\n",
            "\u001b[1m186/186\u001b[0m \u001b[32m━━━━━━━━━━━━━━━━━━━━\u001b[0m\u001b[37m\u001b[0m \u001b[1m0s\u001b[0m 534ms/step - acc: 0.7978 - loss: 0.5260\n",
            "Epoch 181: val_loss did not improve from 0.66353\n",
            "\u001b[1m186/186\u001b[0m \u001b[32m━━━━━━━━━━━━━━━━━━━━\u001b[0m\u001b[37m\u001b[0m \u001b[1m104s\u001b[0m 559ms/step - acc: 0.7978 - loss: 0.5259 - val_acc: 0.7493 - val_loss: 0.8232 - learning_rate: 1.0000e-10\n",
            "Epoch 182/300\n",
            "\u001b[1m186/186\u001b[0m \u001b[32m━━━━━━━━━━━━━━━━━━━━\u001b[0m\u001b[37m\u001b[0m \u001b[1m0s\u001b[0m 537ms/step - acc: 0.7947 - loss: 0.5242\n",
            "Epoch 182: val_loss did not improve from 0.66353\n",
            "\u001b[1m186/186\u001b[0m \u001b[32m━━━━━━━━━━━━━━━━━━━━\u001b[0m\u001b[37m\u001b[0m \u001b[1m105s\u001b[0m 562ms/step - acc: 0.7948 - loss: 0.5242 - val_acc: 0.7493 - val_loss: 0.8232 - learning_rate: 1.0000e-10\n",
            "Epoch 183/300\n",
            "\u001b[1m186/186\u001b[0m \u001b[32m━━━━━━━━━━━━━━━━━━━━\u001b[0m\u001b[37m\u001b[0m \u001b[1m0s\u001b[0m 535ms/step - acc: 0.7957 - loss: 0.5228\n",
            "Epoch 183: val_loss did not improve from 0.66353\n",
            "\u001b[1m186/186\u001b[0m \u001b[32m━━━━━━━━━━━━━━━━━━━━\u001b[0m\u001b[37m\u001b[0m \u001b[1m104s\u001b[0m 560ms/step - acc: 0.7957 - loss: 0.5227 - val_acc: 0.7493 - val_loss: 0.8232 - learning_rate: 1.0000e-10\n",
            "Epoch 184/300\n",
            "\u001b[1m186/186\u001b[0m \u001b[32m━━━━━━━━━━━━━━━━━━━━\u001b[0m\u001b[37m\u001b[0m \u001b[1m0s\u001b[0m 542ms/step - acc: 0.7906 - loss: 0.5243\n",
            "Epoch 184: val_loss did not improve from 0.66353\n",
            "\u001b[1m186/186\u001b[0m \u001b[32m━━━━━━━━━━━━━━━━━━━━\u001b[0m\u001b[37m\u001b[0m \u001b[1m106s\u001b[0m 567ms/step - acc: 0.7906 - loss: 0.5243 - val_acc: 0.7493 - val_loss: 0.8232 - learning_rate: 1.0000e-10\n",
            "Epoch 185/300\n",
            "\u001b[1m186/186\u001b[0m \u001b[32m━━━━━━━━━━━━━━━━━━━━\u001b[0m\u001b[37m\u001b[0m \u001b[1m0s\u001b[0m 544ms/step - acc: 0.7985 - loss: 0.5227\n",
            "Epoch 185: val_loss did not improve from 0.66353\n",
            "\u001b[1m186/186\u001b[0m \u001b[32m━━━━━━━━━━━━━━━━━━━━\u001b[0m\u001b[37m\u001b[0m \u001b[1m106s\u001b[0m 569ms/step - acc: 0.7985 - loss: 0.5227 - val_acc: 0.7493 - val_loss: 0.8232 - learning_rate: 1.0000e-10\n",
            "Epoch 186/300\n",
            "\u001b[1m186/186\u001b[0m \u001b[32m━━━━━━━━━━━━━━━━━━━━\u001b[0m\u001b[37m\u001b[0m \u001b[1m0s\u001b[0m 540ms/step - acc: 0.7954 - loss: 0.5227\n",
            "Epoch 186: val_loss did not improve from 0.66353\n",
            "\u001b[1m186/186\u001b[0m \u001b[32m━━━━━━━━━━━━━━━━━━━━\u001b[0m\u001b[37m\u001b[0m \u001b[1m105s\u001b[0m 565ms/step - acc: 0.7954 - loss: 0.5227 - val_acc: 0.7493 - val_loss: 0.8232 - learning_rate: 1.0000e-10\n",
            "Epoch 187/300\n",
            "\u001b[1m186/186\u001b[0m \u001b[32m━━━━━━━━━━━━━━━━━━━━\u001b[0m\u001b[37m\u001b[0m \u001b[1m0s\u001b[0m 540ms/step - acc: 0.7982 - loss: 0.5182\n",
            "Epoch 187: val_loss did not improve from 0.66353\n",
            "\u001b[1m186/186\u001b[0m \u001b[32m━━━━━━━━━━━━━━━━━━━━\u001b[0m\u001b[37m\u001b[0m \u001b[1m105s\u001b[0m 564ms/step - acc: 0.7983 - loss: 0.5182 - val_acc: 0.7493 - val_loss: 0.8232 - learning_rate: 1.0000e-10\n",
            "Epoch 188/300\n",
            "\u001b[1m186/186\u001b[0m \u001b[32m━━━━━━━━━━━━━━━━━━━━\u001b[0m\u001b[37m\u001b[0m \u001b[1m0s\u001b[0m 539ms/step - acc: 0.7999 - loss: 0.5217\n",
            "Epoch 188: val_loss did not improve from 0.66353\n",
            "\u001b[1m186/186\u001b[0m \u001b[32m━━━━━━━━━━━━━━━━━━━━\u001b[0m\u001b[37m\u001b[0m \u001b[1m105s\u001b[0m 564ms/step - acc: 0.7999 - loss: 0.5217 - val_acc: 0.7493 - val_loss: 0.8232 - learning_rate: 1.0000e-10\n",
            "Epoch 189/300\n",
            "\u001b[1m186/186\u001b[0m \u001b[32m━━━━━━━━━━━━━━━━━━━━\u001b[0m\u001b[37m\u001b[0m \u001b[1m0s\u001b[0m 540ms/step - acc: 0.8029 - loss: 0.5213\n",
            "Epoch 189: val_loss did not improve from 0.66353\n",
            "\u001b[1m186/186\u001b[0m \u001b[32m━━━━━━━━━━━━━━━━━━━━\u001b[0m\u001b[37m\u001b[0m \u001b[1m105s\u001b[0m 565ms/step - acc: 0.8029 - loss: 0.5212 - val_acc: 0.7493 - val_loss: 0.8232 - learning_rate: 1.0000e-10\n",
            "Epoch 190/300\n",
            "\u001b[1m186/186\u001b[0m \u001b[32m━━━━━━━━━━━━━━━━━━━━\u001b[0m\u001b[37m\u001b[0m \u001b[1m0s\u001b[0m 543ms/step - acc: 0.8003 - loss: 0.5241\n",
            "Epoch 190: val_loss did not improve from 0.66353\n",
            "\u001b[1m186/186\u001b[0m \u001b[32m━━━━━━━━━━━━━━━━━━━━\u001b[0m\u001b[37m\u001b[0m \u001b[1m106s\u001b[0m 567ms/step - acc: 0.8004 - loss: 0.5240 - val_acc: 0.7493 - val_loss: 0.8232 - learning_rate: 1.0000e-10\n",
            "Epoch 191/300\n",
            "\u001b[1m186/186\u001b[0m \u001b[32m━━━━━━━━━━━━━━━━━━━━\u001b[0m\u001b[37m\u001b[0m \u001b[1m0s\u001b[0m 536ms/step - acc: 0.7962 - loss: 0.5255\n",
            "Epoch 191: val_loss did not improve from 0.66353\n",
            "\u001b[1m186/186\u001b[0m \u001b[32m━━━━━━━━━━━━━━━━━━━━\u001b[0m\u001b[37m\u001b[0m \u001b[1m104s\u001b[0m 561ms/step - acc: 0.7962 - loss: 0.5255 - val_acc: 0.7493 - val_loss: 0.8232 - learning_rate: 1.0000e-10\n",
            "Epoch 192/300\n",
            "\u001b[1m186/186\u001b[0m \u001b[32m━━━━━━━━━━━━━━━━━━━━\u001b[0m\u001b[37m\u001b[0m \u001b[1m0s\u001b[0m 536ms/step - acc: 0.7960 - loss: 0.5218\n",
            "Epoch 192: val_loss did not improve from 0.66353\n",
            "\u001b[1m186/186\u001b[0m \u001b[32m━━━━━━━━━━━━━━━━━━━━\u001b[0m\u001b[37m\u001b[0m \u001b[1m105s\u001b[0m 561ms/step - acc: 0.7961 - loss: 0.5218 - val_acc: 0.7493 - val_loss: 0.8232 - learning_rate: 1.0000e-10\n",
            "Epoch 193/300\n",
            "\u001b[1m186/186\u001b[0m \u001b[32m━━━━━━━━━━━━━━━━━━━━\u001b[0m\u001b[37m\u001b[0m \u001b[1m0s\u001b[0m 542ms/step - acc: 0.8066 - loss: 0.5223\n",
            "Epoch 193: val_loss did not improve from 0.66353\n",
            "\u001b[1m186/186\u001b[0m \u001b[32m━━━━━━━━━━━━━━━━━━━━\u001b[0m\u001b[37m\u001b[0m \u001b[1m106s\u001b[0m 567ms/step - acc: 0.8066 - loss: 0.5223 - val_acc: 0.7493 - val_loss: 0.8232 - learning_rate: 1.0000e-10\n",
            "Epoch 194/300\n",
            "\u001b[1m186/186\u001b[0m \u001b[32m━━━━━━━━━━━━━━━━━━━━\u001b[0m\u001b[37m\u001b[0m \u001b[1m0s\u001b[0m 537ms/step - acc: 0.8000 - loss: 0.5217\n",
            "Epoch 194: val_loss did not improve from 0.66353\n",
            "\u001b[1m186/186\u001b[0m \u001b[32m━━━━━━━━━━━━━━━━━━━━\u001b[0m\u001b[37m\u001b[0m \u001b[1m105s\u001b[0m 563ms/step - acc: 0.8000 - loss: 0.5216 - val_acc: 0.7493 - val_loss: 0.8232 - learning_rate: 1.0000e-10\n",
            "Epoch 195/300\n",
            "\u001b[1m186/186\u001b[0m \u001b[32m━━━━━━━━━━━━━━━━━━━━\u001b[0m\u001b[37m\u001b[0m \u001b[1m0s\u001b[0m 539ms/step - acc: 0.7970 - loss: 0.5192\n",
            "Epoch 195: val_loss did not improve from 0.66353\n",
            "\u001b[1m186/186\u001b[0m \u001b[32m━━━━━━━━━━━━━━━━━━━━\u001b[0m\u001b[37m\u001b[0m \u001b[1m105s\u001b[0m 564ms/step - acc: 0.7970 - loss: 0.5192 - val_acc: 0.7493 - val_loss: 0.8232 - learning_rate: 1.0000e-10\n",
            "Epoch 196/300\n",
            "\u001b[1m186/186\u001b[0m \u001b[32m━━━━━━━━━━━━━━━━━━━━\u001b[0m\u001b[37m\u001b[0m \u001b[1m0s\u001b[0m 542ms/step - acc: 0.8023 - loss: 0.5250\n",
            "Epoch 196: val_loss did not improve from 0.66353\n",
            "\u001b[1m186/186\u001b[0m \u001b[32m━━━━━━━━━━━━━━━━━━━━\u001b[0m\u001b[37m\u001b[0m \u001b[1m105s\u001b[0m 567ms/step - acc: 0.8023 - loss: 0.5250 - val_acc: 0.7493 - val_loss: 0.8232 - learning_rate: 1.0000e-10\n",
            "Epoch 197/300\n",
            "\u001b[1m186/186\u001b[0m \u001b[32m━━━━━━━━━━━━━━━━━━━━\u001b[0m\u001b[37m\u001b[0m \u001b[1m0s\u001b[0m 539ms/step - acc: 0.8002 - loss: 0.5225\n",
            "Epoch 197: val_loss did not improve from 0.66353\n",
            "\u001b[1m186/186\u001b[0m \u001b[32m━━━━━━━━━━━━━━━━━━━━\u001b[0m\u001b[37m\u001b[0m \u001b[1m105s\u001b[0m 564ms/step - acc: 0.8002 - loss: 0.5225 - val_acc: 0.7493 - val_loss: 0.8232 - learning_rate: 1.0000e-10\n",
            "Epoch 198/300\n",
            "\u001b[1m186/186\u001b[0m \u001b[32m━━━━━━━━━━━━━━━━━━━━\u001b[0m\u001b[37m\u001b[0m \u001b[1m0s\u001b[0m 538ms/step - acc: 0.7980 - loss: 0.5222\n",
            "Epoch 198: val_loss did not improve from 0.66353\n",
            "\u001b[1m186/186\u001b[0m \u001b[32m━━━━━━━━━━━━━━━━━━━━\u001b[0m\u001b[37m\u001b[0m \u001b[1m105s\u001b[0m 563ms/step - acc: 0.7980 - loss: 0.5222 - val_acc: 0.7493 - val_loss: 0.8232 - learning_rate: 1.0000e-10\n",
            "Epoch 199/300\n",
            "\u001b[1m186/186\u001b[0m \u001b[32m━━━━━━━━━━━━━━━━━━━━\u001b[0m\u001b[37m\u001b[0m \u001b[1m0s\u001b[0m 535ms/step - acc: 0.7966 - loss: 0.5266\n",
            "Epoch 199: val_loss did not improve from 0.66353\n",
            "\u001b[1m186/186\u001b[0m \u001b[32m━━━━━━━━━━━━━━━━━━━━\u001b[0m\u001b[37m\u001b[0m \u001b[1m104s\u001b[0m 560ms/step - acc: 0.7966 - loss: 0.5266 - val_acc: 0.7493 - val_loss: 0.8232 - learning_rate: 1.0000e-10\n",
            "Epoch 200/300\n",
            "\u001b[1m186/186\u001b[0m \u001b[32m━━━━━━━━━━━━━━━━━━━━\u001b[0m\u001b[37m\u001b[0m \u001b[1m0s\u001b[0m 538ms/step - acc: 0.7991 - loss: 0.5226\n",
            "Epoch 200: val_loss did not improve from 0.66353\n",
            "\u001b[1m186/186\u001b[0m \u001b[32m━━━━━━━━━━━━━━━━━━━━\u001b[0m\u001b[37m\u001b[0m \u001b[1m105s\u001b[0m 562ms/step - acc: 0.7991 - loss: 0.5226 - val_acc: 0.7493 - val_loss: 0.8232 - learning_rate: 1.0000e-10\n",
            "Epoch 201/300\n",
            "\u001b[1m186/186\u001b[0m \u001b[32m━━━━━━━━━━━━━━━━━━━━\u001b[0m\u001b[37m\u001b[0m \u001b[1m0s\u001b[0m 532ms/step - acc: 0.8010 - loss: 0.5204\n",
            "Epoch 201: val_loss did not improve from 0.66353\n",
            "\u001b[1m186/186\u001b[0m \u001b[32m━━━━━━━━━━━━━━━━━━━━\u001b[0m\u001b[37m\u001b[0m \u001b[1m104s\u001b[0m 556ms/step - acc: 0.8010 - loss: 0.5204 - val_acc: 0.7493 - val_loss: 0.8232 - learning_rate: 1.0000e-10\n",
            "Epoch 202/300\n",
            "\u001b[1m186/186\u001b[0m \u001b[32m━━━━━━━━━━━━━━━━━━━━\u001b[0m\u001b[37m\u001b[0m \u001b[1m0s\u001b[0m 535ms/step - acc: 0.7964 - loss: 0.5204\n",
            "Epoch 202: val_loss did not improve from 0.66353\n",
            "\u001b[1m186/186\u001b[0m \u001b[32m━━━━━━━━━━━━━━━━━━━━\u001b[0m\u001b[37m\u001b[0m \u001b[1m104s\u001b[0m 560ms/step - acc: 0.7964 - loss: 0.5203 - val_acc: 0.7493 - val_loss: 0.8232 - learning_rate: 1.0000e-10\n",
            "Epoch 203/300\n",
            "\u001b[1m186/186\u001b[0m \u001b[32m━━━━━━━━━━━━━━━━━━━━\u001b[0m\u001b[37m\u001b[0m \u001b[1m0s\u001b[0m 539ms/step - acc: 0.7938 - loss: 0.5228\n",
            "Epoch 203: val_loss did not improve from 0.66353\n",
            "\u001b[1m186/186\u001b[0m \u001b[32m━━━━━━━━━━━━━━━━━━━━\u001b[0m\u001b[37m\u001b[0m \u001b[1m105s\u001b[0m 564ms/step - acc: 0.7939 - loss: 0.5228 - val_acc: 0.7493 - val_loss: 0.8232 - learning_rate: 1.0000e-10\n",
            "Epoch 204/300\n",
            "\u001b[1m186/186\u001b[0m \u001b[32m━━━━━━━━━━━━━━━━━━━━\u001b[0m\u001b[37m\u001b[0m \u001b[1m0s\u001b[0m 533ms/step - acc: 0.8002 - loss: 0.5225\n",
            "Epoch 204: val_loss did not improve from 0.66353\n",
            "\u001b[1m186/186\u001b[0m \u001b[32m━━━━━━━━━━━━━━━━━━━━\u001b[0m\u001b[37m\u001b[0m \u001b[1m104s\u001b[0m 558ms/step - acc: 0.8003 - loss: 0.5224 - val_acc: 0.7493 - val_loss: 0.8232 - learning_rate: 1.0000e-10\n",
            "Epoch 205/300\n",
            "\u001b[1m186/186\u001b[0m \u001b[32m━━━━━━━━━━━━━━━━━━━━\u001b[0m\u001b[37m\u001b[0m \u001b[1m0s\u001b[0m 535ms/step - acc: 0.8002 - loss: 0.5258\n",
            "Epoch 205: val_loss did not improve from 0.66353\n",
            "\u001b[1m186/186\u001b[0m \u001b[32m━━━━━━━━━━━━━━━━━━━━\u001b[0m\u001b[37m\u001b[0m \u001b[1m104s\u001b[0m 560ms/step - acc: 0.8003 - loss: 0.5257 - val_acc: 0.7493 - val_loss: 0.8232 - learning_rate: 1.0000e-10\n",
            "Epoch 206/300\n",
            "\u001b[1m186/186\u001b[0m \u001b[32m━━━━━━━━━━━━━━━━━━━━\u001b[0m\u001b[37m\u001b[0m \u001b[1m0s\u001b[0m 530ms/step - acc: 0.8034 - loss: 0.5222\n",
            "Epoch 206: val_loss did not improve from 0.66353\n",
            "\u001b[1m186/186\u001b[0m \u001b[32m━━━━━━━━━━━━━━━━━━━━\u001b[0m\u001b[37m\u001b[0m \u001b[1m103s\u001b[0m 555ms/step - acc: 0.8034 - loss: 0.5222 - val_acc: 0.7493 - val_loss: 0.8232 - learning_rate: 1.0000e-10\n",
            "Epoch 207/300\n",
            "\u001b[1m186/186\u001b[0m \u001b[32m━━━━━━━━━━━━━━━━━━━━\u001b[0m\u001b[37m\u001b[0m \u001b[1m0s\u001b[0m 523ms/step - acc: 0.7987 - loss: 0.5239\n",
            "Epoch 207: val_loss did not improve from 0.66353\n",
            "\u001b[1m186/186\u001b[0m \u001b[32m━━━━━━━━━━━━━━━━━━━━\u001b[0m\u001b[37m\u001b[0m \u001b[1m102s\u001b[0m 549ms/step - acc: 0.7987 - loss: 0.5238 - val_acc: 0.7493 - val_loss: 0.8232 - learning_rate: 1.0000e-10\n",
            "Epoch 208/300\n",
            "\u001b[1m186/186\u001b[0m \u001b[32m━━━━━━━━━━━━━━━━━━━━\u001b[0m\u001b[37m\u001b[0m \u001b[1m0s\u001b[0m 533ms/step - acc: 0.7971 - loss: 0.5242\n",
            "Epoch 208: val_loss did not improve from 0.66353\n",
            "\u001b[1m186/186\u001b[0m \u001b[32m━━━━━━━━━━━━━━━━━━━━\u001b[0m\u001b[37m\u001b[0m \u001b[1m104s\u001b[0m 558ms/step - acc: 0.7971 - loss: 0.5241 - val_acc: 0.7493 - val_loss: 0.8232 - learning_rate: 1.0000e-10\n",
            "Epoch 209/300\n",
            "\u001b[1m186/186\u001b[0m \u001b[32m━━━━━━━━━━━━━━━━━━━━\u001b[0m\u001b[37m\u001b[0m \u001b[1m0s\u001b[0m 534ms/step - acc: 0.7978 - loss: 0.5188\n",
            "Epoch 209: val_loss did not improve from 0.66353\n",
            "\u001b[1m186/186\u001b[0m \u001b[32m━━━━━━━━━━━━━━━━━━━━\u001b[0m\u001b[37m\u001b[0m \u001b[1m104s\u001b[0m 560ms/step - acc: 0.7978 - loss: 0.5188 - val_acc: 0.7493 - val_loss: 0.8232 - learning_rate: 1.0000e-10\n",
            "Epoch 210/300\n",
            "\u001b[1m186/186\u001b[0m \u001b[32m━━━━━━━━━━━━━━━━━━━━\u001b[0m\u001b[37m\u001b[0m \u001b[1m0s\u001b[0m 541ms/step - acc: 0.7991 - loss: 0.5259\n",
            "Epoch 210: val_loss did not improve from 0.66353\n",
            "\u001b[1m186/186\u001b[0m \u001b[32m━━━━━━━━━━━━━━━━━━━━\u001b[0m\u001b[37m\u001b[0m \u001b[1m105s\u001b[0m 566ms/step - acc: 0.7991 - loss: 0.5259 - val_acc: 0.7493 - val_loss: 0.8232 - learning_rate: 1.0000e-10\n",
            "Epoch 211/300\n",
            "\u001b[1m186/186\u001b[0m \u001b[32m━━━━━━━━━━━━━━━━━━━━\u001b[0m\u001b[37m\u001b[0m \u001b[1m0s\u001b[0m 535ms/step - acc: 0.7976 - loss: 0.5247\n",
            "Epoch 211: val_loss did not improve from 0.66353\n",
            "\u001b[1m186/186\u001b[0m \u001b[32m━━━━━━━━━━━━━━━━━━━━\u001b[0m\u001b[37m\u001b[0m \u001b[1m104s\u001b[0m 560ms/step - acc: 0.7977 - loss: 0.5246 - val_acc: 0.7493 - val_loss: 0.8232 - learning_rate: 1.0000e-10\n",
            "Epoch 212/300\n",
            "\u001b[1m186/186\u001b[0m \u001b[32m━━━━━━━━━━━━━━━━━━━━\u001b[0m\u001b[37m\u001b[0m \u001b[1m0s\u001b[0m 527ms/step - acc: 0.8028 - loss: 0.5222\n",
            "Epoch 212: val_loss did not improve from 0.66353\n",
            "\u001b[1m186/186\u001b[0m \u001b[32m━━━━━━━━━━━━━━━━━━━━\u001b[0m\u001b[37m\u001b[0m \u001b[1m103s\u001b[0m 552ms/step - acc: 0.8028 - loss: 0.5222 - val_acc: 0.7493 - val_loss: 0.8232 - learning_rate: 1.0000e-10\n",
            "Epoch 213/300\n",
            "\u001b[1m186/186\u001b[0m \u001b[32m━━━━━━━━━━━━━━━━━━━━\u001b[0m\u001b[37m\u001b[0m \u001b[1m0s\u001b[0m 534ms/step - acc: 0.7990 - loss: 0.5236\n",
            "Epoch 213: val_loss did not improve from 0.66353\n",
            "\u001b[1m186/186\u001b[0m \u001b[32m━━━━━━━━━━━━━━━━━━━━\u001b[0m\u001b[37m\u001b[0m \u001b[1m104s\u001b[0m 560ms/step - acc: 0.7990 - loss: 0.5235 - val_acc: 0.7493 - val_loss: 0.8232 - learning_rate: 1.0000e-10\n",
            "Epoch 214/300\n",
            "\u001b[1m186/186\u001b[0m \u001b[32m━━━━━━━━━━━━━━━━━━━━\u001b[0m\u001b[37m\u001b[0m \u001b[1m0s\u001b[0m 535ms/step - acc: 0.7984 - loss: 0.5235\n",
            "Epoch 214: val_loss did not improve from 0.66353\n",
            "\u001b[1m186/186\u001b[0m \u001b[32m━━━━━━━━━━━━━━━━━━━━\u001b[0m\u001b[37m\u001b[0m \u001b[1m104s\u001b[0m 560ms/step - acc: 0.7985 - loss: 0.5234 - val_acc: 0.7493 - val_loss: 0.8232 - learning_rate: 1.0000e-10\n",
            "Epoch 215/300\n",
            "\u001b[1m186/186\u001b[0m \u001b[32m━━━━━━━━━━━━━━━━━━━━\u001b[0m\u001b[37m\u001b[0m \u001b[1m0s\u001b[0m 522ms/step - acc: 0.7995 - loss: 0.5223\n",
            "Epoch 215: val_loss did not improve from 0.66353\n",
            "\u001b[1m186/186\u001b[0m \u001b[32m━━━━━━━━━━━━━━━━━━━━\u001b[0m\u001b[37m\u001b[0m \u001b[1m102s\u001b[0m 548ms/step - acc: 0.7995 - loss: 0.5223 - val_acc: 0.7493 - val_loss: 0.8232 - learning_rate: 1.0000e-10\n",
            "Epoch 216/300\n",
            "\u001b[1m186/186\u001b[0m \u001b[32m━━━━━━━━━━━━━━━━━━━━\u001b[0m\u001b[37m\u001b[0m \u001b[1m0s\u001b[0m 532ms/step - acc: 0.7981 - loss: 0.5220\n",
            "Epoch 216: val_loss did not improve from 0.66353\n",
            "\u001b[1m186/186\u001b[0m \u001b[32m━━━━━━━━━━━━━━━━━━━━\u001b[0m\u001b[37m\u001b[0m \u001b[1m104s\u001b[0m 558ms/step - acc: 0.7981 - loss: 0.5219 - val_acc: 0.7493 - val_loss: 0.8232 - learning_rate: 1.0000e-10\n",
            "Epoch 217/300\n",
            "\u001b[1m186/186\u001b[0m \u001b[32m━━━━━━━━━━━━━━━━━━━━\u001b[0m\u001b[37m\u001b[0m \u001b[1m0s\u001b[0m 537ms/step - acc: 0.7956 - loss: 0.5229\n",
            "Epoch 217: val_loss did not improve from 0.66353\n",
            "\u001b[1m186/186\u001b[0m \u001b[32m━━━━━━━━━━━━━━━━━━━━\u001b[0m\u001b[37m\u001b[0m \u001b[1m105s\u001b[0m 562ms/step - acc: 0.7956 - loss: 0.5228 - val_acc: 0.7493 - val_loss: 0.8232 - learning_rate: 1.0000e-10\n",
            "Epoch 218/300\n",
            "\u001b[1m186/186\u001b[0m \u001b[32m━━━━━━━━━━━━━━━━━━━━\u001b[0m\u001b[37m\u001b[0m \u001b[1m0s\u001b[0m 535ms/step - acc: 0.8024 - loss: 0.5251\n",
            "Epoch 218: val_loss did not improve from 0.66353\n",
            "\u001b[1m186/186\u001b[0m \u001b[32m━━━━━━━━━━━━━━━━━━━━\u001b[0m\u001b[37m\u001b[0m \u001b[1m104s\u001b[0m 560ms/step - acc: 0.8024 - loss: 0.5250 - val_acc: 0.7493 - val_loss: 0.8232 - learning_rate: 1.0000e-10\n",
            "Epoch 219/300\n",
            "\u001b[1m186/186\u001b[0m \u001b[32m━━━━━━━━━━━━━━━━━━━━\u001b[0m\u001b[37m\u001b[0m \u001b[1m0s\u001b[0m 532ms/step - acc: 0.7968 - loss: 0.5264\n",
            "Epoch 219: val_loss did not improve from 0.66353\n",
            "\u001b[1m186/186\u001b[0m \u001b[32m━━━━━━━━━━━━━━━━━━━━\u001b[0m\u001b[37m\u001b[0m \u001b[1m104s\u001b[0m 557ms/step - acc: 0.7968 - loss: 0.5263 - val_acc: 0.7493 - val_loss: 0.8232 - learning_rate: 1.0000e-10\n",
            "Epoch 220/300\n",
            "\u001b[1m186/186\u001b[0m \u001b[32m━━━━━━━━━━━━━━━━━━━━\u001b[0m\u001b[37m\u001b[0m \u001b[1m0s\u001b[0m 526ms/step - acc: 0.7958 - loss: 0.5274\n",
            "Epoch 220: val_loss did not improve from 0.66353\n",
            "\u001b[1m186/186\u001b[0m \u001b[32m━━━━━━━━━━━━━━━━━━━━\u001b[0m\u001b[37m\u001b[0m \u001b[1m103s\u001b[0m 551ms/step - acc: 0.7959 - loss: 0.5274 - val_acc: 0.7493 - val_loss: 0.8232 - learning_rate: 1.0000e-10\n",
            "Epoch 221/300\n",
            "\u001b[1m186/186\u001b[0m \u001b[32m━━━━━━━━━━━━━━━━━━━━\u001b[0m\u001b[37m\u001b[0m \u001b[1m0s\u001b[0m 535ms/step - acc: 0.8039 - loss: 0.5198\n",
            "Epoch 221: val_loss did not improve from 0.66353\n",
            "\u001b[1m186/186\u001b[0m \u001b[32m━━━━━━━━━━━━━━━━━━━━\u001b[0m\u001b[37m\u001b[0m \u001b[1m104s\u001b[0m 560ms/step - acc: 0.8039 - loss: 0.5197 - val_acc: 0.7493 - val_loss: 0.8232 - learning_rate: 1.0000e-10\n",
            "Epoch 222/300\n",
            "\u001b[1m186/186\u001b[0m \u001b[32m━━━━━━━━━━━━━━━━━━━━\u001b[0m\u001b[37m\u001b[0m \u001b[1m0s\u001b[0m 533ms/step - acc: 0.8039 - loss: 0.5255\n",
            "Epoch 222: val_loss did not improve from 0.66353\n",
            "\u001b[1m186/186\u001b[0m \u001b[32m━━━━━━━━━━━━━━━━━━━━\u001b[0m\u001b[37m\u001b[0m \u001b[1m104s\u001b[0m 559ms/step - acc: 0.8039 - loss: 0.5254 - val_acc: 0.7493 - val_loss: 0.8232 - learning_rate: 1.0000e-10\n",
            "Epoch 223/300\n",
            "\u001b[1m186/186\u001b[0m \u001b[32m━━━━━━━━━━━━━━━━━━━━\u001b[0m\u001b[37m\u001b[0m \u001b[1m0s\u001b[0m 525ms/step - acc: 0.7973 - loss: 0.5235\n",
            "Epoch 223: val_loss did not improve from 0.66353\n",
            "\u001b[1m186/186\u001b[0m \u001b[32m━━━━━━━━━━━━━━━━━━━━\u001b[0m\u001b[37m\u001b[0m \u001b[1m102s\u001b[0m 550ms/step - acc: 0.7973 - loss: 0.5234 - val_acc: 0.7493 - val_loss: 0.8232 - learning_rate: 1.0000e-10\n",
            "Epoch 224/300\n",
            "\u001b[1m186/186\u001b[0m \u001b[32m━━━━━━━━━━━━━━━━━━━━\u001b[0m\u001b[37m\u001b[0m \u001b[1m0s\u001b[0m 538ms/step - acc: 0.8005 - loss: 0.5249\n",
            "Epoch 224: val_loss did not improve from 0.66353\n",
            "\u001b[1m186/186\u001b[0m \u001b[32m━━━━━━━━━━━━━━━━━━━━\u001b[0m\u001b[37m\u001b[0m \u001b[1m105s\u001b[0m 563ms/step - acc: 0.8005 - loss: 0.5248 - val_acc: 0.7493 - val_loss: 0.8232 - learning_rate: 1.0000e-10\n",
            "Epoch 225/300\n",
            "\u001b[1m186/186\u001b[0m \u001b[32m━━━━━━━━━━━━━━━━━━━━\u001b[0m\u001b[37m\u001b[0m \u001b[1m0s\u001b[0m 536ms/step - acc: 0.7996 - loss: 0.5231\n",
            "Epoch 225: val_loss did not improve from 0.66353\n",
            "\u001b[1m186/186\u001b[0m \u001b[32m━━━━━━━━━━━━━━━━━━━━\u001b[0m\u001b[37m\u001b[0m \u001b[1m105s\u001b[0m 562ms/step - acc: 0.7996 - loss: 0.5230 - val_acc: 0.7493 - val_loss: 0.8232 - learning_rate: 1.0000e-10\n",
            "Epoch 226/300\n",
            "\u001b[1m186/186\u001b[0m \u001b[32m━━━━━━━━━━━━━━━━━━━━\u001b[0m\u001b[37m\u001b[0m \u001b[1m0s\u001b[0m 530ms/step - acc: 0.7974 - loss: 0.5228\n",
            "Epoch 226: val_loss did not improve from 0.66353\n",
            "\u001b[1m186/186\u001b[0m \u001b[32m━━━━━━━━━━━━━━━━━━━━\u001b[0m\u001b[37m\u001b[0m \u001b[1m103s\u001b[0m 555ms/step - acc: 0.7974 - loss: 0.5228 - val_acc: 0.7493 - val_loss: 0.8232 - learning_rate: 1.0000e-10\n",
            "Epoch 227/300\n",
            "\u001b[1m186/186\u001b[0m \u001b[32m━━━━━━━━━━━━━━━━━━━━\u001b[0m\u001b[37m\u001b[0m \u001b[1m0s\u001b[0m 538ms/step - acc: 0.7975 - loss: 0.5236\n",
            "Epoch 227: val_loss did not improve from 0.66353\n",
            "\u001b[1m186/186\u001b[0m \u001b[32m━━━━━━━━━━━━━━━━━━━━\u001b[0m\u001b[37m\u001b[0m \u001b[1m105s\u001b[0m 564ms/step - acc: 0.7975 - loss: 0.5236 - val_acc: 0.7493 - val_loss: 0.8232 - learning_rate: 1.0000e-10\n",
            "Epoch 228/300\n",
            "\u001b[1m186/186\u001b[0m \u001b[32m━━━━━━━━━━━━━━━━━━━━\u001b[0m\u001b[37m\u001b[0m \u001b[1m0s\u001b[0m 546ms/step - acc: 0.8028 - loss: 0.5206\n",
            "Epoch 228: val_loss did not improve from 0.66353\n",
            "\u001b[1m186/186\u001b[0m \u001b[32m━━━━━━━━━━━━━━━━━━━━\u001b[0m\u001b[37m\u001b[0m \u001b[1m106s\u001b[0m 571ms/step - acc: 0.8028 - loss: 0.5206 - val_acc: 0.7493 - val_loss: 0.8232 - learning_rate: 1.0000e-10\n",
            "Epoch 229/300\n",
            "\u001b[1m186/186\u001b[0m \u001b[32m━━━━━━━━━━━━━━━━━━━━\u001b[0m\u001b[37m\u001b[0m \u001b[1m0s\u001b[0m 534ms/step - acc: 0.8012 - loss: 0.5223\n",
            "Epoch 229: val_loss did not improve from 0.66353\n",
            "\u001b[1m186/186\u001b[0m \u001b[32m━━━━━━━━━━━━━━━━━━━━\u001b[0m\u001b[37m\u001b[0m \u001b[1m104s\u001b[0m 559ms/step - acc: 0.8012 - loss: 0.5223 - val_acc: 0.7493 - val_loss: 0.8232 - learning_rate: 1.0000e-10\n",
            "Epoch 230/300\n",
            "\u001b[1m186/186\u001b[0m \u001b[32m━━━━━━━━━━━━━━━━━━━━\u001b[0m\u001b[37m\u001b[0m \u001b[1m0s\u001b[0m 540ms/step - acc: 0.8013 - loss: 0.5219\n",
            "Epoch 230: val_loss did not improve from 0.66353\n",
            "\u001b[1m186/186\u001b[0m \u001b[32m━━━━━━━━━━━━━━━━━━━━\u001b[0m\u001b[37m\u001b[0m \u001b[1m105s\u001b[0m 565ms/step - acc: 0.8013 - loss: 0.5219 - val_acc: 0.7493 - val_loss: 0.8232 - learning_rate: 1.0000e-10\n",
            "Epoch 231/300\n",
            "\u001b[1m186/186\u001b[0m \u001b[32m━━━━━━━━━━━━━━━━━━━━\u001b[0m\u001b[37m\u001b[0m \u001b[1m0s\u001b[0m 546ms/step - acc: 0.7983 - loss: 0.5212\n",
            "Epoch 231: val_loss did not improve from 0.66353\n",
            "\u001b[1m186/186\u001b[0m \u001b[32m━━━━━━━━━━━━━━━━━━━━\u001b[0m\u001b[37m\u001b[0m \u001b[1m106s\u001b[0m 572ms/step - acc: 0.7983 - loss: 0.5212 - val_acc: 0.7493 - val_loss: 0.8232 - learning_rate: 1.0000e-10\n",
            "Epoch 232/300\n",
            "\u001b[1m186/186\u001b[0m \u001b[32m━━━━━━━━━━━━━━━━━━━━\u001b[0m\u001b[37m\u001b[0m \u001b[1m0s\u001b[0m 536ms/step - acc: 0.8012 - loss: 0.5211\n",
            "Epoch 232: val_loss did not improve from 0.66353\n",
            "\u001b[1m186/186\u001b[0m \u001b[32m━━━━━━━━━━━━━━━━━━━━\u001b[0m\u001b[37m\u001b[0m \u001b[1m104s\u001b[0m 561ms/step - acc: 0.8012 - loss: 0.5210 - val_acc: 0.7493 - val_loss: 0.8232 - learning_rate: 1.0000e-10\n",
            "Epoch 233/300\n",
            "\u001b[1m186/186\u001b[0m \u001b[32m━━━━━━━━━━━━━━━━━━━━\u001b[0m\u001b[37m\u001b[0m \u001b[1m0s\u001b[0m 535ms/step - acc: 0.7961 - loss: 0.5249\n",
            "Epoch 233: val_loss did not improve from 0.66353\n",
            "\u001b[1m186/186\u001b[0m \u001b[32m━━━━━━━━━━━━━━━━━━━━\u001b[0m\u001b[37m\u001b[0m \u001b[1m104s\u001b[0m 560ms/step - acc: 0.7962 - loss: 0.5249 - val_acc: 0.7493 - val_loss: 0.8232 - learning_rate: 1.0000e-10\n",
            "Epoch 234/300\n",
            "\u001b[1m186/186\u001b[0m \u001b[32m━━━━━━━━━━━━━━━━━━━━\u001b[0m\u001b[37m\u001b[0m \u001b[1m0s\u001b[0m 542ms/step - acc: 0.7953 - loss: 0.5216\n",
            "Epoch 234: val_loss did not improve from 0.66353\n",
            "\u001b[1m186/186\u001b[0m \u001b[32m━━━━━━━━━━━━━━━━━━━━\u001b[0m\u001b[37m\u001b[0m \u001b[1m105s\u001b[0m 567ms/step - acc: 0.7953 - loss: 0.5215 - val_acc: 0.7493 - val_loss: 0.8232 - learning_rate: 1.0000e-10\n",
            "Epoch 235/300\n",
            "\u001b[1m186/186\u001b[0m \u001b[32m━━━━━━━━━━━━━━━━━━━━\u001b[0m\u001b[37m\u001b[0m \u001b[1m0s\u001b[0m 533ms/step - acc: 0.7924 - loss: 0.5254\n",
            "Epoch 235: val_loss did not improve from 0.66353\n",
            "\u001b[1m186/186\u001b[0m \u001b[32m━━━━━━━━━━━━━━━━━━━━\u001b[0m\u001b[37m\u001b[0m \u001b[1m104s\u001b[0m 558ms/step - acc: 0.7925 - loss: 0.5253 - val_acc: 0.7493 - val_loss: 0.8232 - learning_rate: 1.0000e-10\n",
            "Epoch 236/300\n",
            "\u001b[1m186/186\u001b[0m \u001b[32m━━━━━━━━━━━━━━━━━━━━\u001b[0m\u001b[37m\u001b[0m \u001b[1m0s\u001b[0m 528ms/step - acc: 0.8000 - loss: 0.5234\n",
            "Epoch 236: val_loss did not improve from 0.66353\n",
            "\u001b[1m186/186\u001b[0m \u001b[32m━━━━━━━━━━━━━━━━━━━━\u001b[0m\u001b[37m\u001b[0m \u001b[1m103s\u001b[0m 553ms/step - acc: 0.8000 - loss: 0.5233 - val_acc: 0.7493 - val_loss: 0.8232 - learning_rate: 1.0000e-10\n",
            "Epoch 237/300\n",
            "\u001b[1m186/186\u001b[0m \u001b[32m━━━━━━━━━━━━━━━━━━━━\u001b[0m\u001b[37m\u001b[0m \u001b[1m0s\u001b[0m 542ms/step - acc: 0.8002 - loss: 0.5237\n",
            "Epoch 237: val_loss did not improve from 0.66353\n",
            "\u001b[1m186/186\u001b[0m \u001b[32m━━━━━━━━━━━━━━━━━━━━\u001b[0m\u001b[37m\u001b[0m \u001b[1m106s\u001b[0m 568ms/step - acc: 0.8002 - loss: 0.5237 - val_acc: 0.7493 - val_loss: 0.8232 - learning_rate: 1.0000e-10\n",
            "Epoch 238/300\n",
            "\u001b[1m186/186\u001b[0m \u001b[32m━━━━━━━━━━━━━━━━━━━━\u001b[0m\u001b[37m\u001b[0m \u001b[1m0s\u001b[0m 539ms/step - acc: 0.7981 - loss: 0.5242\n",
            "Epoch 238: val_loss did not improve from 0.66353\n",
            "\u001b[1m186/186\u001b[0m \u001b[32m━━━━━━━━━━━━━━━━━━━━\u001b[0m\u001b[37m\u001b[0m \u001b[1m105s\u001b[0m 564ms/step - acc: 0.7981 - loss: 0.5241 - val_acc: 0.7493 - val_loss: 0.8232 - learning_rate: 1.0000e-10\n",
            "Epoch 239/300\n",
            "\u001b[1m186/186\u001b[0m \u001b[32m━━━━━━━━━━━━━━━━━━━━\u001b[0m\u001b[37m\u001b[0m \u001b[1m0s\u001b[0m 524ms/step - acc: 0.7947 - loss: 0.5225\n",
            "Epoch 239: val_loss did not improve from 0.66353\n",
            "\u001b[1m186/186\u001b[0m \u001b[32m━━━━━━━━━━━━━━━━━━━━\u001b[0m\u001b[37m\u001b[0m \u001b[1m102s\u001b[0m 549ms/step - acc: 0.7947 - loss: 0.5225 - val_acc: 0.7493 - val_loss: 0.8232 - learning_rate: 1.0000e-10\n",
            "Epoch 240/300\n",
            "\u001b[1m186/186\u001b[0m \u001b[32m━━━━━━━━━━━━━━━━━━━━\u001b[0m\u001b[37m\u001b[0m \u001b[1m0s\u001b[0m 533ms/step - acc: 0.8013 - loss: 0.5204\n",
            "Epoch 240: val_loss did not improve from 0.66353\n",
            "\u001b[1m186/186\u001b[0m \u001b[32m━━━━━━━━━━━━━━━━━━━━\u001b[0m\u001b[37m\u001b[0m \u001b[1m104s\u001b[0m 558ms/step - acc: 0.8013 - loss: 0.5204 - val_acc: 0.7493 - val_loss: 0.8232 - learning_rate: 1.0000e-10\n",
            "Epoch 241/300\n",
            "\u001b[1m186/186\u001b[0m \u001b[32m━━━━━━━━━━━━━━━━━━━━\u001b[0m\u001b[37m\u001b[0m \u001b[1m0s\u001b[0m 532ms/step - acc: 0.7923 - loss: 0.5237\n",
            "Epoch 241: val_loss did not improve from 0.66353\n",
            "\u001b[1m186/186\u001b[0m \u001b[32m━━━━━━━━━━━━━━━━━━━━\u001b[0m\u001b[37m\u001b[0m \u001b[1m104s\u001b[0m 557ms/step - acc: 0.7924 - loss: 0.5236 - val_acc: 0.7493 - val_loss: 0.8232 - learning_rate: 1.0000e-10\n",
            "Epoch 242/300\n",
            "\u001b[1m186/186\u001b[0m \u001b[32m━━━━━━━━━━━━━━━━━━━━\u001b[0m\u001b[37m\u001b[0m \u001b[1m0s\u001b[0m 515ms/step - acc: 0.7986 - loss: 0.5227\n",
            "Epoch 242: val_loss did not improve from 0.66353\n",
            "\u001b[1m186/186\u001b[0m \u001b[32m━━━━━━━━━━━━━━━━━━━━\u001b[0m\u001b[37m\u001b[0m \u001b[1m101s\u001b[0m 540ms/step - acc: 0.7986 - loss: 0.5226 - val_acc: 0.7493 - val_loss: 0.8232 - learning_rate: 1.0000e-10\n",
            "Epoch 243/300\n",
            "\u001b[1m186/186\u001b[0m \u001b[32m━━━━━━━━━━━━━━━━━━━━\u001b[0m\u001b[37m\u001b[0m \u001b[1m0s\u001b[0m 524ms/step - acc: 0.7970 - loss: 0.5272\n",
            "Epoch 243: val_loss did not improve from 0.66353\n",
            "\u001b[1m186/186\u001b[0m \u001b[32m━━━━━━━━━━━━━━━━━━━━\u001b[0m\u001b[37m\u001b[0m \u001b[1m102s\u001b[0m 549ms/step - acc: 0.7970 - loss: 0.5272 - val_acc: 0.7493 - val_loss: 0.8232 - learning_rate: 1.0000e-10\n",
            "Epoch 244/300\n",
            "\u001b[1m186/186\u001b[0m \u001b[32m━━━━━━━━━━━━━━━━━━━━\u001b[0m\u001b[37m\u001b[0m \u001b[1m0s\u001b[0m 528ms/step - acc: 0.8028 - loss: 0.5222\n",
            "Epoch 244: val_loss did not improve from 0.66353\n",
            "\u001b[1m186/186\u001b[0m \u001b[32m━━━━━━━━━━━━━━━━━━━━\u001b[0m\u001b[37m\u001b[0m \u001b[1m103s\u001b[0m 553ms/step - acc: 0.8028 - loss: 0.5222 - val_acc: 0.7493 - val_loss: 0.8232 - learning_rate: 1.0000e-10\n",
            "Epoch 245/300\n",
            "\u001b[1m186/186\u001b[0m \u001b[32m━━━━━━━━━━━━━━━━━━━━\u001b[0m\u001b[37m\u001b[0m \u001b[1m0s\u001b[0m 531ms/step - acc: 0.7996 - loss: 0.5208\n",
            "Epoch 245: val_loss did not improve from 0.66353\n",
            "\u001b[1m186/186\u001b[0m \u001b[32m━━━━━━━━━━━━━━━━━━━━\u001b[0m\u001b[37m\u001b[0m \u001b[1m103s\u001b[0m 556ms/step - acc: 0.7996 - loss: 0.5208 - val_acc: 0.7493 - val_loss: 0.8232 - learning_rate: 1.0000e-10\n",
            "Epoch 246/300\n",
            "\u001b[1m186/186\u001b[0m \u001b[32m━━━━━━━━━━━━━━━━━━━━\u001b[0m\u001b[37m\u001b[0m \u001b[1m0s\u001b[0m 534ms/step - acc: 0.8017 - loss: 0.5222\n",
            "Epoch 246: val_loss did not improve from 0.66353\n",
            "\u001b[1m186/186\u001b[0m \u001b[32m━━━━━━━━━━━━━━━━━━━━\u001b[0m\u001b[37m\u001b[0m \u001b[1m104s\u001b[0m 559ms/step - acc: 0.8017 - loss: 0.5221 - val_acc: 0.7493 - val_loss: 0.8232 - learning_rate: 1.0000e-10\n",
            "Epoch 247/300\n",
            "\u001b[1m186/186\u001b[0m \u001b[32m━━━━━━━━━━━━━━━━━━━━\u001b[0m\u001b[37m\u001b[0m \u001b[1m0s\u001b[0m 527ms/step - acc: 0.8011 - loss: 0.5226\n",
            "Epoch 247: val_loss did not improve from 0.66353\n",
            "\u001b[1m186/186\u001b[0m \u001b[32m━━━━━━━━━━━━━━━━━━━━\u001b[0m\u001b[37m\u001b[0m \u001b[1m103s\u001b[0m 552ms/step - acc: 0.8011 - loss: 0.5226 - val_acc: 0.7493 - val_loss: 0.8232 - learning_rate: 1.0000e-10\n",
            "Epoch 248/300\n",
            "\u001b[1m186/186\u001b[0m \u001b[32m━━━━━━━━━━━━━━━━━━━━\u001b[0m\u001b[37m\u001b[0m \u001b[1m0s\u001b[0m 523ms/step - acc: 0.8005 - loss: 0.5212\n",
            "Epoch 248: val_loss did not improve from 0.66353\n",
            "\u001b[1m186/186\u001b[0m \u001b[32m━━━━━━━━━━━━━━━━━━━━\u001b[0m\u001b[37m\u001b[0m \u001b[1m102s\u001b[0m 549ms/step - acc: 0.8005 - loss: 0.5212 - val_acc: 0.7493 - val_loss: 0.8232 - learning_rate: 1.0000e-10\n",
            "Epoch 249/300\n",
            "\u001b[1m186/186\u001b[0m \u001b[32m━━━━━━━━━━━━━━━━━━━━\u001b[0m\u001b[37m\u001b[0m \u001b[1m0s\u001b[0m 524ms/step - acc: 0.7939 - loss: 0.5240\n",
            "Epoch 249: val_loss did not improve from 0.66353\n",
            "\u001b[1m186/186\u001b[0m \u001b[32m━━━━━━━━━━━━━━━━━━━━\u001b[0m\u001b[37m\u001b[0m \u001b[1m102s\u001b[0m 549ms/step - acc: 0.7939 - loss: 0.5240 - val_acc: 0.7493 - val_loss: 0.8232 - learning_rate: 1.0000e-10\n",
            "Epoch 250/300\n",
            "\u001b[1m186/186\u001b[0m \u001b[32m━━━━━━━━━━━━━━━━━━━━\u001b[0m\u001b[37m\u001b[0m \u001b[1m0s\u001b[0m 525ms/step - acc: 0.7990 - loss: 0.5227\n",
            "Epoch 250: val_loss did not improve from 0.66353\n",
            "\u001b[1m186/186\u001b[0m \u001b[32m━━━━━━━━━━━━━━━━━━━━\u001b[0m\u001b[37m\u001b[0m \u001b[1m102s\u001b[0m 551ms/step - acc: 0.7990 - loss: 0.5226 - val_acc: 0.7493 - val_loss: 0.8232 - learning_rate: 1.0000e-10\n",
            "Epoch 251/300\n",
            "\u001b[1m186/186\u001b[0m \u001b[32m━━━━━━━━━━━━━━━━━━━━\u001b[0m\u001b[37m\u001b[0m \u001b[1m0s\u001b[0m 527ms/step - acc: 0.8018 - loss: 0.5211\n",
            "Epoch 251: val_loss did not improve from 0.66353\n",
            "\u001b[1m186/186\u001b[0m \u001b[32m━━━━━━━━━━━━━━━━━━━━\u001b[0m\u001b[37m\u001b[0m \u001b[1m103s\u001b[0m 552ms/step - acc: 0.8018 - loss: 0.5211 - val_acc: 0.7493 - val_loss: 0.8232 - learning_rate: 1.0000e-10\n",
            "Epoch 252/300\n",
            "\u001b[1m186/186\u001b[0m \u001b[32m━━━━━━━━━━━━━━━━━━━━\u001b[0m\u001b[37m\u001b[0m \u001b[1m0s\u001b[0m 529ms/step - acc: 0.7977 - loss: 0.5264\n",
            "Epoch 252: val_loss did not improve from 0.66353\n",
            "\u001b[1m186/186\u001b[0m \u001b[32m━━━━━━━━━━━━━━━━━━━━\u001b[0m\u001b[37m\u001b[0m \u001b[1m103s\u001b[0m 554ms/step - acc: 0.7977 - loss: 0.5263 - val_acc: 0.7493 - val_loss: 0.8232 - learning_rate: 1.0000e-10\n",
            "Epoch 253/300\n",
            "\u001b[1m186/186\u001b[0m \u001b[32m━━━━━━━━━━━━━━━━━━━━\u001b[0m\u001b[37m\u001b[0m \u001b[1m0s\u001b[0m 531ms/step - acc: 0.7987 - loss: 0.5228\n",
            "Epoch 253: val_loss did not improve from 0.66353\n",
            "\u001b[1m186/186\u001b[0m \u001b[32m━━━━━━━━━━━━━━━━━━━━\u001b[0m\u001b[37m\u001b[0m \u001b[1m104s\u001b[0m 556ms/step - acc: 0.7987 - loss: 0.5228 - val_acc: 0.7493 - val_loss: 0.8232 - learning_rate: 1.0000e-10\n",
            "Epoch 254/300\n",
            "\u001b[1m186/186\u001b[0m \u001b[32m━━━━━━━━━━━━━━━━━━━━\u001b[0m\u001b[37m\u001b[0m \u001b[1m0s\u001b[0m 526ms/step - acc: 0.7968 - loss: 0.5197\n",
            "Epoch 254: val_loss did not improve from 0.66353\n",
            "\u001b[1m186/186\u001b[0m \u001b[32m━━━━━━━━━━━━━━━━━━━━\u001b[0m\u001b[37m\u001b[0m \u001b[1m103s\u001b[0m 551ms/step - acc: 0.7969 - loss: 0.5196 - val_acc: 0.7493 - val_loss: 0.8232 - learning_rate: 1.0000e-10\n",
            "Epoch 255/300\n",
            "\u001b[1m186/186\u001b[0m \u001b[32m━━━━━━━━━━━━━━━━━━━━\u001b[0m\u001b[37m\u001b[0m \u001b[1m0s\u001b[0m 533ms/step - acc: 0.8028 - loss: 0.5188\n",
            "Epoch 255: val_loss did not improve from 0.66353\n",
            "\u001b[1m186/186\u001b[0m \u001b[32m━━━━━━━━━━━━━━━━━━━━\u001b[0m\u001b[37m\u001b[0m \u001b[1m104s\u001b[0m 558ms/step - acc: 0.8028 - loss: 0.5188 - val_acc: 0.7493 - val_loss: 0.8232 - learning_rate: 1.0000e-10\n",
            "Epoch 256/300\n",
            "\u001b[1m186/186\u001b[0m \u001b[32m━━━━━━━━━━━━━━━━━━━━\u001b[0m\u001b[37m\u001b[0m \u001b[1m0s\u001b[0m 545ms/step - acc: 0.8003 - loss: 0.5236\n",
            "Epoch 256: val_loss did not improve from 0.66353\n",
            "\u001b[1m186/186\u001b[0m \u001b[32m━━━━━━━━━━━━━━━━━━━━\u001b[0m\u001b[37m\u001b[0m \u001b[1m106s\u001b[0m 571ms/step - acc: 0.8003 - loss: 0.5235 - val_acc: 0.7493 - val_loss: 0.8232 - learning_rate: 1.0000e-10\n",
            "Epoch 257/300\n",
            "\u001b[1m186/186\u001b[0m \u001b[32m━━━━━━━━━━━━━━━━━━━━\u001b[0m\u001b[37m\u001b[0m \u001b[1m0s\u001b[0m 532ms/step - acc: 0.8026 - loss: 0.5234\n",
            "Epoch 257: val_loss did not improve from 0.66353\n",
            "\u001b[1m186/186\u001b[0m \u001b[32m━━━━━━━━━━━━━━━━━━━━\u001b[0m\u001b[37m\u001b[0m \u001b[1m104s\u001b[0m 557ms/step - acc: 0.8026 - loss: 0.5233 - val_acc: 0.7493 - val_loss: 0.8232 - learning_rate: 1.0000e-10\n",
            "Epoch 258/300\n",
            "\u001b[1m186/186\u001b[0m \u001b[32m━━━━━━━━━━━━━━━━━━━━\u001b[0m\u001b[37m\u001b[0m \u001b[1m0s\u001b[0m 528ms/step - acc: 0.8014 - loss: 0.5203\n",
            "Epoch 258: val_loss did not improve from 0.66353\n",
            "\u001b[1m186/186\u001b[0m \u001b[32m━━━━━━━━━━━━━━━━━━━━\u001b[0m\u001b[37m\u001b[0m \u001b[1m103s\u001b[0m 553ms/step - acc: 0.8014 - loss: 0.5202 - val_acc: 0.7493 - val_loss: 0.8232 - learning_rate: 1.0000e-10\n",
            "Epoch 259/300\n",
            "\u001b[1m186/186\u001b[0m \u001b[32m━━━━━━━━━━━━━━━━━━━━\u001b[0m\u001b[37m\u001b[0m \u001b[1m0s\u001b[0m 528ms/step - acc: 0.7943 - loss: 0.5230\n",
            "Epoch 259: val_loss did not improve from 0.66353\n",
            "\u001b[1m186/186\u001b[0m \u001b[32m━━━━━━━━━━━━━━━━━━━━\u001b[0m\u001b[37m\u001b[0m \u001b[1m103s\u001b[0m 553ms/step - acc: 0.7944 - loss: 0.5230 - val_acc: 0.7493 - val_loss: 0.8232 - learning_rate: 1.0000e-10\n",
            "Epoch 260/300\n",
            "\u001b[1m186/186\u001b[0m \u001b[32m━━━━━━━━━━━━━━━━━━━━\u001b[0m\u001b[37m\u001b[0m \u001b[1m0s\u001b[0m 525ms/step - acc: 0.7965 - loss: 0.5229\n",
            "Epoch 260: val_loss did not improve from 0.66353\n",
            "\u001b[1m186/186\u001b[0m \u001b[32m━━━━━━━━━━━━━━━━━━━━\u001b[0m\u001b[37m\u001b[0m \u001b[1m102s\u001b[0m 550ms/step - acc: 0.7965 - loss: 0.5229 - val_acc: 0.7493 - val_loss: 0.8232 - learning_rate: 1.0000e-10\n",
            "Epoch 261/300\n",
            "\u001b[1m186/186\u001b[0m \u001b[32m━━━━━━━━━━━━━━━━━━━━\u001b[0m\u001b[37m\u001b[0m \u001b[1m0s\u001b[0m 528ms/step - acc: 0.8045 - loss: 0.5213\n",
            "Epoch 261: val_loss did not improve from 0.66353\n",
            "\u001b[1m186/186\u001b[0m \u001b[32m━━━━━━━━━━━━━━━━━━━━\u001b[0m\u001b[37m\u001b[0m \u001b[1m103s\u001b[0m 553ms/step - acc: 0.8045 - loss: 0.5213 - val_acc: 0.7493 - val_loss: 0.8232 - learning_rate: 1.0000e-10\n",
            "Epoch 262/300\n",
            "\u001b[1m186/186\u001b[0m \u001b[32m━━━━━━━━━━━━━━━━━━━━\u001b[0m\u001b[37m\u001b[0m \u001b[1m0s\u001b[0m 524ms/step - acc: 0.7989 - loss: 0.5231\n",
            "Epoch 262: val_loss did not improve from 0.66353\n",
            "\u001b[1m186/186\u001b[0m \u001b[32m━━━━━━━━━━━━━━━━━━━━\u001b[0m\u001b[37m\u001b[0m \u001b[1m102s\u001b[0m 549ms/step - acc: 0.7989 - loss: 0.5230 - val_acc: 0.7493 - val_loss: 0.8232 - learning_rate: 1.0000e-10\n",
            "Epoch 263/300\n",
            "\u001b[1m186/186\u001b[0m \u001b[32m━━━━━━━━━━━━━━━━━━━━\u001b[0m\u001b[37m\u001b[0m \u001b[1m0s\u001b[0m 531ms/step - acc: 0.7989 - loss: 0.5205\n",
            "Epoch 263: val_loss did not improve from 0.66353\n",
            "\u001b[1m186/186\u001b[0m \u001b[32m━━━━━━━━━━━━━━━━━━━━\u001b[0m\u001b[37m\u001b[0m \u001b[1m103s\u001b[0m 556ms/step - acc: 0.7989 - loss: 0.5204 - val_acc: 0.7493 - val_loss: 0.8232 - learning_rate: 1.0000e-10\n",
            "Epoch 264/300\n",
            "\u001b[1m186/186\u001b[0m \u001b[32m━━━━━━━━━━━━━━━━━━━━\u001b[0m\u001b[37m\u001b[0m \u001b[1m0s\u001b[0m 532ms/step - acc: 0.8026 - loss: 0.5235\n",
            "Epoch 264: val_loss did not improve from 0.66353\n",
            "\u001b[1m186/186\u001b[0m \u001b[32m━━━━━━━━━━━━━━━━━━━━\u001b[0m\u001b[37m\u001b[0m \u001b[1m104s\u001b[0m 557ms/step - acc: 0.8026 - loss: 0.5234 - val_acc: 0.7493 - val_loss: 0.8232 - learning_rate: 1.0000e-10\n",
            "Epoch 265/300\n",
            "\u001b[1m186/186\u001b[0m \u001b[32m━━━━━━━━━━━━━━━━━━━━\u001b[0m\u001b[37m\u001b[0m \u001b[1m0s\u001b[0m 525ms/step - acc: 0.7998 - loss: 0.5230\n",
            "Epoch 265: val_loss did not improve from 0.66353\n",
            "\u001b[1m186/186\u001b[0m \u001b[32m━━━━━━━━━━━━━━━━━━━━\u001b[0m\u001b[37m\u001b[0m \u001b[1m102s\u001b[0m 550ms/step - acc: 0.7999 - loss: 0.5229 - val_acc: 0.7493 - val_loss: 0.8232 - learning_rate: 1.0000e-10\n",
            "Epoch 266/300\n",
            "\u001b[1m186/186\u001b[0m \u001b[32m━━━━━━━━━━━━━━━━━━━━\u001b[0m\u001b[37m\u001b[0m \u001b[1m0s\u001b[0m 527ms/step - acc: 0.7922 - loss: 0.5233\n",
            "Epoch 266: val_loss did not improve from 0.66353\n",
            "\u001b[1m186/186\u001b[0m \u001b[32m━━━━━━━━━━━━━━━━━━━━\u001b[0m\u001b[37m\u001b[0m \u001b[1m103s\u001b[0m 552ms/step - acc: 0.7923 - loss: 0.5233 - val_acc: 0.7493 - val_loss: 0.8232 - learning_rate: 1.0000e-10\n",
            "Epoch 267/300\n",
            "\u001b[1m186/186\u001b[0m \u001b[32m━━━━━━━━━━━━━━━━━━━━\u001b[0m\u001b[37m\u001b[0m \u001b[1m0s\u001b[0m 528ms/step - acc: 0.7965 - loss: 0.5248\n",
            "Epoch 267: val_loss did not improve from 0.66353\n",
            "\u001b[1m186/186\u001b[0m \u001b[32m━━━━━━━━━━━━━━━━━━━━\u001b[0m\u001b[37m\u001b[0m \u001b[1m103s\u001b[0m 553ms/step - acc: 0.7965 - loss: 0.5247 - val_acc: 0.7493 - val_loss: 0.8232 - learning_rate: 1.0000e-10\n",
            "Epoch 268/300\n",
            "\u001b[1m186/186\u001b[0m \u001b[32m━━━━━━━━━━━━━━━━━━━━\u001b[0m\u001b[37m\u001b[0m \u001b[1m0s\u001b[0m 522ms/step - acc: 0.7988 - loss: 0.5209\n",
            "Epoch 268: val_loss did not improve from 0.66353\n",
            "\u001b[1m186/186\u001b[0m \u001b[32m━━━━━━━━━━━━━━━━━━━━\u001b[0m\u001b[37m\u001b[0m \u001b[1m102s\u001b[0m 547ms/step - acc: 0.7988 - loss: 0.5208 - val_acc: 0.7493 - val_loss: 0.8232 - learning_rate: 1.0000e-10\n",
            "Epoch 269/300\n",
            "\u001b[1m186/186\u001b[0m \u001b[32m━━━━━━━━━━━━━━━━━━━━\u001b[0m\u001b[37m\u001b[0m \u001b[1m0s\u001b[0m 522ms/step - acc: 0.7989 - loss: 0.5214\n",
            "Epoch 269: val_loss did not improve from 0.66353\n",
            "\u001b[1m186/186\u001b[0m \u001b[32m━━━━━━━━━━━━━━━━━━━━\u001b[0m\u001b[37m\u001b[0m \u001b[1m102s\u001b[0m 547ms/step - acc: 0.7989 - loss: 0.5213 - val_acc: 0.7493 - val_loss: 0.8232 - learning_rate: 1.0000e-10\n",
            "Epoch 270/300\n",
            "\u001b[1m186/186\u001b[0m \u001b[32m━━━━━━━━━━━━━━━━━━━━\u001b[0m\u001b[37m\u001b[0m \u001b[1m0s\u001b[0m 524ms/step - acc: 0.7957 - loss: 0.5281\n",
            "Epoch 270: val_loss did not improve from 0.66353\n",
            "\u001b[1m186/186\u001b[0m \u001b[32m━━━━━━━━━━━━━━━━━━━━\u001b[0m\u001b[37m\u001b[0m \u001b[1m102s\u001b[0m 549ms/step - acc: 0.7958 - loss: 0.5280 - val_acc: 0.7493 - val_loss: 0.8232 - learning_rate: 1.0000e-10\n",
            "Epoch 271/300\n",
            "\u001b[1m186/186\u001b[0m \u001b[32m━━━━━━━━━━━━━━━━━━━━\u001b[0m\u001b[37m\u001b[0m \u001b[1m0s\u001b[0m 532ms/step - acc: 0.7975 - loss: 0.5219\n",
            "Epoch 271: val_loss did not improve from 0.66353\n",
            "\u001b[1m186/186\u001b[0m \u001b[32m━━━━━━━━━━━━━━━━━━━━\u001b[0m\u001b[37m\u001b[0m \u001b[1m104s\u001b[0m 558ms/step - acc: 0.7975 - loss: 0.5218 - val_acc: 0.7493 - val_loss: 0.8232 - learning_rate: 1.0000e-10\n",
            "Epoch 272/300\n",
            "\u001b[1m186/186\u001b[0m \u001b[32m━━━━━━━━━━━━━━━━━━━━\u001b[0m\u001b[37m\u001b[0m \u001b[1m0s\u001b[0m 533ms/step - acc: 0.7976 - loss: 0.5199\n",
            "Epoch 272: val_loss did not improve from 0.66353\n",
            "\u001b[1m186/186\u001b[0m \u001b[32m━━━━━━━━━━━━━━━━━━━━\u001b[0m\u001b[37m\u001b[0m \u001b[1m104s\u001b[0m 558ms/step - acc: 0.7976 - loss: 0.5199 - val_acc: 0.7493 - val_loss: 0.8232 - learning_rate: 1.0000e-10\n",
            "Epoch 273/300\n",
            "\u001b[1m186/186\u001b[0m \u001b[32m━━━━━━━━━━━━━━━━━━━━\u001b[0m\u001b[37m\u001b[0m \u001b[1m0s\u001b[0m 529ms/step - acc: 0.7990 - loss: 0.5219\n",
            "Epoch 273: val_loss did not improve from 0.66353\n",
            "\u001b[1m186/186\u001b[0m \u001b[32m━━━━━━━━━━━━━━━━━━━━\u001b[0m\u001b[37m\u001b[0m \u001b[1m103s\u001b[0m 554ms/step - acc: 0.7990 - loss: 0.5218 - val_acc: 0.7493 - val_loss: 0.8232 - learning_rate: 1.0000e-10\n",
            "Epoch 274/300\n",
            "\u001b[1m186/186\u001b[0m \u001b[32m━━━━━━━━━━━━━━━━━━━━\u001b[0m\u001b[37m\u001b[0m \u001b[1m0s\u001b[0m 535ms/step - acc: 0.7995 - loss: 0.5217\n",
            "Epoch 274: val_loss did not improve from 0.66353\n",
            "\u001b[1m186/186\u001b[0m \u001b[32m━━━━━━━━━━━━━━━━━━━━\u001b[0m\u001b[37m\u001b[0m \u001b[1m104s\u001b[0m 560ms/step - acc: 0.7996 - loss: 0.5217 - val_acc: 0.7493 - val_loss: 0.8232 - learning_rate: 1.0000e-10\n",
            "Epoch 275/300\n",
            "\u001b[1m186/186\u001b[0m \u001b[32m━━━━━━━━━━━━━━━━━━━━\u001b[0m\u001b[37m\u001b[0m \u001b[1m0s\u001b[0m 536ms/step - acc: 0.7980 - loss: 0.5219\n",
            "Epoch 275: val_loss did not improve from 0.66353\n",
            "\u001b[1m186/186\u001b[0m \u001b[32m━━━━━━━━━━━━━━━━━━━━\u001b[0m\u001b[37m\u001b[0m \u001b[1m105s\u001b[0m 562ms/step - acc: 0.7980 - loss: 0.5219 - val_acc: 0.7493 - val_loss: 0.8232 - learning_rate: 1.0000e-10\n",
            "Epoch 276/300\n",
            "\u001b[1m186/186\u001b[0m \u001b[32m━━━━━━━━━━━━━━━━━━━━\u001b[0m\u001b[37m\u001b[0m \u001b[1m0s\u001b[0m 541ms/step - acc: 0.8019 - loss: 0.5222\n",
            "Epoch 276: val_loss did not improve from 0.66353\n",
            "\u001b[1m186/186\u001b[0m \u001b[32m━━━━━━━━━━━━━━━━━━━━\u001b[0m\u001b[37m\u001b[0m \u001b[1m105s\u001b[0m 566ms/step - acc: 0.8019 - loss: 0.5221 - val_acc: 0.7493 - val_loss: 0.8232 - learning_rate: 1.0000e-10\n",
            "Epoch 277/300\n",
            "\u001b[1m186/186\u001b[0m \u001b[32m━━━━━━━━━━━━━━━━━━━━\u001b[0m\u001b[37m\u001b[0m \u001b[1m0s\u001b[0m 545ms/step - acc: 0.7998 - loss: 0.5217\n",
            "Epoch 277: val_loss did not improve from 0.66353\n",
            "\u001b[1m186/186\u001b[0m \u001b[32m━━━━━━━━━━━━━━━━━━━━\u001b[0m\u001b[37m\u001b[0m \u001b[1m106s\u001b[0m 570ms/step - acc: 0.7998 - loss: 0.5217 - val_acc: 0.7493 - val_loss: 0.8232 - learning_rate: 1.0000e-10\n",
            "Epoch 278/300\n",
            "\u001b[1m186/186\u001b[0m \u001b[32m━━━━━━━━━━━━━━━━━━━━\u001b[0m\u001b[37m\u001b[0m \u001b[1m0s\u001b[0m 538ms/step - acc: 0.7980 - loss: 0.5215\n",
            "Epoch 278: val_loss did not improve from 0.66353\n",
            "\u001b[1m186/186\u001b[0m \u001b[32m━━━━━━━━━━━━━━━━━━━━\u001b[0m\u001b[37m\u001b[0m \u001b[1m105s\u001b[0m 564ms/step - acc: 0.7981 - loss: 0.5214 - val_acc: 0.7493 - val_loss: 0.8232 - learning_rate: 1.0000e-10\n",
            "Epoch 279/300\n",
            "\u001b[1m186/186\u001b[0m \u001b[32m━━━━━━━━━━━━━━━━━━━━\u001b[0m\u001b[37m\u001b[0m \u001b[1m0s\u001b[0m 543ms/step - acc: 0.8038 - loss: 0.5222\n",
            "Epoch 279: val_loss did not improve from 0.66353\n",
            "\u001b[1m186/186\u001b[0m \u001b[32m━━━━━━━━━━━━━━━━━━━━\u001b[0m\u001b[37m\u001b[0m \u001b[1m106s\u001b[0m 568ms/step - acc: 0.8038 - loss: 0.5221 - val_acc: 0.7493 - val_loss: 0.8232 - learning_rate: 1.0000e-10\n",
            "Epoch 280/300\n",
            "\u001b[1m186/186\u001b[0m \u001b[32m━━━━━━━━━━━━━━━━━━━━\u001b[0m\u001b[37m\u001b[0m \u001b[1m0s\u001b[0m 543ms/step - acc: 0.7998 - loss: 0.5245\n",
            "Epoch 280: val_loss did not improve from 0.66353\n",
            "\u001b[1m186/186\u001b[0m \u001b[32m━━━━━━━━━━━━━━━━━━━━\u001b[0m\u001b[37m\u001b[0m \u001b[1m106s\u001b[0m 568ms/step - acc: 0.7998 - loss: 0.5244 - val_acc: 0.7493 - val_loss: 0.8232 - learning_rate: 1.0000e-10\n",
            "Epoch 281/300\n",
            "\u001b[1m186/186\u001b[0m \u001b[32m━━━━━━━━━━━━━━━━━━━━\u001b[0m\u001b[37m\u001b[0m \u001b[1m0s\u001b[0m 541ms/step - acc: 0.8022 - loss: 0.5242\n",
            "Epoch 281: val_loss did not improve from 0.66353\n",
            "\u001b[1m186/186\u001b[0m \u001b[32m━━━━━━━━━━━━━━━━━━━━\u001b[0m\u001b[37m\u001b[0m \u001b[1m106s\u001b[0m 567ms/step - acc: 0.8022 - loss: 0.5242 - val_acc: 0.7493 - val_loss: 0.8232 - learning_rate: 1.0000e-10\n",
            "Epoch 282/300\n",
            "\u001b[1m186/186\u001b[0m \u001b[32m━━━━━━━━━━━━━━━━━━━━\u001b[0m\u001b[37m\u001b[0m \u001b[1m0s\u001b[0m 542ms/step - acc: 0.7966 - loss: 0.5207\n",
            "Epoch 282: val_loss did not improve from 0.66353\n",
            "\u001b[1m186/186\u001b[0m \u001b[32m━━━━━━━━━━━━━━━━━━━━\u001b[0m\u001b[37m\u001b[0m \u001b[1m106s\u001b[0m 568ms/step - acc: 0.7966 - loss: 0.5207 - val_acc: 0.7493 - val_loss: 0.8232 - learning_rate: 1.0000e-10\n",
            "Epoch 283/300\n",
            "\u001b[1m186/186\u001b[0m \u001b[32m━━━━━━━━━━━━━━━━━━━━\u001b[0m\u001b[37m\u001b[0m \u001b[1m0s\u001b[0m 541ms/step - acc: 0.7996 - loss: 0.5251\n",
            "Epoch 283: val_loss did not improve from 0.66353\n",
            "\u001b[1m186/186\u001b[0m \u001b[32m━━━━━━━━━━━━━━━━━━━━\u001b[0m\u001b[37m\u001b[0m \u001b[1m105s\u001b[0m 566ms/step - acc: 0.7996 - loss: 0.5250 - val_acc: 0.7493 - val_loss: 0.8232 - learning_rate: 1.0000e-10\n",
            "Epoch 284/300\n",
            "\u001b[1m186/186\u001b[0m \u001b[32m━━━━━━━━━━━━━━━━━━━━\u001b[0m\u001b[37m\u001b[0m \u001b[1m0s\u001b[0m 543ms/step - acc: 0.8017 - loss: 0.5196\n",
            "Epoch 284: val_loss did not improve from 0.66353\n",
            "\u001b[1m186/186\u001b[0m \u001b[32m━━━━━━━━━━━━━━━━━━━━\u001b[0m\u001b[37m\u001b[0m \u001b[1m106s\u001b[0m 568ms/step - acc: 0.8017 - loss: 0.5195 - val_acc: 0.7493 - val_loss: 0.8232 - learning_rate: 1.0000e-10\n",
            "Epoch 285/300\n",
            "\u001b[1m186/186\u001b[0m \u001b[32m━━━━━━━━━━━━━━━━━━━━\u001b[0m\u001b[37m\u001b[0m \u001b[1m0s\u001b[0m 538ms/step - acc: 0.7950 - loss: 0.5235\n",
            "Epoch 285: val_loss did not improve from 0.66353\n",
            "\u001b[1m186/186\u001b[0m \u001b[32m━━━━━━━━━━━━━━━━━━━━\u001b[0m\u001b[37m\u001b[0m \u001b[1m105s\u001b[0m 564ms/step - acc: 0.7950 - loss: 0.5235 - val_acc: 0.7493 - val_loss: 0.8232 - learning_rate: 1.0000e-10\n",
            "Epoch 286/300\n",
            "\u001b[1m186/186\u001b[0m \u001b[32m━━━━━━━━━━━━━━━━━━━━\u001b[0m\u001b[37m\u001b[0m \u001b[1m0s\u001b[0m 544ms/step - acc: 0.8013 - loss: 0.5239\n",
            "Epoch 286: val_loss did not improve from 0.66353\n",
            "\u001b[1m186/186\u001b[0m \u001b[32m━━━━━━━━━━━━━━━━━━━━\u001b[0m\u001b[37m\u001b[0m \u001b[1m106s\u001b[0m 570ms/step - acc: 0.8013 - loss: 0.5238 - val_acc: 0.7493 - val_loss: 0.8232 - learning_rate: 1.0000e-10\n",
            "Epoch 287/300\n",
            "\u001b[1m186/186\u001b[0m \u001b[32m━━━━━━━━━━━━━━━━━━━━\u001b[0m\u001b[37m\u001b[0m \u001b[1m0s\u001b[0m 535ms/step - acc: 0.7983 - loss: 0.5224\n",
            "Epoch 287: val_loss did not improve from 0.66353\n",
            "\u001b[1m186/186\u001b[0m \u001b[32m━━━━━━━━━━━━━━━━━━━━\u001b[0m\u001b[37m\u001b[0m \u001b[1m104s\u001b[0m 560ms/step - acc: 0.7983 - loss: 0.5224 - val_acc: 0.7493 - val_loss: 0.8232 - learning_rate: 1.0000e-10\n",
            "Epoch 288/300\n",
            "\u001b[1m186/186\u001b[0m \u001b[32m━━━━━━━━━━━━━━━━━━━━\u001b[0m\u001b[37m\u001b[0m \u001b[1m0s\u001b[0m 533ms/step - acc: 0.7977 - loss: 0.5254\n",
            "Epoch 288: val_loss did not improve from 0.66353\n",
            "\u001b[1m186/186\u001b[0m \u001b[32m━━━━━━━━━━━━━━━━━━━━\u001b[0m\u001b[37m\u001b[0m \u001b[1m104s\u001b[0m 558ms/step - acc: 0.7977 - loss: 0.5254 - val_acc: 0.7493 - val_loss: 0.8232 - learning_rate: 1.0000e-10\n",
            "Epoch 289/300\n",
            "\u001b[1m186/186\u001b[0m \u001b[32m━━━━━━━━━━━━━━━━━━━━\u001b[0m\u001b[37m\u001b[0m \u001b[1m0s\u001b[0m 531ms/step - acc: 0.7982 - loss: 0.5236\n",
            "Epoch 289: val_loss did not improve from 0.66353\n",
            "\u001b[1m186/186\u001b[0m \u001b[32m━━━━━━━━━━━━━━━━━━━━\u001b[0m\u001b[37m\u001b[0m \u001b[1m103s\u001b[0m 556ms/step - acc: 0.7982 - loss: 0.5235 - val_acc: 0.7493 - val_loss: 0.8232 - learning_rate: 1.0000e-10\n",
            "Epoch 290/300\n",
            "\u001b[1m186/186\u001b[0m \u001b[32m━━━━━━━━━━━━━━━━━━━━\u001b[0m\u001b[37m\u001b[0m \u001b[1m0s\u001b[0m 528ms/step - acc: 0.7912 - loss: 0.5267\n",
            "Epoch 290: val_loss did not improve from 0.66353\n",
            "\u001b[1m186/186\u001b[0m \u001b[32m━━━━━━━━━━━━━━━━━━━━\u001b[0m\u001b[37m\u001b[0m \u001b[1m103s\u001b[0m 553ms/step - acc: 0.7912 - loss: 0.5266 - val_acc: 0.7493 - val_loss: 0.8232 - learning_rate: 1.0000e-10\n",
            "Epoch 291/300\n",
            "\u001b[1m186/186\u001b[0m \u001b[32m━━━━━━━━━━━━━━━━━━━━\u001b[0m\u001b[37m\u001b[0m \u001b[1m0s\u001b[0m 531ms/step - acc: 0.7998 - loss: 0.5249\n",
            "Epoch 291: val_loss did not improve from 0.66353\n",
            "\u001b[1m186/186\u001b[0m \u001b[32m━━━━━━━━━━━━━━━━━━━━\u001b[0m\u001b[37m\u001b[0m \u001b[1m104s\u001b[0m 556ms/step - acc: 0.7998 - loss: 0.5249 - val_acc: 0.7493 - val_loss: 0.8232 - learning_rate: 1.0000e-10\n",
            "Epoch 292/300\n",
            "\u001b[1m186/186\u001b[0m \u001b[32m━━━━━━━━━━━━━━━━━━━━\u001b[0m\u001b[37m\u001b[0m \u001b[1m0s\u001b[0m 529ms/step - acc: 0.7962 - loss: 0.5233\n",
            "Epoch 292: val_loss did not improve from 0.66353\n",
            "\u001b[1m186/186\u001b[0m \u001b[32m━━━━━━━━━━━━━━━━━━━━\u001b[0m\u001b[37m\u001b[0m \u001b[1m103s\u001b[0m 554ms/step - acc: 0.7963 - loss: 0.5232 - val_acc: 0.7493 - val_loss: 0.8232 - learning_rate: 1.0000e-10\n",
            "Epoch 293/300\n",
            "\u001b[1m186/186\u001b[0m \u001b[32m━━━━━━━━━━━━━━━━━━━━\u001b[0m\u001b[37m\u001b[0m \u001b[1m0s\u001b[0m 532ms/step - acc: 0.7951 - loss: 0.5230\n",
            "Epoch 293: val_loss did not improve from 0.66353\n",
            "\u001b[1m186/186\u001b[0m \u001b[32m━━━━━━━━━━━━━━━━━━━━\u001b[0m\u001b[37m\u001b[0m \u001b[1m104s\u001b[0m 557ms/step - acc: 0.7951 - loss: 0.5229 - val_acc: 0.7493 - val_loss: 0.8232 - learning_rate: 1.0000e-10\n",
            "Epoch 294/300\n",
            "\u001b[1m186/186\u001b[0m \u001b[32m━━━━━━━━━━━━━━━━━━━━\u001b[0m\u001b[37m\u001b[0m \u001b[1m0s\u001b[0m 533ms/step - acc: 0.8001 - loss: 0.5221\n",
            "Epoch 294: val_loss did not improve from 0.66353\n",
            "\u001b[1m186/186\u001b[0m \u001b[32m━━━━━━━━━━━━━━━━━━━━\u001b[0m\u001b[37m\u001b[0m \u001b[1m104s\u001b[0m 558ms/step - acc: 0.8001 - loss: 0.5221 - val_acc: 0.7493 - val_loss: 0.8232 - learning_rate: 1.0000e-10\n",
            "Epoch 295/300\n",
            "\u001b[1m186/186\u001b[0m \u001b[32m━━━━━━━━━━━━━━━━━━━━\u001b[0m\u001b[37m\u001b[0m \u001b[1m0s\u001b[0m 533ms/step - acc: 0.7947 - loss: 0.5227\n",
            "Epoch 295: val_loss did not improve from 0.66353\n",
            "\u001b[1m186/186\u001b[0m \u001b[32m━━━━━━━━━━━━━━━━━━━━\u001b[0m\u001b[37m\u001b[0m \u001b[1m104s\u001b[0m 558ms/step - acc: 0.7947 - loss: 0.5226 - val_acc: 0.7493 - val_loss: 0.8232 - learning_rate: 1.0000e-10\n",
            "Epoch 296/300\n",
            "\u001b[1m186/186\u001b[0m \u001b[32m━━━━━━━━━━━━━━━━━━━━\u001b[0m\u001b[37m\u001b[0m \u001b[1m0s\u001b[0m 534ms/step - acc: 0.7965 - loss: 0.5238\n",
            "Epoch 296: val_loss did not improve from 0.66353\n",
            "\u001b[1m186/186\u001b[0m \u001b[32m━━━━━━━━━━━━━━━━━━━━\u001b[0m\u001b[37m\u001b[0m \u001b[1m104s\u001b[0m 559ms/step - acc: 0.7965 - loss: 0.5238 - val_acc: 0.7493 - val_loss: 0.8232 - learning_rate: 1.0000e-10\n",
            "Epoch 297/300\n",
            "\u001b[1m186/186\u001b[0m \u001b[32m━━━━━━━━━━━━━━━━━━━━\u001b[0m\u001b[37m\u001b[0m \u001b[1m0s\u001b[0m 530ms/step - acc: 0.7988 - loss: 0.5248\n",
            "Epoch 297: val_loss did not improve from 0.66353\n",
            "\u001b[1m186/186\u001b[0m \u001b[32m━━━━━━━━━━━━━━━━━━━━\u001b[0m\u001b[37m\u001b[0m \u001b[1m103s\u001b[0m 555ms/step - acc: 0.7988 - loss: 0.5247 - val_acc: 0.7493 - val_loss: 0.8232 - learning_rate: 1.0000e-10\n",
            "Epoch 298/300\n",
            "\u001b[1m186/186\u001b[0m \u001b[32m━━━━━━━━━━━━━━━━━━━━\u001b[0m\u001b[37m\u001b[0m \u001b[1m0s\u001b[0m 533ms/step - acc: 0.8028 - loss: 0.5211\n",
            "Epoch 298: val_loss did not improve from 0.66353\n",
            "\u001b[1m186/186\u001b[0m \u001b[32m━━━━━━━━━━━━━━━━━━━━\u001b[0m\u001b[37m\u001b[0m \u001b[1m104s\u001b[0m 558ms/step - acc: 0.8028 - loss: 0.5211 - val_acc: 0.7493 - val_loss: 0.8232 - learning_rate: 1.0000e-10\n",
            "Epoch 299/300\n",
            "\u001b[1m186/186\u001b[0m \u001b[32m━━━━━━━━━━━━━━━━━━━━\u001b[0m\u001b[37m\u001b[0m \u001b[1m0s\u001b[0m 531ms/step - acc: 0.8010 - loss: 0.5220\n",
            "Epoch 299: val_loss did not improve from 0.66353\n",
            "\u001b[1m186/186\u001b[0m \u001b[32m━━━━━━━━━━━━━━━━━━━━\u001b[0m\u001b[37m\u001b[0m \u001b[1m103s\u001b[0m 556ms/step - acc: 0.8010 - loss: 0.5220 - val_acc: 0.7493 - val_loss: 0.8232 - learning_rate: 1.0000e-10\n",
            "Epoch 300/300\n",
            "\u001b[1m186/186\u001b[0m \u001b[32m━━━━━━━━━━━━━━━━━━━━\u001b[0m\u001b[37m\u001b[0m \u001b[1m0s\u001b[0m 529ms/step - acc: 0.7989 - loss: 0.5256\n",
            "Epoch 300: val_loss did not improve from 0.66353\n",
            "\u001b[1m186/186\u001b[0m \u001b[32m━━━━━━━━━━━━━━━━━━━━\u001b[0m\u001b[37m\u001b[0m \u001b[1m103s\u001b[0m 554ms/step - acc: 0.7989 - loss: 0.5255 - val_acc: 0.7493 - val_loss: 0.8232 - learning_rate: 1.0000e-10\n"
          ]
        },
        {
          "output_type": "execute_result",
          "data": {
            "text/plain": [
              "<keras.src.callbacks.history.History at 0x78f36c418e50>"
            ]
          },
          "metadata": {},
          "execution_count": 52
        }
      ]
    },
    {
      "cell_type": "markdown",
      "source": [
        "#Train and Validation Accuracy and Loss Epoch Graphs"
      ],
      "metadata": {
        "id": "0OK3IHEHz3cg"
      }
    },
    {
      "cell_type": "code",
      "source": [
        "import pandas as pd\n",
        "import matplotlib.pyplot as plt\n",
        "\n",
        "def plot_training_results_from_csv(csv_path):\n",
        "    # Load the training log\n",
        "    history = pd.read_csv(csv_path)\n",
        "\n",
        "    # Plotting\n",
        "    epochs = range(1, len(history) + 1)\n",
        "\n",
        "    plt.figure(figsize=(14, 5))\n",
        "\n",
        "    # ---- LOSS CURVE ----\n",
        "    plt.subplot(1, 2, 1)\n",
        "    plt.plot(epochs, history['loss'], label='Train Loss')\n",
        "    plt.plot(epochs, history['val_loss'], label='Validation Loss')\n",
        "    plt.title('Training & Validation Loss')\n",
        "    plt.xlabel('Epochs')\n",
        "    plt.ylabel('Loss')\n",
        "    plt.legend()\n",
        "    plt.grid(True)\n",
        "\n",
        "    # ---- ACCURACY CURVE ----\n",
        "    plt.subplot(1, 2, 2)\n",
        "    plt.plot(epochs, history['acc'], label='Train Accuracy')\n",
        "    plt.plot(epochs, history['val_acc'], label='Validation Accuracy')\n",
        "    plt.title('Training & Validation Accuracy')\n",
        "    plt.xlabel('Epochs')\n",
        "    plt.ylabel('Accuracy')\n",
        "    plt.legend()\n",
        "    plt.grid(True)\n",
        "\n",
        "    plt.tight_layout()\n",
        "    plt.show()\n",
        "\n",
        "# Usage (after training is complete)\n",
        "plot_training_results_from_csv(csv_path)\n"
      ],
      "metadata": {
        "colab": {
          "base_uri": "https://localhost:8080/",
          "height": 433
        },
        "id": "fugNz1Ip3iat",
        "outputId": "752dae53-4c4e-4005-93b3-598b406cdb7e"
      },
      "execution_count": 53,
      "outputs": [
        {
          "output_type": "display_data",
          "data": {
            "text/plain": [
              "<Figure size 1400x500 with 2 Axes>"
            ],
            "image/png": "[encoded data removed]"
          },
          "metadata": {}
        }
      ]
    },
    {
      "cell_type": "markdown",
      "source": [
        "# F1 Score Calculation"
      ],
      "metadata": {
        "id": "fchxfC6E4bUH"
      }
    },
    {
      "cell_type": "code",
      "source": [
        "import tensorflow as tf\n",
        "from tensorflow.keras import backend as K\n",
        "\n",
        "def f1_score_metric(y_true, y_pred):\n",
        "    y_pred_labels = K.argmax(y_pred, axis=-1)\n",
        "    y_true_labels = K.argmax(y_true, axis=-1)\n",
        "\n",
        "    precision = tf.keras.metrics.Precision()(y_true_labels, y_pred_labels)\n",
        "    recall = tf.keras.metrics.Recall()(y_true_labels, y_pred_labels)\n",
        "    return 2 * ((precision * recall) / (precision + recall + K.epsilon()))\n"
      ],
      "metadata": {
        "id": "s1D9FfA17c4B"
      },
      "execution_count": 54,
      "outputs": []
    },
    {
      "cell_type": "code",
      "source": [
        "import pandas as pd\n",
        "import matplotlib.pyplot as plt\n",
        "\n",
        "def plot_training_results_from_csv(csv_path):\n",
        "    # Load the training log\n",
        "    history = pd.read_csv(csv_path)\n",
        "    epochs = range(1, len(history) + 1)\n",
        "\n",
        "\n",
        "    # ---- F1 SCORE CURVE (if available) ----\n",
        "    f1_train_key = next((col for col in history.columns if 'f1' in col and not 'val' in col), None)\n",
        "    f1_val_key = next((col for col in history.columns if 'val_f1' in col or 'val_f1_score' in col), None)\n",
        "\n",
        "    if f1_train_key and f1_val_key:\n",
        "        plt.subplot(1, 3, 3)\n",
        "        plt.plot(epochs, history[f1_train_key], label='Train F1 Score')\n",
        "        plt.plot(epochs, history[f1_val_key], label='Validation F1 Score')\n",
        "        plt.title('Training & Validation F1 Score')\n",
        "        plt.xlabel('Epochs')\n",
        "        plt.ylabel('F1 Score')\n",
        "        plt.legend()\n",
        "        plt.grid(True)\n",
        "\n",
        "    plt.tight_layout()\n",
        "    plt.show()\n",
        "\n",
        "    # Print final epoch metrics\n",
        "    print(\"\\n📋 Final Epoch Metrics:\")\n",
        "    print(f\"Train Accuracy: {history['acc'].iloc[-1]:.4f}\")\n",
        "    print(f\"Val Accuracy:   {history['val_acc'].iloc[-1]:.4f}\")\n",
        "    print(f\"Train Loss:     {history['loss'].iloc[-1]:.4f}\")\n",
        "    print(f\"Val Loss:       {history['val_loss'].iloc[-1]:.4f}\")\n",
        "    if f1_train_key and f1_val_key:\n",
        "        print(f\"Train F1:       {history[f1_train_key].iloc[-1]:.4f}\")\n",
        "        print(f\"Val F1:         {history[f1_val_key].iloc[-1]:.4f}\")\n",
        "\n",
        "# Example usage\n",
        "plot_training_results_from_csv(csv_path)"
      ],
      "metadata": {
        "colab": {
          "base_uri": "https://localhost:8080/",
          "height": 139
        },
        "id": "f5emZCzG8BhA",
        "outputId": "15f92586-f26d-4fc5-d996-03f3e64763ef"
      },
      "execution_count": 55,
      "outputs": [
        {
          "output_type": "display_data",
          "data": {
            "text/plain": [
              "<Figure size 640x480 with 0 Axes>"
            ]
          },
          "metadata": {}
        },
        {
          "output_type": "stream",
          "name": "stdout",
          "text": [
            "\n",
            "📋 Final Epoch Metrics:\n",
            "Train Accuracy: 0.8034\n",
            "Val Accuracy:   0.7493\n",
            "Train Loss:     0.5116\n",
            "Val Loss:       0.8232\n"
          ]
        }
      ]
    },
    {
      "cell_type": "code",
      "source": [
        "import pandas as pd\n",
        "import matplotlib.pyplot as plt\n",
        "from IPython.display import display, HTML\n",
        "\n",
        "def plot_training_results_from_csv(csv_path):\n",
        "    # Load training log\n",
        "    history = pd.read_csv(csv_path)\n",
        "    epochs = range(1, len(history) + 1)\n",
        "\n",
        "\n",
        "    # ---- F1 SCORE CURVE (if available) ----\n",
        "    f1_train_key = next((col for col in history.columns if 'f1' in col and not 'val' in col), None)\n",
        "    f1_val_key = next((col for col in history.columns if 'val_f1' in col or 'val_f1_score' in col), None)\n",
        "\n",
        "    if f1_train_key and f1_val_key:\n",
        "        plt.subplot(1, 3, 3)\n",
        "        plt.plot(epochs, history[f1_train_key], label='Train F1 Score')\n",
        "        plt.plot(epochs, history[f1_val_key], label='Validation F1 Score')\n",
        "        plt.title('Training & Validation F1 Score')\n",
        "        plt.xlabel('Epochs')\n",
        "        plt.ylabel('F1 Score')\n",
        "        plt.legend()\n",
        "        plt.grid(True)\n",
        "\n",
        "    plt.tight_layout()\n",
        "    plt.show()\n",
        "\n",
        "    # ---- HTML METRICS DISPLAY ----\n",
        "    final_metrics = {\n",
        "        'Train Accuracy': history['acc'].iloc[-1],\n",
        "        'Val Accuracy': history['val_acc'].iloc[-1],\n",
        "        'Train Loss': history['loss'].iloc[-1],\n",
        "        'Val Loss': history['val_loss'].iloc[-1],\n",
        "        'Train F1': history[f1_train_key].iloc[-1] if f1_train_key else None,\n",
        "        'Val F1': history[f1_val_key].iloc[-1] if f1_val_key else None,\n",
        "    }\n",
        "\n",
        "    html_metrics = f\"\"\"\n",
        "    <div style=\"border: 2px solid #0074D9; padding: 20px; border-radius: 10px; background-color: #f0f8ff; text-align: center;\">\n",
        "        <h1 style=\"color: #0074D9;\">📊 Final Epoch Metrics Summary</h1>\n",
        "        <table style=\"margin: 0 auto; font-size: 18px;\">\n",
        "            <tr><th style='text-align: left; padding-right: 15px;'>Metric</th><th>Value</th></tr>\n",
        "            <tr><td>Train Accuracy</td><td><b>{final_metrics['Train Accuracy']:.4f}</b></td></tr>\n",
        "            <tr><td>Val Accuracy</td><td><b>{final_metrics['Val Accuracy']:.4f}</b></td></tr>\n",
        "            <tr><td>Train Loss</td><td><b>{final_metrics['Train Loss']:.4f}</b></td></tr>\n",
        "            <tr><td>Val Loss</td><td><b>{final_metrics['Val Loss']:.4f}</b></td></tr>\"\"\"\n",
        "\n",
        "    if final_metrics['Train F1'] is not None and final_metrics['Val F1'] is not None:\n",
        "        html_metrics += f\"\"\"\n",
        "            <tr><td>Train F1 Score</td><td><b>{final_metrics['Train F1']:.4f}</b></td></tr>\n",
        "            <tr><td>Val F1 Score</td><td><b>{final_metrics['Val F1']:.4f}</b></td></tr>\"\"\"\n",
        "\n",
        "    html_metrics += \"</table></div>\"\n",
        "\n",
        "    # Display the HTML box\n",
        "    display(HTML(html_metrics))"
      ],
      "metadata": {
        "id": "UZIYxNHo8jtg"
      },
      "execution_count": 56,
      "outputs": []
    },
    {
      "cell_type": "code",
      "source": [
        "plot_training_results_from_csv(csv_path)"
      ],
      "metadata": {
        "colab": {
          "base_uri": "https://localhost:8080/",
          "height": 269
        },
        "id": "RFgdWsnC8lQM",
        "outputId": "80270a33-a317-4f2e-a9a9-11b02dfbff61"
      },
      "execution_count": 57,
      "outputs": [
        {
          "output_type": "display_data",
          "data": {
            "text/plain": [
              "<Figure size 640x480 with 0 Axes>"
            ]
          },
          "metadata": {}
        },
        {
          "output_type": "display_data",
          "data": {
            "text/plain": [
              "<IPython.core.display.HTML object>"
            ],
            "text/html": [
              "\n",
              "    <div style=\"border: 2px solid #0074D9; padding: 20px; border-radius: 10px; background-color: #f0f8ff; text-align: center;\">\n",
              "        <h1 style=\"color: #0074D9;\">📊 Final Epoch Metrics Summary</h1>\n",
              "        <table style=\"margin: 0 auto; font-size: 18px;\">\n",
              "            <tr><th style='text-align: left; padding-right: 15px;'>Metric</th><th>Value</th></tr>\n",
              "            <tr><td>Train Accuracy</td><td><b>0.8034</b></td></tr>\n",
              "            <tr><td>Val Accuracy</td><td><b>0.7493</b></td></tr>\n",
              "            <tr><td>Train Loss</td><td><b>0.5116</b></td></tr>\n",
              "            <tr><td>Val Loss</td><td><b>0.8232</b></td></tr></table></div>"
            ]
          },
          "metadata": {}
        }
      ]
    },
    {
      "cell_type": "markdown",
      "source": [
        "#Recall Calculation"
      ],
      "metadata": {
        "id": "RmRHtg3S8_ic"
      }
    },
    {
      "cell_type": "code",
      "source": [
        "import pandas as pd\n",
        "from IPython.display import display, HTML\n",
        "\n",
        "def display_recall_from_csv(csv_path):\n",
        "    # Load training log\n",
        "    history = pd.read_csv(csv_path)\n",
        "\n",
        "    # Identify recall column names\n",
        "    recall_train_key = next((col for col in history.columns if 'recall' in col and not 'val' in col), None)\n",
        "    recall_val_key = next((col for col in history.columns if 'val_recall' in col), None)\n",
        "\n",
        "    # Safeguard if keys are missing\n",
        "    if not recall_train_key or not recall_val_key:\n",
        "        print(\"⚠️ Recall metrics not found in CSV.\")\n",
        "        return\n",
        "\n",
        "    # Get last epoch recall values\n",
        "    train_recall = history[recall_train_key].iloc[-1]\n",
        "    val_recall = history[recall_val_key].iloc[-1]\n",
        "\n",
        "    # Create HTML display\n",
        "    html_output = f\"\"\"\n",
        "    <div style=\"border: 2px solid #28a745; padding: 20px; border-radius: 10px; background-color: #f7fcf9; text-align: center;\">\n",
        "        <h1 style=\"color: #28a745;\">🔁 Final Recall Summary</h1>\n",
        "        <table style=\"margin: 0 auto; font-size: 20px;\">\n",
        "            <tr><th style='text-align: left; padding-right: 20px;'>Metric</th><th>Value</th></tr>\n",
        "            <tr><td>Train Recall</td><td><b>{train_recall:.4f}</b></td></tr>\n",
        "            <tr><td>Validation Recall</td><td><b>{val_recall:.4f}</b></td></tr>\n",
        "        </table>\n",
        "    </div>\n",
        "    \"\"\"\n",
        "\n",
        "    # Display the HTML summary\n",
        "    display(HTML(html_output))\n",
        "\n",
        "display_recall_from_csv(csv_path)"
      ],
      "metadata": {
        "colab": {
          "base_uri": "https://localhost:8080/"
        },
        "id": "HvDvSurd9AIk",
        "outputId": "f60dd175-b987-42c0-8808-c40533e4f4a7"
      },
      "execution_count": 59,
      "outputs": [
        {
          "output_type": "stream",
          "name": "stdout",
          "text": [
            "⚠️ Recall metrics not found in CSV.\n"
          ]
        }
      ]
    },
    {
      "cell_type": "markdown",
      "source": [
        "---"
      ],
      "metadata": {
        "id": "5xrb8KdU5B1a"
      }
    },
    {
      "cell_type": "code",
      "source": [
        "# Save the model\n",
        "model.save('/content/drive/MyDrive/ANUSKHA_MANOJ_IRIS/Swin_Vit_Transformer_ModelFULLEST.h5')"
      ],
      "metadata": {
        "colab": {
          "base_uri": "https://localhost:8080/"
        },
        "id": "ZJ0PLHfADw6k",
        "outputId": "1ba6cb84-ee9a-48a2-a351-ee1151d92241"
      },
      "execution_count": 60,
      "outputs": [
        {
          "output_type": "stream",
          "name": "stderr",
          "text": [
            "WARNING:absl:You are saving your model as an HDF5 file via `model.save()` or `keras.saving.save_model(model)`. This file format is considered legacy. We recommend using instead the native Keras format, e.g. `model.save('my_model.keras')` or `keras.saving.save_model(model, 'my_model.keras')`. \n"
          ]
        }
      ]
    },
    {
      "cell_type": "code",
      "source": [
        "# Save the model\n",
        "model.save('/content/drive/MyDrive/ANUSKHA_MANOJ_IRIS/Swin_Vit_Transformer_ModelFULLEST.keras')"
      ],
      "metadata": {
        "id": "yo_0kH3FD23a"
      },
      "execution_count": 61,
      "outputs": []
    },
    {
      "cell_type": "code",
      "source": [
        "len(test_x)"
      ],
      "metadata": {
        "colab": {
          "base_uri": "https://localhost:8080/"
        },
        "id": "3u0FtAvkEA1A",
        "outputId": "9986a4e1-eb43-4e4b-cc91-18fc32702a24"
      },
      "execution_count": 62,
      "outputs": [
        {
          "output_type": "execute_result",
          "data": {
            "text/plain": [
              "330"
            ]
          },
          "metadata": {},
          "execution_count": 62
        }
      ]
    },
    {
      "cell_type": "markdown",
      "source": [
        "#Test Accuracy"
      ],
      "metadata": {
        "id": "9MDd2O50_EqK"
      }
    },
    {
      "cell_type": "code",
      "source": [
        "# Load and preprocess test data\n",
        "path_to_test_data = 'path_to_your_test_data_directory'\n",
        "test_dataset = tf.data.Dataset.from_tensor_slices(test_x)\n",
        "test_dataset = test_dataset.map(parse)\n",
        "test_dataset = test_dataset.batch(16)  # Adjust batch size as necessary\n",
        "\n",
        "model.load_weights('/content/drive/MyDrive/ANUSKHA_MANOJ_IRIS/Swin_Vit_Transformer_ModelFULLEST.h5')  # Load your trained model weights\n",
        "\n",
        "# Evaluate the model on test data\n",
        "test_loss, test_accuracy = model.evaluate(test_dataset)\n",
        "\n",
        "print(f\"Test Accuracy: {test_accuracy}\")"
      ],
      "metadata": {
        "id": "txY1ngddECLM",
        "colab": {
          "base_uri": "https://localhost:8080/"
        },
        "outputId": "9660718a-4981-4e4c-b944-b4aee57e8558"
      },
      "execution_count": 65,
      "outputs": [
        {
          "output_type": "stream",
          "name": "stdout",
          "text": [
            "\u001b[1m21/21\u001b[0m \u001b[32m━━━━━━━━━━━━━━━━━━━━\u001b[0m\u001b[37m\u001b[0m \u001b[1m4s\u001b[0m 200ms/step - acc: 0.7175 - loss: 0.9913\n",
            "Test Accuracy: 0.699999988079071\n"
          ]
        }
      ]
    },
    {
      "cell_type": "code",
      "source": [
        "import tensorflow as tf\n",
        "from IPython.display import display, HTML\n",
        "\n",
        "# Load and preprocess test data\n",
        "path_to_test_data = 'path_to_your_test_data_directory'\n",
        "test_dataset = tf.data.Dataset.from_tensor_slices(test_x)\n",
        "test_dataset = test_dataset.map(parse)\n",
        "test_dataset = test_dataset.batch(16)  # Adjust batch size as necessary\n",
        "\n",
        "# Load your trained model weights\n",
        "model.load_weights('/content/drive/MyDrive/ANUSKHA_MANOJ_IRIS/Swin_Vit_Transformer_ModelFULLEST.h5')\n",
        "\n",
        "# Evaluate the model on test data\n",
        "test_loss, test_accuracy = model.evaluate(test_dataset, verbose=0)\n",
        "\n",
        "# Display in HTML table format\n",
        "html_display = f\"\"\"\n",
        "<div style=\"border: 2px solid #4CAF50; padding: 20px; border-radius: 10px; background-color: #f9f9f9; text-align: center;\">\n",
        "    <h2 style=\"color: #4CAF50;\">🧪 Model Evaluation Result</h2>\n",
        "    <table style=\"margin: auto; font-size: 18px; border-collapse: collapse;\">\n",
        "        <tr style=\"background-color: #f2f2f2;\">\n",
        "            <th style=\"padding: 10px 20px; border: 1px solid #ccc;\">Metric</th>\n",
        "            <th style=\"padding: 10px 20px; border: 1px solid #ccc;\">Value</th>\n",
        "        </tr>\n",
        "        <tr>\n",
        "            <td style=\"padding: 10px 20px; border: 1px solid #ccc;\">Test Accuracy</td>\n",
        "            <td style=\"padding: 10px 20px; border: 1px solid #ccc;\">{test_accuracy:.4f}</td>\n",
        "        </tr>\n",
        "    </table>\n",
        "</div>\n",
        "\"\"\"\n",
        "\n",
        "# Display the styled HTML\n",
        "display(HTML(html_display))\n"
      ],
      "metadata": {
        "id": "d-EC8gj4BTTr",
        "colab": {
          "base_uri": "https://localhost:8080/",
          "height": 196
        },
        "outputId": "c80f1a8d-504c-40fe-a66a-9da4c26c4d01"
      },
      "execution_count": 66,
      "outputs": [
        {
          "output_type": "display_data",
          "data": {
            "text/plain": [
              "<IPython.core.display.HTML object>"
            ],
            "text/html": [
              "\n",
              "<div style=\"border: 2px solid #4CAF50; padding: 20px; border-radius: 10px; background-color: #f9f9f9; text-align: center;\">\n",
              "    <h2 style=\"color: #4CAF50;\">🧪 Model Evaluation Result</h2>\n",
              "    <table style=\"margin: auto; font-size: 18px; border-collapse: collapse;\">\n",
              "        <tr style=\"background-color: #f2f2f2;\">\n",
              "            <th style=\"padding: 10px 20px; border: 1px solid #ccc;\">Metric</th>\n",
              "            <th style=\"padding: 10px 20px; border: 1px solid #ccc;\">Value</th>\n",
              "        </tr>\n",
              "        <tr>\n",
              "            <td style=\"padding: 10px 20px; border: 1px solid #ccc;\">Test Accuracy</td>\n",
              "            <td style=\"padding: 10px 20px; border: 1px solid #ccc;\">0.7000</td>\n",
              "        </tr>\n",
              "    </table>\n",
              "</div>\n"
            ]
          },
          "metadata": {}
        }
      ]
    },
    {
      "cell_type": "markdown",
      "source": [
        "---\n",
        "---\n",
        "---"
      ],
      "metadata": {
        "id": "K-2c4evEEu2t"
      }
    },
    {
      "cell_type": "code",
      "source": [
        "import numpy as np\n",
        "import matplotlib.pyplot as plt\n",
        "from sklearn.metrics import confusion_matrix, ConfusionMatrixDisplay"
      ],
      "metadata": {
        "id": "nxg-vcwtEKYp"
      },
      "execution_count": 67,
      "outputs": []
    },
    {
      "cell_type": "markdown",
      "source": [
        "# Step 1: Make predictions on test dataset"
      ],
      "metadata": {
        "id": "oZUgS0o4EOSq"
      }
    },
    {
      "cell_type": "code",
      "source": [
        "# Step 1: Make predictions on test dataset\n",
        "predictions = model.predict(test_dataset)\n",
        "predicted_classes = np.argmax(predictions, axis=1)"
      ],
      "metadata": {
        "id": "RBoIuA6FEL0C",
        "colab": {
          "base_uri": "https://localhost:8080/"
        },
        "outputId": "d8ce919b-72cb-482b-f569-7ce7cc517787"
      },
      "execution_count": 68,
      "outputs": [
        {
          "output_type": "stream",
          "name": "stdout",
          "text": [
            "\u001b[1m21/21\u001b[0m \u001b[32m━━━━━━━━━━━━━━━━━━━━\u001b[0m\u001b[37m\u001b[0m \u001b[1m6s\u001b[0m 226ms/step\n"
          ]
        }
      ]
    },
    {
      "cell_type": "markdown",
      "source": [
        "# Step 2: Get true labels from test dataset"
      ],
      "metadata": {
        "id": "ENrf1pDKEUBE"
      }
    },
    {
      "cell_type": "code",
      "source": [
        "# Step 2: Get true labels from test dataset\n",
        "true_classes = np.concatenate([y for _, y in test_dataset], axis=0)\n",
        "true_classes = np.argmax(true_classes, axis=1)"
      ],
      "metadata": {
        "id": "WYJNu3vkEPAx"
      },
      "execution_count": 69,
      "outputs": []
    },
    {
      "cell_type": "markdown",
      "source": [
        "# Step 3: Compute confusion matrix"
      ],
      "metadata": {
        "id": "YJMkMbkAEYQ0"
      }
    },
    {
      "cell_type": "code",
      "source": [
        "# Step 3: Compute confusion matrix\n",
        "cm = confusion_matrix(true_classes, predicted_classes)"
      ],
      "metadata": {
        "id": "dvP6LRIlEW5u"
      },
      "execution_count": 70,
      "outputs": []
    },
    {
      "cell_type": "markdown",
      "source": [
        "# Step 4: Plot confusion matrix"
      ],
      "metadata": {
        "id": "zjKUXoIgEa1H"
      }
    },
    {
      "cell_type": "code",
      "source": [
        "# Step 4: Plot confusion matrix\n",
        "plt.figure(figsize=(10, 8))\n",
        "disp = ConfusionMatrixDisplay(confusion_matrix=cm, display_labels=hp[\"class_names\"])\n",
        "ax = disp.plot(cmap=plt.cm.Blues, values_format='.4g', ax=plt.gca(), xticks_rotation='vertical')\n",
        "\n",
        "# Customize tick labels\n",
        "plt.xticks(fontsize=8, rotation='vertical')\n",
        "plt.yticks(fontsize=8)\n",
        "\n",
        "plt.title('Confusion Matrix', fontsize=12)\n",
        "plt.tight_layout()\n",
        "plt.show()"
      ],
      "metadata": {
        "colab": {
          "base_uri": "https://localhost:8080/",
          "height": 807
        },
        "id": "E32j5-FFEY1o",
        "outputId": "f6514579-6b66-4d23-e465-2a25cee949e3"
      },
      "execution_count": 71,
      "outputs": [
        {
          "output_type": "display_data",
          "data": {
            "text/plain": [
              "<Figure size 1000x800 with 2 Axes>"
            ],
            "image/png": "[encoded data removed]"
          },
          "metadata": {}
        }
      ]
    },
    {
      "cell_type": "markdown",
      "source": [
        "---"
      ],
      "metadata": {
        "id": "qPxRNZlcEdd4"
      }
    },
    {
      "cell_type": "code",
      "source": [
        "import pandas as pd"
      ],
      "metadata": {
        "id": "5L6ka12HEeSQ"
      },
      "execution_count": 72,
      "outputs": []
    },
    {
      "cell_type": "code",
      "source": [
        "training_logs = pd.read_csv(\"/content/drive/MyDrive/ANUSKHA_MANOJ_IRIS/model_history/log.csv\")"
      ],
      "metadata": {
        "id": "j7Hc9glkEe4P"
      },
      "execution_count": 73,
      "outputs": []
    },
    {
      "cell_type": "code",
      "source": [
        "training_logs.head()"
      ],
      "metadata": {
        "id": "TqQDQ3USElFC",
        "colab": {
          "base_uri": "https://localhost:8080/",
          "height": 206
        },
        "outputId": "35e673e3-1187-4b27-ce75-496306034568"
      },
      "execution_count": 74,
      "outputs": [
        {
          "output_type": "execute_result",
          "data": {
            "text/plain": [
              "   epoch       acc  learning_rate      loss   val_acc  val_loss\n",
              "0      0  0.443845        0.00005  1.445838  0.536785  1.322452\n",
              "1      1  0.457673        0.00005  1.363820  0.536785  1.289598\n",
              "2      2  0.466442        0.00005  1.337639  0.536785  1.255489\n",
              "3      3  0.577066        0.00005  1.118715  0.705722  0.821868\n",
              "4      4  0.671838        0.00005  0.917013  0.719346  0.773091"
            ],
            "text/html": [
              "\n",
              "  <div id=\"df-29067b94-bc97-4868-8504-c294a604d476\" class=\"colab-df-container\">\n",
              "    <div>\n",
              "<style scoped>\n",
              "    .dataframe tbody tr th:only-of-type {\n",
              "        vertical-align: middle;\n",
              "    }\n",
              "\n",
              "    .dataframe tbody tr th {\n",
              "        vertical-align: top;\n",
              "    }\n",
              "\n",
              "    .dataframe thead th {\n",
              "        text-align: right;\n",
              "    }\n",
              "</style>\n",
              "<table border=\"1\" class=\"dataframe\">\n",
              "  <thead>\n",
              "    <tr style=\"text-align: right;\">\n",
              "      <th></th>\n",
              "      <th>epoch</th>\n",
              "      <th>acc</th>\n",
              "      <th>learning_rate</th>\n",
              "      <th>loss</th>\n",
              "      <th>val_acc</th>\n",
              "      <th>val_loss</th>\n",
              "    </tr>\n",
              "  </thead>\n",
              "  <tbody>\n",
              "    <tr>\n",
              "      <th>0</th>\n",
              "      <td>0</td>\n",
              "      <td>0.443845</td>\n",
              "      <td>0.00005</td>\n",
              "      <td>1.445838</td>\n",
              "      <td>0.536785</td>\n",
              "      <td>1.322452</td>\n",
              "    </tr>\n",
              "    <tr>\n",
              "      <th>1</th>\n",
              "      <td>1</td>\n",
              "      <td>0.457673</td>\n",
              "      <td>0.00005</td>\n",
              "      <td>1.363820</td>\n",
              "      <td>0.536785</td>\n",
              "      <td>1.289598</td>\n",
              "    </tr>\n",
              "    <tr>\n",
              "      <th>2</th>\n",
              "      <td>2</td>\n",
              "      <td>0.466442</td>\n",
              "      <td>0.00005</td>\n",
              "      <td>1.337639</td>\n",
              "      <td>0.536785</td>\n",
              "      <td>1.255489</td>\n",
              "    </tr>\n",
              "    <tr>\n",
              "      <th>3</th>\n",
              "      <td>3</td>\n",
              "      <td>0.577066</td>\n",
              "      <td>0.00005</td>\n",
              "      <td>1.118715</td>\n",
              "      <td>0.705722</td>\n",
              "      <td>0.821868</td>\n",
              "    </tr>\n",
              "    <tr>\n",
              "      <th>4</th>\n",
              "      <td>4</td>\n",
              "      <td>0.671838</td>\n",
              "      <td>0.00005</td>\n",
              "      <td>0.917013</td>\n",
              "      <td>0.719346</td>\n",
              "      <td>0.773091</td>\n",
              "    </tr>\n",
              "  </tbody>\n",
              "</table>\n",
              "</div>\n",
              "    <div class=\"colab-df-buttons\">\n",
              "\n",
              "  <div class=\"colab-df-container\">\n",
              "    <button class=\"colab-df-convert\" onclick=\"convertToInteractive('df-29067b94-bc97-4868-8504-c294a604d476')\"\n",
              "            title=\"Convert this dataframe to an interactive table.\"\n",
              "            style=\"display:none;\">\n",
              "\n",
              "  <svg xmlns=\"http://www.w3.org/2000/svg\" height=\"24px\" viewBox=\"0 -960 960 960\">\n",
              "    <path d=\"M120-120v-720h720v720H120Zm60-500h600v-160H180v160Zm220 220h160v-160H400v160Zm0 220h160v-160H400v160ZM180-400h160v-160H180v160Zm440 0h160v-160H620v160ZM180-180h160v-160H180v160Zm440 0h160v-160H620v160Z\"/>\n",
              "  </svg>\n",
              "    </button>\n",
              "\n",
              "  <style>\n",
              "    .colab-df-container {\n",
              "      display:flex;\n",
              "      gap: 12px;\n",
              "    }\n",
              "\n",
              "    .colab-df-convert {\n",
              "      background-color: #E8F0FE;\n",
              "      border: none;\n",
              "      border-radius: 50%;\n",
              "      cursor: pointer;\n",
              "      display: none;\n",
              "      fill: #1967D2;\n",
              "      height: 32px;\n",
              "      padding: 0 0 0 0;\n",
              "      width: 32px;\n",
              "    }\n",
              "\n",
              "    .colab-df-convert:hover {\n",
              "      background-color: #E2EBFA;\n",
              "      box-shadow: 0px 1px 2px rgba(60, 64, 67, 0.3), 0px 1px 3px 1px rgba(60, 64, 67, 0.15);\n",
              "      fill: #174EA6;\n",
              "    }\n",
              "\n",
              "    .colab-df-buttons div {\n",
              "      margin-bottom: 4px;\n",
              "    }\n",
              "\n",
              "    [theme=dark] .colab-df-convert {\n",
              "      background-color: #3B4455;\n",
              "      fill: #D2E3FC;\n",
              "    }\n",
              "\n",
              "    [theme=dark] .colab-df-convert:hover {\n",
              "      background-color: #434B5C;\n",
              "      box-shadow: 0px 1px 3px 1px rgba(0, 0, 0, 0.15);\n",
              "      filter: drop-shadow(0px 1px 2px rgba(0, 0, 0, 0.3));\n",
              "      fill: #FFFFFF;\n",
              "    }\n",
              "  </style>\n",
              "\n",
              "    <script>\n",
              "      const buttonEl =\n",
              "        document.querySelector('#df-29067b94-bc97-4868-8504-c294a604d476 button.colab-df-convert');\n",
              "      buttonEl.style.display =\n",
              "        google.colab.kernel.accessAllowed ? 'block' : 'none';\n",
              "\n",
              "      async function convertToInteractive(key) {\n",
              "        const element = document.querySelector('#df-29067b94-bc97-4868-8504-c294a604d476');\n",
              "        const dataTable =\n",
              "          await google.colab.kernel.invokeFunction('convertToInteractive',\n",
              "                                                    [key], {});\n",
              "        if (!dataTable) return;\n",
              "\n",
              "        const docLinkHtml = 'Like what you see? Visit the ' +\n",
              "          '<a target=\"_blank\" href=https://colab.research.google.com/notebooks/data_table.ipynb>data table notebook</a>'\n",
              "          + ' to learn more about interactive tables.';\n",
              "        element.innerHTML = '';\n",
              "        dataTable['output_type'] = 'display_data';\n",
              "        await google.colab.output.renderOutput(dataTable, element);\n",
              "        const docLink = document.createElement('div');\n",
              "        docLink.innerHTML = docLinkHtml;\n",
              "        element.appendChild(docLink);\n",
              "      }\n",
              "    </script>\n",
              "  </div>\n",
              "\n",
              "\n",
              "<div id=\"df-9dd66412-d52b-4d17-be47-6b0fdcc99dd1\">\n",
              "  <button class=\"colab-df-quickchart\" onclick=\"quickchart('df-9dd66412-d52b-4d17-be47-6b0fdcc99dd1')\"\n",
              "            title=\"Suggest charts\"\n",
              "            style=\"display:none;\">\n",
              "\n",
              "<svg xmlns=\"http://www.w3.org/2000/svg\" height=\"24px\"viewBox=\"0 0 24 24\"\n",
              "     width=\"24px\">\n",
              "    <g>\n",
              "        <path d=\"M19 3H5c-1.1 0-2 .9-2 2v14c0 1.1.9 2 2 2h14c1.1 0 2-.9 2-2V5c0-1.1-.9-2-2-2zM9 17H7v-7h2v7zm4 0h-2V7h2v10zm4 0h-2v-4h2v4z\"/>\n",
              "    </g>\n",
              "</svg>\n",
              "  </button>\n",
              "\n",
              "<style>\n",
              "  .colab-df-quickchart {\n",
              "      --bg-color: #E8F0FE;\n",
              "      --fill-color: #1967D2;\n",
              "      --hover-bg-color: #E2EBFA;\n",
              "      --hover-fill-color: #174EA6;\n",
              "      --disabled-fill-color: #AAA;\n",
              "      --disabled-bg-color: #DDD;\n",
              "  }\n",
              "\n",
              "  [theme=dark] .colab-df-quickchart {\n",
              "      --bg-color: #3B4455;\n",
              "      --fill-color: #D2E3FC;\n",
              "      --hover-bg-color: #434B5C;\n",
              "      --hover-fill-color: #FFFFFF;\n",
              "      --disabled-bg-color: #3B4455;\n",
              "      --disabled-fill-color: #666;\n",
              "  }\n",
              "\n",
              "  .colab-df-quickchart {\n",
              "    background-color: var(--bg-color);\n",
              "    border: none;\n",
              "    border-radius: 50%;\n",
              "    cursor: pointer;\n",
              "    display: none;\n",
              "    fill: var(--fill-color);\n",
              "    height: 32px;\n",
              "    padding: 0;\n",
              "    width: 32px;\n",
              "  }\n",
              "\n",
              "  .colab-df-quickchart:hover {\n",
              "    background-color: var(--hover-bg-color);\n",
              "    box-shadow: 0 1px 2px rgba(60, 64, 67, 0.3), 0 1px 3px 1px rgba(60, 64, 67, 0.15);\n",
              "    fill: var(--button-hover-fill-color);\n",
              "  }\n",
              "\n",
              "  .colab-df-quickchart-complete:disabled,\n",
              "  .colab-df-quickchart-complete:disabled:hover {\n",
              "    background-color: var(--disabled-bg-color);\n",
              "    fill: var(--disabled-fill-color);\n",
              "    box-shadow: none;\n",
              "  }\n",
              "\n",
              "  .colab-df-spinner {\n",
              "    border: 2px solid var(--fill-color);\n",
              "    border-color: transparent;\n",
              "    border-bottom-color: var(--fill-color);\n",
              "    animation:\n",
              "      spin 1s steps(1) infinite;\n",
              "  }\n",
              "\n",
              "  @keyframes spin {\n",
              "    0% {\n",
              "      border-color: transparent;\n",
              "      border-bottom-color: var(--fill-color);\n",
              "      border-left-color: var(--fill-color);\n",
              "    }\n",
              "    20% {\n",
              "      border-color: transparent;\n",
              "      border-left-color: var(--fill-color);\n",
              "      border-top-color: var(--fill-color);\n",
              "    }\n",
              "    30% {\n",
              "      border-color: transparent;\n",
              "      border-left-color: var(--fill-color);\n",
              "      border-top-color: var(--fill-color);\n",
              "      border-right-color: var(--fill-color);\n",
              "    }\n",
              "    40% {\n",
              "      border-color: transparent;\n",
              "      border-right-color: var(--fill-color);\n",
              "      border-top-color: var(--fill-color);\n",
              "    }\n",
              "    60% {\n",
              "      border-color: transparent;\n",
              "      border-right-color: var(--fill-color);\n",
              "    }\n",
              "    80% {\n",
              "      border-color: transparent;\n",
              "      border-right-color: var(--fill-color);\n",
              "      border-bottom-color: var(--fill-color);\n",
              "    }\n",
              "    90% {\n",
              "      border-color: transparent;\n",
              "      border-bottom-color: var(--fill-color);\n",
              "    }\n",
              "  }\n",
              "</style>\n",
              "\n",
              "  <script>\n",
              "    async function quickchart(key) {\n",
              "      const quickchartButtonEl =\n",
              "        document.querySelector('#' + key + ' button');\n",
              "      quickchartButtonEl.disabled = true;  // To prevent multiple clicks.\n",
              "      quickchartButtonEl.classList.add('colab-df-spinner');\n",
              "      try {\n",
              "        const charts = await google.colab.kernel.invokeFunction(\n",
              "            'suggestCharts', [key], {});\n",
              "      } catch (error) {\n",
              "        console.error('Error during call to suggestCharts:', error);\n",
              "      }\n",
              "      quickchartButtonEl.classList.remove('colab-df-spinner');\n",
              "      quickchartButtonEl.classList.add('colab-df-quickchart-complete');\n",
              "    }\n",
              "    (() => {\n",
              "      let quickchartButtonEl =\n",
              "        document.querySelector('#df-9dd66412-d52b-4d17-be47-6b0fdcc99dd1 button');\n",
              "      quickchartButtonEl.style.display =\n",
              "        google.colab.kernel.accessAllowed ? 'block' : 'none';\n",
              "    })();\n",
              "  </script>\n",
              "</div>\n",
              "\n",
              "    </div>\n",
              "  </div>\n"
            ],
            "application/vnd.google.colaboratory.intrinsic+json": {
              "type": "dataframe",
              "variable_name": "training_logs",
              "summary": "{\n  \"name\": \"training_logs\",\n  \"rows\": 300,\n  \"fields\": [\n    {\n      \"column\": \"epoch\",\n      \"properties\": {\n        \"dtype\": \"number\",\n        \"std\": 86,\n        \"min\": 0,\n        \"max\": 299,\n        \"num_unique_values\": 300,\n        \"samples\": [\n          203,\n          266,\n          152\n        ],\n        \"semantic_type\": \"\",\n        \"description\": \"\"\n      }\n    },\n    {\n      \"column\": \"acc\",\n      \"properties\": {\n        \"dtype\": \"number\",\n        \"std\": 0.0432148854764388,\n        \"min\": 0.4438448548316955,\n        \"max\": 0.8087689876556396,\n        \"num_unique_values\": 75,\n        \"samples\": [\n          0.671838104724884,\n          0.805396318435669,\n          0.7059022188186646\n        ],\n        \"semantic_type\": \"\",\n        \"description\": \"\"\n      }\n    },\n    {\n      \"column\": \"learning_rate\",\n      \"properties\": {\n        \"dtype\": \"number\",\n        \"std\": 1.5422269568156902e-05,\n        \"min\": 1.000000013351432e-10,\n        \"max\": 4.999999873689376e-05,\n        \"num_unique_values\": 7,\n        \"samples\": [\n          4.999999873689376e-05,\n          4.999999873689376e-06,\n          4.999999858590343e-10\n        ],\n        \"semantic_type\": \"\",\n        \"description\": \"\"\n      }\n    },\n    {\n      \"column\": \"loss\",\n      \"properties\": {\n        \"dtype\": \"number\",\n        \"std\": 0.11516061742675056,\n        \"min\": 0.5084223747253418,\n        \"max\": 1.4458378553390503,\n        \"num_unique_values\": 299,\n        \"samples\": [\n          0.5137140154838562,\n          0.5133426785469055,\n          0.5109264254570007\n        ],\n        \"semantic_type\": \"\",\n        \"description\": \"\"\n      }\n    },\n    {\n      \"column\": \"val_acc\",\n      \"properties\": {\n        \"dtype\": \"number\",\n        \"std\": 0.02161597976803573,\n        \"min\": 0.5367847681045532,\n        \"max\": 0.7547683715820312,\n        \"num_unique_values\": 16,\n        \"samples\": [\n          0.5367847681045532,\n          0.7057220935821533,\n          0.7384195923805237\n        ],\n        \"semantic_type\": \"\",\n        \"description\": \"\"\n      }\n    },\n    {\n      \"column\": \"val_loss\",\n      \"properties\": {\n        \"dtype\": \"number\",\n        \"std\": 0.058290715320361286,\n        \"min\": 0.6635297536849976,\n        \"max\": 1.322452187538147,\n        \"num_unique_values\": 101,\n        \"samples\": [\n          0.8231653571128845,\n          0.8228239417076111,\n          0.8231157660484314\n        ],\n        \"semantic_type\": \"\",\n        \"description\": \"\"\n      }\n    }\n  ]\n}"
            }
          },
          "metadata": {},
          "execution_count": 74
        }
      ]
    },
    {
      "cell_type": "code",
      "source": [
        "# Plotting\n",
        "plt.figure(figsize=(12, 6))\n",
        "\n",
        "# Accuracy plot\n",
        "plt.subplot(1, 2, 1)\n",
        "plt.plot(training_logs['epoch'], training_logs['acc'], label='Training Accuracy')\n",
        "plt.plot(training_logs['epoch'], training_logs['val_acc'], label='Validation Accuracy')\n",
        "plt.title('Training and Validation Accuracy')\n",
        "plt.xlabel('Epoch')\n",
        "plt.ylabel('Accuracy')\n",
        "plt.legend()\n",
        "\n",
        "# Loss plot\n",
        "plt.subplot(1, 2, 2)\n",
        "plt.plot(training_logs['epoch'], training_logs['loss'], label='Training Loss')\n",
        "plt.plot(training_logs['epoch'], training_logs['val_loss'], label='Validation Loss')\n",
        "plt.title('Training and Validation Loss')\n",
        "plt.xlabel('Epoch')\n",
        "plt.ylabel('Loss')\n",
        "plt.legend()\n",
        "\n",
        "plt.tight_layout()\n",
        "plt.show()"
      ],
      "metadata": {
        "id": "CwMXptJZEmhV",
        "colab": {
          "base_uri": "https://localhost:8080/",
          "height": 602
        },
        "outputId": "ef2645db-5863-4607-b751-a70574b1ff75"
      },
      "execution_count": 75,
      "outputs": [
        {
          "output_type": "display_data",
          "data": {
            "text/plain": [
              "<Figure size 1200x600 with 2 Axes>"
            ],
            "image/png": "[encoded data removed]"
          },
          "metadata": {}
        }
      ]
    },
    {
      "cell_type": "markdown",
      "source": [
        "---\n",
        "---\n"
      ],
      "metadata": {
        "id": "YEyjMUmQEqJr"
      }
    }
  ],
  "metadata": {
    "accelerator": "TPU",
    "colab": {
      "gpuType": "V5E1",
      "provenance": [],
      "machine_shape": "hm",
      "include_colab_link": true
    },
    "kernelspec": {
      "display_name": "Python 3",
      "name": "python3"
    },
    "language_info": {
      "name": "python"
    }
  },
  "nbformat": 4,
  "nbformat_minor": 0
}